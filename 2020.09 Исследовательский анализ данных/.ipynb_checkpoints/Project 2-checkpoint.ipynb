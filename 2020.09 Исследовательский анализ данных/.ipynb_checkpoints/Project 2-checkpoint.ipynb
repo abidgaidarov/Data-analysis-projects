{
 "cells": [
  {
   "cell_type": "markdown",
   "metadata": {},
   "source": [
    "# Исследование объявлений о продаже квартир\n",
    "\n",
    "В вашем распоряжении данные сервиса Яндекс.Недвижимость — архив объявлений о продаже квартир в Санкт-Петербурге и соседних населённых пунктов за несколько лет. Нужно научиться определять рыночную стоимость объектов недвижимости. Ваша задача — установить параметры. Это позволит построить автоматизированную систему: она отследит аномалии и мошенническую деятельность. \n",
    "\n",
    "По каждой квартире на продажу доступны два вида данных. Первые вписаны пользователем, вторые — получены автоматически на основе картографических данных. Например, расстояние до центра, аэропорта, ближайшего парка и водоёма. "
   ]
  },
  {
   "cell_type": "markdown",
   "metadata": {},
   "source": [
    "<div class=\"alert alert-info\">\n",
    "\n",
    "## Шаг 1. Откроем файл с данными и изучим общую информацию"
   ]
  },
  {
   "cell_type": "markdown",
   "metadata": {},
   "source": [
    "Имортируем необходимые библиотеки:"
   ]
  },
  {
   "cell_type": "code",
   "execution_count": 1,
   "metadata": {},
   "outputs": [],
   "source": [
    "import pandas as pd\n",
    "import matplotlib.pyplot as plt\n",
    "import datetime as datetime\n",
    "import warnings\n",
    "warnings.filterwarnings('ignore')"
   ]
  },
  {
   "cell_type": "markdown",
   "metadata": {},
   "source": [
    "Откроем файл с данными:"
   ]
  },
  {
   "cell_type": "code",
   "execution_count": 2,
   "metadata": {},
   "outputs": [],
   "source": [
    "df = pd.read_csv('real_estate_data.csv', sep='\\t')"
   ]
  },
  {
   "cell_type": "markdown",
   "metadata": {},
   "source": [
    "Выведем основную информацию о базе данных:"
   ]
  },
  {
   "cell_type": "code",
   "execution_count": 3,
   "metadata": {},
   "outputs": [
    {
     "name": "stdout",
     "output_type": "stream",
     "text": [
      "<class 'pandas.core.frame.DataFrame'>\n",
      "RangeIndex: 23699 entries, 0 to 23698\n",
      "Data columns (total 22 columns):\n",
      " #   Column                Non-Null Count  Dtype  \n",
      "---  ------                --------------  -----  \n",
      " 0   total_images          23699 non-null  int64  \n",
      " 1   last_price            23699 non-null  float64\n",
      " 2   total_area            23699 non-null  float64\n",
      " 3   first_day_exposition  23699 non-null  object \n",
      " 4   rooms                 23699 non-null  int64  \n",
      " 5   ceiling_height        14504 non-null  float64\n",
      " 6   floors_total          23613 non-null  float64\n",
      " 7   living_area           21796 non-null  float64\n",
      " 8   floor                 23699 non-null  int64  \n",
      " 9   is_apartment          2775 non-null   object \n",
      " 10  studio                23699 non-null  bool   \n",
      " 11  open_plan             23699 non-null  bool   \n",
      " 12  kitchen_area          21421 non-null  float64\n",
      " 13  balcony               12180 non-null  float64\n",
      " 14  locality_name         23650 non-null  object \n",
      " 15  airports_nearest      18157 non-null  float64\n",
      " 16  cityCenters_nearest   18180 non-null  float64\n",
      " 17  parks_around3000      18181 non-null  float64\n",
      " 18  parks_nearest         8079 non-null   float64\n",
      " 19  ponds_around3000      18181 non-null  float64\n",
      " 20  ponds_nearest         9110 non-null   float64\n",
      " 21  days_exposition       20518 non-null  float64\n",
      "dtypes: bool(2), float64(14), int64(3), object(3)\n",
      "memory usage: 3.7+ MB\n"
     ]
    }
   ],
   "source": [
    "df.info()"
   ]
  },
  {
   "cell_type": "markdown",
   "metadata": {},
   "source": [
    "Выведем первые 5 строк:"
   ]
  },
  {
   "cell_type": "code",
   "execution_count": 4,
   "metadata": {},
   "outputs": [
    {
     "data": {
      "text/html": [
       "<div>\n",
       "<style scoped>\n",
       "    .dataframe tbody tr th:only-of-type {\n",
       "        vertical-align: middle;\n",
       "    }\n",
       "\n",
       "    .dataframe tbody tr th {\n",
       "        vertical-align: top;\n",
       "    }\n",
       "\n",
       "    .dataframe thead th {\n",
       "        text-align: right;\n",
       "    }\n",
       "</style>\n",
       "<table border=\"1\" class=\"dataframe\">\n",
       "  <thead>\n",
       "    <tr style=\"text-align: right;\">\n",
       "      <th></th>\n",
       "      <th>total_images</th>\n",
       "      <th>last_price</th>\n",
       "      <th>total_area</th>\n",
       "      <th>first_day_exposition</th>\n",
       "      <th>rooms</th>\n",
       "      <th>ceiling_height</th>\n",
       "      <th>floors_total</th>\n",
       "      <th>living_area</th>\n",
       "      <th>floor</th>\n",
       "      <th>is_apartment</th>\n",
       "      <th>...</th>\n",
       "      <th>kitchen_area</th>\n",
       "      <th>balcony</th>\n",
       "      <th>locality_name</th>\n",
       "      <th>airports_nearest</th>\n",
       "      <th>cityCenters_nearest</th>\n",
       "      <th>parks_around3000</th>\n",
       "      <th>parks_nearest</th>\n",
       "      <th>ponds_around3000</th>\n",
       "      <th>ponds_nearest</th>\n",
       "      <th>days_exposition</th>\n",
       "    </tr>\n",
       "  </thead>\n",
       "  <tbody>\n",
       "    <tr>\n",
       "      <th>0</th>\n",
       "      <td>20</td>\n",
       "      <td>13000000.0</td>\n",
       "      <td>108.0</td>\n",
       "      <td>2019-03-07T00:00:00</td>\n",
       "      <td>3</td>\n",
       "      <td>2.70</td>\n",
       "      <td>16.0</td>\n",
       "      <td>51.0</td>\n",
       "      <td>8</td>\n",
       "      <td>NaN</td>\n",
       "      <td>...</td>\n",
       "      <td>25.0</td>\n",
       "      <td>NaN</td>\n",
       "      <td>Санкт-Петербург</td>\n",
       "      <td>18863.0</td>\n",
       "      <td>16028.0</td>\n",
       "      <td>1.0</td>\n",
       "      <td>482.0</td>\n",
       "      <td>2.0</td>\n",
       "      <td>755.0</td>\n",
       "      <td>NaN</td>\n",
       "    </tr>\n",
       "    <tr>\n",
       "      <th>1</th>\n",
       "      <td>7</td>\n",
       "      <td>3350000.0</td>\n",
       "      <td>40.4</td>\n",
       "      <td>2018-12-04T00:00:00</td>\n",
       "      <td>1</td>\n",
       "      <td>NaN</td>\n",
       "      <td>11.0</td>\n",
       "      <td>18.6</td>\n",
       "      <td>1</td>\n",
       "      <td>NaN</td>\n",
       "      <td>...</td>\n",
       "      <td>11.0</td>\n",
       "      <td>2.0</td>\n",
       "      <td>посёлок Шушары</td>\n",
       "      <td>12817.0</td>\n",
       "      <td>18603.0</td>\n",
       "      <td>0.0</td>\n",
       "      <td>NaN</td>\n",
       "      <td>0.0</td>\n",
       "      <td>NaN</td>\n",
       "      <td>81.0</td>\n",
       "    </tr>\n",
       "    <tr>\n",
       "      <th>2</th>\n",
       "      <td>10</td>\n",
       "      <td>5196000.0</td>\n",
       "      <td>56.0</td>\n",
       "      <td>2015-08-20T00:00:00</td>\n",
       "      <td>2</td>\n",
       "      <td>NaN</td>\n",
       "      <td>5.0</td>\n",
       "      <td>34.3</td>\n",
       "      <td>4</td>\n",
       "      <td>NaN</td>\n",
       "      <td>...</td>\n",
       "      <td>8.3</td>\n",
       "      <td>0.0</td>\n",
       "      <td>Санкт-Петербург</td>\n",
       "      <td>21741.0</td>\n",
       "      <td>13933.0</td>\n",
       "      <td>1.0</td>\n",
       "      <td>90.0</td>\n",
       "      <td>2.0</td>\n",
       "      <td>574.0</td>\n",
       "      <td>558.0</td>\n",
       "    </tr>\n",
       "    <tr>\n",
       "      <th>3</th>\n",
       "      <td>0</td>\n",
       "      <td>64900000.0</td>\n",
       "      <td>159.0</td>\n",
       "      <td>2015-07-24T00:00:00</td>\n",
       "      <td>3</td>\n",
       "      <td>NaN</td>\n",
       "      <td>14.0</td>\n",
       "      <td>NaN</td>\n",
       "      <td>9</td>\n",
       "      <td>NaN</td>\n",
       "      <td>...</td>\n",
       "      <td>NaN</td>\n",
       "      <td>0.0</td>\n",
       "      <td>Санкт-Петербург</td>\n",
       "      <td>28098.0</td>\n",
       "      <td>6800.0</td>\n",
       "      <td>2.0</td>\n",
       "      <td>84.0</td>\n",
       "      <td>3.0</td>\n",
       "      <td>234.0</td>\n",
       "      <td>424.0</td>\n",
       "    </tr>\n",
       "    <tr>\n",
       "      <th>4</th>\n",
       "      <td>2</td>\n",
       "      <td>10000000.0</td>\n",
       "      <td>100.0</td>\n",
       "      <td>2018-06-19T00:00:00</td>\n",
       "      <td>2</td>\n",
       "      <td>3.03</td>\n",
       "      <td>14.0</td>\n",
       "      <td>32.0</td>\n",
       "      <td>13</td>\n",
       "      <td>NaN</td>\n",
       "      <td>...</td>\n",
       "      <td>41.0</td>\n",
       "      <td>NaN</td>\n",
       "      <td>Санкт-Петербург</td>\n",
       "      <td>31856.0</td>\n",
       "      <td>8098.0</td>\n",
       "      <td>2.0</td>\n",
       "      <td>112.0</td>\n",
       "      <td>1.0</td>\n",
       "      <td>48.0</td>\n",
       "      <td>121.0</td>\n",
       "    </tr>\n",
       "  </tbody>\n",
       "</table>\n",
       "<p>5 rows × 22 columns</p>\n",
       "</div>"
      ],
      "text/plain": [
       "   total_images  last_price  total_area first_day_exposition  rooms  \\\n",
       "0            20  13000000.0       108.0  2019-03-07T00:00:00      3   \n",
       "1             7   3350000.0        40.4  2018-12-04T00:00:00      1   \n",
       "2            10   5196000.0        56.0  2015-08-20T00:00:00      2   \n",
       "3             0  64900000.0       159.0  2015-07-24T00:00:00      3   \n",
       "4             2  10000000.0       100.0  2018-06-19T00:00:00      2   \n",
       "\n",
       "   ceiling_height  floors_total  living_area  floor is_apartment  ...  \\\n",
       "0            2.70          16.0         51.0      8          NaN  ...   \n",
       "1             NaN          11.0         18.6      1          NaN  ...   \n",
       "2             NaN           5.0         34.3      4          NaN  ...   \n",
       "3             NaN          14.0          NaN      9          NaN  ...   \n",
       "4            3.03          14.0         32.0     13          NaN  ...   \n",
       "\n",
       "   kitchen_area  balcony    locality_name  airports_nearest  \\\n",
       "0          25.0      NaN  Санкт-Петербург           18863.0   \n",
       "1          11.0      2.0   посёлок Шушары           12817.0   \n",
       "2           8.3      0.0  Санкт-Петербург           21741.0   \n",
       "3           NaN      0.0  Санкт-Петербург           28098.0   \n",
       "4          41.0      NaN  Санкт-Петербург           31856.0   \n",
       "\n",
       "  cityCenters_nearest  parks_around3000  parks_nearest  ponds_around3000  \\\n",
       "0             16028.0               1.0          482.0               2.0   \n",
       "1             18603.0               0.0            NaN               0.0   \n",
       "2             13933.0               1.0           90.0               2.0   \n",
       "3              6800.0               2.0           84.0               3.0   \n",
       "4              8098.0               2.0          112.0               1.0   \n",
       "\n",
       "   ponds_nearest  days_exposition  \n",
       "0          755.0              NaN  \n",
       "1            NaN             81.0  \n",
       "2          574.0            558.0  \n",
       "3          234.0            424.0  \n",
       "4           48.0            121.0  \n",
       "\n",
       "[5 rows x 22 columns]"
      ]
     },
     "execution_count": 4,
     "metadata": {},
     "output_type": "execute_result"
    }
   ],
   "source": [
    "df.head()"
   ]
  },
  {
   "cell_type": "markdown",
   "metadata": {},
   "source": [
    "Выведем информацию по столбцам:"
   ]
  },
  {
   "cell_type": "code",
   "execution_count": 5,
   "metadata": {},
   "outputs": [
    {
     "data": {
      "text/html": [
       "<div>\n",
       "<style scoped>\n",
       "    .dataframe tbody tr th:only-of-type {\n",
       "        vertical-align: middle;\n",
       "    }\n",
       "\n",
       "    .dataframe tbody tr th {\n",
       "        vertical-align: top;\n",
       "    }\n",
       "\n",
       "    .dataframe thead th {\n",
       "        text-align: right;\n",
       "    }\n",
       "</style>\n",
       "<table border=\"1\" class=\"dataframe\">\n",
       "  <thead>\n",
       "    <tr style=\"text-align: right;\">\n",
       "      <th></th>\n",
       "      <th>total_images</th>\n",
       "      <th>last_price</th>\n",
       "      <th>total_area</th>\n",
       "      <th>rooms</th>\n",
       "      <th>ceiling_height</th>\n",
       "      <th>floors_total</th>\n",
       "      <th>living_area</th>\n",
       "      <th>floor</th>\n",
       "      <th>kitchen_area</th>\n",
       "      <th>balcony</th>\n",
       "      <th>airports_nearest</th>\n",
       "      <th>cityCenters_nearest</th>\n",
       "      <th>parks_around3000</th>\n",
       "      <th>parks_nearest</th>\n",
       "      <th>ponds_around3000</th>\n",
       "      <th>ponds_nearest</th>\n",
       "      <th>days_exposition</th>\n",
       "    </tr>\n",
       "  </thead>\n",
       "  <tbody>\n",
       "    <tr>\n",
       "      <th>count</th>\n",
       "      <td>23699.000000</td>\n",
       "      <td>2.369900e+04</td>\n",
       "      <td>23699.000000</td>\n",
       "      <td>23699.000000</td>\n",
       "      <td>14504.000000</td>\n",
       "      <td>23613.000000</td>\n",
       "      <td>21796.000000</td>\n",
       "      <td>23699.000000</td>\n",
       "      <td>21421.000000</td>\n",
       "      <td>12180.000000</td>\n",
       "      <td>18157.000000</td>\n",
       "      <td>18180.000000</td>\n",
       "      <td>18181.000000</td>\n",
       "      <td>8079.000000</td>\n",
       "      <td>18181.000000</td>\n",
       "      <td>9110.000000</td>\n",
       "      <td>20518.000000</td>\n",
       "    </tr>\n",
       "    <tr>\n",
       "      <th>mean</th>\n",
       "      <td>9.858475</td>\n",
       "      <td>6.541549e+06</td>\n",
       "      <td>60.348651</td>\n",
       "      <td>2.070636</td>\n",
       "      <td>2.771499</td>\n",
       "      <td>10.673824</td>\n",
       "      <td>34.457852</td>\n",
       "      <td>5.892358</td>\n",
       "      <td>10.569807</td>\n",
       "      <td>1.150082</td>\n",
       "      <td>28793.672193</td>\n",
       "      <td>14191.277833</td>\n",
       "      <td>0.611408</td>\n",
       "      <td>490.804555</td>\n",
       "      <td>0.770255</td>\n",
       "      <td>517.980900</td>\n",
       "      <td>180.888634</td>\n",
       "    </tr>\n",
       "    <tr>\n",
       "      <th>std</th>\n",
       "      <td>5.682529</td>\n",
       "      <td>1.088701e+07</td>\n",
       "      <td>35.654083</td>\n",
       "      <td>1.078405</td>\n",
       "      <td>1.261056</td>\n",
       "      <td>6.597173</td>\n",
       "      <td>22.030445</td>\n",
       "      <td>4.885249</td>\n",
       "      <td>5.905438</td>\n",
       "      <td>1.071300</td>\n",
       "      <td>12630.880622</td>\n",
       "      <td>8608.386210</td>\n",
       "      <td>0.802074</td>\n",
       "      <td>342.317995</td>\n",
       "      <td>0.938346</td>\n",
       "      <td>277.720643</td>\n",
       "      <td>219.727988</td>\n",
       "    </tr>\n",
       "    <tr>\n",
       "      <th>min</th>\n",
       "      <td>0.000000</td>\n",
       "      <td>1.219000e+04</td>\n",
       "      <td>12.000000</td>\n",
       "      <td>0.000000</td>\n",
       "      <td>1.000000</td>\n",
       "      <td>1.000000</td>\n",
       "      <td>2.000000</td>\n",
       "      <td>1.000000</td>\n",
       "      <td>1.300000</td>\n",
       "      <td>0.000000</td>\n",
       "      <td>0.000000</td>\n",
       "      <td>181.000000</td>\n",
       "      <td>0.000000</td>\n",
       "      <td>1.000000</td>\n",
       "      <td>0.000000</td>\n",
       "      <td>13.000000</td>\n",
       "      <td>1.000000</td>\n",
       "    </tr>\n",
       "    <tr>\n",
       "      <th>25%</th>\n",
       "      <td>6.000000</td>\n",
       "      <td>3.400000e+06</td>\n",
       "      <td>40.000000</td>\n",
       "      <td>1.000000</td>\n",
       "      <td>2.520000</td>\n",
       "      <td>5.000000</td>\n",
       "      <td>18.600000</td>\n",
       "      <td>2.000000</td>\n",
       "      <td>7.000000</td>\n",
       "      <td>0.000000</td>\n",
       "      <td>18585.000000</td>\n",
       "      <td>9238.000000</td>\n",
       "      <td>0.000000</td>\n",
       "      <td>288.000000</td>\n",
       "      <td>0.000000</td>\n",
       "      <td>294.000000</td>\n",
       "      <td>45.000000</td>\n",
       "    </tr>\n",
       "    <tr>\n",
       "      <th>50%</th>\n",
       "      <td>9.000000</td>\n",
       "      <td>4.650000e+06</td>\n",
       "      <td>52.000000</td>\n",
       "      <td>2.000000</td>\n",
       "      <td>2.650000</td>\n",
       "      <td>9.000000</td>\n",
       "      <td>30.000000</td>\n",
       "      <td>4.000000</td>\n",
       "      <td>9.100000</td>\n",
       "      <td>1.000000</td>\n",
       "      <td>26726.000000</td>\n",
       "      <td>13098.500000</td>\n",
       "      <td>0.000000</td>\n",
       "      <td>455.000000</td>\n",
       "      <td>1.000000</td>\n",
       "      <td>502.000000</td>\n",
       "      <td>95.000000</td>\n",
       "    </tr>\n",
       "    <tr>\n",
       "      <th>75%</th>\n",
       "      <td>14.000000</td>\n",
       "      <td>6.800000e+06</td>\n",
       "      <td>69.900000</td>\n",
       "      <td>3.000000</td>\n",
       "      <td>2.800000</td>\n",
       "      <td>16.000000</td>\n",
       "      <td>42.300000</td>\n",
       "      <td>8.000000</td>\n",
       "      <td>12.000000</td>\n",
       "      <td>2.000000</td>\n",
       "      <td>37273.000000</td>\n",
       "      <td>16293.000000</td>\n",
       "      <td>1.000000</td>\n",
       "      <td>612.000000</td>\n",
       "      <td>1.000000</td>\n",
       "      <td>729.000000</td>\n",
       "      <td>232.000000</td>\n",
       "    </tr>\n",
       "    <tr>\n",
       "      <th>max</th>\n",
       "      <td>50.000000</td>\n",
       "      <td>7.630000e+08</td>\n",
       "      <td>900.000000</td>\n",
       "      <td>19.000000</td>\n",
       "      <td>100.000000</td>\n",
       "      <td>60.000000</td>\n",
       "      <td>409.700000</td>\n",
       "      <td>33.000000</td>\n",
       "      <td>112.000000</td>\n",
       "      <td>5.000000</td>\n",
       "      <td>84869.000000</td>\n",
       "      <td>65968.000000</td>\n",
       "      <td>3.000000</td>\n",
       "      <td>3190.000000</td>\n",
       "      <td>3.000000</td>\n",
       "      <td>1344.000000</td>\n",
       "      <td>1580.000000</td>\n",
       "    </tr>\n",
       "  </tbody>\n",
       "</table>\n",
       "</div>"
      ],
      "text/plain": [
       "       total_images    last_price    total_area         rooms  ceiling_height  \\\n",
       "count  23699.000000  2.369900e+04  23699.000000  23699.000000    14504.000000   \n",
       "mean       9.858475  6.541549e+06     60.348651      2.070636        2.771499   \n",
       "std        5.682529  1.088701e+07     35.654083      1.078405        1.261056   \n",
       "min        0.000000  1.219000e+04     12.000000      0.000000        1.000000   \n",
       "25%        6.000000  3.400000e+06     40.000000      1.000000        2.520000   \n",
       "50%        9.000000  4.650000e+06     52.000000      2.000000        2.650000   \n",
       "75%       14.000000  6.800000e+06     69.900000      3.000000        2.800000   \n",
       "max       50.000000  7.630000e+08    900.000000     19.000000      100.000000   \n",
       "\n",
       "       floors_total   living_area         floor  kitchen_area       balcony  \\\n",
       "count  23613.000000  21796.000000  23699.000000  21421.000000  12180.000000   \n",
       "mean      10.673824     34.457852      5.892358     10.569807      1.150082   \n",
       "std        6.597173     22.030445      4.885249      5.905438      1.071300   \n",
       "min        1.000000      2.000000      1.000000      1.300000      0.000000   \n",
       "25%        5.000000     18.600000      2.000000      7.000000      0.000000   \n",
       "50%        9.000000     30.000000      4.000000      9.100000      1.000000   \n",
       "75%       16.000000     42.300000      8.000000     12.000000      2.000000   \n",
       "max       60.000000    409.700000     33.000000    112.000000      5.000000   \n",
       "\n",
       "       airports_nearest  cityCenters_nearest  parks_around3000  parks_nearest  \\\n",
       "count      18157.000000         18180.000000      18181.000000    8079.000000   \n",
       "mean       28793.672193         14191.277833          0.611408     490.804555   \n",
       "std        12630.880622          8608.386210          0.802074     342.317995   \n",
       "min            0.000000           181.000000          0.000000       1.000000   \n",
       "25%        18585.000000          9238.000000          0.000000     288.000000   \n",
       "50%        26726.000000         13098.500000          0.000000     455.000000   \n",
       "75%        37273.000000         16293.000000          1.000000     612.000000   \n",
       "max        84869.000000         65968.000000          3.000000    3190.000000   \n",
       "\n",
       "       ponds_around3000  ponds_nearest  days_exposition  \n",
       "count      18181.000000    9110.000000     20518.000000  \n",
       "mean           0.770255     517.980900       180.888634  \n",
       "std            0.938346     277.720643       219.727988  \n",
       "min            0.000000      13.000000         1.000000  \n",
       "25%            0.000000     294.000000        45.000000  \n",
       "50%            1.000000     502.000000        95.000000  \n",
       "75%            1.000000     729.000000       232.000000  \n",
       "max            3.000000    1344.000000      1580.000000  "
      ]
     },
     "execution_count": 5,
     "metadata": {},
     "output_type": "execute_result"
    }
   ],
   "source": [
    "df.describe()"
   ]
  },
  {
   "cell_type": "markdown",
   "metadata": {},
   "source": [
    "Выведем информацию о дубликатах:"
   ]
  },
  {
   "cell_type": "code",
   "execution_count": 6,
   "metadata": {},
   "outputs": [
    {
     "data": {
      "text/plain": [
       "False    23699\n",
       "dtype: int64"
      ]
     },
     "execution_count": 6,
     "metadata": {},
     "output_type": "execute_result"
    }
   ],
   "source": [
    "df.duplicated().value_counts()"
   ]
  },
  {
   "cell_type": "markdown",
   "metadata": {},
   "source": [
    "Изучим выбросы:"
   ]
  },
  {
   "cell_type": "code",
   "execution_count": 7,
   "metadata": {},
   "outputs": [
    {
     "name": "stdout",
     "output_type": "stream",
     "text": [
      "Количество объявлений о продаже квартир высотой потолка менее 2.4 метра: 21\n",
      "Количество объявлений о продаже квартир высотой потолка более 10 метров: 25\n"
     ]
    },
    {
     "data": {
      "image/png": "[encoded data removed]",
      "text/plain": [
       "<Figure size 432x288 with 1 Axes>"
      ]
     },
     "metadata": {
      "needs_background": "light"
     },
     "output_type": "display_data"
    }
   ],
   "source": [
    "df['ceiling_height'].plot(kind='hist', range = (10, 100), bins=100)\n",
    "plt.xlabel('Высота потолков')\n",
    "plt.ylabel('Частота')\n",
    "print('Количество объявлений о продаже квартир высотой потолка менее 2.4 метра:', len(df.query(\"ceiling_height < 2.4\")))\n",
    "print('Количество объявлений о продаже квартир высотой потолка более 10 метров:', len(df.query(\"ceiling_height > 10\")))"
   ]
  },
  {
   "cell_type": "markdown",
   "metadata": {},
   "source": [
    "### Вывод"
   ]
  },
  {
   "cell_type": "markdown",
   "metadata": {},
   "source": [
    "- Пропущенные значения имеются во множестве столбцов. Так в столбцах `ceiling_height`, `floors_total`, `living_area`, `is_apartment`, `kitchen_area`, `balcony`, `locality_name`, `airports_nearest`, `cityCenters_nearest`, `parks_around3000`, `parks_nearest`, `ponds_around3000`, `ponds_nearest`, `days_exposition`. Необходимо их устранить.\n",
    "- Некорректные типы данных, которые необходимо заменить: \n",
    "    - в столбцах `floors_total`, `balcony`, `parks_around3000`, `ponds_around3000`, `days_exposition`: `float64` вместо `int64` (значения в этих слобцах должны быть целыми числами).\n",
    "    - в столбце `is_apartment`: `object` вместо `bool` (связано с тем, что помимо `True` и `False` в столбце имеются пропущенные значения).\n",
    "- Дата в некорректном формате.\n",
    "- В базе данных отсутствуют дубликаты.\n",
    "- В столбце высоты потолка квартиры имеются вбросы."
   ]
  },
  {
   "cell_type": "markdown",
   "metadata": {},
   "source": [
    "<div class=\"alert alert-info\">\n",
    "\n",
    "## Шаг 2. Предобработка данных"
   ]
  },
  {
   "cell_type": "markdown",
   "metadata": {},
   "source": [
    "### 2.1. Работа с пропусками"
   ]
  },
  {
   "cell_type": "markdown",
   "metadata": {},
   "source": [
    "Расчитаем процент пропусков в столбцах, в которых есть пропущенные значения:"
   ]
  },
  {
   "cell_type": "code",
   "execution_count": 8,
   "metadata": {},
   "outputs": [
    {
     "name": "stdout",
     "output_type": "stream",
     "text": [
      "Процент пропусков в столбце ceiling_height: 38.80%\n",
      "Процент пропусков в столбце floors_total: 0.36%\n",
      "Процент пропусков в столбце living_area: 8.03%\n",
      "Процент пропусков в столбце is_apartment: 88.29%\n",
      "Процент пропусков в столбце kitchen_area: 9.61%\n",
      "Процент пропусков в столбце balcony: 48.61%\n",
      "Процент пропусков в столбце locality_name: 0.21%\n",
      "Процент пропусков в столбце airports_nearest: 23.38%\n",
      "Процент пропусков в столбце cityCenters_nearest: 23.29%\n",
      "Процент пропусков в столбце parks_around3000: 23.28%\n",
      "Процент пропусков в столбце parks_nearest: 65.91%\n",
      "Процент пропусков в столбце ponds_around3000: 23.28%\n",
      "Процент пропусков в столбце ponds_nearest: 61.56%\n",
      "Процент пропусков в столбце days_exposition: 13.42%\n"
     ]
    }
   ],
   "source": [
    "print(\"Процент пропусков в столбце ceiling_height: {:.2%}\".format((23699 - df['ceiling_height'].count())/23699))\n",
    "print(\"Процент пропусков в столбце floors_total: {:.2%}\".format((23699 - df['floors_total'].count())/23699))\n",
    "print(\"Процент пропусков в столбце living_area: {:.2%}\".format((23699 - df['living_area'].count())/23699))\n",
    "print(\"Процент пропусков в столбце is_apartment: {:.2%}\".format((23699 - df['is_apartment'].count())/23699))\n",
    "print(\"Процент пропусков в столбце kitchen_area: {:.2%}\".format((23699 - df['kitchen_area'].count())/23699))\n",
    "print(\"Процент пропусков в столбце balcony: {:.2%}\".format((23699 - df['balcony'].count())/23699))\n",
    "print(\"Процент пропусков в столбце locality_name: {:.2%}\".format((23699 - df['locality_name'].count())/23699))\n",
    "print(\"Процент пропусков в столбце airports_nearest: {:.2%}\".format((23699 - df['airports_nearest'].count())/23699))\n",
    "print(\"Процент пропусков в столбце cityCenters_nearest: {:.2%}\".format((23699 - df['cityCenters_nearest'].count())/23699))\n",
    "print(\"Процент пропусков в столбце parks_around3000: {:.2%}\".format((23699 - df['parks_around3000'].count())/23699))\n",
    "print(\"Процент пропусков в столбце parks_nearest: {:.2%}\".format((23699 - df['parks_nearest'].count())/23699))\n",
    "print(\"Процент пропусков в столбце ponds_around3000: {:.2%}\".format((23699 - df['ponds_around3000'].count())/23699))\n",
    "print(\"Процент пропусков в столбце ponds_nearest: {:.2%}\".format((23699 - df['ponds_nearest'].count())/23699))\n",
    "print(\"Процент пропусков в столбце days_exposition: {:.2%}\".format((23699 - df['days_exposition'].count())/23699))"
   ]
  },
  {
   "cell_type": "code",
   "execution_count": 9,
   "metadata": {},
   "outputs": [
    {
     "data": {
      "text/plain": [
       "total_images             0.000000\n",
       "last_price               0.000000\n",
       "total_area               0.000000\n",
       "first_day_exposition     0.000000\n",
       "rooms                    0.000000\n",
       "ceiling_height          38.799105\n",
       "floors_total             0.362885\n",
       "living_area              8.029875\n",
       "floor                    0.000000\n",
       "is_apartment            88.290645\n",
       "studio                   0.000000\n",
       "open_plan                0.000000\n",
       "kitchen_area             9.612220\n",
       "balcony                 48.605426\n",
       "locality_name            0.206760\n",
       "airports_nearest        23.384953\n",
       "cityCenters_nearest     23.287902\n",
       "parks_around3000        23.283683\n",
       "parks_nearest           65.909954\n",
       "ponds_around3000        23.283683\n",
       "ponds_nearest           61.559559\n",
       "days_exposition         13.422507\n",
       "dtype: float64"
      ]
     },
     "execution_count": 9,
     "metadata": {},
     "output_type": "execute_result"
    }
   ],
   "source": [
    "df.isnull().sum() / len(df) * 100"
   ]
  },
  {
   "cell_type": "markdown",
   "metadata": {},
   "source": [
    "В столбцах `floors_total`, `locality_name` меньше 1% пропусков от числа строк базы данных, поэтому объявления с пропущенными значениями в этих столбцах можно удалить. Пропуски в остальных столбцах необходимо заменить на определенные значения."
   ]
  },
  {
   "cell_type": "code",
   "execution_count": 10,
   "metadata": {},
   "outputs": [
    {
     "name": "stdout",
     "output_type": "stream",
     "text": [
      "Процент сокращения базы данных после проведенного удаления объявлений: 0.57%\n"
     ]
    }
   ],
   "source": [
    "df1 = df.dropna(subset=['floors_total', 'locality_name'])\n",
    "print(\"Процент сокращения базы данных после проведенного удаления объявлений: {:.2%}\".format((len(df) - len(df1))/len(df)))"
   ]
  },
  {
   "cell_type": "markdown",
   "metadata": {},
   "source": [
    "После удаления этих объявлений суммарно потеряли 11.79% строк от первоначальной базы данных."
   ]
  },
  {
   "cell_type": "markdown",
   "metadata": {},
   "source": [
    "Проведем работу над остальными столбцами. Начнем со столбца `is_apartment`. Предположим, что пропущенные значения означают, что квартира не является аппартаментом, и заполним эти пропуски значением `False`."
   ]
  },
  {
   "cell_type": "code",
   "execution_count": 11,
   "metadata": {},
   "outputs": [],
   "source": [
    "df1['is_apartment'].fillna(False, inplace=True)"
   ]
  },
  {
   "cell_type": "markdown",
   "metadata": {},
   "source": [
    "Предположим, что пропущенные значения в столбце `balcony` означают отсутствие балкона, и заменим эти пропуски на ноль."
   ]
  },
  {
   "cell_type": "code",
   "execution_count": 12,
   "metadata": {},
   "outputs": [],
   "source": [
    "df1['balcony'].fillna(0, inplace=True)"
   ]
  },
  {
   "cell_type": "markdown",
   "metadata": {},
   "source": [
    "В столбце `cityCenters_nearest` заменим пропущенные значения путем заполнения медианными значениями соответствущих населенных пунктов."
   ]
  },
  {
   "cell_type": "code",
   "execution_count": 13,
   "metadata": {},
   "outputs": [],
   "source": [
    "for name in df1['locality_name'].unique():\n",
    "    median = df1.loc[(df1['locality_name'] == name), 'cityCenters_nearest'].median()\n",
    "    df1.loc[(df1['cityCenters_nearest'].isna()) & (df1['locality_name'] == name), 'cityCenters_nearest'] = median"
   ]
  },
  {
   "cell_type": "markdown",
   "metadata": {},
   "source": [
    "Так как значения в столбце `cityCenters_nearest` в исходной базе данных имеются не для всех населенных пунктов, медианы расчитались не для всех из них. Заполним незаполнившиеся значения медианными значениями по всей Ленинградской области (хоть это не совсем корректно, но для выполнения иследования это единственный доступный вариант)."
   ]
  },
  {
   "cell_type": "code",
   "execution_count": 14,
   "metadata": {},
   "outputs": [],
   "source": [
    "df1['cityCenters_nearest'].fillna(df1['cityCenters_nearest'].median(), inplace=True)"
   ]
  },
  {
   "cell_type": "markdown",
   "metadata": {},
   "source": [
    "### 2.2. Исправление некорректных типов данных"
   ]
  },
  {
   "cell_type": "markdown",
   "metadata": {},
   "source": [
    "После устранения пропусков заменим в столбцах `floors_total`, `balcony`."
   ]
  },
  {
   "cell_type": "code",
   "execution_count": 15,
   "metadata": {},
   "outputs": [],
   "source": [
    "df1['floors_total'] = df1['floors_total'].astype('int64')\n",
    "df1['balcony'] = df1['balcony'].astype('int64')"
   ]
  },
  {
   "cell_type": "markdown",
   "metadata": {},
   "source": [
    "### 2.3. Работа с датой и временем"
   ]
  },
  {
   "cell_type": "markdown",
   "metadata": {},
   "source": [
    "Переведем значения в столбце `date_time` в формат даты."
   ]
  },
  {
   "cell_type": "code",
   "execution_count": 16,
   "metadata": {},
   "outputs": [],
   "source": [
    "df1['first_day_exposition'] = pd.to_datetime(df1['first_day_exposition'], format='%Y-%m-%dT%H:%M:%S')"
   ]
  },
  {
   "cell_type": "markdown",
   "metadata": {},
   "source": [
    "### Вывод"
   ]
  },
  {
   "cell_type": "markdown",
   "metadata": {},
   "source": [
    "Проверим результат предобработки данных."
   ]
  },
  {
   "cell_type": "code",
   "execution_count": 17,
   "metadata": {},
   "outputs": [
    {
     "name": "stdout",
     "output_type": "stream",
     "text": [
      "<class 'pandas.core.frame.DataFrame'>\n",
      "Int64Index: 23565 entries, 0 to 23698\n",
      "Data columns (total 22 columns):\n",
      " #   Column                Non-Null Count  Dtype         \n",
      "---  ------                --------------  -----         \n",
      " 0   total_images          23565 non-null  int64         \n",
      " 1   last_price            23565 non-null  float64       \n",
      " 2   total_area            23565 non-null  float64       \n",
      " 3   first_day_exposition  23565 non-null  datetime64[ns]\n",
      " 4   rooms                 23565 non-null  int64         \n",
      " 5   ceiling_height        14481 non-null  float64       \n",
      " 6   floors_total          23565 non-null  int64         \n",
      " 7   living_area           21700 non-null  float64       \n",
      " 8   floor                 23565 non-null  int64         \n",
      " 9   is_apartment          23565 non-null  bool          \n",
      " 10  studio                23565 non-null  bool          \n",
      " 11  open_plan             23565 non-null  bool          \n",
      " 12  kitchen_area          21343 non-null  float64       \n",
      " 13  balcony               23565 non-null  int64         \n",
      " 14  locality_name         23565 non-null  object        \n",
      " 15  airports_nearest      18041 non-null  float64       \n",
      " 16  cityCenters_nearest   23565 non-null  float64       \n",
      " 17  parks_around3000      18065 non-null  float64       \n",
      " 18  parks_nearest         8030 non-null   float64       \n",
      " 19  ponds_around3000      18065 non-null  float64       \n",
      " 20  ponds_nearest         9036 non-null   float64       \n",
      " 21  days_exposition       20394 non-null  float64       \n",
      "dtypes: bool(3), datetime64[ns](1), float64(12), int64(5), object(1)\n",
      "memory usage: 3.7+ MB\n"
     ]
    }
   ],
   "source": [
    "df1.info()"
   ]
  },
  {
   "cell_type": "markdown",
   "metadata": {},
   "source": [
    "В результате предобработки данных получили данные, пригодные для дальнейшего исследования.\n",
    "\n",
    "- Заполнили пропущенные значения по необходимости.\n",
    "- Привели в соответствие типы данных.\n",
    "- Исправили формат даты."
   ]
  },
  {
   "cell_type": "markdown",
   "metadata": {},
   "source": [
    "<div class=\"alert alert-info\">\n",
    "\n",
    "## Шаг 3. Посчитаем и добавим в таблицу"
   ]
  },
  {
   "cell_type": "markdown",
   "metadata": {},
   "source": [
    "### 3.1. Добавим в таблицу: цена квадратного метра"
   ]
  },
  {
   "cell_type": "markdown",
   "metadata": {},
   "source": [
    "Добавим в таблицу цену квадратного метра разделив цену на момент снятия с публикации `last_price` на площадь квартиры в квадратных метрах (м²) `total_area`."
   ]
  },
  {
   "cell_type": "code",
   "execution_count": 18,
   "metadata": {},
   "outputs": [],
   "source": [
    "df1['price_m2'] = df1['last_price']/df1['total_area']"
   ]
  },
  {
   "cell_type": "markdown",
   "metadata": {},
   "source": [
    "### 3.2. Добавим в таблицу: день недели, месяц и год публикации объявления"
   ]
  },
  {
   "cell_type": "code",
   "execution_count": 19,
   "metadata": {},
   "outputs": [],
   "source": [
    "df1['exposition_weekday'] = df1['first_day_exposition'].dt.weekday\n",
    "df1['exposition_month'] = df1['first_day_exposition'].dt.month\n",
    "df1['exposition_year'] = df1['first_day_exposition'].dt.year"
   ]
  },
  {
   "cell_type": "markdown",
   "metadata": {},
   "source": [
    "### 3.3. Добавим в таблицу: этаж квартиры; варианты — первый, последний, другой"
   ]
  },
  {
   "cell_type": "markdown",
   "metadata": {},
   "source": [
    "Добавим в таблицу этаж квартиры cгруппировав по: первый, последний, другой"
   ]
  },
  {
   "cell_type": "code",
   "execution_count": 20,
   "metadata": {},
   "outputs": [],
   "source": [
    "def floor_group(row):\n",
    "    if row['floor'] == 1:\n",
    "        return 'первый'\n",
    "    if row['floor'] == row['floors_total']:\n",
    "        return 'последний'\n",
    "    return 'другой'\n",
    "df1['floor_group'] = df1.apply(floor_group, axis=1)"
   ]
  },
  {
   "cell_type": "markdown",
   "metadata": {},
   "source": [
    "### 3.4. Добавим в таблицу: соотношение жилой и общей площади, а также соотношение площади кухни к общей"
   ]
  },
  {
   "cell_type": "markdown",
   "metadata": {},
   "source": [
    "Добавим в таблицу: соотношение жилой `living_area` и общей площади `total_area`, а также соотношение площади кухни `kitchen_area` к общей `total_area`."
   ]
  },
  {
   "cell_type": "code",
   "execution_count": 21,
   "metadata": {},
   "outputs": [],
   "source": [
    "df1['living_total_area_rate'] = df1['living_area']/df1['total_area']\n",
    "df1['kitchen_total_area_rate'] = df1['kitchen_area']/df1['total_area']"
   ]
  },
  {
   "cell_type": "markdown",
   "metadata": {},
   "source": [
    "### Вывод"
   ]
  },
  {
   "cell_type": "markdown",
   "metadata": {},
   "source": [
    "Проверим результат добавления новых столбцов."
   ]
  },
  {
   "cell_type": "code",
   "execution_count": 22,
   "metadata": {},
   "outputs": [
    {
     "name": "stdout",
     "output_type": "stream",
     "text": [
      "<class 'pandas.core.frame.DataFrame'>\n",
      "Int64Index: 23565 entries, 0 to 23698\n",
      "Data columns (total 29 columns):\n",
      " #   Column                   Non-Null Count  Dtype         \n",
      "---  ------                   --------------  -----         \n",
      " 0   total_images             23565 non-null  int64         \n",
      " 1   last_price               23565 non-null  float64       \n",
      " 2   total_area               23565 non-null  float64       \n",
      " 3   first_day_exposition     23565 non-null  datetime64[ns]\n",
      " 4   rooms                    23565 non-null  int64         \n",
      " 5   ceiling_height           14481 non-null  float64       \n",
      " 6   floors_total             23565 non-null  int64         \n",
      " 7   living_area              21700 non-null  float64       \n",
      " 8   floor                    23565 non-null  int64         \n",
      " 9   is_apartment             23565 non-null  bool          \n",
      " 10  studio                   23565 non-null  bool          \n",
      " 11  open_plan                23565 non-null  bool          \n",
      " 12  kitchen_area             21343 non-null  float64       \n",
      " 13  balcony                  23565 non-null  int64         \n",
      " 14  locality_name            23565 non-null  object        \n",
      " 15  airports_nearest         18041 non-null  float64       \n",
      " 16  cityCenters_nearest      23565 non-null  float64       \n",
      " 17  parks_around3000         18065 non-null  float64       \n",
      " 18  parks_nearest            8030 non-null   float64       \n",
      " 19  ponds_around3000         18065 non-null  float64       \n",
      " 20  ponds_nearest            9036 non-null   float64       \n",
      " 21  days_exposition          20394 non-null  float64       \n",
      " 22  price_m2                 23565 non-null  float64       \n",
      " 23  exposition_weekday       23565 non-null  int64         \n",
      " 24  exposition_month         23565 non-null  int64         \n",
      " 25  exposition_year          23565 non-null  int64         \n",
      " 26  floor_group              23565 non-null  object        \n",
      " 27  living_total_area_rate   21700 non-null  float64       \n",
      " 28  kitchen_total_area_rate  21343 non-null  float64       \n",
      "dtypes: bool(3), datetime64[ns](1), float64(15), int64(8), object(2)\n",
      "memory usage: 4.9+ MB\n"
     ]
    },
    {
     "data": {
      "text/plain": [
       "None"
      ]
     },
     "metadata": {},
     "output_type": "display_data"
    },
    {
     "name": "stdout",
     "output_type": "stream",
     "text": [
      "\n"
     ]
    },
    {
     "data": {
      "text/html": [
       "<div>\n",
       "<style scoped>\n",
       "    .dataframe tbody tr th:only-of-type {\n",
       "        vertical-align: middle;\n",
       "    }\n",
       "\n",
       "    .dataframe tbody tr th {\n",
       "        vertical-align: top;\n",
       "    }\n",
       "\n",
       "    .dataframe thead th {\n",
       "        text-align: right;\n",
       "    }\n",
       "</style>\n",
       "<table border=\"1\" class=\"dataframe\">\n",
       "  <thead>\n",
       "    <tr style=\"text-align: right;\">\n",
       "      <th></th>\n",
       "      <th>total_images</th>\n",
       "      <th>last_price</th>\n",
       "      <th>total_area</th>\n",
       "      <th>first_day_exposition</th>\n",
       "      <th>rooms</th>\n",
       "      <th>ceiling_height</th>\n",
       "      <th>floors_total</th>\n",
       "      <th>living_area</th>\n",
       "      <th>floor</th>\n",
       "      <th>is_apartment</th>\n",
       "      <th>...</th>\n",
       "      <th>ponds_around3000</th>\n",
       "      <th>ponds_nearest</th>\n",
       "      <th>days_exposition</th>\n",
       "      <th>price_m2</th>\n",
       "      <th>exposition_weekday</th>\n",
       "      <th>exposition_month</th>\n",
       "      <th>exposition_year</th>\n",
       "      <th>floor_group</th>\n",
       "      <th>living_total_area_rate</th>\n",
       "      <th>kitchen_total_area_rate</th>\n",
       "    </tr>\n",
       "  </thead>\n",
       "  <tbody>\n",
       "    <tr>\n",
       "      <th>0</th>\n",
       "      <td>20</td>\n",
       "      <td>13000000.0</td>\n",
       "      <td>108.0</td>\n",
       "      <td>2019-03-07</td>\n",
       "      <td>3</td>\n",
       "      <td>2.70</td>\n",
       "      <td>16</td>\n",
       "      <td>51.0</td>\n",
       "      <td>8</td>\n",
       "      <td>False</td>\n",
       "      <td>...</td>\n",
       "      <td>2.0</td>\n",
       "      <td>755.0</td>\n",
       "      <td>NaN</td>\n",
       "      <td>120370.370370</td>\n",
       "      <td>3</td>\n",
       "      <td>3</td>\n",
       "      <td>2019</td>\n",
       "      <td>другой</td>\n",
       "      <td>0.472222</td>\n",
       "      <td>0.231481</td>\n",
       "    </tr>\n",
       "    <tr>\n",
       "      <th>1</th>\n",
       "      <td>7</td>\n",
       "      <td>3350000.0</td>\n",
       "      <td>40.4</td>\n",
       "      <td>2018-12-04</td>\n",
       "      <td>1</td>\n",
       "      <td>NaN</td>\n",
       "      <td>11</td>\n",
       "      <td>18.6</td>\n",
       "      <td>1</td>\n",
       "      <td>False</td>\n",
       "      <td>...</td>\n",
       "      <td>0.0</td>\n",
       "      <td>NaN</td>\n",
       "      <td>81.0</td>\n",
       "      <td>82920.792079</td>\n",
       "      <td>1</td>\n",
       "      <td>12</td>\n",
       "      <td>2018</td>\n",
       "      <td>первый</td>\n",
       "      <td>0.460396</td>\n",
       "      <td>0.272277</td>\n",
       "    </tr>\n",
       "    <tr>\n",
       "      <th>2</th>\n",
       "      <td>10</td>\n",
       "      <td>5196000.0</td>\n",
       "      <td>56.0</td>\n",
       "      <td>2015-08-20</td>\n",
       "      <td>2</td>\n",
       "      <td>NaN</td>\n",
       "      <td>5</td>\n",
       "      <td>34.3</td>\n",
       "      <td>4</td>\n",
       "      <td>False</td>\n",
       "      <td>...</td>\n",
       "      <td>2.0</td>\n",
       "      <td>574.0</td>\n",
       "      <td>558.0</td>\n",
       "      <td>92785.714286</td>\n",
       "      <td>3</td>\n",
       "      <td>8</td>\n",
       "      <td>2015</td>\n",
       "      <td>другой</td>\n",
       "      <td>0.612500</td>\n",
       "      <td>0.148214</td>\n",
       "    </tr>\n",
       "    <tr>\n",
       "      <th>3</th>\n",
       "      <td>0</td>\n",
       "      <td>64900000.0</td>\n",
       "      <td>159.0</td>\n",
       "      <td>2015-07-24</td>\n",
       "      <td>3</td>\n",
       "      <td>NaN</td>\n",
       "      <td>14</td>\n",
       "      <td>NaN</td>\n",
       "      <td>9</td>\n",
       "      <td>False</td>\n",
       "      <td>...</td>\n",
       "      <td>3.0</td>\n",
       "      <td>234.0</td>\n",
       "      <td>424.0</td>\n",
       "      <td>408176.100629</td>\n",
       "      <td>4</td>\n",
       "      <td>7</td>\n",
       "      <td>2015</td>\n",
       "      <td>другой</td>\n",
       "      <td>NaN</td>\n",
       "      <td>NaN</td>\n",
       "    </tr>\n",
       "    <tr>\n",
       "      <th>4</th>\n",
       "      <td>2</td>\n",
       "      <td>10000000.0</td>\n",
       "      <td>100.0</td>\n",
       "      <td>2018-06-19</td>\n",
       "      <td>2</td>\n",
       "      <td>3.03</td>\n",
       "      <td>14</td>\n",
       "      <td>32.0</td>\n",
       "      <td>13</td>\n",
       "      <td>False</td>\n",
       "      <td>...</td>\n",
       "      <td>1.0</td>\n",
       "      <td>48.0</td>\n",
       "      <td>121.0</td>\n",
       "      <td>100000.000000</td>\n",
       "      <td>1</td>\n",
       "      <td>6</td>\n",
       "      <td>2018</td>\n",
       "      <td>другой</td>\n",
       "      <td>0.320000</td>\n",
       "      <td>0.410000</td>\n",
       "    </tr>\n",
       "  </tbody>\n",
       "</table>\n",
       "<p>5 rows × 29 columns</p>\n",
       "</div>"
      ],
      "text/plain": [
       "   total_images  last_price  total_area first_day_exposition  rooms  \\\n",
       "0            20  13000000.0       108.0           2019-03-07      3   \n",
       "1             7   3350000.0        40.4           2018-12-04      1   \n",
       "2            10   5196000.0        56.0           2015-08-20      2   \n",
       "3             0  64900000.0       159.0           2015-07-24      3   \n",
       "4             2  10000000.0       100.0           2018-06-19      2   \n",
       "\n",
       "   ceiling_height  floors_total  living_area  floor  is_apartment  ...  \\\n",
       "0            2.70            16         51.0      8         False  ...   \n",
       "1             NaN            11         18.6      1         False  ...   \n",
       "2             NaN             5         34.3      4         False  ...   \n",
       "3             NaN            14          NaN      9         False  ...   \n",
       "4            3.03            14         32.0     13         False  ...   \n",
       "\n",
       "   ponds_around3000  ponds_nearest  days_exposition       price_m2  \\\n",
       "0               2.0          755.0              NaN  120370.370370   \n",
       "1               0.0            NaN             81.0   82920.792079   \n",
       "2               2.0          574.0            558.0   92785.714286   \n",
       "3               3.0          234.0            424.0  408176.100629   \n",
       "4               1.0           48.0            121.0  100000.000000   \n",
       "\n",
       "  exposition_weekday  exposition_month  exposition_year  floor_group  \\\n",
       "0                  3                 3             2019       другой   \n",
       "1                  1                12             2018       первый   \n",
       "2                  3                 8             2015       другой   \n",
       "3                  4                 7             2015       другой   \n",
       "4                  1                 6             2018       другой   \n",
       "\n",
       "   living_total_area_rate  kitchen_total_area_rate  \n",
       "0                0.472222                 0.231481  \n",
       "1                0.460396                 0.272277  \n",
       "2                0.612500                 0.148214  \n",
       "3                     NaN                      NaN  \n",
       "4                0.320000                 0.410000  \n",
       "\n",
       "[5 rows x 29 columns]"
      ]
     },
     "metadata": {},
     "output_type": "display_data"
    },
    {
     "name": "stdout",
     "output_type": "stream",
     "text": [
      "\n"
     ]
    },
    {
     "data": {
      "text/html": [
       "<div>\n",
       "<style scoped>\n",
       "    .dataframe tbody tr th:only-of-type {\n",
       "        vertical-align: middle;\n",
       "    }\n",
       "\n",
       "    .dataframe tbody tr th {\n",
       "        vertical-align: top;\n",
       "    }\n",
       "\n",
       "    .dataframe thead th {\n",
       "        text-align: right;\n",
       "    }\n",
       "</style>\n",
       "<table border=\"1\" class=\"dataframe\">\n",
       "  <thead>\n",
       "    <tr style=\"text-align: right;\">\n",
       "      <th></th>\n",
       "      <th>total_images</th>\n",
       "      <th>last_price</th>\n",
       "      <th>total_area</th>\n",
       "      <th>rooms</th>\n",
       "      <th>ceiling_height</th>\n",
       "      <th>floors_total</th>\n",
       "      <th>living_area</th>\n",
       "      <th>floor</th>\n",
       "      <th>kitchen_area</th>\n",
       "      <th>balcony</th>\n",
       "      <th>...</th>\n",
       "      <th>parks_nearest</th>\n",
       "      <th>ponds_around3000</th>\n",
       "      <th>ponds_nearest</th>\n",
       "      <th>days_exposition</th>\n",
       "      <th>price_m2</th>\n",
       "      <th>exposition_weekday</th>\n",
       "      <th>exposition_month</th>\n",
       "      <th>exposition_year</th>\n",
       "      <th>living_total_area_rate</th>\n",
       "      <th>kitchen_total_area_rate</th>\n",
       "    </tr>\n",
       "  </thead>\n",
       "  <tbody>\n",
       "    <tr>\n",
       "      <th>count</th>\n",
       "      <td>23565.000000</td>\n",
       "      <td>2.356500e+04</td>\n",
       "      <td>23565.000000</td>\n",
       "      <td>23565.000000</td>\n",
       "      <td>14481.000000</td>\n",
       "      <td>23565.000000</td>\n",
       "      <td>21700.000000</td>\n",
       "      <td>23565.000000</td>\n",
       "      <td>21343.000000</td>\n",
       "      <td>23565.000000</td>\n",
       "      <td>...</td>\n",
       "      <td>8030.000000</td>\n",
       "      <td>18065.000000</td>\n",
       "      <td>9036.000000</td>\n",
       "      <td>20394.000000</td>\n",
       "      <td>2.356500e+04</td>\n",
       "      <td>23565.000000</td>\n",
       "      <td>23565.000000</td>\n",
       "      <td>23565.000000</td>\n",
       "      <td>21700.000000</td>\n",
       "      <td>21343.000000</td>\n",
       "    </tr>\n",
       "    <tr>\n",
       "      <th>mean</th>\n",
       "      <td>9.878421</td>\n",
       "      <td>6.540058e+06</td>\n",
       "      <td>60.322824</td>\n",
       "      <td>2.070656</td>\n",
       "      <td>2.771283</td>\n",
       "      <td>10.675875</td>\n",
       "      <td>34.454822</td>\n",
       "      <td>5.878124</td>\n",
       "      <td>10.560994</td>\n",
       "      <td>0.593677</td>\n",
       "      <td>...</td>\n",
       "      <td>490.580448</td>\n",
       "      <td>0.769499</td>\n",
       "      <td>518.289509</td>\n",
       "      <td>180.741395</td>\n",
       "      <td>9.940584e+04</td>\n",
       "      <td>2.567367</td>\n",
       "      <td>6.401570</td>\n",
       "      <td>2017.371016</td>\n",
       "      <td>0.564937</td>\n",
       "      <td>0.187340</td>\n",
       "    </tr>\n",
       "    <tr>\n",
       "      <th>std</th>\n",
       "      <td>5.681156</td>\n",
       "      <td>1.091093e+07</td>\n",
       "      <td>35.657060</td>\n",
       "      <td>1.078591</td>\n",
       "      <td>1.261983</td>\n",
       "      <td>6.594823</td>\n",
       "      <td>22.045359</td>\n",
       "      <td>4.871485</td>\n",
       "      <td>5.900630</td>\n",
       "      <td>0.960660</td>\n",
       "      <td>...</td>\n",
       "      <td>341.572956</td>\n",
       "      <td>0.938669</td>\n",
       "      <td>278.009558</td>\n",
       "      <td>219.732782</td>\n",
       "      <td>5.038943e+04</td>\n",
       "      <td>1.788279</td>\n",
       "      <td>3.492948</td>\n",
       "      <td>1.037393</td>\n",
       "      <td>0.105310</td>\n",
       "      <td>0.072979</td>\n",
       "    </tr>\n",
       "    <tr>\n",
       "      <th>min</th>\n",
       "      <td>0.000000</td>\n",
       "      <td>1.219000e+04</td>\n",
       "      <td>12.000000</td>\n",
       "      <td>0.000000</td>\n",
       "      <td>1.000000</td>\n",
       "      <td>1.000000</td>\n",
       "      <td>2.000000</td>\n",
       "      <td>1.000000</td>\n",
       "      <td>1.300000</td>\n",
       "      <td>0.000000</td>\n",
       "      <td>...</td>\n",
       "      <td>1.000000</td>\n",
       "      <td>0.000000</td>\n",
       "      <td>13.000000</td>\n",
       "      <td>1.000000</td>\n",
       "      <td>1.118349e+02</td>\n",
       "      <td>0.000000</td>\n",
       "      <td>1.000000</td>\n",
       "      <td>2014.000000</td>\n",
       "      <td>0.021583</td>\n",
       "      <td>0.025381</td>\n",
       "    </tr>\n",
       "    <tr>\n",
       "      <th>25%</th>\n",
       "      <td>6.000000</td>\n",
       "      <td>3.400000e+06</td>\n",
       "      <td>40.000000</td>\n",
       "      <td>1.000000</td>\n",
       "      <td>2.510000</td>\n",
       "      <td>5.000000</td>\n",
       "      <td>18.600000</td>\n",
       "      <td>2.000000</td>\n",
       "      <td>7.000000</td>\n",
       "      <td>0.000000</td>\n",
       "      <td>...</td>\n",
       "      <td>288.000000</td>\n",
       "      <td>0.000000</td>\n",
       "      <td>293.000000</td>\n",
       "      <td>45.000000</td>\n",
       "      <td>7.656613e+04</td>\n",
       "      <td>1.000000</td>\n",
       "      <td>3.000000</td>\n",
       "      <td>2017.000000</td>\n",
       "      <td>0.495444</td>\n",
       "      <td>0.133333</td>\n",
       "    </tr>\n",
       "    <tr>\n",
       "      <th>50%</th>\n",
       "      <td>9.000000</td>\n",
       "      <td>4.646000e+06</td>\n",
       "      <td>52.000000</td>\n",
       "      <td>2.000000</td>\n",
       "      <td>2.650000</td>\n",
       "      <td>9.000000</td>\n",
       "      <td>30.000000</td>\n",
       "      <td>4.000000</td>\n",
       "      <td>9.100000</td>\n",
       "      <td>0.000000</td>\n",
       "      <td>...</td>\n",
       "      <td>455.000000</td>\n",
       "      <td>1.000000</td>\n",
       "      <td>503.000000</td>\n",
       "      <td>95.000000</td>\n",
       "      <td>9.500000e+04</td>\n",
       "      <td>3.000000</td>\n",
       "      <td>6.000000</td>\n",
       "      <td>2017.000000</td>\n",
       "      <td>0.568210</td>\n",
       "      <td>0.172363</td>\n",
       "    </tr>\n",
       "    <tr>\n",
       "      <th>75%</th>\n",
       "      <td>14.000000</td>\n",
       "      <td>6.790000e+06</td>\n",
       "      <td>69.700000</td>\n",
       "      <td>3.000000</td>\n",
       "      <td>2.800000</td>\n",
       "      <td>16.000000</td>\n",
       "      <td>42.300000</td>\n",
       "      <td>8.000000</td>\n",
       "      <td>12.000000</td>\n",
       "      <td>1.000000</td>\n",
       "      <td>...</td>\n",
       "      <td>612.000000</td>\n",
       "      <td>1.000000</td>\n",
       "      <td>730.000000</td>\n",
       "      <td>231.000000</td>\n",
       "      <td>1.142132e+05</td>\n",
       "      <td>4.000000</td>\n",
       "      <td>10.000000</td>\n",
       "      <td>2018.000000</td>\n",
       "      <td>0.637913</td>\n",
       "      <td>0.232432</td>\n",
       "    </tr>\n",
       "    <tr>\n",
       "      <th>max</th>\n",
       "      <td>50.000000</td>\n",
       "      <td>7.630000e+08</td>\n",
       "      <td>900.000000</td>\n",
       "      <td>19.000000</td>\n",
       "      <td>100.000000</td>\n",
       "      <td>60.000000</td>\n",
       "      <td>409.700000</td>\n",
       "      <td>33.000000</td>\n",
       "      <td>112.000000</td>\n",
       "      <td>5.000000</td>\n",
       "      <td>...</td>\n",
       "      <td>3190.000000</td>\n",
       "      <td>3.000000</td>\n",
       "      <td>1344.000000</td>\n",
       "      <td>1580.000000</td>\n",
       "      <td>1.907500e+06</td>\n",
       "      <td>6.000000</td>\n",
       "      <td>12.000000</td>\n",
       "      <td>2019.000000</td>\n",
       "      <td>1.000000</td>\n",
       "      <td>0.787879</td>\n",
       "    </tr>\n",
       "  </tbody>\n",
       "</table>\n",
       "<p>8 rows × 23 columns</p>\n",
       "</div>"
      ],
      "text/plain": [
       "       total_images    last_price    total_area         rooms  ceiling_height  \\\n",
       "count  23565.000000  2.356500e+04  23565.000000  23565.000000    14481.000000   \n",
       "mean       9.878421  6.540058e+06     60.322824      2.070656        2.771283   \n",
       "std        5.681156  1.091093e+07     35.657060      1.078591        1.261983   \n",
       "min        0.000000  1.219000e+04     12.000000      0.000000        1.000000   \n",
       "25%        6.000000  3.400000e+06     40.000000      1.000000        2.510000   \n",
       "50%        9.000000  4.646000e+06     52.000000      2.000000        2.650000   \n",
       "75%       14.000000  6.790000e+06     69.700000      3.000000        2.800000   \n",
       "max       50.000000  7.630000e+08    900.000000     19.000000      100.000000   \n",
       "\n",
       "       floors_total   living_area         floor  kitchen_area       balcony  \\\n",
       "count  23565.000000  21700.000000  23565.000000  21343.000000  23565.000000   \n",
       "mean      10.675875     34.454822      5.878124     10.560994      0.593677   \n",
       "std        6.594823     22.045359      4.871485      5.900630      0.960660   \n",
       "min        1.000000      2.000000      1.000000      1.300000      0.000000   \n",
       "25%        5.000000     18.600000      2.000000      7.000000      0.000000   \n",
       "50%        9.000000     30.000000      4.000000      9.100000      0.000000   \n",
       "75%       16.000000     42.300000      8.000000     12.000000      1.000000   \n",
       "max       60.000000    409.700000     33.000000    112.000000      5.000000   \n",
       "\n",
       "       ...  parks_nearest  ponds_around3000  ponds_nearest  days_exposition  \\\n",
       "count  ...    8030.000000      18065.000000    9036.000000     20394.000000   \n",
       "mean   ...     490.580448          0.769499     518.289509       180.741395   \n",
       "std    ...     341.572956          0.938669     278.009558       219.732782   \n",
       "min    ...       1.000000          0.000000      13.000000         1.000000   \n",
       "25%    ...     288.000000          0.000000     293.000000        45.000000   \n",
       "50%    ...     455.000000          1.000000     503.000000        95.000000   \n",
       "75%    ...     612.000000          1.000000     730.000000       231.000000   \n",
       "max    ...    3190.000000          3.000000    1344.000000      1580.000000   \n",
       "\n",
       "           price_m2  exposition_weekday  exposition_month  exposition_year  \\\n",
       "count  2.356500e+04        23565.000000      23565.000000     23565.000000   \n",
       "mean   9.940584e+04            2.567367          6.401570      2017.371016   \n",
       "std    5.038943e+04            1.788279          3.492948         1.037393   \n",
       "min    1.118349e+02            0.000000          1.000000      2014.000000   \n",
       "25%    7.656613e+04            1.000000          3.000000      2017.000000   \n",
       "50%    9.500000e+04            3.000000          6.000000      2017.000000   \n",
       "75%    1.142132e+05            4.000000         10.000000      2018.000000   \n",
       "max    1.907500e+06            6.000000         12.000000      2019.000000   \n",
       "\n",
       "       living_total_area_rate  kitchen_total_area_rate  \n",
       "count            21700.000000             21343.000000  \n",
       "mean                 0.564937                 0.187340  \n",
       "std                  0.105310                 0.072979  \n",
       "min                  0.021583                 0.025381  \n",
       "25%                  0.495444                 0.133333  \n",
       "50%                  0.568210                 0.172363  \n",
       "75%                  0.637913                 0.232432  \n",
       "max                  1.000000                 0.787879  \n",
       "\n",
       "[8 rows x 23 columns]"
      ]
     },
     "metadata": {},
     "output_type": "display_data"
    }
   ],
   "source": [
    "display(df1.info())\n",
    "print()\n",
    "display(df1.head())\n",
    "print()\n",
    "display(df1.describe())"
   ]
  },
  {
   "cell_type": "markdown",
   "metadata": {},
   "source": [
    "В результате проведенной работы добавили столбцы: \n",
    "- цена квадратного метра `price_m2`, \n",
    "- день недели публикации объявления`exposition_weekday`, \n",
    "- месяц публикации объявления`exposition_month`, \n",
    "- год публикации объявления`exposition_year`, \n",
    "- сгруппированные значения этажа кваритры (по первый, последний, другой) `floor_group`, \n",
    "- соотношение жилой и общей площади `living_total_area_rate`, \n",
    "- соотношение площади кухни к общей `kitchen_total_area_rate`."
   ]
  },
  {
   "cell_type": "markdown",
   "metadata": {},
   "source": [
    "<div class=\"alert alert-info\">\n",
    "\n",
    "## Шаг 4. Проведем исследовательский анализ данных и выполним инструкции"
   ]
  },
  {
   "cell_type": "markdown",
   "metadata": {},
   "source": [
    "### 4.1. Изучим следующие параметры: площадь, цена, число комнат, высота потолков"
   ]
  },
  {
   "cell_type": "code",
   "execution_count": 23,
   "metadata": {},
   "outputs": [
    {
     "data": {
      "text/plain": [
       "count    23565.000000\n",
       "mean        60.322824\n",
       "std         35.657060\n",
       "min         12.000000\n",
       "25%         40.000000\n",
       "50%         52.000000\n",
       "75%         69.700000\n",
       "max        900.000000\n",
       "Name: total_area, dtype: float64"
      ]
     },
     "metadata": {},
     "output_type": "display_data"
    },
    {
     "data": {
      "image/png": "[encoded data removed]",
      "text/plain": [
       "<Figure size 648x216 with 1 Axes>"
      ]
     },
     "metadata": {
      "needs_background": "light"
     },
     "output_type": "display_data"
    },
    {
     "data": {
      "text/plain": [
       "count    2.356500e+04\n",
       "mean     6.540058e+06\n",
       "std      1.091093e+07\n",
       "min      1.219000e+04\n",
       "25%      3.400000e+06\n",
       "50%      4.646000e+06\n",
       "75%      6.790000e+06\n",
       "max      7.630000e+08\n",
       "Name: last_price, dtype: float64"
      ]
     },
     "metadata": {},
     "output_type": "display_data"
    },
    {
     "data": {
      "image/png": "[encoded data removed]",
      "text/plain": [
       "<Figure size 648x216 with 1 Axes>"
      ]
     },
     "metadata": {
      "needs_background": "light"
     },
     "output_type": "display_data"
    },
    {
     "data": {
      "text/plain": [
       "count    23565.000000\n",
       "mean         2.070656\n",
       "std          1.078591\n",
       "min          0.000000\n",
       "25%          1.000000\n",
       "50%          2.000000\n",
       "75%          3.000000\n",
       "max         19.000000\n",
       "Name: rooms, dtype: float64"
      ]
     },
     "metadata": {},
     "output_type": "display_data"
    },
    {
     "data": {
      "image/png": "[encoded data removed]",
      "text/plain": [
       "<Figure size 648x216 with 1 Axes>"
      ]
     },
     "metadata": {
      "needs_background": "light"
     },
     "output_type": "display_data"
    },
    {
     "data": {
      "text/plain": [
       "count    14481.000000\n",
       "mean         2.771283\n",
       "std          1.261983\n",
       "min          1.000000\n",
       "25%          2.510000\n",
       "50%          2.650000\n",
       "75%          2.800000\n",
       "max        100.000000\n",
       "Name: ceiling_height, dtype: float64"
      ]
     },
     "metadata": {},
     "output_type": "display_data"
    },
    {
     "data": {
      "image/png": "[encoded data removed]",
      "text/plain": [
       "<Figure size 648x216 with 1 Axes>"
      ]
     },
     "metadata": {
      "needs_background": "light"
     },
     "output_type": "display_data"
    }
   ],
   "source": [
    "parameters = [['total_area', 10, (20,120), 'Гистограмма площади'], ['last_price', 50, (0,20e6), 'Гистограмма цены'], ['rooms', 9, (1,10), 'Гистограмма числа комнат'], ['ceiling_height', 28, (2.4, 3.8), 'Гистограмма высоты потолков']]\n",
    "for parameter, bins, rang, title in parameters:\n",
    "    df1[parameter].plot(kind='hist', grid=True, figsize=(9, 3), bins=bins, range=rang, title=title)\n",
    "    display(df1[parameter].describe())\n",
    "    plt.show()"
   ]
  },
  {
   "cell_type": "markdown",
   "metadata": {},
   "source": [
    "#### Вывод"
   ]
  },
  {
   "cell_type": "markdown",
   "metadata": {},
   "source": [
    "Изучили такие параметры как площадь, цена, число комнат, высота потолков. Обнаружили аномальные значения высоты потолков."
   ]
  },
  {
   "cell_type": "markdown",
   "metadata": {},
   "source": [
    "### 4.2. Выполним задание: \n",
    "### \"Изучите время продажи квартиры. Постройте гистограмму. Посчитайте среднее и медиану. Опишите, сколько обычно занимает продажа. Когда можно считать, что продажи прошли очень быстро, а когда необычно долго?\""
   ]
  },
  {
   "cell_type": "code",
   "execution_count": 24,
   "metadata": {},
   "outputs": [
    {
     "data": {
      "image/png": "[encoded data removed]",
      "text/plain": [
       "<Figure size 648x216 with 1 Axes>"
      ]
     },
     "metadata": {
      "needs_background": "light"
     },
     "output_type": "display_data"
    }
   ],
   "source": [
    "df1['days_exposition'].plot(kind='hist', range=(1, 400), bins=300, figsize=(9, 3), grid=True)\n",
    "plt.xlabel('Сколько дней было размещено объявление (от публикации до снятия)')\n",
    "plt.ylabel('Частота')\n",
    "plt.show()"
   ]
  },
  {
   "cell_type": "code",
   "execution_count": 25,
   "metadata": {},
   "outputs": [
    {
     "data": {
      "text/plain": [
       "count    20394.000000\n",
       "mean       180.741395\n",
       "std        219.732782\n",
       "min          1.000000\n",
       "25%         45.000000\n",
       "50%         95.000000\n",
       "75%        231.000000\n",
       "max       1580.000000\n",
       "Name: days_exposition, dtype: float64"
      ]
     },
     "metadata": {},
     "output_type": "display_data"
    },
    {
     "data": {
      "image/png": "[encoded data removed]",
      "text/plain": [
       "<Figure size 432x288 with 1 Axes>"
      ]
     },
     "metadata": {
      "needs_background": "light"
     },
     "output_type": "display_data"
    },
    {
     "data": {
      "text/plain": [
       "'Это быстро: 510 д'"
      ]
     },
     "metadata": {},
     "output_type": "display_data"
    },
    {
     "data": {
      "text/plain": [
       "'Это медленно: 1 д'"
      ]
     },
     "metadata": {},
     "output_type": "display_data"
    }
   ],
   "source": [
    "display(df1['days_exposition'].describe())\n",
    "df1.boxplot('days_exposition')\n",
    "plt.title('Ящик с усами')\n",
    "plt.xlabel('Сколько дней было размещено объявление (от публикации до снятия)')\n",
    "plt.show()\n",
    "good_time = df1[df1['days_exposition'] <= (df1['days_exposition'].quantile(.75) + 1.5 * (df1['days_exposition'].quantile(.75) - df1['days_exposition'].quantile(.25)))]\n",
    "display('Это быстро: {:.0f} д'.format(good_time['days_exposition'].max())) #если продажи прошли дольше этого срока, то это долго\n",
    "display('Это медленно: {:.0f} д'.format(good_time['days_exposition'].min())) #если продажи прошли меньше этого срока, то это быстро"
   ]
  },
  {
   "cell_type": "markdown",
   "metadata": {},
   "source": [
    "#### Вывод"
   ]
  },
  {
   "cell_type": "markdown",
   "metadata": {},
   "source": [
    "Средним значением количества дней, сколько было размещено объявление (от публикации до снятия) является 181 дней. Медианным значением 95 дней. У данных длинный хвост большого срока продажи. Наблюдается практически прямая убывающая зависимость продажи квартиры от срока размещения объявления (чем дольше висит объявление, тем меньше вероятность продать квартиру). Можно считать, что квартира продана быстро, если она продана за 1 день. А необычно долго, если прошло более 510 дней после публикации."
   ]
  },
  {
   "cell_type": "markdown",
   "metadata": {},
   "source": [
    "### 4.3. Выполненим задание: \n",
    "### \"Уберите редкие и выбивающиеся значения. Опишите, какие особенности обнаружили.\""
   ]
  },
  {
   "cell_type": "markdown",
   "metadata": {},
   "source": [
    "Уберем из датафрейма аномально большие и аномально маленькие значения площади квартиры."
   ]
  },
  {
   "cell_type": "code",
   "execution_count": 26,
   "metadata": {},
   "outputs": [
    {
     "data": {
      "text/plain": [
       "count    23565.000000\n",
       "mean        60.322824\n",
       "std         35.657060\n",
       "min         12.000000\n",
       "25%         40.000000\n",
       "50%         52.000000\n",
       "75%         69.700000\n",
       "max        900.000000\n",
       "Name: total_area, dtype: float64"
      ]
     },
     "metadata": {},
     "output_type": "display_data"
    },
    {
     "data": {
      "image/png": "[encoded data removed]",
      "text/plain": [
       "<Figure size 432x288 with 1 Axes>"
      ]
     },
     "metadata": {
      "needs_background": "light"
     },
     "output_type": "display_data"
    },
    {
     "data": {
      "text/plain": [
       "count    16635.000000\n",
       "mean        61.413280\n",
       "std         17.284956\n",
       "min         40.000000\n",
       "25%         46.600000\n",
       "50%         57.900000\n",
       "75%         72.000000\n",
       "max        114.200000\n",
       "Name: total_area, dtype: float64"
      ]
     },
     "metadata": {},
     "output_type": "display_data"
    }
   ],
   "source": [
    "display(df1['total_area'].describe())\n",
    "df1.boxplot('total_area')\n",
    "plt.title('Ящик с усами')\n",
    "plt.xlabel('Площадь квартиры в квадратных метрах (м²)')\n",
    "plt.show()\n",
    "\n",
    "good_data = df1\n",
    "good_data = good_data[(good_data['total_area'] <= (good_data['total_area'].quantile(.75) + 1.5 * (good_data['total_area'].quantile(.75) - good_data['total_area'].quantile(.25)))) & (good_data['total_area'] >= good_data['total_area'].quantile(.25))]\n",
    "display(good_data['total_area'].describe())"
   ]
  },
  {
   "cell_type": "markdown",
   "metadata": {},
   "source": [
    "Уберем из датафрейма объявления с числом комнат равным нулю."
   ]
  },
  {
   "cell_type": "code",
   "execution_count": 27,
   "metadata": {},
   "outputs": [],
   "source": [
    "good_data = good_data.query('rooms != 0')"
   ]
  },
  {
   "cell_type": "markdown",
   "metadata": {},
   "source": [
    "#### Вывод"
   ]
  },
  {
   "cell_type": "markdown",
   "metadata": {},
   "source": [
    "Убрали редкие и выбивающиеся значения. Удалили редкие значения площади квартиры и нулевого числа комнат."
   ]
  },
  {
   "cell_type": "markdown",
   "metadata": {},
   "source": [
    "### 4.4. Выполним задания: \n",
    "### \"Какие факторы больше всего влияют на стоимость квартиры? Изучите, зависит ли цена от квадратного метра, числа комнат, этажа (первого или последнего), удалённости от центра. Также изучите зависимость от даты размещения: дня недели, месяца и года\". \n",
    "### \"Выберите 10 населённых пунктов с наибольшим числом объявлений. Посчитайте среднюю цену квадратного метра в этих населённых пунктах. Выделите населённые пункты с самой высокой и низкой стоимостью жилья. Эти данные можно найти по имени в столбце '*locality_name'*. \""
   ]
  },
  {
   "cell_type": "markdown",
   "metadata": {},
   "source": [
    "#### 4.4.1 Изучим зависимость цены квартиры от квадратного метра"
   ]
  },
  {
   "cell_type": "code",
   "execution_count": 28,
   "metadata": {},
   "outputs": [
    {
     "name": "stdout",
     "output_type": "stream",
     "text": [
      "Корреляция между ценой и квадратным метром: 0.64\n"
     ]
    },
    {
     "data": {
      "text/plain": [
       "Text(0, 0.5, 'Цена на момент снятия с публикации')"
      ]
     },
     "execution_count": 28,
     "metadata": {},
     "output_type": "execute_result"
    },
    {
     "data": {
      "image/png": "[encoded data removed]",
      "text/plain": [
       "<Figure size 648x216 with 1 Axes>"
      ]
     },
     "metadata": {
      "needs_background": "light"
     },
     "output_type": "display_data"
    }
   ],
   "source": [
    "print('Корреляция между ценой и квадратным метром: {:.2f}'.format(good_data['last_price'].corr(good_data['total_area'])))\n",
    "good_data.plot(y='last_price', x='total_area', style='o', alpha=0.5, figsize=(9, 3), grid=True, ylim=(0, 3e7))\n",
    "plt.title('Зависимость цены квартиры от квадратного метра')\n",
    "plt.xlabel('Площадь квартиры в квадратных метрах (м²)')\n",
    "plt.ylabel('Цена на момент снятия с публикации')"
   ]
  },
  {
   "cell_type": "markdown",
   "metadata": {},
   "source": [
    "#### 4.4.2. Изучим зависимость цены квартиры от числа комнат"
   ]
  },
  {
   "cell_type": "code",
   "execution_count": 29,
   "metadata": {},
   "outputs": [
    {
     "name": "stdout",
     "output_type": "stream",
     "text": [
      "Корреляция между ценой и числом комнат: 0.24\n"
     ]
    },
    {
     "data": {
      "text/html": [
       "<div>\n",
       "<style scoped>\n",
       "    .dataframe tbody tr th:only-of-type {\n",
       "        vertical-align: middle;\n",
       "    }\n",
       "\n",
       "    .dataframe tbody tr th {\n",
       "        vertical-align: top;\n",
       "    }\n",
       "\n",
       "    .dataframe thead th {\n",
       "        text-align: right;\n",
       "    }\n",
       "</style>\n",
       "<table border=\"1\" class=\"dataframe\">\n",
       "  <thead>\n",
       "    <tr style=\"text-align: right;\">\n",
       "      <th></th>\n",
       "      <th>last_price</th>\n",
       "    </tr>\n",
       "    <tr>\n",
       "      <th>rooms</th>\n",
       "      <th></th>\n",
       "    </tr>\n",
       "  </thead>\n",
       "  <tbody>\n",
       "    <tr>\n",
       "      <th>1</th>\n",
       "      <td>4.857564e+06</td>\n",
       "    </tr>\n",
       "    <tr>\n",
       "      <th>2</th>\n",
       "      <td>5.501180e+06</td>\n",
       "    </tr>\n",
       "    <tr>\n",
       "      <th>3</th>\n",
       "      <td>6.964810e+06</td>\n",
       "    </tr>\n",
       "    <tr>\n",
       "      <th>4</th>\n",
       "      <td>7.597114e+06</td>\n",
       "    </tr>\n",
       "    <tr>\n",
       "      <th>5</th>\n",
       "      <td>7.963472e+06</td>\n",
       "    </tr>\n",
       "    <tr>\n",
       "      <th>6</th>\n",
       "      <td>1.093188e+07</td>\n",
       "    </tr>\n",
       "    <tr>\n",
       "      <th>more than 6</th>\n",
       "      <td>1.349000e+07</td>\n",
       "    </tr>\n",
       "  </tbody>\n",
       "</table>\n",
       "</div>"
      ],
      "text/plain": [
       "               last_price\n",
       "rooms                    \n",
       "1            4.857564e+06\n",
       "2            5.501180e+06\n",
       "3            6.964810e+06\n",
       "4            7.597114e+06\n",
       "5            7.963472e+06\n",
       "6            1.093188e+07\n",
       "more than 6  1.349000e+07"
      ]
     },
     "metadata": {},
     "output_type": "display_data"
    },
    {
     "data": {
      "image/png": "[encoded data removed]",
      "text/plain": [
       "<Figure size 648x216 with 1 Axes>"
      ]
     },
     "metadata": {
      "needs_background": "light"
     },
     "output_type": "display_data"
    }
   ],
   "source": [
    "print('Корреляция между ценой и числом комнат: {:.2f}'.format(good_data['last_price'].corr(good_data['rooms'])))\n",
    "rooms_data = good_data[['rooms', 'last_price']]\n",
    "rooms_data.loc[(rooms_data['rooms'] > 6), 'rooms'] = 'more than 6'\n",
    "display(rooms_data.pivot_table(index='rooms', values='last_price'))\n",
    "rooms_data.pivot_table(index='rooms', values='last_price').plot(figsize=(9, 3), grid=True)\n",
    "plt.title('Зависимость цены квартиры от числа комнат')\n",
    "plt.xlabel('Число комнат')\n",
    "plt.ylabel('Цена на момент снятия с публикации')\n",
    "plt.show()"
   ]
  },
  {
   "cell_type": "markdown",
   "metadata": {},
   "source": [
    "#### 4.4.3. Изучим зависимость между ценой и этажом "
   ]
  },
  {
   "cell_type": "code",
   "execution_count": 30,
   "metadata": {},
   "outputs": [
    {
     "data": {
      "text/html": [
       "<div>\n",
       "<style scoped>\n",
       "    .dataframe tbody tr th:only-of-type {\n",
       "        vertical-align: middle;\n",
       "    }\n",
       "\n",
       "    .dataframe tbody tr th {\n",
       "        vertical-align: top;\n",
       "    }\n",
       "\n",
       "    .dataframe thead th {\n",
       "        text-align: right;\n",
       "    }\n",
       "</style>\n",
       "<table border=\"1\" class=\"dataframe\">\n",
       "  <thead>\n",
       "    <tr style=\"text-align: right;\">\n",
       "      <th></th>\n",
       "      <th>last_price</th>\n",
       "    </tr>\n",
       "    <tr>\n",
       "      <th>floor_group</th>\n",
       "      <th></th>\n",
       "    </tr>\n",
       "  </thead>\n",
       "  <tbody>\n",
       "    <tr>\n",
       "      <th>первый</th>\n",
       "      <td>4.774752e+06</td>\n",
       "    </tr>\n",
       "    <tr>\n",
       "      <th>последний</th>\n",
       "      <td>5.427596e+06</td>\n",
       "    </tr>\n",
       "    <tr>\n",
       "      <th>другой</th>\n",
       "      <td>6.313782e+06</td>\n",
       "    </tr>\n",
       "  </tbody>\n",
       "</table>\n",
       "</div>"
      ],
      "text/plain": [
       "               last_price\n",
       "floor_group              \n",
       "первый       4.774752e+06\n",
       "последний    5.427596e+06\n",
       "другой       6.313782e+06"
      ]
     },
     "metadata": {},
     "output_type": "display_data"
    },
    {
     "data": {
      "image/png": "[encoded data removed]",
      "text/plain": [
       "<Figure size 648x216 with 1 Axes>"
      ]
     },
     "metadata": {
      "needs_background": "light"
     },
     "output_type": "display_data"
    }
   ],
   "source": [
    "display(good_data.pivot_table(index='floor_group', values='last_price').sort_values('last_price'))\n",
    "good_data.pivot_table(index='floor_group', values='last_price').sort_values('last_price').plot(figsize=(9, 3), grid=True)\n",
    "plt.title('Зависимость между ценой и этажом')\n",
    "plt.xlabel('Этаж')\n",
    "plt.ylabel('Цена на момент снятия с публикации')\n",
    "plt.show()"
   ]
  },
  {
   "cell_type": "markdown",
   "metadata": {},
   "source": [
    "#### 4.4.4. Изучим зависимость между ценой и удалённостью от центра"
   ]
  },
  {
   "cell_type": "code",
   "execution_count": 31,
   "metadata": {},
   "outputs": [
    {
     "name": "stdout",
     "output_type": "stream",
     "text": [
      "Корреляция между ценой и удалённостью от центра: -0.28\n"
     ]
    },
    {
     "data": {
      "image/png": "[encoded data removed]",
      "text/plain": [
       "<Figure size 648x216 with 1 Axes>"
      ]
     },
     "metadata": {
      "needs_background": "light"
     },
     "output_type": "display_data"
    }
   ],
   "source": [
    "print('Корреляция между ценой и удалённостью от центра: {:.2f}'.format(good_data['last_price'].corr(good_data['cityCenters_nearest'])))\n",
    "good_data.plot(y='last_price', x='cityCenters_nearest', style='o', alpha=0.1, ylim=(0, 0.5e8), figsize=(9, 3), grid=True)\n",
    "plt.title('Зависимость между ценой и удалённостью от центра')\n",
    "plt.xlabel('Расстояние до центра города (м)')\n",
    "plt.ylabel('Цена на момент снятия с публикации')\n",
    "plt.show()"
   ]
  },
  {
   "cell_type": "markdown",
   "metadata": {},
   "source": [
    "#### 4.4.5. Изучим зависимость между ценой и днем недели размещения"
   ]
  },
  {
   "cell_type": "code",
   "execution_count": 32,
   "metadata": {},
   "outputs": [
    {
     "name": "stdout",
     "output_type": "stream",
     "text": [
      "Корреляция между ценой и днем недели размещения: -0.02\n"
     ]
    },
    {
     "data": {
      "text/html": [
       "<div>\n",
       "<style scoped>\n",
       "    .dataframe tbody tr th:only-of-type {\n",
       "        vertical-align: middle;\n",
       "    }\n",
       "\n",
       "    .dataframe tbody tr th {\n",
       "        vertical-align: top;\n",
       "    }\n",
       "\n",
       "    .dataframe thead th {\n",
       "        text-align: right;\n",
       "    }\n",
       "</style>\n",
       "<table border=\"1\" class=\"dataframe\">\n",
       "  <thead>\n",
       "    <tr style=\"text-align: right;\">\n",
       "      <th></th>\n",
       "      <th>last_price</th>\n",
       "    </tr>\n",
       "    <tr>\n",
       "      <th>exposition_weekday</th>\n",
       "      <th></th>\n",
       "    </tr>\n",
       "  </thead>\n",
       "  <tbody>\n",
       "    <tr>\n",
       "      <th>0</th>\n",
       "      <td>5.999365e+06</td>\n",
       "    </tr>\n",
       "    <tr>\n",
       "      <th>1</th>\n",
       "      <td>6.083616e+06</td>\n",
       "    </tr>\n",
       "    <tr>\n",
       "      <th>2</th>\n",
       "      <td>6.000740e+06</td>\n",
       "    </tr>\n",
       "    <tr>\n",
       "      <th>3</th>\n",
       "      <td>6.101600e+06</td>\n",
       "    </tr>\n",
       "    <tr>\n",
       "      <th>4</th>\n",
       "      <td>5.903762e+06</td>\n",
       "    </tr>\n",
       "    <tr>\n",
       "      <th>5</th>\n",
       "      <td>5.801554e+06</td>\n",
       "    </tr>\n",
       "    <tr>\n",
       "      <th>6</th>\n",
       "      <td>5.836551e+06</td>\n",
       "    </tr>\n",
       "  </tbody>\n",
       "</table>\n",
       "</div>"
      ],
      "text/plain": [
       "                      last_price\n",
       "exposition_weekday              \n",
       "0                   5.999365e+06\n",
       "1                   6.083616e+06\n",
       "2                   6.000740e+06\n",
       "3                   6.101600e+06\n",
       "4                   5.903762e+06\n",
       "5                   5.801554e+06\n",
       "6                   5.836551e+06"
      ]
     },
     "metadata": {},
     "output_type": "display_data"
    },
    {
     "data": {
      "image/png": "[encoded data removed]",
      "text/plain": [
       "<Figure size 648x216 with 1 Axes>"
      ]
     },
     "metadata": {
      "needs_background": "light"
     },
     "output_type": "display_data"
    }
   ],
   "source": [
    "print('Корреляция между ценой и днем недели размещения: {:.2f}'.format(good_data['last_price'].corr(good_data['exposition_weekday'])))\n",
    "display(good_data.pivot_table(index='exposition_weekday', values='last_price'))\n",
    "good_data.pivot_table(index='exposition_weekday', values='last_price').plot(figsize=(9, 3), grid=True)\n",
    "plt.title('Зависимость между ценой и днем недели размещения')\n",
    "plt.xlabel('День недели')\n",
    "plt.ylabel('Цена на момент снятия с публикации')\n",
    "plt.show()"
   ]
  },
  {
   "cell_type": "markdown",
   "metadata": {},
   "source": [
    "#### 4.4.6. Изучим зависимость между ценой и месяцем размещения"
   ]
  },
  {
   "cell_type": "code",
   "execution_count": 33,
   "metadata": {},
   "outputs": [
    {
     "name": "stdout",
     "output_type": "stream",
     "text": [
      "Корреляция между ценой и месяцем размещения: -0.00\n"
     ]
    },
    {
     "data": {
      "text/html": [
       "<div>\n",
       "<style scoped>\n",
       "    .dataframe tbody tr th:only-of-type {\n",
       "        vertical-align: middle;\n",
       "    }\n",
       "\n",
       "    .dataframe tbody tr th {\n",
       "        vertical-align: top;\n",
       "    }\n",
       "\n",
       "    .dataframe thead th {\n",
       "        text-align: right;\n",
       "    }\n",
       "</style>\n",
       "<table border=\"1\" class=\"dataframe\">\n",
       "  <thead>\n",
       "    <tr style=\"text-align: right;\">\n",
       "      <th></th>\n",
       "      <th>last_price</th>\n",
       "    </tr>\n",
       "    <tr>\n",
       "      <th>exposition_month</th>\n",
       "      <th></th>\n",
       "    </tr>\n",
       "  </thead>\n",
       "  <tbody>\n",
       "    <tr>\n",
       "      <th>1</th>\n",
       "      <td>6.054568e+06</td>\n",
       "    </tr>\n",
       "    <tr>\n",
       "      <th>2</th>\n",
       "      <td>5.990941e+06</td>\n",
       "    </tr>\n",
       "    <tr>\n",
       "      <th>3</th>\n",
       "      <td>5.928939e+06</td>\n",
       "    </tr>\n",
       "    <tr>\n",
       "      <th>4</th>\n",
       "      <td>6.035123e+06</td>\n",
       "    </tr>\n",
       "    <tr>\n",
       "      <th>5</th>\n",
       "      <td>5.884939e+06</td>\n",
       "    </tr>\n",
       "    <tr>\n",
       "      <th>6</th>\n",
       "      <td>5.930289e+06</td>\n",
       "    </tr>\n",
       "    <tr>\n",
       "      <th>7</th>\n",
       "      <td>5.939465e+06</td>\n",
       "    </tr>\n",
       "    <tr>\n",
       "      <th>8</th>\n",
       "      <td>6.038071e+06</td>\n",
       "    </tr>\n",
       "    <tr>\n",
       "      <th>9</th>\n",
       "      <td>6.224421e+06</td>\n",
       "    </tr>\n",
       "    <tr>\n",
       "      <th>10</th>\n",
       "      <td>5.906935e+06</td>\n",
       "    </tr>\n",
       "    <tr>\n",
       "      <th>11</th>\n",
       "      <td>6.003476e+06</td>\n",
       "    </tr>\n",
       "    <tr>\n",
       "      <th>12</th>\n",
       "      <td>5.901915e+06</td>\n",
       "    </tr>\n",
       "  </tbody>\n",
       "</table>\n",
       "</div>"
      ],
      "text/plain": [
       "                    last_price\n",
       "exposition_month              \n",
       "1                 6.054568e+06\n",
       "2                 5.990941e+06\n",
       "3                 5.928939e+06\n",
       "4                 6.035123e+06\n",
       "5                 5.884939e+06\n",
       "6                 5.930289e+06\n",
       "7                 5.939465e+06\n",
       "8                 6.038071e+06\n",
       "9                 6.224421e+06\n",
       "10                5.906935e+06\n",
       "11                6.003476e+06\n",
       "12                5.901915e+06"
      ]
     },
     "metadata": {},
     "output_type": "display_data"
    },
    {
     "data": {
      "image/png": "[encoded data removed]",
      "text/plain": [
       "<Figure size 648x216 with 1 Axes>"
      ]
     },
     "metadata": {
      "needs_background": "light"
     },
     "output_type": "display_data"
    }
   ],
   "source": [
    "print('Корреляция между ценой и месяцем размещения: {:.2f}'.format(good_data['last_price'].corr(good_data['exposition_month'])))\n",
    "display(good_data.pivot_table(index='exposition_month', values='last_price'))\n",
    "good_data.pivot_table(index='exposition_month', values='last_price').plot(figsize=(9, 3), grid=True)\n",
    "plt.title('Зависимость между ценой и месяцем размещения')\n",
    "plt.xlabel('Месяц')\n",
    "plt.ylabel('Цена на момент снятия с публикации')\n",
    "plt.show()"
   ]
  },
  {
   "cell_type": "markdown",
   "metadata": {},
   "source": [
    "#### 4.4.7. Изучим зависимость между ценой и годом размещения"
   ]
  },
  {
   "cell_type": "code",
   "execution_count": 34,
   "metadata": {},
   "outputs": [
    {
     "name": "stdout",
     "output_type": "stream",
     "text": [
      "Корреляция между ценой и годом размещения: -0.01\n"
     ]
    },
    {
     "data": {
      "text/html": [
       "<div>\n",
       "<style scoped>\n",
       "    .dataframe tbody tr th:only-of-type {\n",
       "        vertical-align: middle;\n",
       "    }\n",
       "\n",
       "    .dataframe tbody tr th {\n",
       "        vertical-align: top;\n",
       "    }\n",
       "\n",
       "    .dataframe thead th {\n",
       "        text-align: right;\n",
       "    }\n",
       "</style>\n",
       "<table border=\"1\" class=\"dataframe\">\n",
       "  <thead>\n",
       "    <tr style=\"text-align: right;\">\n",
       "      <th></th>\n",
       "      <th>last_price</th>\n",
       "    </tr>\n",
       "    <tr>\n",
       "      <th>exposition_year</th>\n",
       "      <th></th>\n",
       "    </tr>\n",
       "  </thead>\n",
       "  <tbody>\n",
       "    <tr>\n",
       "      <th>2014</th>\n",
       "      <td>8.169636e+06</td>\n",
       "    </tr>\n",
       "    <tr>\n",
       "      <th>2015</th>\n",
       "      <td>6.494267e+06</td>\n",
       "    </tr>\n",
       "    <tr>\n",
       "      <th>2016</th>\n",
       "      <td>5.940823e+06</td>\n",
       "    </tr>\n",
       "    <tr>\n",
       "      <th>2017</th>\n",
       "      <td>5.879273e+06</td>\n",
       "    </tr>\n",
       "    <tr>\n",
       "      <th>2018</th>\n",
       "      <td>5.885451e+06</td>\n",
       "    </tr>\n",
       "    <tr>\n",
       "      <th>2019</th>\n",
       "      <td>6.331973e+06</td>\n",
       "    </tr>\n",
       "  </tbody>\n",
       "</table>\n",
       "</div>"
      ],
      "text/plain": [
       "                   last_price\n",
       "exposition_year              \n",
       "2014             8.169636e+06\n",
       "2015             6.494267e+06\n",
       "2016             5.940823e+06\n",
       "2017             5.879273e+06\n",
       "2018             5.885451e+06\n",
       "2019             6.331973e+06"
      ]
     },
     "metadata": {},
     "output_type": "display_data"
    },
    {
     "data": {
      "image/png": "[encoded data removed]",
      "text/plain": [
       "<Figure size 648x216 with 1 Axes>"
      ]
     },
     "metadata": {
      "needs_background": "light"
     },
     "output_type": "display_data"
    }
   ],
   "source": [
    "print('Корреляция между ценой и годом размещения: {:.2f}'.format(good_data['last_price'].corr(good_data['exposition_year'])))\n",
    "display(good_data.pivot_table(index='exposition_year', values='last_price'))\n",
    "good_data.pivot_table(index='exposition_year', values='last_price').plot(figsize=(9, 3), grid=True)\n",
    "plt.title('Зависимость между ценой и годом размещения')\n",
    "plt.xlabel('Год')\n",
    "plt.ylabel('Цена на момент снятия с публикации')\n",
    "plt.show()"
   ]
  },
  {
   "cell_type": "markdown",
   "metadata": {},
   "source": [
    "#### 4.4.8. Разберем общую матрицу корреляций по всем параметрам"
   ]
  },
  {
   "cell_type": "code",
   "execution_count": 35,
   "metadata": {},
   "outputs": [
    {
     "data": {
      "text/html": [
       "<div>\n",
       "<style scoped>\n",
       "    .dataframe tbody tr th:only-of-type {\n",
       "        vertical-align: middle;\n",
       "    }\n",
       "\n",
       "    .dataframe tbody tr th {\n",
       "        vertical-align: top;\n",
       "    }\n",
       "\n",
       "    .dataframe thead th {\n",
       "        text-align: right;\n",
       "    }\n",
       "</style>\n",
       "<table border=\"1\" class=\"dataframe\">\n",
       "  <thead>\n",
       "    <tr style=\"text-align: right;\">\n",
       "      <th></th>\n",
       "      <th>total_images</th>\n",
       "      <th>last_price</th>\n",
       "      <th>total_area</th>\n",
       "      <th>rooms</th>\n",
       "      <th>ceiling_height</th>\n",
       "      <th>floors_total</th>\n",
       "      <th>living_area</th>\n",
       "      <th>floor</th>\n",
       "      <th>is_apartment</th>\n",
       "      <th>studio</th>\n",
       "      <th>...</th>\n",
       "      <th>parks_nearest</th>\n",
       "      <th>ponds_around3000</th>\n",
       "      <th>ponds_nearest</th>\n",
       "      <th>days_exposition</th>\n",
       "      <th>price_m2</th>\n",
       "      <th>exposition_weekday</th>\n",
       "      <th>exposition_month</th>\n",
       "      <th>exposition_year</th>\n",
       "      <th>living_total_area_rate</th>\n",
       "      <th>kitchen_total_area_rate</th>\n",
       "    </tr>\n",
       "  </thead>\n",
       "  <tbody>\n",
       "    <tr>\n",
       "      <th>total_images</th>\n",
       "      <td>1.000000</td>\n",
       "      <td>0.137270</td>\n",
       "      <td>0.090777</td>\n",
       "      <td>0.043760</td>\n",
       "      <td>0.006144</td>\n",
       "      <td>0.031142</td>\n",
       "      <td>0.064754</td>\n",
       "      <td>0.050149</td>\n",
       "      <td>0.009481</td>\n",
       "      <td>NaN</td>\n",
       "      <td>...</td>\n",
       "      <td>-0.012477</td>\n",
       "      <td>-0.024130</td>\n",
       "      <td>0.009512</td>\n",
       "      <td>-0.047250</td>\n",
       "      <td>0.134946</td>\n",
       "      <td>-0.009294</td>\n",
       "      <td>0.005345</td>\n",
       "      <td>0.163176</td>\n",
       "      <td>-0.016077</td>\n",
       "      <td>0.007313</td>\n",
       "    </tr>\n",
       "    <tr>\n",
       "      <th>last_price</th>\n",
       "      <td>0.137270</td>\n",
       "      <td>1.000000</td>\n",
       "      <td>0.643239</td>\n",
       "      <td>0.236094</td>\n",
       "      <td>0.098783</td>\n",
       "      <td>0.151858</td>\n",
       "      <td>0.463128</td>\n",
       "      <td>0.120469</td>\n",
       "      <td>0.053730</td>\n",
       "      <td>NaN</td>\n",
       "      <td>...</td>\n",
       "      <td>0.035481</td>\n",
       "      <td>0.207276</td>\n",
       "      <td>-0.101060</td>\n",
       "      <td>0.092150</td>\n",
       "      <td>0.846895</td>\n",
       "      <td>-0.018218</td>\n",
       "      <td>-0.000283</td>\n",
       "      <td>-0.009191</td>\n",
       "      <td>-0.094151</td>\n",
       "      <td>0.082896</td>\n",
       "    </tr>\n",
       "    <tr>\n",
       "      <th>total_area</th>\n",
       "      <td>0.090777</td>\n",
       "      <td>0.643239</td>\n",
       "      <td>1.000000</td>\n",
       "      <td>0.661878</td>\n",
       "      <td>0.086858</td>\n",
       "      <td>0.054011</td>\n",
       "      <td>0.858578</td>\n",
       "      <td>0.031687</td>\n",
       "      <td>0.022051</td>\n",
       "      <td>NaN</td>\n",
       "      <td>...</td>\n",
       "      <td>0.013083</td>\n",
       "      <td>0.131659</td>\n",
       "      <td>-0.068285</td>\n",
       "      <td>0.120215</td>\n",
       "      <td>0.199282</td>\n",
       "      <td>-0.016450</td>\n",
       "      <td>0.004578</td>\n",
       "      <td>-0.060124</td>\n",
       "      <td>0.121456</td>\n",
       "      <td>-0.213886</td>\n",
       "    </tr>\n",
       "    <tr>\n",
       "      <th>rooms</th>\n",
       "      <td>0.043760</td>\n",
       "      <td>0.236094</td>\n",
       "      <td>0.661878</td>\n",
       "      <td>1.000000</td>\n",
       "      <td>0.003544</td>\n",
       "      <td>-0.227556</td>\n",
       "      <td>0.828759</td>\n",
       "      <td>-0.175812</td>\n",
       "      <td>-0.011321</td>\n",
       "      <td>NaN</td>\n",
       "      <td>...</td>\n",
       "      <td>-0.069509</td>\n",
       "      <td>0.009605</td>\n",
       "      <td>-0.010755</td>\n",
       "      <td>0.065779</td>\n",
       "      <td>-0.120081</td>\n",
       "      <td>0.000469</td>\n",
       "      <td>-0.005030</td>\n",
       "      <td>-0.023608</td>\n",
       "      <td>0.605175</td>\n",
       "      <td>-0.592929</td>\n",
       "    </tr>\n",
       "    <tr>\n",
       "      <th>ceiling_height</th>\n",
       "      <td>0.006144</td>\n",
       "      <td>0.098783</td>\n",
       "      <td>0.086858</td>\n",
       "      <td>0.003544</td>\n",
       "      <td>1.000000</td>\n",
       "      <td>-0.024584</td>\n",
       "      <td>0.065807</td>\n",
       "      <td>-0.012282</td>\n",
       "      <td>0.055680</td>\n",
       "      <td>NaN</td>\n",
       "      <td>...</td>\n",
       "      <td>-0.010082</td>\n",
       "      <td>0.077500</td>\n",
       "      <td>-0.070774</td>\n",
       "      <td>0.022402</td>\n",
       "      <td>0.080160</td>\n",
       "      <td>-0.009103</td>\n",
       "      <td>-0.008994</td>\n",
       "      <td>-0.005618</td>\n",
       "      <td>-0.010730</td>\n",
       "      <td>0.034611</td>\n",
       "    </tr>\n",
       "    <tr>\n",
       "      <th>floors_total</th>\n",
       "      <td>0.031142</td>\n",
       "      <td>0.151858</td>\n",
       "      <td>0.054011</td>\n",
       "      <td>-0.227556</td>\n",
       "      <td>-0.024584</td>\n",
       "      <td>1.000000</td>\n",
       "      <td>-0.155416</td>\n",
       "      <td>0.674771</td>\n",
       "      <td>-0.029572</td>\n",
       "      <td>NaN</td>\n",
       "      <td>...</td>\n",
       "      <td>0.099452</td>\n",
       "      <td>-0.108679</td>\n",
       "      <td>0.052862</td>\n",
       "      <td>-0.053266</td>\n",
       "      <td>0.220077</td>\n",
       "      <td>0.009854</td>\n",
       "      <td>0.005747</td>\n",
       "      <td>0.010479</td>\n",
       "      <td>-0.413179</td>\n",
       "      <td>0.333428</td>\n",
       "    </tr>\n",
       "    <tr>\n",
       "      <th>living_area</th>\n",
       "      <td>0.064754</td>\n",
       "      <td>0.463128</td>\n",
       "      <td>0.858578</td>\n",
       "      <td>0.828759</td>\n",
       "      <td>0.065807</td>\n",
       "      <td>-0.155416</td>\n",
       "      <td>1.000000</td>\n",
       "      <td>-0.118615</td>\n",
       "      <td>0.008923</td>\n",
       "      <td>NaN</td>\n",
       "      <td>...</td>\n",
       "      <td>-0.053944</td>\n",
       "      <td>0.081745</td>\n",
       "      <td>-0.035305</td>\n",
       "      <td>0.104120</td>\n",
       "      <td>0.038341</td>\n",
       "      <td>-0.010317</td>\n",
       "      <td>-0.005563</td>\n",
       "      <td>-0.045199</td>\n",
       "      <td>0.592008</td>\n",
       "      <td>-0.532411</td>\n",
       "    </tr>\n",
       "    <tr>\n",
       "      <th>floor</th>\n",
       "      <td>0.050149</td>\n",
       "      <td>0.120469</td>\n",
       "      <td>0.031687</td>\n",
       "      <td>-0.175812</td>\n",
       "      <td>-0.012282</td>\n",
       "      <td>0.674771</td>\n",
       "      <td>-0.118615</td>\n",
       "      <td>1.000000</td>\n",
       "      <td>-0.016158</td>\n",
       "      <td>NaN</td>\n",
       "      <td>...</td>\n",
       "      <td>0.073403</td>\n",
       "      <td>-0.067644</td>\n",
       "      <td>0.045950</td>\n",
       "      <td>-0.050380</td>\n",
       "      <td>0.174605</td>\n",
       "      <td>0.012072</td>\n",
       "      <td>0.012907</td>\n",
       "      <td>0.020188</td>\n",
       "      <td>-0.299844</td>\n",
       "      <td>0.242464</td>\n",
       "    </tr>\n",
       "    <tr>\n",
       "      <th>is_apartment</th>\n",
       "      <td>0.009481</td>\n",
       "      <td>0.053730</td>\n",
       "      <td>0.022051</td>\n",
       "      <td>-0.011321</td>\n",
       "      <td>0.055680</td>\n",
       "      <td>-0.029572</td>\n",
       "      <td>0.008923</td>\n",
       "      <td>-0.016158</td>\n",
       "      <td>1.000000</td>\n",
       "      <td>NaN</td>\n",
       "      <td>...</td>\n",
       "      <td>-0.030278</td>\n",
       "      <td>0.022288</td>\n",
       "      <td>0.007380</td>\n",
       "      <td>0.009466</td>\n",
       "      <td>0.050038</td>\n",
       "      <td>-0.010352</td>\n",
       "      <td>0.003427</td>\n",
       "      <td>0.014396</td>\n",
       "      <td>-0.009628</td>\n",
       "      <td>0.029769</td>\n",
       "    </tr>\n",
       "    <tr>\n",
       "      <th>studio</th>\n",
       "      <td>NaN</td>\n",
       "      <td>NaN</td>\n",
       "      <td>NaN</td>\n",
       "      <td>NaN</td>\n",
       "      <td>NaN</td>\n",
       "      <td>NaN</td>\n",
       "      <td>NaN</td>\n",
       "      <td>NaN</td>\n",
       "      <td>NaN</td>\n",
       "      <td>NaN</td>\n",
       "      <td>...</td>\n",
       "      <td>NaN</td>\n",
       "      <td>NaN</td>\n",
       "      <td>NaN</td>\n",
       "      <td>NaN</td>\n",
       "      <td>NaN</td>\n",
       "      <td>NaN</td>\n",
       "      <td>NaN</td>\n",
       "      <td>NaN</td>\n",
       "      <td>NaN</td>\n",
       "      <td>NaN</td>\n",
       "    </tr>\n",
       "    <tr>\n",
       "      <th>open_plan</th>\n",
       "      <td>-0.012565</td>\n",
       "      <td>0.000859</td>\n",
       "      <td>0.001772</td>\n",
       "      <td>0.006973</td>\n",
       "      <td>0.001362</td>\n",
       "      <td>0.002176</td>\n",
       "      <td>0.007368</td>\n",
       "      <td>0.008479</td>\n",
       "      <td>-0.000808</td>\n",
       "      <td>NaN</td>\n",
       "      <td>...</td>\n",
       "      <td>-0.011173</td>\n",
       "      <td>-0.000292</td>\n",
       "      <td>-0.004430</td>\n",
       "      <td>0.004002</td>\n",
       "      <td>0.000108</td>\n",
       "      <td>-0.005468</td>\n",
       "      <td>-0.002028</td>\n",
       "      <td>-0.032815</td>\n",
       "      <td>0.006924</td>\n",
       "      <td>NaN</td>\n",
       "    </tr>\n",
       "    <tr>\n",
       "      <th>kitchen_area</th>\n",
       "      <td>0.072259</td>\n",
       "      <td>0.501506</td>\n",
       "      <td>0.447226</td>\n",
       "      <td>-0.084326</td>\n",
       "      <td>0.082327</td>\n",
       "      <td>0.294139</td>\n",
       "      <td>0.067583</td>\n",
       "      <td>0.211393</td>\n",
       "      <td>0.040409</td>\n",
       "      <td>NaN</td>\n",
       "      <td>...</td>\n",
       "      <td>0.076524</td>\n",
       "      <td>0.132933</td>\n",
       "      <td>-0.079552</td>\n",
       "      <td>0.065588</td>\n",
       "      <td>0.371923</td>\n",
       "      <td>-0.016766</td>\n",
       "      <td>0.008845</td>\n",
       "      <td>-0.031179</td>\n",
       "      <td>-0.546255</td>\n",
       "      <td>0.739386</td>\n",
       "    </tr>\n",
       "    <tr>\n",
       "      <th>balcony</th>\n",
       "      <td>0.046810</td>\n",
       "      <td>0.035735</td>\n",
       "      <td>0.039492</td>\n",
       "      <td>-0.023767</td>\n",
       "      <td>0.011239</td>\n",
       "      <td>0.174252</td>\n",
       "      <td>-0.011013</td>\n",
       "      <td>0.169465</td>\n",
       "      <td>0.036815</td>\n",
       "      <td>NaN</td>\n",
       "      <td>...</td>\n",
       "      <td>0.038810</td>\n",
       "      <td>-0.047933</td>\n",
       "      <td>0.026945</td>\n",
       "      <td>-0.032683</td>\n",
       "      <td>0.031114</td>\n",
       "      <td>0.000746</td>\n",
       "      <td>0.002471</td>\n",
       "      <td>0.009081</td>\n",
       "      <td>-0.082918</td>\n",
       "      <td>0.044325</td>\n",
       "    </tr>\n",
       "    <tr>\n",
       "      <th>airports_nearest</th>\n",
       "      <td>-0.000972</td>\n",
       "      <td>-0.037236</td>\n",
       "      <td>-0.028031</td>\n",
       "      <td>-0.060975</td>\n",
       "      <td>-0.034954</td>\n",
       "      <td>0.123085</td>\n",
       "      <td>-0.057964</td>\n",
       "      <td>0.084276</td>\n",
       "      <td>0.020067</td>\n",
       "      <td>NaN</td>\n",
       "      <td>...</td>\n",
       "      <td>-0.054306</td>\n",
       "      <td>-0.050981</td>\n",
       "      <td>0.016926</td>\n",
       "      <td>-0.028317</td>\n",
       "      <td>-0.032300</td>\n",
       "      <td>-0.001922</td>\n",
       "      <td>-0.007360</td>\n",
       "      <td>0.020946</td>\n",
       "      <td>-0.073041</td>\n",
       "      <td>0.036765</td>\n",
       "    </tr>\n",
       "    <tr>\n",
       "      <th>cityCenters_nearest</th>\n",
       "      <td>-0.021328</td>\n",
       "      <td>-0.277240</td>\n",
       "      <td>-0.154015</td>\n",
       "      <td>-0.052255</td>\n",
       "      <td>-0.078002</td>\n",
       "      <td>0.035401</td>\n",
       "      <td>-0.120174</td>\n",
       "      <td>0.023596</td>\n",
       "      <td>0.012931</td>\n",
       "      <td>NaN</td>\n",
       "      <td>...</td>\n",
       "      <td>-0.042456</td>\n",
       "      <td>-0.085547</td>\n",
       "      <td>0.033298</td>\n",
       "      <td>-0.041693</td>\n",
       "      <td>-0.271071</td>\n",
       "      <td>0.006374</td>\n",
       "      <td>-0.015728</td>\n",
       "      <td>0.020923</td>\n",
       "      <td>0.011778</td>\n",
       "      <td>-0.043591</td>\n",
       "    </tr>\n",
       "    <tr>\n",
       "      <th>parks_around3000</th>\n",
       "      <td>0.002812</td>\n",
       "      <td>0.186343</td>\n",
       "      <td>0.102726</td>\n",
       "      <td>0.055440</td>\n",
       "      <td>0.066441</td>\n",
       "      <td>-0.236202</td>\n",
       "      <td>0.123086</td>\n",
       "      <td>-0.158610</td>\n",
       "      <td>0.012935</td>\n",
       "      <td>NaN</td>\n",
       "      <td>...</td>\n",
       "      <td>-0.248816</td>\n",
       "      <td>0.292769</td>\n",
       "      <td>-0.171801</td>\n",
       "      <td>0.049094</td>\n",
       "      <td>0.178667</td>\n",
       "      <td>-0.010043</td>\n",
       "      <td>0.003747</td>\n",
       "      <td>-0.032618</td>\n",
       "      <td>0.078186</td>\n",
       "      <td>-0.044173</td>\n",
       "    </tr>\n",
       "    <tr>\n",
       "      <th>parks_nearest</th>\n",
       "      <td>-0.012477</td>\n",
       "      <td>0.035481</td>\n",
       "      <td>0.013083</td>\n",
       "      <td>-0.069509</td>\n",
       "      <td>-0.010082</td>\n",
       "      <td>0.099452</td>\n",
       "      <td>-0.053944</td>\n",
       "      <td>0.073403</td>\n",
       "      <td>-0.030278</td>\n",
       "      <td>NaN</td>\n",
       "      <td>...</td>\n",
       "      <td>1.000000</td>\n",
       "      <td>0.084469</td>\n",
       "      <td>-0.001438</td>\n",
       "      <td>0.045358</td>\n",
       "      <td>0.052870</td>\n",
       "      <td>-0.004038</td>\n",
       "      <td>0.028780</td>\n",
       "      <td>-0.030394</td>\n",
       "      <td>-0.127878</td>\n",
       "      <td>0.086004</td>\n",
       "    </tr>\n",
       "    <tr>\n",
       "      <th>ponds_around3000</th>\n",
       "      <td>-0.024130</td>\n",
       "      <td>0.207276</td>\n",
       "      <td>0.131659</td>\n",
       "      <td>0.009605</td>\n",
       "      <td>0.077500</td>\n",
       "      <td>-0.108679</td>\n",
       "      <td>0.081745</td>\n",
       "      <td>-0.067644</td>\n",
       "      <td>0.022288</td>\n",
       "      <td>NaN</td>\n",
       "      <td>...</td>\n",
       "      <td>0.084469</td>\n",
       "      <td>1.000000</td>\n",
       "      <td>-0.343832</td>\n",
       "      <td>0.072941</td>\n",
       "      <td>0.194321</td>\n",
       "      <td>-0.003210</td>\n",
       "      <td>-0.013006</td>\n",
       "      <td>-0.036127</td>\n",
       "      <td>-0.057411</td>\n",
       "      <td>0.062042</td>\n",
       "    </tr>\n",
       "    <tr>\n",
       "      <th>ponds_nearest</th>\n",
       "      <td>0.009512</td>\n",
       "      <td>-0.101060</td>\n",
       "      <td>-0.068285</td>\n",
       "      <td>-0.010755</td>\n",
       "      <td>-0.070774</td>\n",
       "      <td>0.052862</td>\n",
       "      <td>-0.035305</td>\n",
       "      <td>0.045950</td>\n",
       "      <td>0.007380</td>\n",
       "      <td>NaN</td>\n",
       "      <td>...</td>\n",
       "      <td>-0.001438</td>\n",
       "      <td>-0.343832</td>\n",
       "      <td>1.000000</td>\n",
       "      <td>-0.076788</td>\n",
       "      <td>-0.092037</td>\n",
       "      <td>-0.002305</td>\n",
       "      <td>0.022158</td>\n",
       "      <td>0.030684</td>\n",
       "      <td>0.038602</td>\n",
       "      <td>-0.035617</td>\n",
       "    </tr>\n",
       "    <tr>\n",
       "      <th>days_exposition</th>\n",
       "      <td>-0.047250</td>\n",
       "      <td>0.092150</td>\n",
       "      <td>0.120215</td>\n",
       "      <td>0.065779</td>\n",
       "      <td>0.022402</td>\n",
       "      <td>-0.053266</td>\n",
       "      <td>0.104120</td>\n",
       "      <td>-0.050380</td>\n",
       "      <td>0.009466</td>\n",
       "      <td>NaN</td>\n",
       "      <td>...</td>\n",
       "      <td>0.045358</td>\n",
       "      <td>0.072941</td>\n",
       "      <td>-0.076788</td>\n",
       "      <td>1.000000</td>\n",
       "      <td>0.038273</td>\n",
       "      <td>-0.025856</td>\n",
       "      <td>-0.031406</td>\n",
       "      <td>-0.612748</td>\n",
       "      <td>0.005857</td>\n",
       "      <td>-0.014249</td>\n",
       "    </tr>\n",
       "    <tr>\n",
       "      <th>price_m2</th>\n",
       "      <td>0.134946</td>\n",
       "      <td>0.846895</td>\n",
       "      <td>0.199282</td>\n",
       "      <td>-0.120081</td>\n",
       "      <td>0.080160</td>\n",
       "      <td>0.220077</td>\n",
       "      <td>0.038341</td>\n",
       "      <td>0.174605</td>\n",
       "      <td>0.050038</td>\n",
       "      <td>NaN</td>\n",
       "      <td>...</td>\n",
       "      <td>0.052870</td>\n",
       "      <td>0.194321</td>\n",
       "      <td>-0.092037</td>\n",
       "      <td>0.038273</td>\n",
       "      <td>1.000000</td>\n",
       "      <td>-0.015518</td>\n",
       "      <td>-0.001097</td>\n",
       "      <td>0.032747</td>\n",
       "      <td>-0.235231</td>\n",
       "      <td>0.272401</td>\n",
       "    </tr>\n",
       "    <tr>\n",
       "      <th>exposition_weekday</th>\n",
       "      <td>-0.009294</td>\n",
       "      <td>-0.018218</td>\n",
       "      <td>-0.016450</td>\n",
       "      <td>0.000469</td>\n",
       "      <td>-0.009103</td>\n",
       "      <td>0.009854</td>\n",
       "      <td>-0.010317</td>\n",
       "      <td>0.012072</td>\n",
       "      <td>-0.010352</td>\n",
       "      <td>NaN</td>\n",
       "      <td>...</td>\n",
       "      <td>-0.004038</td>\n",
       "      <td>-0.003210</td>\n",
       "      <td>-0.002305</td>\n",
       "      <td>-0.025856</td>\n",
       "      <td>-0.015518</td>\n",
       "      <td>1.000000</td>\n",
       "      <td>0.014012</td>\n",
       "      <td>-0.002947</td>\n",
       "      <td>0.004738</td>\n",
       "      <td>-0.004724</td>\n",
       "    </tr>\n",
       "    <tr>\n",
       "      <th>exposition_month</th>\n",
       "      <td>0.005345</td>\n",
       "      <td>-0.000283</td>\n",
       "      <td>0.004578</td>\n",
       "      <td>-0.005030</td>\n",
       "      <td>-0.008994</td>\n",
       "      <td>0.005747</td>\n",
       "      <td>-0.005563</td>\n",
       "      <td>0.012907</td>\n",
       "      <td>0.003427</td>\n",
       "      <td>NaN</td>\n",
       "      <td>...</td>\n",
       "      <td>0.028780</td>\n",
       "      <td>-0.013006</td>\n",
       "      <td>0.022158</td>\n",
       "      <td>-0.031406</td>\n",
       "      <td>-0.001097</td>\n",
       "      <td>0.014012</td>\n",
       "      <td>1.000000</td>\n",
       "      <td>-0.268573</td>\n",
       "      <td>-0.017012</td>\n",
       "      <td>0.012071</td>\n",
       "    </tr>\n",
       "    <tr>\n",
       "      <th>exposition_year</th>\n",
       "      <td>0.163176</td>\n",
       "      <td>-0.009191</td>\n",
       "      <td>-0.060124</td>\n",
       "      <td>-0.023608</td>\n",
       "      <td>-0.005618</td>\n",
       "      <td>0.010479</td>\n",
       "      <td>-0.045199</td>\n",
       "      <td>0.020188</td>\n",
       "      <td>0.014396</td>\n",
       "      <td>NaN</td>\n",
       "      <td>...</td>\n",
       "      <td>-0.030394</td>\n",
       "      <td>-0.036127</td>\n",
       "      <td>0.030684</td>\n",
       "      <td>-0.612748</td>\n",
       "      <td>0.032747</td>\n",
       "      <td>-0.002947</td>\n",
       "      <td>-0.268573</td>\n",
       "      <td>1.000000</td>\n",
       "      <td>0.011401</td>\n",
       "      <td>0.004149</td>\n",
       "    </tr>\n",
       "    <tr>\n",
       "      <th>living_total_area_rate</th>\n",
       "      <td>-0.016077</td>\n",
       "      <td>-0.094151</td>\n",
       "      <td>0.121456</td>\n",
       "      <td>0.605175</td>\n",
       "      <td>-0.010730</td>\n",
       "      <td>-0.413179</td>\n",
       "      <td>0.592008</td>\n",
       "      <td>-0.299844</td>\n",
       "      <td>-0.009628</td>\n",
       "      <td>NaN</td>\n",
       "      <td>...</td>\n",
       "      <td>-0.127878</td>\n",
       "      <td>-0.057411</td>\n",
       "      <td>0.038602</td>\n",
       "      <td>0.005857</td>\n",
       "      <td>-0.235231</td>\n",
       "      <td>0.004738</td>\n",
       "      <td>-0.017012</td>\n",
       "      <td>0.011401</td>\n",
       "      <td>1.000000</td>\n",
       "      <td>-0.738525</td>\n",
       "    </tr>\n",
       "    <tr>\n",
       "      <th>kitchen_total_area_rate</th>\n",
       "      <td>0.007313</td>\n",
       "      <td>0.082896</td>\n",
       "      <td>-0.213886</td>\n",
       "      <td>-0.592929</td>\n",
       "      <td>0.034611</td>\n",
       "      <td>0.333428</td>\n",
       "      <td>-0.532411</td>\n",
       "      <td>0.242464</td>\n",
       "      <td>0.029769</td>\n",
       "      <td>NaN</td>\n",
       "      <td>...</td>\n",
       "      <td>0.086004</td>\n",
       "      <td>0.062042</td>\n",
       "      <td>-0.035617</td>\n",
       "      <td>-0.014249</td>\n",
       "      <td>0.272401</td>\n",
       "      <td>-0.004724</td>\n",
       "      <td>0.012071</td>\n",
       "      <td>0.004149</td>\n",
       "      <td>-0.738525</td>\n",
       "      <td>1.000000</td>\n",
       "    </tr>\n",
       "  </tbody>\n",
       "</table>\n",
       "<p>26 rows × 26 columns</p>\n",
       "</div>"
      ],
      "text/plain": [
       "                         total_images  last_price  total_area     rooms  \\\n",
       "total_images                 1.000000    0.137270    0.090777  0.043760   \n",
       "last_price                   0.137270    1.000000    0.643239  0.236094   \n",
       "total_area                   0.090777    0.643239    1.000000  0.661878   \n",
       "rooms                        0.043760    0.236094    0.661878  1.000000   \n",
       "ceiling_height               0.006144    0.098783    0.086858  0.003544   \n",
       "floors_total                 0.031142    0.151858    0.054011 -0.227556   \n",
       "living_area                  0.064754    0.463128    0.858578  0.828759   \n",
       "floor                        0.050149    0.120469    0.031687 -0.175812   \n",
       "is_apartment                 0.009481    0.053730    0.022051 -0.011321   \n",
       "studio                            NaN         NaN         NaN       NaN   \n",
       "open_plan                   -0.012565    0.000859    0.001772  0.006973   \n",
       "kitchen_area                 0.072259    0.501506    0.447226 -0.084326   \n",
       "balcony                      0.046810    0.035735    0.039492 -0.023767   \n",
       "airports_nearest            -0.000972   -0.037236   -0.028031 -0.060975   \n",
       "cityCenters_nearest         -0.021328   -0.277240   -0.154015 -0.052255   \n",
       "parks_around3000             0.002812    0.186343    0.102726  0.055440   \n",
       "parks_nearest               -0.012477    0.035481    0.013083 -0.069509   \n",
       "ponds_around3000            -0.024130    0.207276    0.131659  0.009605   \n",
       "ponds_nearest                0.009512   -0.101060   -0.068285 -0.010755   \n",
       "days_exposition             -0.047250    0.092150    0.120215  0.065779   \n",
       "price_m2                     0.134946    0.846895    0.199282 -0.120081   \n",
       "exposition_weekday          -0.009294   -0.018218   -0.016450  0.000469   \n",
       "exposition_month             0.005345   -0.000283    0.004578 -0.005030   \n",
       "exposition_year              0.163176   -0.009191   -0.060124 -0.023608   \n",
       "living_total_area_rate      -0.016077   -0.094151    0.121456  0.605175   \n",
       "kitchen_total_area_rate      0.007313    0.082896   -0.213886 -0.592929   \n",
       "\n",
       "                         ceiling_height  floors_total  living_area     floor  \\\n",
       "total_images                   0.006144      0.031142     0.064754  0.050149   \n",
       "last_price                     0.098783      0.151858     0.463128  0.120469   \n",
       "total_area                     0.086858      0.054011     0.858578  0.031687   \n",
       "rooms                          0.003544     -0.227556     0.828759 -0.175812   \n",
       "ceiling_height                 1.000000     -0.024584     0.065807 -0.012282   \n",
       "floors_total                  -0.024584      1.000000    -0.155416  0.674771   \n",
       "living_area                    0.065807     -0.155416     1.000000 -0.118615   \n",
       "floor                         -0.012282      0.674771    -0.118615  1.000000   \n",
       "is_apartment                   0.055680     -0.029572     0.008923 -0.016158   \n",
       "studio                              NaN           NaN          NaN       NaN   \n",
       "open_plan                      0.001362      0.002176     0.007368  0.008479   \n",
       "kitchen_area                   0.082327      0.294139     0.067583  0.211393   \n",
       "balcony                        0.011239      0.174252    -0.011013  0.169465   \n",
       "airports_nearest              -0.034954      0.123085    -0.057964  0.084276   \n",
       "cityCenters_nearest           -0.078002      0.035401    -0.120174  0.023596   \n",
       "parks_around3000               0.066441     -0.236202     0.123086 -0.158610   \n",
       "parks_nearest                 -0.010082      0.099452    -0.053944  0.073403   \n",
       "ponds_around3000               0.077500     -0.108679     0.081745 -0.067644   \n",
       "ponds_nearest                 -0.070774      0.052862    -0.035305  0.045950   \n",
       "days_exposition                0.022402     -0.053266     0.104120 -0.050380   \n",
       "price_m2                       0.080160      0.220077     0.038341  0.174605   \n",
       "exposition_weekday            -0.009103      0.009854    -0.010317  0.012072   \n",
       "exposition_month              -0.008994      0.005747    -0.005563  0.012907   \n",
       "exposition_year               -0.005618      0.010479    -0.045199  0.020188   \n",
       "living_total_area_rate        -0.010730     -0.413179     0.592008 -0.299844   \n",
       "kitchen_total_area_rate        0.034611      0.333428    -0.532411  0.242464   \n",
       "\n",
       "                         is_apartment  studio  ...  parks_nearest  \\\n",
       "total_images                 0.009481     NaN  ...      -0.012477   \n",
       "last_price                   0.053730     NaN  ...       0.035481   \n",
       "total_area                   0.022051     NaN  ...       0.013083   \n",
       "rooms                       -0.011321     NaN  ...      -0.069509   \n",
       "ceiling_height               0.055680     NaN  ...      -0.010082   \n",
       "floors_total                -0.029572     NaN  ...       0.099452   \n",
       "living_area                  0.008923     NaN  ...      -0.053944   \n",
       "floor                       -0.016158     NaN  ...       0.073403   \n",
       "is_apartment                 1.000000     NaN  ...      -0.030278   \n",
       "studio                            NaN     NaN  ...            NaN   \n",
       "open_plan                   -0.000808     NaN  ...      -0.011173   \n",
       "kitchen_area                 0.040409     NaN  ...       0.076524   \n",
       "balcony                      0.036815     NaN  ...       0.038810   \n",
       "airports_nearest             0.020067     NaN  ...      -0.054306   \n",
       "cityCenters_nearest          0.012931     NaN  ...      -0.042456   \n",
       "parks_around3000             0.012935     NaN  ...      -0.248816   \n",
       "parks_nearest               -0.030278     NaN  ...       1.000000   \n",
       "ponds_around3000             0.022288     NaN  ...       0.084469   \n",
       "ponds_nearest                0.007380     NaN  ...      -0.001438   \n",
       "days_exposition              0.009466     NaN  ...       0.045358   \n",
       "price_m2                     0.050038     NaN  ...       0.052870   \n",
       "exposition_weekday          -0.010352     NaN  ...      -0.004038   \n",
       "exposition_month             0.003427     NaN  ...       0.028780   \n",
       "exposition_year              0.014396     NaN  ...      -0.030394   \n",
       "living_total_area_rate      -0.009628     NaN  ...      -0.127878   \n",
       "kitchen_total_area_rate      0.029769     NaN  ...       0.086004   \n",
       "\n",
       "                         ponds_around3000  ponds_nearest  days_exposition  \\\n",
       "total_images                    -0.024130       0.009512        -0.047250   \n",
       "last_price                       0.207276      -0.101060         0.092150   \n",
       "total_area                       0.131659      -0.068285         0.120215   \n",
       "rooms                            0.009605      -0.010755         0.065779   \n",
       "ceiling_height                   0.077500      -0.070774         0.022402   \n",
       "floors_total                    -0.108679       0.052862        -0.053266   \n",
       "living_area                      0.081745      -0.035305         0.104120   \n",
       "floor                           -0.067644       0.045950        -0.050380   \n",
       "is_apartment                     0.022288       0.007380         0.009466   \n",
       "studio                                NaN            NaN              NaN   \n",
       "open_plan                       -0.000292      -0.004430         0.004002   \n",
       "kitchen_area                     0.132933      -0.079552         0.065588   \n",
       "balcony                         -0.047933       0.026945        -0.032683   \n",
       "airports_nearest                -0.050981       0.016926        -0.028317   \n",
       "cityCenters_nearest             -0.085547       0.033298        -0.041693   \n",
       "parks_around3000                 0.292769      -0.171801         0.049094   \n",
       "parks_nearest                    0.084469      -0.001438         0.045358   \n",
       "ponds_around3000                 1.000000      -0.343832         0.072941   \n",
       "ponds_nearest                   -0.343832       1.000000        -0.076788   \n",
       "days_exposition                  0.072941      -0.076788         1.000000   \n",
       "price_m2                         0.194321      -0.092037         0.038273   \n",
       "exposition_weekday              -0.003210      -0.002305        -0.025856   \n",
       "exposition_month                -0.013006       0.022158        -0.031406   \n",
       "exposition_year                 -0.036127       0.030684        -0.612748   \n",
       "living_total_area_rate          -0.057411       0.038602         0.005857   \n",
       "kitchen_total_area_rate          0.062042      -0.035617        -0.014249   \n",
       "\n",
       "                         price_m2  exposition_weekday  exposition_month  \\\n",
       "total_images             0.134946           -0.009294          0.005345   \n",
       "last_price               0.846895           -0.018218         -0.000283   \n",
       "total_area               0.199282           -0.016450          0.004578   \n",
       "rooms                   -0.120081            0.000469         -0.005030   \n",
       "ceiling_height           0.080160           -0.009103         -0.008994   \n",
       "floors_total             0.220077            0.009854          0.005747   \n",
       "living_area              0.038341           -0.010317         -0.005563   \n",
       "floor                    0.174605            0.012072          0.012907   \n",
       "is_apartment             0.050038           -0.010352          0.003427   \n",
       "studio                        NaN                 NaN               NaN   \n",
       "open_plan                0.000108           -0.005468         -0.002028   \n",
       "kitchen_area             0.371923           -0.016766          0.008845   \n",
       "balcony                  0.031114            0.000746          0.002471   \n",
       "airports_nearest        -0.032300           -0.001922         -0.007360   \n",
       "cityCenters_nearest     -0.271071            0.006374         -0.015728   \n",
       "parks_around3000         0.178667           -0.010043          0.003747   \n",
       "parks_nearest            0.052870           -0.004038          0.028780   \n",
       "ponds_around3000         0.194321           -0.003210         -0.013006   \n",
       "ponds_nearest           -0.092037           -0.002305          0.022158   \n",
       "days_exposition          0.038273           -0.025856         -0.031406   \n",
       "price_m2                 1.000000           -0.015518         -0.001097   \n",
       "exposition_weekday      -0.015518            1.000000          0.014012   \n",
       "exposition_month        -0.001097            0.014012          1.000000   \n",
       "exposition_year          0.032747           -0.002947         -0.268573   \n",
       "living_total_area_rate  -0.235231            0.004738         -0.017012   \n",
       "kitchen_total_area_rate  0.272401           -0.004724          0.012071   \n",
       "\n",
       "                         exposition_year  living_total_area_rate  \\\n",
       "total_images                    0.163176               -0.016077   \n",
       "last_price                     -0.009191               -0.094151   \n",
       "total_area                     -0.060124                0.121456   \n",
       "rooms                          -0.023608                0.605175   \n",
       "ceiling_height                 -0.005618               -0.010730   \n",
       "floors_total                    0.010479               -0.413179   \n",
       "living_area                    -0.045199                0.592008   \n",
       "floor                           0.020188               -0.299844   \n",
       "is_apartment                    0.014396               -0.009628   \n",
       "studio                               NaN                     NaN   \n",
       "open_plan                      -0.032815                0.006924   \n",
       "kitchen_area                   -0.031179               -0.546255   \n",
       "balcony                         0.009081               -0.082918   \n",
       "airports_nearest                0.020946               -0.073041   \n",
       "cityCenters_nearest             0.020923                0.011778   \n",
       "parks_around3000               -0.032618                0.078186   \n",
       "parks_nearest                  -0.030394               -0.127878   \n",
       "ponds_around3000               -0.036127               -0.057411   \n",
       "ponds_nearest                   0.030684                0.038602   \n",
       "days_exposition                -0.612748                0.005857   \n",
       "price_m2                        0.032747               -0.235231   \n",
       "exposition_weekday             -0.002947                0.004738   \n",
       "exposition_month               -0.268573               -0.017012   \n",
       "exposition_year                 1.000000                0.011401   \n",
       "living_total_area_rate          0.011401                1.000000   \n",
       "kitchen_total_area_rate         0.004149               -0.738525   \n",
       "\n",
       "                         kitchen_total_area_rate  \n",
       "total_images                            0.007313  \n",
       "last_price                              0.082896  \n",
       "total_area                             -0.213886  \n",
       "rooms                                  -0.592929  \n",
       "ceiling_height                          0.034611  \n",
       "floors_total                            0.333428  \n",
       "living_area                            -0.532411  \n",
       "floor                                   0.242464  \n",
       "is_apartment                            0.029769  \n",
       "studio                                       NaN  \n",
       "open_plan                                    NaN  \n",
       "kitchen_area                            0.739386  \n",
       "balcony                                 0.044325  \n",
       "airports_nearest                        0.036765  \n",
       "cityCenters_nearest                    -0.043591  \n",
       "parks_around3000                       -0.044173  \n",
       "parks_nearest                           0.086004  \n",
       "ponds_around3000                        0.062042  \n",
       "ponds_nearest                          -0.035617  \n",
       "days_exposition                        -0.014249  \n",
       "price_m2                                0.272401  \n",
       "exposition_weekday                     -0.004724  \n",
       "exposition_month                        0.012071  \n",
       "exposition_year                         0.004149  \n",
       "living_total_area_rate                 -0.738525  \n",
       "kitchen_total_area_rate                 1.000000  \n",
       "\n",
       "[26 rows x 26 columns]"
      ]
     },
     "metadata": {},
     "output_type": "display_data"
    }
   ],
   "source": [
    "display(good_data.corr())"
   ]
  },
  {
   "cell_type": "code",
   "execution_count": 36,
   "metadata": {},
   "outputs": [
    {
     "data": {
      "text/html": [
       "<style type=\"text/css\">\n",
       "#T_9ed4c_row0_col0 {\n",
       "  background-color: #00441b;\n",
       "  color: #f1f1f1;\n",
       "}\n",
       "#T_9ed4c_row1_col0 {\n",
       "  background-color: #006b2b;\n",
       "  color: #f1f1f1;\n",
       "}\n",
       "#T_9ed4c_row2_col0 {\n",
       "  background-color: #2a924a;\n",
       "  color: #f1f1f1;\n",
       "}\n",
       "#T_9ed4c_row3_col0 {\n",
       "  background-color: #46ae60;\n",
       "  color: #f1f1f1;\n",
       "}\n",
       "#T_9ed4c_row4_col0 {\n",
       "  background-color: #53b466;\n",
       "  color: #f1f1f1;\n",
       "}\n",
       "#T_9ed4c_row5_col0 {\n",
       "  background-color: #98d594;\n",
       "  color: #000000;\n",
       "}\n",
       "#T_9ed4c_row6_col0 {\n",
       "  background-color: #9fd899;\n",
       "  color: #000000;\n",
       "}\n",
       "#T_9ed4c_row7_col0 {\n",
       "  background-color: #a5db9f;\n",
       "  color: #000000;\n",
       "}\n",
       "#T_9ed4c_row8_col0 {\n",
       "  background-color: #acdea6;\n",
       "  color: #000000;\n",
       "}\n",
       "#T_9ed4c_row9_col0 {\n",
       "  background-color: #b0dfaa;\n",
       "  color: #000000;\n",
       "}\n",
       "#T_9ed4c_row10_col0 {\n",
       "  background-color: #b5e1ae;\n",
       "  color: #000000;\n",
       "}\n",
       "#T_9ed4c_row11_col0 {\n",
       "  background-color: #bae3b3;\n",
       "  color: #000000;\n",
       "}\n",
       "#T_9ed4c_row12_col0 {\n",
       "  background-color: #bbe4b4;\n",
       "  color: #000000;\n",
       "}\n",
       "#T_9ed4c_row13_col0 {\n",
       "  background-color: #bde5b6;\n",
       "  color: #000000;\n",
       "}\n",
       "#T_9ed4c_row14_col0 {\n",
       "  background-color: #c4e8bd;\n",
       "  color: #000000;\n",
       "}\n",
       "#T_9ed4c_row15_col0, #T_9ed4c_row16_col0 {\n",
       "  background-color: #c9eac2;\n",
       "  color: #000000;\n",
       "}\n",
       "#T_9ed4c_row17_col0, #T_9ed4c_row18_col0, #T_9ed4c_row19_col0 {\n",
       "  background-color: #cfecc9;\n",
       "  color: #000000;\n",
       "}\n",
       "#T_9ed4c_row20_col0 {\n",
       "  background-color: #d1edcb;\n",
       "  color: #000000;\n",
       "}\n",
       "#T_9ed4c_row21_col0 {\n",
       "  background-color: #d3eecd;\n",
       "  color: #000000;\n",
       "}\n",
       "#T_9ed4c_row22_col0 {\n",
       "  background-color: #d6efd0;\n",
       "  color: #000000;\n",
       "}\n",
       "#T_9ed4c_row23_col0 {\n",
       "  background-color: #e1f3dc;\n",
       "  color: #000000;\n",
       "}\n",
       "#T_9ed4c_row24_col0 {\n",
       "  background-color: #e2f4dd;\n",
       "  color: #000000;\n",
       "}\n",
       "#T_9ed4c_row25_col0 {\n",
       "  background-color: #f7fcf5;\n",
       "  color: #000000;\n",
       "}\n",
       "</style>\n",
       "<table id=\"T_9ed4c\">\n",
       "  <thead>\n",
       "    <tr>\n",
       "      <th class=\"blank level0\" >&nbsp;</th>\n",
       "      <th id=\"T_9ed4c_level0_col0\" class=\"col_heading level0 col0\" >last_price</th>\n",
       "    </tr>\n",
       "  </thead>\n",
       "  <tbody>\n",
       "    <tr>\n",
       "      <th id=\"T_9ed4c_level0_row0\" class=\"row_heading level0 row0\" >last_price</th>\n",
       "      <td id=\"T_9ed4c_row0_col0\" class=\"data row0 col0\" >1.000000</td>\n",
       "    </tr>\n",
       "    <tr>\n",
       "      <th id=\"T_9ed4c_level0_row1\" class=\"row_heading level0 row1\" >price_m2</th>\n",
       "      <td id=\"T_9ed4c_row1_col0\" class=\"data row1 col0\" >0.846895</td>\n",
       "    </tr>\n",
       "    <tr>\n",
       "      <th id=\"T_9ed4c_level0_row2\" class=\"row_heading level0 row2\" >total_area</th>\n",
       "      <td id=\"T_9ed4c_row2_col0\" class=\"data row2 col0\" >0.643239</td>\n",
       "    </tr>\n",
       "    <tr>\n",
       "      <th id=\"T_9ed4c_level0_row3\" class=\"row_heading level0 row3\" >kitchen_area</th>\n",
       "      <td id=\"T_9ed4c_row3_col0\" class=\"data row3 col0\" >0.501506</td>\n",
       "    </tr>\n",
       "    <tr>\n",
       "      <th id=\"T_9ed4c_level0_row4\" class=\"row_heading level0 row4\" >living_area</th>\n",
       "      <td id=\"T_9ed4c_row4_col0\" class=\"data row4 col0\" >0.463128</td>\n",
       "    </tr>\n",
       "    <tr>\n",
       "      <th id=\"T_9ed4c_level0_row5\" class=\"row_heading level0 row5\" >rooms</th>\n",
       "      <td id=\"T_9ed4c_row5_col0\" class=\"data row5 col0\" >0.236094</td>\n",
       "    </tr>\n",
       "    <tr>\n",
       "      <th id=\"T_9ed4c_level0_row6\" class=\"row_heading level0 row6\" >ponds_around3000</th>\n",
       "      <td id=\"T_9ed4c_row6_col0\" class=\"data row6 col0\" >0.207276</td>\n",
       "    </tr>\n",
       "    <tr>\n",
       "      <th id=\"T_9ed4c_level0_row7\" class=\"row_heading level0 row7\" >parks_around3000</th>\n",
       "      <td id=\"T_9ed4c_row7_col0\" class=\"data row7 col0\" >0.186343</td>\n",
       "    </tr>\n",
       "    <tr>\n",
       "      <th id=\"T_9ed4c_level0_row8\" class=\"row_heading level0 row8\" >floors_total</th>\n",
       "      <td id=\"T_9ed4c_row8_col0\" class=\"data row8 col0\" >0.151858</td>\n",
       "    </tr>\n",
       "    <tr>\n",
       "      <th id=\"T_9ed4c_level0_row9\" class=\"row_heading level0 row9\" >total_images</th>\n",
       "      <td id=\"T_9ed4c_row9_col0\" class=\"data row9 col0\" >0.137270</td>\n",
       "    </tr>\n",
       "    <tr>\n",
       "      <th id=\"T_9ed4c_level0_row10\" class=\"row_heading level0 row10\" >floor</th>\n",
       "      <td id=\"T_9ed4c_row10_col0\" class=\"data row10 col0\" >0.120469</td>\n",
       "    </tr>\n",
       "    <tr>\n",
       "      <th id=\"T_9ed4c_level0_row11\" class=\"row_heading level0 row11\" >ceiling_height</th>\n",
       "      <td id=\"T_9ed4c_row11_col0\" class=\"data row11 col0\" >0.098783</td>\n",
       "    </tr>\n",
       "    <tr>\n",
       "      <th id=\"T_9ed4c_level0_row12\" class=\"row_heading level0 row12\" >days_exposition</th>\n",
       "      <td id=\"T_9ed4c_row12_col0\" class=\"data row12 col0\" >0.092150</td>\n",
       "    </tr>\n",
       "    <tr>\n",
       "      <th id=\"T_9ed4c_level0_row13\" class=\"row_heading level0 row13\" >kitchen_total_area_rate</th>\n",
       "      <td id=\"T_9ed4c_row13_col0\" class=\"data row13 col0\" >0.082896</td>\n",
       "    </tr>\n",
       "    <tr>\n",
       "      <th id=\"T_9ed4c_level0_row14\" class=\"row_heading level0 row14\" >is_apartment</th>\n",
       "      <td id=\"T_9ed4c_row14_col0\" class=\"data row14 col0\" >0.053730</td>\n",
       "    </tr>\n",
       "    <tr>\n",
       "      <th id=\"T_9ed4c_level0_row15\" class=\"row_heading level0 row15\" >balcony</th>\n",
       "      <td id=\"T_9ed4c_row15_col0\" class=\"data row15 col0\" >0.035735</td>\n",
       "    </tr>\n",
       "    <tr>\n",
       "      <th id=\"T_9ed4c_level0_row16\" class=\"row_heading level0 row16\" >parks_nearest</th>\n",
       "      <td id=\"T_9ed4c_row16_col0\" class=\"data row16 col0\" >0.035481</td>\n",
       "    </tr>\n",
       "    <tr>\n",
       "      <th id=\"T_9ed4c_level0_row17\" class=\"row_heading level0 row17\" >open_plan</th>\n",
       "      <td id=\"T_9ed4c_row17_col0\" class=\"data row17 col0\" >0.000859</td>\n",
       "    </tr>\n",
       "    <tr>\n",
       "      <th id=\"T_9ed4c_level0_row18\" class=\"row_heading level0 row18\" >studio</th>\n",
       "      <td id=\"T_9ed4c_row18_col0\" class=\"data row18 col0\" >0.000000</td>\n",
       "    </tr>\n",
       "    <tr>\n",
       "      <th id=\"T_9ed4c_level0_row19\" class=\"row_heading level0 row19\" >exposition_month</th>\n",
       "      <td id=\"T_9ed4c_row19_col0\" class=\"data row19 col0\" >-0.000283</td>\n",
       "    </tr>\n",
       "    <tr>\n",
       "      <th id=\"T_9ed4c_level0_row20\" class=\"row_heading level0 row20\" >exposition_year</th>\n",
       "      <td id=\"T_9ed4c_row20_col0\" class=\"data row20 col0\" >-0.009191</td>\n",
       "    </tr>\n",
       "    <tr>\n",
       "      <th id=\"T_9ed4c_level0_row21\" class=\"row_heading level0 row21\" >exposition_weekday</th>\n",
       "      <td id=\"T_9ed4c_row21_col0\" class=\"data row21 col0\" >-0.018218</td>\n",
       "    </tr>\n",
       "    <tr>\n",
       "      <th id=\"T_9ed4c_level0_row22\" class=\"row_heading level0 row22\" >airports_nearest</th>\n",
       "      <td id=\"T_9ed4c_row22_col0\" class=\"data row22 col0\" >-0.037236</td>\n",
       "    </tr>\n",
       "    <tr>\n",
       "      <th id=\"T_9ed4c_level0_row23\" class=\"row_heading level0 row23\" >living_total_area_rate</th>\n",
       "      <td id=\"T_9ed4c_row23_col0\" class=\"data row23 col0\" >-0.094151</td>\n",
       "    </tr>\n",
       "    <tr>\n",
       "      <th id=\"T_9ed4c_level0_row24\" class=\"row_heading level0 row24\" >ponds_nearest</th>\n",
       "      <td id=\"T_9ed4c_row24_col0\" class=\"data row24 col0\" >-0.101060</td>\n",
       "    </tr>\n",
       "    <tr>\n",
       "      <th id=\"T_9ed4c_level0_row25\" class=\"row_heading level0 row25\" >cityCenters_nearest</th>\n",
       "      <td id=\"T_9ed4c_row25_col0\" class=\"data row25 col0\" >-0.277240</td>\n",
       "    </tr>\n",
       "  </tbody>\n",
       "</table>\n"
      ],
      "text/plain": [
       "<pandas.io.formats.style.Styler at 0x116375af0>"
      ]
     },
     "execution_count": 36,
     "metadata": {},
     "output_type": "execute_result"
    }
   ],
   "source": [
    "(good_data\n",
    " .corr()['last_price']\n",
    " .to_frame()\n",
    " .fillna(0)\n",
    " .sort_values('last_price', ascending=False)\n",
    " .style\n",
    " .background_gradient(cmap='Greens')\n",
    ")"
   ]
  },
  {
   "cell_type": "markdown",
   "metadata": {},
   "source": [
    "#### 4.4.9. Разберем цену в населенных пунктах"
   ]
  },
  {
   "cell_type": "code",
   "execution_count": 37,
   "metadata": {},
   "outputs": [
    {
     "data": {
      "text/plain": [
       "Санкт-Петербург      11241\n",
       "посёлок Шушары         330\n",
       "Всеволожск             302\n",
       "Пушкин                 257\n",
       "Колпино                250\n",
       "посёлок Мурино         227\n",
       "Гатчина                223\n",
       "посёлок Парголово      213\n",
       "Выборг                 168\n",
       "деревня Кудрово        147\n",
       "Name: locality_name, dtype: int64"
      ]
     },
     "metadata": {},
     "output_type": "display_data"
    },
    {
     "data": {
      "text/html": [
       "<div>\n",
       "<style scoped>\n",
       "    .dataframe tbody tr th:only-of-type {\n",
       "        vertical-align: middle;\n",
       "    }\n",
       "\n",
       "    .dataframe tbody tr th {\n",
       "        vertical-align: top;\n",
       "    }\n",
       "\n",
       "    .dataframe thead th {\n",
       "        text-align: right;\n",
       "    }\n",
       "</style>\n",
       "<table border=\"1\" class=\"dataframe\">\n",
       "  <thead>\n",
       "    <tr style=\"text-align: right;\">\n",
       "      <th></th>\n",
       "      <th>price_m2</th>\n",
       "    </tr>\n",
       "    <tr>\n",
       "      <th>locality_name</th>\n",
       "      <th></th>\n",
       "    </tr>\n",
       "  </thead>\n",
       "  <tbody>\n",
       "    <tr>\n",
       "      <th>Санкт-Петербург</th>\n",
       "      <td>109866.957306</td>\n",
       "    </tr>\n",
       "    <tr>\n",
       "      <th>Пушкин</th>\n",
       "      <td>101253.173262</td>\n",
       "    </tr>\n",
       "    <tr>\n",
       "      <th>деревня Кудрово</th>\n",
       "      <td>88101.791746</td>\n",
       "    </tr>\n",
       "    <tr>\n",
       "      <th>посёлок Парголово</th>\n",
       "      <td>85586.877442</td>\n",
       "    </tr>\n",
       "    <tr>\n",
       "      <th>посёлок Мурино</th>\n",
       "      <td>78512.607869</td>\n",
       "    </tr>\n",
       "    <tr>\n",
       "      <th>посёлок Шушары</th>\n",
       "      <td>75225.988314</td>\n",
       "    </tr>\n",
       "    <tr>\n",
       "      <th>Колпино</th>\n",
       "      <td>72046.959220</td>\n",
       "    </tr>\n",
       "    <tr>\n",
       "      <th>Гатчина</th>\n",
       "      <td>68120.593810</td>\n",
       "    </tr>\n",
       "    <tr>\n",
       "      <th>Всеволожск</th>\n",
       "      <td>66136.674663</td>\n",
       "    </tr>\n",
       "    <tr>\n",
       "      <th>Выборг</th>\n",
       "      <td>57265.307830</td>\n",
       "    </tr>\n",
       "  </tbody>\n",
       "</table>\n",
       "</div>"
      ],
      "text/plain": [
       "                        price_m2\n",
       "locality_name                   \n",
       "Санкт-Петербург    109866.957306\n",
       "Пушкин             101253.173262\n",
       "деревня Кудрово     88101.791746\n",
       "посёлок Парголово   85586.877442\n",
       "посёлок Мурино      78512.607869\n",
       "посёлок Шушары      75225.988314\n",
       "Колпино             72046.959220\n",
       "Гатчина             68120.593810\n",
       "Всеволожск          66136.674663\n",
       "Выборг              57265.307830"
      ]
     },
     "metadata": {},
     "output_type": "display_data"
    },
    {
     "data": {
      "image/png": "[encoded data removed]",
      "text/plain": [
       "<Figure size 1224x216 with 1 Axes>"
      ]
     },
     "metadata": {
      "needs_background": "light"
     },
     "output_type": "display_data"
    }
   ],
   "source": [
    "display(good_data['locality_name'].value_counts().head(10))\n",
    "\n",
    "top_announcements = good_data['locality_name'].value_counts().head(10).index\n",
    "top_announcements_data = good_data.query(\"locality_name in @top_announcements\")\n",
    "\n",
    "price_m2_pivot = top_announcements_data.pivot_table(index='locality_name', values='price_m2')\n",
    "display(price_m2_pivot.sort_values('price_m2', ascending=False))\n",
    "price_m2_pivot.sort_values('price_m2', ascending=False).plot(figsize=(17,3), grid=True)\n",
    "plt.title('Цена в населенных пунктах')\n",
    "plt.xlabel('Населенные пункты')\n",
    "plt.ylabel('Цена на момент снятия с публикации')\n",
    "plt.show()"
   ]
  },
  {
   "cell_type": "markdown",
   "metadata": {},
   "source": [
    "#### Вывод"
   ]
  },
  {
   "cell_type": "markdown",
   "metadata": {},
   "source": [
    "В результате проведенной работы выяснили:\n",
    "\n",
    "1) Существует сильная зависимость между ценой квартиры и количеством квадратных метров. Причем чем больше площадь, тем больше вероятность, что квартира окажется очень дорогой (элитной). Количество элитных квартир возрастает с площади 120м2. \n",
    "\n",
    "2) Существует практически линейная зависимость между ценой квартиры и количеством комнат, с точкой сильного роста начиная с пяти комнат.\n",
    "\n",
    "3) Существует сильная зависимость между ценой квартиры и этажом. Так средняя цена квартиры на первом этаже 4,7млн.руб., на последнем - 5,4млн.руб., а между первым и последним - 6.3млн.руб. Квартиры на первых этажах сильно дешевле остальных.\n",
    "\n",
    "4) Существует небольшая отрицательная зависимость между ценой квартиры и удаленностью от центра. Причем чем ближе квартира к центру, тем больше вероятность, что квартира окажется очень дорогой (элитной). Количество элитных квартир резко уменьшается с расстояния более 8км от центра.\n",
    "\n",
    "5) Существует небольшая зависимость между ценой квартиры и днем недели размещения объявления. Объявления, выложенные в субботу и воскресенье имеют минимальную стоимость.\n",
    "\n",
    "6) Существует небольшая зависимость между ценой квартиры и месяцем размещения объявления. Объявления, выложенные в сентябре имеют максимальную среднюю цену. В целом разница очень несущественная.\n",
    "\n",
    "7) Существует заметная зависимость между ценой квартиры и годом размещения объявления. Начиная с 2014 года наблюдается продолжительный спад в цене, который меняется на рост, начиная с 2018 года. Очевидно, что падение цен связано с очередным  финансовым кризисом.\n",
    "\n",
    "8) В Санкт-Петербурге ожидаемо самая высокая стоимость квадратного метра - 114т.р./м2. Замыкает десятку в этой категории Всеволожск - 67т.р./м2."
   ]
  },
  {
   "cell_type": "markdown",
   "metadata": {},
   "source": [
    "### 4.5. Выполним задание: \n",
    "### \"Изучите предложения квартир: для каждой квартиры есть информация о расстоянии до центра. Выделите квартиры в Санкт-Петербурге (*'locality_name'*). Ваша задача — выяснить, какая область входит в центр. Создайте столбец с расстоянием до центра в километрах: округлите до целых значений. После этого посчитайте среднюю цену для каждого километра. Постройте график: он должен показывать, как цена зависит от удалённости от центра. Определите границу, где график сильно меняется — это и будет центральная зона. \""
   ]
  },
  {
   "cell_type": "code",
   "execution_count": 38,
   "metadata": {},
   "outputs": [
    {
     "data": {
      "text/html": [
       "<div>\n",
       "<style scoped>\n",
       "    .dataframe tbody tr th:only-of-type {\n",
       "        vertical-align: middle;\n",
       "    }\n",
       "\n",
       "    .dataframe tbody tr th {\n",
       "        vertical-align: top;\n",
       "    }\n",
       "\n",
       "    .dataframe thead th {\n",
       "        text-align: right;\n",
       "    }\n",
       "</style>\n",
       "<table border=\"1\" class=\"dataframe\">\n",
       "  <thead>\n",
       "    <tr style=\"text-align: right;\">\n",
       "      <th></th>\n",
       "      <th>price_m2</th>\n",
       "    </tr>\n",
       "    <tr>\n",
       "      <th>saintp_center</th>\n",
       "      <th></th>\n",
       "    </tr>\n",
       "  </thead>\n",
       "  <tbody>\n",
       "    <tr>\n",
       "      <th>0</th>\n",
       "      <td>164785.081331</td>\n",
       "    </tr>\n",
       "    <tr>\n",
       "      <th>1</th>\n",
       "      <td>133591.838351</td>\n",
       "    </tr>\n",
       "    <tr>\n",
       "      <th>2</th>\n",
       "      <td>135820.976461</td>\n",
       "    </tr>\n",
       "    <tr>\n",
       "      <th>3</th>\n",
       "      <td>122064.614512</td>\n",
       "    </tr>\n",
       "    <tr>\n",
       "      <th>4</th>\n",
       "      <td>134168.660132</td>\n",
       "    </tr>\n",
       "    <tr>\n",
       "      <th>5</th>\n",
       "      <td>133233.943777</td>\n",
       "    </tr>\n",
       "    <tr>\n",
       "      <th>6</th>\n",
       "      <td>132343.422513</td>\n",
       "    </tr>\n",
       "    <tr>\n",
       "      <th>7</th>\n",
       "      <td>130860.112728</td>\n",
       "    </tr>\n",
       "    <tr>\n",
       "      <th>8</th>\n",
       "      <td>117615.782039</td>\n",
       "    </tr>\n",
       "    <tr>\n",
       "      <th>9</th>\n",
       "      <td>107023.878319</td>\n",
       "    </tr>\n",
       "  </tbody>\n",
       "</table>\n",
       "</div>"
      ],
      "text/plain": [
       "                    price_m2\n",
       "saintp_center               \n",
       "0              164785.081331\n",
       "1              133591.838351\n",
       "2              135820.976461\n",
       "3              122064.614512\n",
       "4              134168.660132\n",
       "5              133233.943777\n",
       "6              132343.422513\n",
       "7              130860.112728\n",
       "8              117615.782039\n",
       "9              107023.878319"
      ]
     },
     "metadata": {},
     "output_type": "display_data"
    },
    {
     "data": {
      "image/png": "[encoded data removed]",
      "text/plain": [
       "<Figure size 720x216 with 1 Axes>"
      ]
     },
     "metadata": {
      "needs_background": "light"
     },
     "output_type": "display_data"
    }
   ],
   "source": [
    "saintp = good_data.query(\"locality_name == 'Санкт-Петербург'\")\n",
    "saintp['saintp_center'] = saintp['cityCenters_nearest']/1000\n",
    "saintp['saintp_center'] = saintp['saintp_center'].astype('int64')\n",
    "saintp_pivot = saintp.pivot_table(index='saintp_center', values='price_m2')\n",
    "display(saintp_pivot.head(10))\n",
    "saintp_pivot.plot(figsize=(10, 3), grid=True, xlim=(0, 25))\n",
    "plt.title('Зависимость между ценой м2 и удалённостью от центра')\n",
    "plt.xlabel('Расстояние до центра города (м)')\n",
    "plt.ylabel('Цена на момент снятия с публикации')\n",
    "plt.show()"
   ]
  },
  {
   "cell_type": "markdown",
   "metadata": {},
   "source": [
    "#### Вывод"
   ]
  },
  {
   "cell_type": "markdown",
   "metadata": {},
   "source": [
    "Определили, что радиус в 7 км от центра является центральной зоной Санкт-Петербурга, за котороой наблюдается заметное падение цен на квартиры."
   ]
  },
  {
   "cell_type": "markdown",
   "metadata": {},
   "source": [
    "### 4.6. Выполненим задание: \n",
    "### \"Выделите сегмент квартир в центре. Проанализируйте эту территорию и изучите следующие параметры: площадь, цена, число комнат, высота потолков. Также выделите факторы, которые влияют на стоимость квартиры (число комнат, этаж, удалённость от центра, дата размещения объявления). Сделайте выводы. Отличаются ли они от общих выводов по всему городу?\""
   ]
  },
  {
   "cell_type": "code",
   "execution_count": 39,
   "metadata": {},
   "outputs": [],
   "source": [
    "saintp_best = saintp.query(\"saintp_center<=7\")"
   ]
  },
  {
   "cell_type": "markdown",
   "metadata": {},
   "source": [
    "#### 4.6.1 Изучим площадь"
   ]
  },
  {
   "cell_type": "code",
   "execution_count": 40,
   "metadata": {},
   "outputs": [
    {
     "name": "stdout",
     "output_type": "stream",
     "text": [
      "Корреляция между ценой и площадью: 0.53\n"
     ]
    },
    {
     "data": {
      "text/plain": [
       "count    2628.000000\n",
       "mean       72.667660\n",
       "std        20.168637\n",
       "min        40.000000\n",
       "25%        56.000000\n",
       "50%        71.000000\n",
       "75%        88.625000\n",
       "max       114.200000\n",
       "Name: total_area, dtype: float64"
      ]
     },
     "metadata": {},
     "output_type": "display_data"
    },
    {
     "data": {
      "image/png": "[encoded data removed]",
      "text/plain": [
       "<Figure size 648x216 with 1 Axes>"
      ]
     },
     "metadata": {
      "needs_background": "light"
     },
     "output_type": "display_data"
    }
   ],
   "source": [
    "print('Корреляция между ценой и площадью: {:.2f}'.format(saintp_best['last_price'].corr(saintp_best['total_area'])))\n",
    "display(saintp_best['total_area'].describe())\n",
    "saintp_best.plot(y='last_price', x='total_area', style='o', alpha=0.2, figsize=(9, 3), grid=True, xlim=(40, 120), ylim=(0, 0.3e8))\n",
    "plt.title('Зависимость цены квартиры от площади')\n",
    "plt.xlabel('Площадь квартиры в квадратных метрах (м²)')\n",
    "plt.ylabel('Цена на момент снятия с публикации')\n",
    "plt.show()"
   ]
  },
  {
   "cell_type": "markdown",
   "metadata": {},
   "source": [
    "#### 4.6.2. Изучим цену"
   ]
  },
  {
   "cell_type": "code",
   "execution_count": 41,
   "metadata": {},
   "outputs": [
    {
     "data": {
      "text/plain": [
       "count    2.628000e+03\n",
       "mean     9.642913e+06\n",
       "std      5.384318e+06\n",
       "min      1.600000e+06\n",
       "25%      6.500000e+06\n",
       "50%      8.300000e+06\n",
       "75%      1.100000e+07\n",
       "max      8.200000e+07\n",
       "Name: last_price, dtype: float64"
      ]
     },
     "metadata": {},
     "output_type": "display_data"
    },
    {
     "data": {
      "image/png": "[encoded data removed]",
      "text/plain": [
       "<Figure size 648x216 with 1 Axes>"
      ]
     },
     "metadata": {
      "needs_background": "light"
     },
     "output_type": "display_data"
    }
   ],
   "source": [
    "display(saintp_best['last_price'].describe())\n",
    "saintp_best['last_price'].plot(kind='hist', figsize=(9, 3), grid=True, range=(0, 0.4e8), bins=40)\n",
    "plt.title('Гистограмма цены квартиры')\n",
    "plt.xlabel('Цена на момент снятия с публикации')\n",
    "plt.ylabel('Частота')\n",
    "plt.show()"
   ]
  },
  {
   "cell_type": "markdown",
   "metadata": {},
   "source": [
    "#### 4.6.3. Изучим число комнат"
   ]
  },
  {
   "cell_type": "code",
   "execution_count": 42,
   "metadata": {},
   "outputs": [
    {
     "name": "stdout",
     "output_type": "stream",
     "text": [
      "Корреляция между ценой и числом комнат: 0.16\n"
     ]
    },
    {
     "data": {
      "text/plain": [
       "count    2628.000000\n",
       "mean        2.482877\n",
       "std         0.894561\n",
       "min         1.000000\n",
       "25%         2.000000\n",
       "50%         2.000000\n",
       "75%         3.000000\n",
       "max         7.000000\n",
       "Name: rooms, dtype: float64"
      ]
     },
     "metadata": {},
     "output_type": "display_data"
    },
    {
     "data": {
      "text/html": [
       "<div>\n",
       "<style scoped>\n",
       "    .dataframe tbody tr th:only-of-type {\n",
       "        vertical-align: middle;\n",
       "    }\n",
       "\n",
       "    .dataframe tbody tr th {\n",
       "        vertical-align: top;\n",
       "    }\n",
       "\n",
       "    .dataframe thead th {\n",
       "        text-align: right;\n",
       "    }\n",
       "</style>\n",
       "<table border=\"1\" class=\"dataframe\">\n",
       "  <thead>\n",
       "    <tr style=\"text-align: right;\">\n",
       "      <th></th>\n",
       "      <th>last_price</th>\n",
       "    </tr>\n",
       "    <tr>\n",
       "      <th>rooms</th>\n",
       "      <th></th>\n",
       "    </tr>\n",
       "  </thead>\n",
       "  <tbody>\n",
       "    <tr>\n",
       "      <th>1</th>\n",
       "      <td>7.741096e+06</td>\n",
       "    </tr>\n",
       "    <tr>\n",
       "      <th>2</th>\n",
       "      <td>9.102991e+06</td>\n",
       "    </tr>\n",
       "    <tr>\n",
       "      <th>3</th>\n",
       "      <td>1.070420e+07</td>\n",
       "    </tr>\n",
       "    <tr>\n",
       "      <th>4</th>\n",
       "      <td>1.020427e+07</td>\n",
       "    </tr>\n",
       "    <tr>\n",
       "      <th>5</th>\n",
       "      <td>1.029276e+07</td>\n",
       "    </tr>\n",
       "    <tr>\n",
       "      <th>more than 5</th>\n",
       "      <td>1.256871e+07</td>\n",
       "    </tr>\n",
       "  </tbody>\n",
       "</table>\n",
       "</div>"
      ],
      "text/plain": [
       "               last_price\n",
       "rooms                    \n",
       "1            7.741096e+06\n",
       "2            9.102991e+06\n",
       "3            1.070420e+07\n",
       "4            1.020427e+07\n",
       "5            1.029276e+07\n",
       "more than 5  1.256871e+07"
      ]
     },
     "metadata": {},
     "output_type": "display_data"
    },
    {
     "data": {
      "text/plain": [
       "<AxesSubplot:xlabel='rooms'>"
      ]
     },
     "metadata": {},
     "output_type": "display_data"
    },
    {
     "data": {
      "image/png": "[encoded data removed]",
      "text/plain": [
       "<Figure size 648x216 with 1 Axes>"
      ]
     },
     "metadata": {
      "needs_background": "light"
     },
     "output_type": "display_data"
    },
    {
     "data": {
      "image/png": "[encoded data removed]",
      "text/plain": [
       "<Figure size 648x216 with 1 Axes>"
      ]
     },
     "metadata": {
      "needs_background": "light"
     },
     "output_type": "display_data"
    }
   ],
   "source": [
    "print('Корреляция между ценой и числом комнат: {:.2f}'.format(saintp_best['last_price'].corr(saintp_best['rooms'])))\n",
    "display(saintp_best['rooms'].describe())\n",
    "roomsp_data = saintp_best[['rooms', 'last_price']]\n",
    "roomsp_data.loc[(saintp_best['rooms'] > 5), 'rooms'] = 'more than 5'\n",
    "display(roomsp_data.pivot_table(index='rooms', values='last_price'))\n",
    "display(roomsp_data.pivot_table(index='rooms', values='last_price').plot(figsize=(9, 3), grid=True))\n",
    "plt.title('Зависимость цены квартиры от числа комнат')\n",
    "plt.xlabel('Число комнат')\n",
    "plt.ylabel('Цена на момент снятия с публикации')\n",
    "plt.show()\n",
    "saintp_best['rooms'].plot(kind='hist', figsize=(9, 3), grid=True, range=(1, 6), bins=5)\n",
    "plt.title('Гистограмма числа комнат')\n",
    "plt.xlabel('Число комнат')\n",
    "plt.ylabel('Частота')\n",
    "plt.show()"
   ]
  },
  {
   "cell_type": "markdown",
   "metadata": {},
   "source": [
    "#### 4.6.4. Изучим высоту потолков"
   ]
  },
  {
   "cell_type": "code",
   "execution_count": 43,
   "metadata": {},
   "outputs": [
    {
     "name": "stdout",
     "output_type": "stream",
     "text": [
      "Корреляция между ценой и высотой потолков: 0.05\n"
     ]
    },
    {
     "data": {
      "text/plain": [
       "count    1678.000000\n",
       "mean        3.068266\n",
       "std         0.977881\n",
       "min         2.000000\n",
       "25%         2.800000\n",
       "50%         3.000000\n",
       "75%         3.200000\n",
       "max        32.000000\n",
       "Name: ceiling_height, dtype: float64"
      ]
     },
     "metadata": {},
     "output_type": "display_data"
    },
    {
     "data": {
      "image/png": "[encoded data removed]",
      "text/plain": [
       "<Figure size 648x216 with 1 Axes>"
      ]
     },
     "metadata": {
      "needs_background": "light"
     },
     "output_type": "display_data"
    },
    {
     "data": {
      "image/png": "[encoded data removed]",
      "text/plain": [
       "<Figure size 648x216 with 1 Axes>"
      ]
     },
     "metadata": {
      "needs_background": "light"
     },
     "output_type": "display_data"
    }
   ],
   "source": [
    "print('Корреляция между ценой и высотой потолков: {:.2f}'.format(saintp_best['last_price'].corr(saintp_best['ceiling_height'])))\n",
    "display(saintp_best['ceiling_height'].describe())\n",
    "saintp_best.pivot_table(index='ceiling_height', values='last_price').plot(figsize=(9, 3), grid=True, xlim=(2.55, 3.05))\n",
    "plt.title('Зависимость цены квартиры от высоты потолков')\n",
    "plt.xlabel('Высота потолков (м)')\n",
    "plt.ylabel('Цена на момент снятия с публикации')\n",
    "plt.show()\n",
    "saintp_best['ceiling_height'].hist(figsize=(9, 3), grid=True, range=(2.55, 3.05), bins=10)\n",
    "plt.title('Гистограмма высоты потолков')\n",
    "plt.xlabel('Высота потолков (м)')\n",
    "plt.ylabel('Частота')\n",
    "plt.show()"
   ]
  },
  {
   "cell_type": "markdown",
   "metadata": {},
   "source": [
    "#### 4.6.5. Изучим зависимость между ценой и этажом "
   ]
  },
  {
   "cell_type": "code",
   "execution_count": 44,
   "metadata": {},
   "outputs": [
    {
     "data": {
      "text/html": [
       "<div>\n",
       "<style scoped>\n",
       "    .dataframe tbody tr th:only-of-type {\n",
       "        vertical-align: middle;\n",
       "    }\n",
       "\n",
       "    .dataframe tbody tr th {\n",
       "        vertical-align: top;\n",
       "    }\n",
       "\n",
       "    .dataframe thead th {\n",
       "        text-align: right;\n",
       "    }\n",
       "</style>\n",
       "<table border=\"1\" class=\"dataframe\">\n",
       "  <thead>\n",
       "    <tr style=\"text-align: right;\">\n",
       "      <th></th>\n",
       "      <th>last_price</th>\n",
       "    </tr>\n",
       "    <tr>\n",
       "      <th>floor_group</th>\n",
       "      <th></th>\n",
       "    </tr>\n",
       "  </thead>\n",
       "  <tbody>\n",
       "    <tr>\n",
       "      <th>первый</th>\n",
       "      <td>7.656082e+06</td>\n",
       "    </tr>\n",
       "    <tr>\n",
       "      <th>последний</th>\n",
       "      <td>9.094888e+06</td>\n",
       "    </tr>\n",
       "    <tr>\n",
       "      <th>другой</th>\n",
       "      <td>1.009202e+07</td>\n",
       "    </tr>\n",
       "  </tbody>\n",
       "</table>\n",
       "</div>"
      ],
      "text/plain": [
       "               last_price\n",
       "floor_group              \n",
       "первый       7.656082e+06\n",
       "последний    9.094888e+06\n",
       "другой       1.009202e+07"
      ]
     },
     "metadata": {},
     "output_type": "display_data"
    },
    {
     "data": {
      "image/png": "[encoded data removed]",
      "text/plain": [
       "<Figure size 648x216 with 1 Axes>"
      ]
     },
     "metadata": {
      "needs_background": "light"
     },
     "output_type": "display_data"
    }
   ],
   "source": [
    "display(saintp_best.pivot_table(index='floor_group', values='last_price').sort_values('last_price'))\n",
    "saintp_best.pivot_table(index='floor_group', values='last_price').sort_values('last_price').plot(figsize=(9, 3), grid=True)\n",
    "plt.title('Зависимость между ценой и этажом')\n",
    "plt.xlabel('Этаж')\n",
    "plt.ylabel('Цена на момент снятия с публикации')\n",
    "plt.show()"
   ]
  },
  {
   "cell_type": "markdown",
   "metadata": {},
   "source": [
    "#### 4.6.6. Изучим зависимость между ценой и удалённостью от центра"
   ]
  },
  {
   "cell_type": "code",
   "execution_count": 45,
   "metadata": {},
   "outputs": [
    {
     "name": "stdout",
     "output_type": "stream",
     "text": [
      "Корреляция между ценой и удалённостью от центра: -0.08\n"
     ]
    },
    {
     "data": {
      "image/png": "[encoded data removed]",
      "text/plain": [
       "<Figure size 648x216 with 1 Axes>"
      ]
     },
     "metadata": {
      "needs_background": "light"
     },
     "output_type": "display_data"
    }
   ],
   "source": [
    "print('Корреляция между ценой и удалённостью от центра: {:.2f}'.format(saintp_best['last_price'].corr(saintp_best['cityCenters_nearest'])))\n",
    "saintp_best.plot(y='last_price', x='cityCenters_nearest', style='o', alpha=0.3, ylim=(0, 0.5e8), figsize=(9, 3), grid=True)\n",
    "plt.title('Зависимость между ценой и удалённостью от центра')\n",
    "plt.xlabel('Расстояние до центра города (м)')\n",
    "plt.ylabel('Цена на момент снятия с публикации')\n",
    "plt.show()"
   ]
  },
  {
   "cell_type": "markdown",
   "metadata": {},
   "source": [
    "#### 4.6.7. Изучим дату размещения объявления"
   ]
  },
  {
   "cell_type": "code",
   "execution_count": 46,
   "metadata": {},
   "outputs": [
    {
     "name": "stdout",
     "output_type": "stream",
     "text": [
      "Корреляция между ценой и годом размещения: 0.02\n"
     ]
    },
    {
     "data": {
      "text/html": [
       "<div>\n",
       "<style scoped>\n",
       "    .dataframe tbody tr th:only-of-type {\n",
       "        vertical-align: middle;\n",
       "    }\n",
       "\n",
       "    .dataframe tbody tr th {\n",
       "        vertical-align: top;\n",
       "    }\n",
       "\n",
       "    .dataframe thead th {\n",
       "        text-align: right;\n",
       "    }\n",
       "</style>\n",
       "<table border=\"1\" class=\"dataframe\">\n",
       "  <thead>\n",
       "    <tr style=\"text-align: right;\">\n",
       "      <th></th>\n",
       "      <th>last_price</th>\n",
       "    </tr>\n",
       "    <tr>\n",
       "      <th>exposition_year</th>\n",
       "      <th></th>\n",
       "    </tr>\n",
       "  </thead>\n",
       "  <tbody>\n",
       "    <tr>\n",
       "      <th>2014</th>\n",
       "      <td>1.542513e+07</td>\n",
       "    </tr>\n",
       "    <tr>\n",
       "      <th>2015</th>\n",
       "      <td>9.612644e+06</td>\n",
       "    </tr>\n",
       "    <tr>\n",
       "      <th>2016</th>\n",
       "      <td>9.627835e+06</td>\n",
       "    </tr>\n",
       "    <tr>\n",
       "      <th>2017</th>\n",
       "      <td>9.274263e+06</td>\n",
       "    </tr>\n",
       "    <tr>\n",
       "      <th>2018</th>\n",
       "      <td>9.696964e+06</td>\n",
       "    </tr>\n",
       "    <tr>\n",
       "      <th>2019</th>\n",
       "      <td>1.053865e+07</td>\n",
       "    </tr>\n",
       "  </tbody>\n",
       "</table>\n",
       "</div>"
      ],
      "text/plain": [
       "                   last_price\n",
       "exposition_year              \n",
       "2014             1.542513e+07\n",
       "2015             9.612644e+06\n",
       "2016             9.627835e+06\n",
       "2017             9.274263e+06\n",
       "2018             9.696964e+06\n",
       "2019             1.053865e+07"
      ]
     },
     "metadata": {},
     "output_type": "display_data"
    },
    {
     "data": {
      "text/plain": [
       "<AxesSubplot:xlabel='exposition_year'>"
      ]
     },
     "metadata": {},
     "output_type": "display_data"
    },
    {
     "data": {
      "image/png": "[encoded data removed]",
      "text/plain": [
       "<Figure size 648x216 with 1 Axes>"
      ]
     },
     "metadata": {
      "needs_background": "light"
     },
     "output_type": "display_data"
    }
   ],
   "source": [
    "print('Корреляция между ценой и годом размещения: {:.2f}'.format(saintp_best['last_price'].corr(saintp_best['exposition_year'])))\n",
    "display(saintp_best.pivot_table(index='exposition_year', values='last_price'))\n",
    "display(saintp_best.pivot_table(index='exposition_year', values='last_price').plot(figsize=(9, 3), grid=True))\n",
    "plt.title('Зависимость между ценой и годом размещения')\n",
    "plt.xlabel('Год')\n",
    "plt.ylabel('Цена на момент снятия с публикации')\n",
    "plt.show()"
   ]
  },
  {
   "cell_type": "markdown",
   "metadata": {},
   "source": [
    "### Вывод"
   ]
  },
  {
   "cell_type": "markdown",
   "metadata": {},
   "source": [
    "Проанализировав цены в центре Санкт-Петербурга, пришли к следующим выводам: \n",
    "\n",
    "1) Подавляющее число объявлений имеет площадь квартиры от 40 до 100 м2, c ценой менее 15млн.руб. Медианная площадь - 74 м2.\n",
    "\n",
    "2) Подавляющее число объявлений имеет цену не более 20 млн.руб. Q1=6,4 млн.руб., Q2=8,7 млн.руб., Q3=13 млн.руб. Самая дешевая квартира стоит 1,6 млн.руб., а самая дорогая 763 млн.руб., медианная цена - 8.7 млн.руб.\n",
    "\n",
    "3) Подавляющее число объявлений имеет число комнат менее 5. Медианное число комнат - 3 комнаты.\n",
    "\n",
    "4) Большинство объявлений имеет высоту потолка равную 3м. Медианная высота потолка - 2.8м.\n",
    "\n",
    "5) Этаж сильно влияет на цену. Так между первым и последним этажом разница более, чем в 2 раза.\n",
    "\n",
    "6) Внутри центрального кольца расстояние от центра не сильно влияет на стоимость, скорее наблюдается небольшая отрицательная корреляция.\n",
    "\n",
    "7) Также как и в целом по Ленинградской области, существует заметная зависимость между ценой квартиры и годом размещения объявления. "
   ]
  },
  {
   "cell_type": "markdown",
   "metadata": {},
   "source": [
    "<div class=\"alert alert-info\">\n",
    "\n",
    "## Шаг 5. Общий вывод"
   ]
  },
  {
   "cell_type": "markdown",
   "metadata": {},
   "source": [
    "В результате проведенного исследования объявлений о продаже квартир выявили основные параметры, которые влияют на стоимость квартиры:\n",
    "- количество квадратных метров,\n",
    "- количество комнат,\n",
    "- этаж (чем выше, тем дороже).\n",
    "\n",
    "С 2014 года наблюдалось падение стоимости квартир, которое сменилось ростом в 2018 году. Но, вероятно, \"коронокризис\" опять развернет этот тренд вниз."
   ]
  }
 ],
 "metadata": {
  "kernelspec": {
   "display_name": "Python 3 (ipykernel)",
   "language": "python",
   "name": "python3"
  },
  "language_info": {
   "codemirror_mode": {
    "name": "ipython",
    "version": 3
   },
   "file_extension": ".py",
   "mimetype": "text/x-python",
   "name": "python",
   "nbconvert_exporter": "python",
   "pygments_lexer": "ipython3",
   "version": "3.9.12"
  },
  "toc": {
   "base_numbering": 1,
   "nav_menu": {},
   "number_sections": true,
   "sideBar": true,
   "skip_h1_title": true,
   "title_cell": "Table of Contents",
   "title_sidebar": "Contents",
   "toc_cell": false,
   "toc_position": {},
   "toc_section_display": true,
   "toc_window_display": false
  }
 },
 "nbformat": 4,
 "nbformat_minor": 2
}
