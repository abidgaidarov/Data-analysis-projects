{
 "cells": [
  {
   "cell_type": "markdown",
   "metadata": {
    "toc": true
   },
   "source": [
    "<h1>Содержание<span class=\"tocSkip\"></span></h1>\n",
    "<div class=\"toc\"><ul class=\"toc-item\"><li><span><a href=\"#Исследование-результата-A/A/B-эксперимента\" data-toc-modified-id=\"Исследование-результата-A/A/B-эксперимента-1\">Исследование результата A/A/B-эксперимента</a></span><ul class=\"toc-item\"><li><ul class=\"toc-item\"><li><span><a href=\"#Описание-проекта:\" data-toc-modified-id=\"Описание-проекта:-1.0.1\">Описание проекта:</a></span></li><li><span><a href=\"#Описание-данных:\" data-toc-modified-id=\"Описание-данных:-1.0.2\">Описание данных:</a></span></li></ul></li><li><span><a href=\"#1.-Загрузим-данные-и-подготовим-их-к-анализу\" data-toc-modified-id=\"1.-Загрузим-данные-и-подготовим-их-к-анализу-1.1\">1. Загрузим данные и подготовим их к анализу</a></span></li><li><span><a href=\"#2.-Подготовим-данные\" data-toc-modified-id=\"2.-Подготовим-данные-1.2\">2. Подготовим данные</a></span></li><li><span><a href=\"#3.-Изучим-и-проверим-данные\" data-toc-modified-id=\"3.-Изучим-и-проверим-данные-1.3\">3. Изучим и проверим данные</a></span></li><li><span><a href=\"#4.-Изучим-воронку-событий\" data-toc-modified-id=\"4.-Изучим-воронку-событий-1.4\">4. Изучим воронку событий</a></span></li><li><span><a href=\"#5.-Изучим-результаты-эксперимента\" data-toc-modified-id=\"5.-Изучим-результаты-эксперимента-1.5\">5. Изучим результаты эксперимента</a></span></li><li><span><a href=\"#Вывод:\" data-toc-modified-id=\"Вывод:-1.6\">Вывод:</a></span></li></ul></li></ul></div>"
   ]
  },
  {
   "cell_type": "markdown",
   "metadata": {},
   "source": [
    "# Исследование результата A/A/B-эксперимента"
   ]
  },
  {
   "cell_type": "markdown",
   "metadata": {},
   "source": [
    "### Описание проекта:\n",
    "\n",
    "Вы работаете в стартапе, который продаёт продукты питания. Нужно разобраться, как ведут себя пользователи вашего мобильного приложения.\n",
    "\n",
    "Изучите воронку продаж. Узнайте, как пользователи доходят до покупки. Сколько пользователей доходит до покупки, а сколько — «застревает» на предыдущих шагах? На каких именно?\n",
    "\n",
    "После этого исследуйте результаты A/A/B-эксперимента. Дизайнеры захотели поменять шрифты во всём приложении, а менеджеры испугались, что пользователям будет непривычно. Договорились принять решение по результатам A/A/B-теста. Пользователей разбили на 3 группы: 2 контрольные со старыми шрифтами и одну экспериментальную — с новыми. Выясните, какой шрифт лучше.\n",
    "\n",
    "Создание двух групп A вместо одной имеет определённые преимущества. Если две контрольные группы окажутся равны, вы можете быть уверены в точности проведенного тестирования. Если же между значениями A и A будут существенные различия, это поможет обнаружить факторы, которые привели к искажению результатов. Сравнение контрольных групп также помогает понять, сколько времени и данных потребуется для дальнейших тестов.\n",
    "\n",
    "В случае общей аналитики и A/A/B-эксперимента работайте с одними и теми же данными. В реальных проектах всегда идут эксперименты. Аналитики исследуют качество работы приложения по общим данным, не учитывая принадлежность пользователей к экспериментам."
   ]
  },
  {
   "cell_type": "markdown",
   "metadata": {},
   "source": [
    "### Описание данных:\n",
    "Каждая запись в логе — это действие пользователя, или событие.\n",
    "- <code>EventName</code> — название события;\n",
    "- <code>DeviceIDHash</code> — уникальный идентификатор пользователя;\n",
    "- <code>EventTimestamp</code> — время события;\n",
    "- <code>ExpId</code> — номер эксперимента: 246 и 247 — контрольные группы, а 248 — экспериментальная."
   ]
  },
  {
   "cell_type": "markdown",
   "metadata": {},
   "source": [
    "## 1. Загрузим данные и подготовим их к анализу"
   ]
  },
  {
   "cell_type": "markdown",
   "metadata": {},
   "source": [
    "Загрузим необходимые библиотеки:"
   ]
  },
  {
   "cell_type": "code",
   "execution_count": 1,
   "metadata": {},
   "outputs": [],
   "source": [
    "import pandas as pd\n",
    "import datetime\n",
    "import matplotlib.pyplot as plt\n",
    "import scipy.stats as stats\n",
    "import numpy as np\n",
    "import warnings\n",
    "import math as mth\n",
    "from plotly import graph_objects as go\n",
    "warnings.filterwarnings('ignore')"
   ]
  },
  {
   "cell_type": "markdown",
   "metadata": {},
   "source": [
    "Откроем файл с данными и изучим общую информацию:"
   ]
  },
  {
   "cell_type": "code",
   "execution_count": 2,
   "metadata": {},
   "outputs": [
    {
     "data": {
      "text/html": [
       "<div>\n",
       "<style scoped>\n",
       "    .dataframe tbody tr th:only-of-type {\n",
       "        vertical-align: middle;\n",
       "    }\n",
       "\n",
       "    .dataframe tbody tr th {\n",
       "        vertical-align: top;\n",
       "    }\n",
       "\n",
       "    .dataframe thead th {\n",
       "        text-align: right;\n",
       "    }\n",
       "</style>\n",
       "<table border=\"1\" class=\"dataframe\">\n",
       "  <thead>\n",
       "    <tr style=\"text-align: right;\">\n",
       "      <th></th>\n",
       "      <th>EventName</th>\n",
       "      <th>DeviceIDHash</th>\n",
       "      <th>EventTimestamp</th>\n",
       "      <th>ExpId</th>\n",
       "    </tr>\n",
       "  </thead>\n",
       "  <tbody>\n",
       "    <tr>\n",
       "      <th>0</th>\n",
       "      <td>MainScreenAppear</td>\n",
       "      <td>4575588528974610257</td>\n",
       "      <td>1564029816</td>\n",
       "      <td>246</td>\n",
       "    </tr>\n",
       "    <tr>\n",
       "      <th>1</th>\n",
       "      <td>MainScreenAppear</td>\n",
       "      <td>7416695313311560658</td>\n",
       "      <td>1564053102</td>\n",
       "      <td>246</td>\n",
       "    </tr>\n",
       "    <tr>\n",
       "      <th>2</th>\n",
       "      <td>PaymentScreenSuccessful</td>\n",
       "      <td>3518123091307005509</td>\n",
       "      <td>1564054127</td>\n",
       "      <td>248</td>\n",
       "    </tr>\n",
       "    <tr>\n",
       "      <th>3</th>\n",
       "      <td>CartScreenAppear</td>\n",
       "      <td>3518123091307005509</td>\n",
       "      <td>1564054127</td>\n",
       "      <td>248</td>\n",
       "    </tr>\n",
       "    <tr>\n",
       "      <th>4</th>\n",
       "      <td>PaymentScreenSuccessful</td>\n",
       "      <td>6217807653094995999</td>\n",
       "      <td>1564055322</td>\n",
       "      <td>248</td>\n",
       "    </tr>\n",
       "  </tbody>\n",
       "</table>\n",
       "</div>"
      ],
      "text/plain": [
       "                 EventName         DeviceIDHash  EventTimestamp  ExpId\n",
       "0         MainScreenAppear  4575588528974610257      1564029816    246\n",
       "1         MainScreenAppear  7416695313311560658      1564053102    246\n",
       "2  PaymentScreenSuccessful  3518123091307005509      1564054127    248\n",
       "3         CartScreenAppear  3518123091307005509      1564054127    248\n",
       "4  PaymentScreenSuccessful  6217807653094995999      1564055322    248"
      ]
     },
     "execution_count": 2,
     "metadata": {},
     "output_type": "execute_result"
    }
   ],
   "source": [
    "df = pd.read_csv('logs_exp.csv', sep='\\t')\n",
    "df.head(5)"
   ]
  },
  {
   "cell_type": "markdown",
   "metadata": {},
   "source": [
    "## 2. Подготовим данные"
   ]
  },
  {
   "cell_type": "markdown",
   "metadata": {},
   "source": [
    "Заменим названия столбцов:"
   ]
  },
  {
   "cell_type": "code",
   "execution_count": 3,
   "metadata": {},
   "outputs": [
    {
     "data": {
      "text/html": [
       "<div>\n",
       "<style scoped>\n",
       "    .dataframe tbody tr th:only-of-type {\n",
       "        vertical-align: middle;\n",
       "    }\n",
       "\n",
       "    .dataframe tbody tr th {\n",
       "        vertical-align: top;\n",
       "    }\n",
       "\n",
       "    .dataframe thead th {\n",
       "        text-align: right;\n",
       "    }\n",
       "</style>\n",
       "<table border=\"1\" class=\"dataframe\">\n",
       "  <thead>\n",
       "    <tr style=\"text-align: right;\">\n",
       "      <th></th>\n",
       "      <th>event_name</th>\n",
       "      <th>uid</th>\n",
       "      <th>unix_time</th>\n",
       "      <th>exp_id</th>\n",
       "    </tr>\n",
       "  </thead>\n",
       "  <tbody>\n",
       "    <tr>\n",
       "      <th>0</th>\n",
       "      <td>MainScreenAppear</td>\n",
       "      <td>4575588528974610257</td>\n",
       "      <td>1564029816</td>\n",
       "      <td>246</td>\n",
       "    </tr>\n",
       "    <tr>\n",
       "      <th>1</th>\n",
       "      <td>MainScreenAppear</td>\n",
       "      <td>7416695313311560658</td>\n",
       "      <td>1564053102</td>\n",
       "      <td>246</td>\n",
       "    </tr>\n",
       "    <tr>\n",
       "      <th>2</th>\n",
       "      <td>PaymentScreenSuccessful</td>\n",
       "      <td>3518123091307005509</td>\n",
       "      <td>1564054127</td>\n",
       "      <td>248</td>\n",
       "    </tr>\n",
       "    <tr>\n",
       "      <th>3</th>\n",
       "      <td>CartScreenAppear</td>\n",
       "      <td>3518123091307005509</td>\n",
       "      <td>1564054127</td>\n",
       "      <td>248</td>\n",
       "    </tr>\n",
       "    <tr>\n",
       "      <th>4</th>\n",
       "      <td>PaymentScreenSuccessful</td>\n",
       "      <td>6217807653094995999</td>\n",
       "      <td>1564055322</td>\n",
       "      <td>248</td>\n",
       "    </tr>\n",
       "  </tbody>\n",
       "</table>\n",
       "</div>"
      ],
      "text/plain": [
       "                event_name                  uid   unix_time  exp_id\n",
       "0         MainScreenAppear  4575588528974610257  1564029816     246\n",
       "1         MainScreenAppear  7416695313311560658  1564053102     246\n",
       "2  PaymentScreenSuccessful  3518123091307005509  1564054127     248\n",
       "3         CartScreenAppear  3518123091307005509  1564054127     248\n",
       "4  PaymentScreenSuccessful  6217807653094995999  1564055322     248"
      ]
     },
     "execution_count": 3,
     "metadata": {},
     "output_type": "execute_result"
    }
   ],
   "source": [
    "df.columns = ['event_name', 'uid', 'unix_time', 'exp_id']\n",
    "df.head()"
   ]
  },
  {
   "cell_type": "markdown",
   "metadata": {},
   "source": [
    "Проверим пропуски и типы данных:"
   ]
  },
  {
   "cell_type": "code",
   "execution_count": 4,
   "metadata": {},
   "outputs": [
    {
     "data": {
      "text/plain": [
       "event_name  uid    unix_time  exp_id\n",
       "False       False  False      False     244126\n",
       "dtype: int64"
      ]
     },
     "execution_count": 4,
     "metadata": {},
     "output_type": "execute_result"
    }
   ],
   "source": [
    "df.isna().value_counts()"
   ]
  },
  {
   "cell_type": "markdown",
   "metadata": {},
   "source": [
    "Пропуски отстуствуют."
   ]
  },
  {
   "cell_type": "code",
   "execution_count": 5,
   "metadata": {},
   "outputs": [
    {
     "name": "stdout",
     "output_type": "stream",
     "text": [
      "<class 'pandas.core.frame.DataFrame'>\n",
      "RangeIndex: 244126 entries, 0 to 244125\n",
      "Data columns (total 4 columns):\n",
      " #   Column      Non-Null Count   Dtype \n",
      "---  ------      --------------   ----- \n",
      " 0   event_name  244126 non-null  object\n",
      " 1   uid         244126 non-null  int64 \n",
      " 2   unix_time   244126 non-null  int64 \n",
      " 3   exp_id      244126 non-null  int64 \n",
      "dtypes: int64(3), object(1)\n",
      "memory usage: 7.5+ MB\n"
     ]
    }
   ],
   "source": [
    "df.info()"
   ]
  },
  {
   "cell_type": "markdown",
   "metadata": {},
   "source": [
    "Откорректируем типы данных:"
   ]
  },
  {
   "cell_type": "code",
   "execution_count": 6,
   "metadata": {},
   "outputs": [],
   "source": [
    "df['uid'] = df['uid'].astype('str')\n",
    "df['exp_id'] = df['exp_id'].astype('str')\n",
    "df['dt'] = pd.to_datetime(df['unix_time'], unit='s')\n",
    "df.drop('unix_time', axis=1, inplace=True)"
   ]
  },
  {
   "cell_type": "markdown",
   "metadata": {},
   "source": [
    "Добавим столбец с датами:"
   ]
  },
  {
   "cell_type": "code",
   "execution_count": 7,
   "metadata": {},
   "outputs": [],
   "source": [
    "df['date'] = df['dt'].dt.date"
   ]
  },
  {
   "cell_type": "markdown",
   "metadata": {},
   "source": [
    "Проверим дубликаты:"
   ]
  },
  {
   "cell_type": "code",
   "execution_count": 8,
   "metadata": {},
   "outputs": [
    {
     "data": {
      "text/plain": [
       "413"
      ]
     },
     "execution_count": 8,
     "metadata": {},
     "output_type": "execute_result"
    }
   ],
   "source": [
    "df.duplicated().sum()"
   ]
  },
  {
   "cell_type": "markdown",
   "metadata": {},
   "source": [
    "В датасете имеются дубликаты. Дропнем их."
   ]
  },
  {
   "cell_type": "code",
   "execution_count": 9,
   "metadata": {},
   "outputs": [],
   "source": [
    "df = df.drop_duplicates()"
   ]
  },
  {
   "cell_type": "code",
   "execution_count": 10,
   "metadata": {},
   "outputs": [
    {
     "data": {
      "text/html": [
       "<div>\n",
       "<style scoped>\n",
       "    .dataframe tbody tr th:only-of-type {\n",
       "        vertical-align: middle;\n",
       "    }\n",
       "\n",
       "    .dataframe tbody tr th {\n",
       "        vertical-align: top;\n",
       "    }\n",
       "\n",
       "    .dataframe thead th {\n",
       "        text-align: right;\n",
       "    }\n",
       "</style>\n",
       "<table border=\"1\" class=\"dataframe\">\n",
       "  <thead>\n",
       "    <tr style=\"text-align: right;\">\n",
       "      <th></th>\n",
       "      <th>event_name</th>\n",
       "      <th>uid</th>\n",
       "      <th>exp_id</th>\n",
       "      <th>dt</th>\n",
       "      <th>date</th>\n",
       "    </tr>\n",
       "  </thead>\n",
       "  <tbody>\n",
       "    <tr>\n",
       "      <th>0</th>\n",
       "      <td>MainScreenAppear</td>\n",
       "      <td>4575588528974610257</td>\n",
       "      <td>246</td>\n",
       "      <td>2019-07-25 04:43:36</td>\n",
       "      <td>2019-07-25</td>\n",
       "    </tr>\n",
       "    <tr>\n",
       "      <th>1</th>\n",
       "      <td>MainScreenAppear</td>\n",
       "      <td>7416695313311560658</td>\n",
       "      <td>246</td>\n",
       "      <td>2019-07-25 11:11:42</td>\n",
       "      <td>2019-07-25</td>\n",
       "    </tr>\n",
       "    <tr>\n",
       "      <th>2</th>\n",
       "      <td>PaymentScreenSuccessful</td>\n",
       "      <td>3518123091307005509</td>\n",
       "      <td>248</td>\n",
       "      <td>2019-07-25 11:28:47</td>\n",
       "      <td>2019-07-25</td>\n",
       "    </tr>\n",
       "    <tr>\n",
       "      <th>3</th>\n",
       "      <td>CartScreenAppear</td>\n",
       "      <td>3518123091307005509</td>\n",
       "      <td>248</td>\n",
       "      <td>2019-07-25 11:28:47</td>\n",
       "      <td>2019-07-25</td>\n",
       "    </tr>\n",
       "    <tr>\n",
       "      <th>4</th>\n",
       "      <td>PaymentScreenSuccessful</td>\n",
       "      <td>6217807653094995999</td>\n",
       "      <td>248</td>\n",
       "      <td>2019-07-25 11:48:42</td>\n",
       "      <td>2019-07-25</td>\n",
       "    </tr>\n",
       "  </tbody>\n",
       "</table>\n",
       "</div>"
      ],
      "text/plain": [
       "                event_name                  uid exp_id                  dt  \\\n",
       "0         MainScreenAppear  4575588528974610257    246 2019-07-25 04:43:36   \n",
       "1         MainScreenAppear  7416695313311560658    246 2019-07-25 11:11:42   \n",
       "2  PaymentScreenSuccessful  3518123091307005509    248 2019-07-25 11:28:47   \n",
       "3         CartScreenAppear  3518123091307005509    248 2019-07-25 11:28:47   \n",
       "4  PaymentScreenSuccessful  6217807653094995999    248 2019-07-25 11:48:42   \n",
       "\n",
       "         date  \n",
       "0  2019-07-25  \n",
       "1  2019-07-25  \n",
       "2  2019-07-25  \n",
       "3  2019-07-25  \n",
       "4  2019-07-25  "
      ]
     },
     "execution_count": 10,
     "metadata": {},
     "output_type": "execute_result"
    }
   ],
   "source": [
    "df.head()"
   ]
  },
  {
   "cell_type": "markdown",
   "metadata": {},
   "source": [
    "## 3. Изучим и проверим данные"
   ]
  },
  {
   "cell_type": "markdown",
   "metadata": {},
   "source": [
    "Посмотрим какие имеются типы событий:"
   ]
  },
  {
   "cell_type": "code",
   "execution_count": 11,
   "metadata": {},
   "outputs": [
    {
     "data": {
      "text/plain": [
       "['MainScreenAppear',\n",
       " 'PaymentScreenSuccessful',\n",
       " 'CartScreenAppear',\n",
       " 'OffersScreenAppear',\n",
       " 'Tutorial']"
      ]
     },
     "execution_count": 11,
     "metadata": {},
     "output_type": "execute_result"
    }
   ],
   "source": [
    "event_names = df['event_name'].unique().tolist()\n",
    "event_names"
   ]
  },
  {
   "cell_type": "markdown",
   "metadata": {},
   "source": [
    "Посмотрим сколько всего событий в логе:"
   ]
  },
  {
   "cell_type": "code",
   "execution_count": 12,
   "metadata": {},
   "outputs": [
    {
     "data": {
      "text/plain": [
       "243713"
      ]
     },
     "execution_count": 12,
     "metadata": {},
     "output_type": "execute_result"
    }
   ],
   "source": [
    "df['event_name'].count()"
   ]
  },
  {
   "cell_type": "markdown",
   "metadata": {},
   "source": [
    "Посчитаем сколько всего пользователей в логе:"
   ]
  },
  {
   "cell_type": "code",
   "execution_count": 13,
   "metadata": {},
   "outputs": [
    {
     "data": {
      "text/plain": [
       "7551"
      ]
     },
     "execution_count": 13,
     "metadata": {},
     "output_type": "execute_result"
    }
   ],
   "source": [
    "df['uid'].nunique()"
   ]
  },
  {
   "cell_type": "markdown",
   "metadata": {},
   "source": [
    "Посчитаем сколько в среднем событий приходится на пользователя:\n"
   ]
  },
  {
   "cell_type": "code",
   "execution_count": 14,
   "metadata": {},
   "outputs": [
    {
     "data": {
      "text/html": [
       "<div>\n",
       "<style scoped>\n",
       "    .dataframe tbody tr th:only-of-type {\n",
       "        vertical-align: middle;\n",
       "    }\n",
       "\n",
       "    .dataframe tbody tr th {\n",
       "        vertical-align: top;\n",
       "    }\n",
       "\n",
       "    .dataframe thead th {\n",
       "        text-align: right;\n",
       "    }\n",
       "</style>\n",
       "<table border=\"1\" class=\"dataframe\">\n",
       "  <thead>\n",
       "    <tr style=\"text-align: right;\">\n",
       "      <th></th>\n",
       "      <th>event_name</th>\n",
       "    </tr>\n",
       "  </thead>\n",
       "  <tbody>\n",
       "    <tr>\n",
       "      <th>count</th>\n",
       "      <td>7551.000000</td>\n",
       "    </tr>\n",
       "    <tr>\n",
       "      <th>mean</th>\n",
       "      <td>32.275593</td>\n",
       "    </tr>\n",
       "    <tr>\n",
       "      <th>std</th>\n",
       "      <td>65.154219</td>\n",
       "    </tr>\n",
       "    <tr>\n",
       "      <th>min</th>\n",
       "      <td>1.000000</td>\n",
       "    </tr>\n",
       "    <tr>\n",
       "      <th>25%</th>\n",
       "      <td>9.000000</td>\n",
       "    </tr>\n",
       "    <tr>\n",
       "      <th>50%</th>\n",
       "      <td>20.000000</td>\n",
       "    </tr>\n",
       "    <tr>\n",
       "      <th>75%</th>\n",
       "      <td>37.000000</td>\n",
       "    </tr>\n",
       "    <tr>\n",
       "      <th>max</th>\n",
       "      <td>2307.000000</td>\n",
       "    </tr>\n",
       "  </tbody>\n",
       "</table>\n",
       "</div>"
      ],
      "text/plain": [
       "        event_name\n",
       "count  7551.000000\n",
       "mean     32.275593\n",
       "std      65.154219\n",
       "min       1.000000\n",
       "25%       9.000000\n",
       "50%      20.000000\n",
       "75%      37.000000\n",
       "max    2307.000000"
      ]
     },
     "execution_count": 14,
     "metadata": {},
     "output_type": "execute_result"
    },
    {
     "data": {
      "image/png": "[encoded data removed]",
      "text/plain": [
       "<Figure size 640x480 with 1 Axes>"
      ]
     },
     "metadata": {},
     "output_type": "display_data"
    }
   ],
   "source": [
    "pte = df.pivot_table(index='uid', \n",
    "               values='event_name', \n",
    "               aggfunc='count')\n",
    "pte.boxplot()\n",
    "pte.describe()"
   ]
  },
  {
   "cell_type": "markdown",
   "metadata": {},
   "source": [
    "Учитывая, что в данных есть выбросы, то лучше использовать медиану, т.к. она менее чувствительна к ним."
   ]
  },
  {
   "cell_type": "code",
   "execution_count": 15,
   "metadata": {},
   "outputs": [
    {
     "data": {
      "text/plain": [
       "20.0"
      ]
     },
     "execution_count": 15,
     "metadata": {},
     "output_type": "execute_result"
    }
   ],
   "source": [
    "df.pivot_table(index='uid', \n",
    "               values='event_name', \n",
    "               aggfunc='count').median()[0]"
   ]
  },
  {
   "cell_type": "markdown",
   "metadata": {},
   "source": [
    "Посмотрим на распределение событий во времени:"
   ]
  },
  {
   "cell_type": "code",
   "execution_count": 16,
   "metadata": {},
   "outputs": [
    {
     "data": {
      "text/plain": [
       "(datetime.date(2019, 7, 25), datetime.date(2019, 8, 7))"
      ]
     },
     "execution_count": 16,
     "metadata": {},
     "output_type": "execute_result"
    }
   ],
   "source": [
    "df['date'].min(), df['date'].max()"
   ]
  },
  {
   "cell_type": "code",
   "execution_count": 17,
   "metadata": {},
   "outputs": [
    {
     "data": {
      "text/plain": [
       "<AxesSubplot: >"
      ]
     },
     "execution_count": 17,
     "metadata": {},
     "output_type": "execute_result"
    }
   ],
   "source": [
    "df['dt'].hist(bins=100, figsize=(20, 4), color='tan')"
   ]
  },
  {
   "cell_type": "markdown",
   "metadata": {},
   "source": [
    "Видим, что до 2019-08-01 данных значительно меньше, в связи с чем отбросим эти значения. Интересуемый нас период: с 1 по 7 августа 2019г."
   ]
  },
  {
   "cell_type": "code",
   "execution_count": 18,
   "metadata": {},
   "outputs": [
    {
     "data": {
      "text/plain": [
       "<AxesSubplot: >"
      ]
     },
     "execution_count": 18,
     "metadata": {},
     "output_type": "execute_result"
    }
   ],
   "source": [
    "df1 = df[df['dt'] >= '2019-08-01']\n",
    "df1['dt'].hist(bins=50, figsize=(20, 4), color='tan')"
   ]
  },
  {
   "cell_type": "markdown",
   "metadata": {},
   "source": [
    "Выясним сколько пользователей потеряли, отбросив старые данные:"
   ]
  },
  {
   "cell_type": "code",
   "execution_count": 19,
   "metadata": {},
   "outputs": [
    {
     "data": {
      "text/plain": [
       "'Потеряли 17 (0.23%) пользователей'"
      ]
     },
     "execution_count": 19,
     "metadata": {},
     "output_type": "execute_result"
    }
   ],
   "source": [
    "uid_lost = df['uid'].nunique() - df1['uid'].nunique()\n",
    "uid_lost_perc = (df['uid'].nunique() - df1['uid'].nunique())/df['uid'].nunique()*100\n",
    "'Потеряли {} ({:.2f}%) пользователей'.format(uid_lost, uid_lost_perc)"
   ]
  },
  {
   "cell_type": "markdown",
   "metadata": {},
   "source": [
    "Также выясним сколько событий потеряли, отбросив старые данные:"
   ]
  },
  {
   "cell_type": "code",
   "execution_count": 20,
   "metadata": {},
   "outputs": [
    {
     "data": {
      "text/plain": [
       "'Потеряли 2826 (1.16%) событий'"
      ]
     },
     "execution_count": 20,
     "metadata": {},
     "output_type": "execute_result"
    }
   ],
   "source": [
    "events_lost = df.shape[0] - df1.shape[0]\n",
    "events_lost_perc = (df.shape[0] - df1.shape[0])/df.shape[0]*100\n",
    "'Потеряли {} ({:.2f}%) событий'.format(events_lost, events_lost_perc)"
   ]
  },
  {
   "cell_type": "markdown",
   "metadata": {},
   "source": [
    "Данная цифра не является критичной. Идем дальше."
   ]
  },
  {
   "cell_type": "markdown",
   "metadata": {},
   "source": [
    "Проверим, что у вас есть пользователи из всех трёх экспериментальных групп:"
   ]
  },
  {
   "cell_type": "code",
   "execution_count": 21,
   "metadata": {},
   "outputs": [
    {
     "data": {
      "text/html": [
       "<div>\n",
       "<style scoped>\n",
       "    .dataframe tbody tr th:only-of-type {\n",
       "        vertical-align: middle;\n",
       "    }\n",
       "\n",
       "    .dataframe tbody tr th {\n",
       "        vertical-align: top;\n",
       "    }\n",
       "\n",
       "    .dataframe thead th {\n",
       "        text-align: right;\n",
       "    }\n",
       "</style>\n",
       "<table border=\"1\" class=\"dataframe\">\n",
       "  <thead>\n",
       "    <tr style=\"text-align: right;\">\n",
       "      <th></th>\n",
       "      <th>event_name</th>\n",
       "      <th>uid</th>\n",
       "      <th>exp_id</th>\n",
       "      <th>dt</th>\n",
       "      <th>date</th>\n",
       "    </tr>\n",
       "  </thead>\n",
       "  <tbody>\n",
       "    <tr>\n",
       "      <th>2828</th>\n",
       "      <td>Tutorial</td>\n",
       "      <td>3737462046622621720</td>\n",
       "      <td>246</td>\n",
       "      <td>2019-08-01 00:07:28</td>\n",
       "      <td>2019-08-01</td>\n",
       "    </tr>\n",
       "    <tr>\n",
       "      <th>2829</th>\n",
       "      <td>MainScreenAppear</td>\n",
       "      <td>3737462046622621720</td>\n",
       "      <td>246</td>\n",
       "      <td>2019-08-01 00:08:00</td>\n",
       "      <td>2019-08-01</td>\n",
       "    </tr>\n",
       "    <tr>\n",
       "      <th>2830</th>\n",
       "      <td>MainScreenAppear</td>\n",
       "      <td>3737462046622621720</td>\n",
       "      <td>246</td>\n",
       "      <td>2019-08-01 00:08:55</td>\n",
       "      <td>2019-08-01</td>\n",
       "    </tr>\n",
       "    <tr>\n",
       "      <th>2831</th>\n",
       "      <td>OffersScreenAppear</td>\n",
       "      <td>3737462046622621720</td>\n",
       "      <td>246</td>\n",
       "      <td>2019-08-01 00:08:58</td>\n",
       "      <td>2019-08-01</td>\n",
       "    </tr>\n",
       "    <tr>\n",
       "      <th>2832</th>\n",
       "      <td>MainScreenAppear</td>\n",
       "      <td>1433840883824088890</td>\n",
       "      <td>247</td>\n",
       "      <td>2019-08-01 00:08:59</td>\n",
       "      <td>2019-08-01</td>\n",
       "    </tr>\n",
       "  </tbody>\n",
       "</table>\n",
       "</div>"
      ],
      "text/plain": [
       "              event_name                  uid exp_id                  dt  \\\n",
       "2828            Tutorial  3737462046622621720    246 2019-08-01 00:07:28   \n",
       "2829    MainScreenAppear  3737462046622621720    246 2019-08-01 00:08:00   \n",
       "2830    MainScreenAppear  3737462046622621720    246 2019-08-01 00:08:55   \n",
       "2831  OffersScreenAppear  3737462046622621720    246 2019-08-01 00:08:58   \n",
       "2832    MainScreenAppear  1433840883824088890    247 2019-08-01 00:08:59   \n",
       "\n",
       "            date  \n",
       "2828  2019-08-01  \n",
       "2829  2019-08-01  \n",
       "2830  2019-08-01  \n",
       "2831  2019-08-01  \n",
       "2832  2019-08-01  "
      ]
     },
     "execution_count": 21,
     "metadata": {},
     "output_type": "execute_result"
    }
   ],
   "source": [
    "df1.head()"
   ]
  },
  {
   "cell_type": "code",
   "execution_count": 22,
   "metadata": {},
   "outputs": [
    {
     "data": {
      "text/html": [
       "<div>\n",
       "<style scoped>\n",
       "    .dataframe tbody tr th:only-of-type {\n",
       "        vertical-align: middle;\n",
       "    }\n",
       "\n",
       "    .dataframe tbody tr th {\n",
       "        vertical-align: top;\n",
       "    }\n",
       "\n",
       "    .dataframe thead th {\n",
       "        text-align: right;\n",
       "    }\n",
       "</style>\n",
       "<table border=\"1\" class=\"dataframe\">\n",
       "  <thead>\n",
       "    <tr style=\"text-align: right;\">\n",
       "      <th></th>\n",
       "      <th>uid</th>\n",
       "    </tr>\n",
       "    <tr>\n",
       "      <th>exp_id</th>\n",
       "      <th></th>\n",
       "    </tr>\n",
       "  </thead>\n",
       "  <tbody>\n",
       "    <tr>\n",
       "      <th>246</th>\n",
       "      <td>79302</td>\n",
       "    </tr>\n",
       "    <tr>\n",
       "      <th>247</th>\n",
       "      <td>77022</td>\n",
       "    </tr>\n",
       "    <tr>\n",
       "      <th>248</th>\n",
       "      <td>84563</td>\n",
       "    </tr>\n",
       "  </tbody>\n",
       "</table>\n",
       "</div>"
      ],
      "text/plain": [
       "          uid\n",
       "exp_id       \n",
       "246     79302\n",
       "247     77022\n",
       "248     84563"
      ]
     },
     "execution_count": 22,
     "metadata": {},
     "output_type": "execute_result"
    }
   ],
   "source": [
    "df1.pivot_table(index='exp_id', \n",
    "                values='uid', \n",
    "                aggfunc='count')"
   ]
  },
  {
   "cell_type": "markdown",
   "metadata": {},
   "source": [
    "## 4. Изучим воронку событий"
   ]
  },
  {
   "cell_type": "markdown",
   "metadata": {},
   "source": [
    "Посмотрим, как часто события встречаются в логах:"
   ]
  },
  {
   "cell_type": "code",
   "execution_count": 23,
   "metadata": {},
   "outputs": [
    {
     "data": {
      "text/html": [
       "<div>\n",
       "<style scoped>\n",
       "    .dataframe tbody tr th:only-of-type {\n",
       "        vertical-align: middle;\n",
       "    }\n",
       "\n",
       "    .dataframe tbody tr th {\n",
       "        vertical-align: top;\n",
       "    }\n",
       "\n",
       "    .dataframe thead th {\n",
       "        text-align: right;\n",
       "    }\n",
       "</style>\n",
       "<table border=\"1\" class=\"dataframe\">\n",
       "  <thead>\n",
       "    <tr style=\"text-align: right;\">\n",
       "      <th></th>\n",
       "      <th>date</th>\n",
       "    </tr>\n",
       "    <tr>\n",
       "      <th>event_name</th>\n",
       "      <th></th>\n",
       "    </tr>\n",
       "  </thead>\n",
       "  <tbody>\n",
       "    <tr>\n",
       "      <th>MainScreenAppear</th>\n",
       "      <td>117328</td>\n",
       "    </tr>\n",
       "    <tr>\n",
       "      <th>OffersScreenAppear</th>\n",
       "      <td>46333</td>\n",
       "    </tr>\n",
       "    <tr>\n",
       "      <th>CartScreenAppear</th>\n",
       "      <td>42303</td>\n",
       "    </tr>\n",
       "    <tr>\n",
       "      <th>PaymentScreenSuccessful</th>\n",
       "      <td>33918</td>\n",
       "    </tr>\n",
       "    <tr>\n",
       "      <th>Tutorial</th>\n",
       "      <td>1005</td>\n",
       "    </tr>\n",
       "  </tbody>\n",
       "</table>\n",
       "</div>"
      ],
      "text/plain": [
       "                           date\n",
       "event_name                     \n",
       "MainScreenAppear         117328\n",
       "OffersScreenAppear        46333\n",
       "CartScreenAppear          42303\n",
       "PaymentScreenSuccessful   33918\n",
       "Tutorial                   1005"
      ]
     },
     "execution_count": 23,
     "metadata": {},
     "output_type": "execute_result"
    }
   ],
   "source": [
    "df1.pivot_table(index='event_name', \n",
    "                values='date', \n",
    "                aggfunc='count').sort_values(by='date', ascending=False)"
   ]
  },
  {
   "cell_type": "markdown",
   "metadata": {},
   "source": [
    "Можно предположить, что руководство (tutorial) никак не влияет на воронку продаж, и эти события следует отбросить."
   ]
  },
  {
   "cell_type": "code",
   "execution_count": 24,
   "metadata": {},
   "outputs": [],
   "source": [
    "df2 = df1[df1['event_name'] != 'Tutorial']"
   ]
  },
  {
   "cell_type": "markdown",
   "metadata": {},
   "source": [
    "Посмотрим, сколько пользователей совершали каждое из этих событий:"
   ]
  },
  {
   "cell_type": "code",
   "execution_count": 25,
   "metadata": {},
   "outputs": [
    {
     "data": {
      "text/html": [
       "<div>\n",
       "<style scoped>\n",
       "    .dataframe tbody tr th:only-of-type {\n",
       "        vertical-align: middle;\n",
       "    }\n",
       "\n",
       "    .dataframe tbody tr th {\n",
       "        vertical-align: top;\n",
       "    }\n",
       "\n",
       "    .dataframe thead th {\n",
       "        text-align: right;\n",
       "    }\n",
       "</style>\n",
       "<table border=\"1\" class=\"dataframe\">\n",
       "  <thead>\n",
       "    <tr style=\"text-align: right;\">\n",
       "      <th></th>\n",
       "      <th>uid_count</th>\n",
       "    </tr>\n",
       "    <tr>\n",
       "      <th>event_name</th>\n",
       "      <th></th>\n",
       "    </tr>\n",
       "  </thead>\n",
       "  <tbody>\n",
       "    <tr>\n",
       "      <th>MainScreenAppear</th>\n",
       "      <td>7419</td>\n",
       "    </tr>\n",
       "    <tr>\n",
       "      <th>OffersScreenAppear</th>\n",
       "      <td>4593</td>\n",
       "    </tr>\n",
       "    <tr>\n",
       "      <th>CartScreenAppear</th>\n",
       "      <td>3734</td>\n",
       "    </tr>\n",
       "    <tr>\n",
       "      <th>PaymentScreenSuccessful</th>\n",
       "      <td>3539</td>\n",
       "    </tr>\n",
       "  </tbody>\n",
       "</table>\n",
       "</div>"
      ],
      "text/plain": [
       "                         uid_count\n",
       "event_name                        \n",
       "MainScreenAppear              7419\n",
       "OffersScreenAppear            4593\n",
       "CartScreenAppear              3734\n",
       "PaymentScreenSuccessful       3539"
      ]
     },
     "execution_count": 25,
     "metadata": {},
     "output_type": "execute_result"
    }
   ],
   "source": [
    "pivot_table = df2.pivot_table(index='event_name', \n",
    "                              values='uid', \n",
    "                              aggfunc='nunique').sort_values(by='uid', ascending=False)\n",
    "pivot_table.columns = ['uid_count']\n",
    "pivot_table"
   ]
  },
  {
   "cell_type": "markdown",
   "metadata": {},
   "source": [
    "Посчитаем долю пользователей, которые хоть раз совершали событие."
   ]
  },
  {
   "cell_type": "code",
   "execution_count": 26,
   "metadata": {},
   "outputs": [
    {
     "data": {
      "text/html": [
       "<div>\n",
       "<style scoped>\n",
       "    .dataframe tbody tr th:only-of-type {\n",
       "        vertical-align: middle;\n",
       "    }\n",
       "\n",
       "    .dataframe tbody tr th {\n",
       "        vertical-align: top;\n",
       "    }\n",
       "\n",
       "    .dataframe thead th {\n",
       "        text-align: right;\n",
       "    }\n",
       "</style>\n",
       "<table border=\"1\" class=\"dataframe\">\n",
       "  <thead>\n",
       "    <tr style=\"text-align: right;\">\n",
       "      <th></th>\n",
       "      <th>uid_count</th>\n",
       "      <th>share_of_all_uid</th>\n",
       "    </tr>\n",
       "    <tr>\n",
       "      <th>event_name</th>\n",
       "      <th></th>\n",
       "      <th></th>\n",
       "    </tr>\n",
       "  </thead>\n",
       "  <tbody>\n",
       "    <tr>\n",
       "      <th>MainScreenAppear</th>\n",
       "      <td>7419</td>\n",
       "      <td>98.53</td>\n",
       "    </tr>\n",
       "    <tr>\n",
       "      <th>OffersScreenAppear</th>\n",
       "      <td>4593</td>\n",
       "      <td>61.00</td>\n",
       "    </tr>\n",
       "    <tr>\n",
       "      <th>CartScreenAppear</th>\n",
       "      <td>3734</td>\n",
       "      <td>49.59</td>\n",
       "    </tr>\n",
       "    <tr>\n",
       "      <th>PaymentScreenSuccessful</th>\n",
       "      <td>3539</td>\n",
       "      <td>47.00</td>\n",
       "    </tr>\n",
       "  </tbody>\n",
       "</table>\n",
       "</div>"
      ],
      "text/plain": [
       "                         uid_count  share_of_all_uid\n",
       "event_name                                          \n",
       "MainScreenAppear              7419             98.53\n",
       "OffersScreenAppear            4593             61.00\n",
       "CartScreenAppear              3734             49.59\n",
       "PaymentScreenSuccessful       3539             47.00"
      ]
     },
     "execution_count": 26,
     "metadata": {},
     "output_type": "execute_result"
    }
   ],
   "source": [
    "pivot_table['share_of_all_uid'] = round(pivot_table['uid_count']/df2['uid'].nunique()*100, 2)\n",
    "pivot_table"
   ]
  },
  {
   "cell_type": "markdown",
   "metadata": {},
   "source": [
    "Очевидно, что все события происходят в следующей цепочке:\n",
    "\n",
    "MainScreenAppear -> OffersScreenAppear -> CartScreenAppear -> PaymentScreenSuccessful"
   ]
  },
  {
   "cell_type": "markdown",
   "metadata": {},
   "source": [
    "По воронке событий посчитаем, какая доля пользователей проходит на следующий шаг воронки (от числа пользователей на предыдущем)."
   ]
  },
  {
   "cell_type": "code",
   "execution_count": 27,
   "metadata": {},
   "outputs": [
    {
     "data": {
      "text/html": [
       "<div>\n",
       "<style scoped>\n",
       "    .dataframe tbody tr th:only-of-type {\n",
       "        vertical-align: middle;\n",
       "    }\n",
       "\n",
       "    .dataframe tbody tr th {\n",
       "        vertical-align: top;\n",
       "    }\n",
       "\n",
       "    .dataframe thead th {\n",
       "        text-align: right;\n",
       "    }\n",
       "</style>\n",
       "<table border=\"1\" class=\"dataframe\">\n",
       "  <thead>\n",
       "    <tr style=\"text-align: right;\">\n",
       "      <th></th>\n",
       "      <th>uid_count</th>\n",
       "      <th>funnel_rate</th>\n",
       "    </tr>\n",
       "    <tr>\n",
       "      <th>event_name</th>\n",
       "      <th></th>\n",
       "      <th></th>\n",
       "    </tr>\n",
       "  </thead>\n",
       "  <tbody>\n",
       "    <tr>\n",
       "      <th>MainScreenAppear</th>\n",
       "      <td>7419</td>\n",
       "      <td>inf</td>\n",
       "    </tr>\n",
       "    <tr>\n",
       "      <th>OffersScreenAppear</th>\n",
       "      <td>4593</td>\n",
       "      <td>61.91</td>\n",
       "    </tr>\n",
       "    <tr>\n",
       "      <th>CartScreenAppear</th>\n",
       "      <td>3734</td>\n",
       "      <td>81.30</td>\n",
       "    </tr>\n",
       "    <tr>\n",
       "      <th>PaymentScreenSuccessful</th>\n",
       "      <td>3539</td>\n",
       "      <td>94.78</td>\n",
       "    </tr>\n",
       "  </tbody>\n",
       "</table>\n",
       "</div>"
      ],
      "text/plain": [
       "                         uid_count  funnel_rate\n",
       "event_name                                     \n",
       "MainScreenAppear              7419          inf\n",
       "OffersScreenAppear            4593        61.91\n",
       "CartScreenAppear              3734        81.30\n",
       "PaymentScreenSuccessful       3539        94.78"
      ]
     },
     "execution_count": 27,
     "metadata": {},
     "output_type": "execute_result"
    }
   ],
   "source": [
    "pivot_table['funnel_rate'] = round(pivot_table['uid_count'].div(pivot_table['uid_count'].shift(1, fill_value=0))*100, 2)\n",
    "pivot_table[['uid_count', 'funnel_rate']]"
   ]
  },
  {
   "cell_type": "code",
   "execution_count": 28,
   "metadata": {},
   "outputs": [
    {
     "data": {
      "image/png": "[encoded data removed]"
     },
     "metadata": {},
     "output_type": "display_data"
    }
   ],
   "source": [
    "fig = go.Figure()\n",
    "\n",
    "fig.add_trace(go.Funnel(\n",
    "    name = 'funnel_rate',\n",
    "    y = pivot_table.index,\n",
    "    x = pivot_table['uid_count'],\n",
    "    ))\n",
    "\n",
    "fig.show(\"png\")"
   ]
  },
  {
   "cell_type": "markdown",
   "metadata": {},
   "source": [
    "Видим, что на первом шаге (после просмотра главной страницы) теряется больше всего пользователей."
   ]
  },
  {
   "cell_type": "markdown",
   "metadata": {},
   "source": [
    "Посчитаем какая доля пользователей доходит от первого события до оплаты."
   ]
  },
  {
   "cell_type": "code",
   "execution_count": 29,
   "metadata": {},
   "outputs": [
    {
     "data": {
      "text/plain": [
       "47.7"
      ]
     },
     "execution_count": 29,
     "metadata": {},
     "output_type": "execute_result"
    }
   ],
   "source": [
    "round(pivot_table.loc['PaymentScreenSuccessful', 'uid_count'] / pivot_table.loc['MainScreenAppear', 'uid_count'] * 100, 2)"
   ]
  },
  {
   "cell_type": "markdown",
   "metadata": {},
   "source": [
    "47.7% посетителей сайта совершили хотя бы одну покупку."
   ]
  },
  {
   "cell_type": "markdown",
   "metadata": {},
   "source": [
    "Для дальнейших статистических тестов заменим строковые названия событий на дискретные значения от 1 до 4:"
   ]
  },
  {
   "cell_type": "code",
   "execution_count": 30,
   "metadata": {},
   "outputs": [
    {
     "data": {
      "text/html": [
       "<div>\n",
       "<style scoped>\n",
       "    .dataframe tbody tr th:only-of-type {\n",
       "        vertical-align: middle;\n",
       "    }\n",
       "\n",
       "    .dataframe tbody tr th {\n",
       "        vertical-align: top;\n",
       "    }\n",
       "\n",
       "    .dataframe thead th {\n",
       "        text-align: right;\n",
       "    }\n",
       "</style>\n",
       "<table border=\"1\" class=\"dataframe\">\n",
       "  <thead>\n",
       "    <tr style=\"text-align: right;\">\n",
       "      <th></th>\n",
       "      <th>event_id</th>\n",
       "      <th>event_name</th>\n",
       "      <th>uid</th>\n",
       "      <th>exp_id</th>\n",
       "      <th>dt</th>\n",
       "      <th>date</th>\n",
       "    </tr>\n",
       "  </thead>\n",
       "  <tbody>\n",
       "    <tr>\n",
       "      <th>2829</th>\n",
       "      <td>1</td>\n",
       "      <td>MainScreenAppear</td>\n",
       "      <td>3737462046622621720</td>\n",
       "      <td>246</td>\n",
       "      <td>2019-08-01 00:08:00</td>\n",
       "      <td>2019-08-01</td>\n",
       "    </tr>\n",
       "    <tr>\n",
       "      <th>2830</th>\n",
       "      <td>1</td>\n",
       "      <td>MainScreenAppear</td>\n",
       "      <td>3737462046622621720</td>\n",
       "      <td>246</td>\n",
       "      <td>2019-08-01 00:08:55</td>\n",
       "      <td>2019-08-01</td>\n",
       "    </tr>\n",
       "    <tr>\n",
       "      <th>2831</th>\n",
       "      <td>2</td>\n",
       "      <td>OffersScreenAppear</td>\n",
       "      <td>3737462046622621720</td>\n",
       "      <td>246</td>\n",
       "      <td>2019-08-01 00:08:58</td>\n",
       "      <td>2019-08-01</td>\n",
       "    </tr>\n",
       "    <tr>\n",
       "      <th>2832</th>\n",
       "      <td>1</td>\n",
       "      <td>MainScreenAppear</td>\n",
       "      <td>1433840883824088890</td>\n",
       "      <td>247</td>\n",
       "      <td>2019-08-01 00:08:59</td>\n",
       "      <td>2019-08-01</td>\n",
       "    </tr>\n",
       "    <tr>\n",
       "      <th>2833</th>\n",
       "      <td>1</td>\n",
       "      <td>MainScreenAppear</td>\n",
       "      <td>4899590676214355127</td>\n",
       "      <td>247</td>\n",
       "      <td>2019-08-01 00:10:15</td>\n",
       "      <td>2019-08-01</td>\n",
       "    </tr>\n",
       "  </tbody>\n",
       "</table>\n",
       "</div>"
      ],
      "text/plain": [
       "      event_id          event_name                  uid exp_id  \\\n",
       "2829         1    MainScreenAppear  3737462046622621720    246   \n",
       "2830         1    MainScreenAppear  3737462046622621720    246   \n",
       "2831         2  OffersScreenAppear  3737462046622621720    246   \n",
       "2832         1    MainScreenAppear  1433840883824088890    247   \n",
       "2833         1    MainScreenAppear  4899590676214355127    247   \n",
       "\n",
       "                      dt        date  \n",
       "2829 2019-08-01 00:08:00  2019-08-01  \n",
       "2830 2019-08-01 00:08:55  2019-08-01  \n",
       "2831 2019-08-01 00:08:58  2019-08-01  \n",
       "2832 2019-08-01 00:08:59  2019-08-01  \n",
       "2833 2019-08-01 00:10:15  2019-08-01  "
      ]
     },
     "execution_count": 30,
     "metadata": {},
     "output_type": "execute_result"
    }
   ],
   "source": [
    "df2['event_id'] = df2['event_name'].copy()\n",
    "df2['event_id'].replace(['MainScreenAppear', 'OffersScreenAppear', 'CartScreenAppear', 'PaymentScreenSuccessful'], [1, 2, 3, 4], inplace=True)\n",
    "df2 = df2[['event_id', 'event_name', 'uid', 'exp_id', 'dt', 'date']]\n",
    "df2.head()"
   ]
  },
  {
   "cell_type": "markdown",
   "metadata": {},
   "source": [
    "## 5. Изучим результаты эксперимента"
   ]
  },
  {
   "cell_type": "markdown",
   "metadata": {},
   "source": [
    "Выведем пользователей в каждой экспериментальной группе:"
   ]
  },
  {
   "cell_type": "code",
   "execution_count": 31,
   "metadata": {},
   "outputs": [
    {
     "data": {
      "text/html": [
       "<div>\n",
       "<style scoped>\n",
       "    .dataframe tbody tr th:only-of-type {\n",
       "        vertical-align: middle;\n",
       "    }\n",
       "\n",
       "    .dataframe tbody tr th {\n",
       "        vertical-align: top;\n",
       "    }\n",
       "\n",
       "    .dataframe thead th {\n",
       "        text-align: right;\n",
       "    }\n",
       "</style>\n",
       "<table border=\"1\" class=\"dataframe\">\n",
       "  <thead>\n",
       "    <tr style=\"text-align: right;\">\n",
       "      <th></th>\n",
       "      <th>uid</th>\n",
       "    </tr>\n",
       "  </thead>\n",
       "  <tbody>\n",
       "    <tr>\n",
       "      <th>246</th>\n",
       "      <td>2483</td>\n",
       "    </tr>\n",
       "    <tr>\n",
       "      <th>247</th>\n",
       "      <td>2512</td>\n",
       "    </tr>\n",
       "    <tr>\n",
       "      <th>248</th>\n",
       "      <td>2535</td>\n",
       "    </tr>\n",
       "    <tr>\n",
       "      <th>246+247</th>\n",
       "      <td>4995</td>\n",
       "    </tr>\n",
       "  </tbody>\n",
       "</table>\n",
       "</div>"
      ],
      "text/plain": [
       "          uid\n",
       "246      2483\n",
       "247      2512\n",
       "248      2535\n",
       "246+247  4995"
      ]
     },
     "execution_count": 31,
     "metadata": {},
     "output_type": "execute_result"
    }
   ],
   "source": [
    "nunique_users = df2.groupby('exp_id').agg({'uid':'nunique'})\n",
    "nunique_users.loc[3] = nunique_users.iloc[0] + nunique_users.iloc[1]\n",
    "ind = nunique_users.index.tolist()\n",
    "ind[3] = '246+247'\n",
    "nunique_users.index = ind\n",
    "nunique_users"
   ]
  },
  {
   "cell_type": "markdown",
   "metadata": {},
   "source": [
    "Есть 2 контрольные группы для А/А-эксперимента, чтобы проверить корректность всех механизмов и расчётов. Проверьте, находят ли статистические критерии разницу между выборками 246 и 247."
   ]
  },
  {
   "cell_type": "code",
   "execution_count": 32,
   "metadata": {},
   "outputs": [],
   "source": [
    "event_246 = df2[df2['exp_id'] == '246']\n",
    "event_247 = df2[df2['exp_id'] == '247']\n",
    "event_248 = df2[df2['exp_id'] == '248']"
   ]
  },
  {
   "cell_type": "code",
   "execution_count": 33,
   "metadata": {},
   "outputs": [
    {
     "data": {
      "text/html": [
       "<div>\n",
       "<style scoped>\n",
       "    .dataframe tbody tr th:only-of-type {\n",
       "        vertical-align: middle;\n",
       "    }\n",
       "\n",
       "    .dataframe tbody tr th {\n",
       "        vertical-align: top;\n",
       "    }\n",
       "\n",
       "    .dataframe thead th {\n",
       "        text-align: right;\n",
       "    }\n",
       "</style>\n",
       "<table border=\"1\" class=\"dataframe\">\n",
       "  <thead>\n",
       "    <tr style=\"text-align: right;\">\n",
       "      <th>exp_id</th>\n",
       "      <th>246</th>\n",
       "      <th>247</th>\n",
       "      <th>248</th>\n",
       "      <th>share of 246, %</th>\n",
       "      <th>share of 247, %</th>\n",
       "      <th>share of 248, %</th>\n",
       "    </tr>\n",
       "    <tr>\n",
       "      <th>event_name</th>\n",
       "      <th></th>\n",
       "      <th></th>\n",
       "      <th></th>\n",
       "      <th></th>\n",
       "      <th></th>\n",
       "      <th></th>\n",
       "    </tr>\n",
       "  </thead>\n",
       "  <tbody>\n",
       "    <tr>\n",
       "      <th>MainScreenAppear</th>\n",
       "      <td>2450</td>\n",
       "      <td>2476</td>\n",
       "      <td>2493</td>\n",
       "      <td>98.67</td>\n",
       "      <td>98.57</td>\n",
       "      <td>98.34</td>\n",
       "    </tr>\n",
       "    <tr>\n",
       "      <th>OffersScreenAppear</th>\n",
       "      <td>1542</td>\n",
       "      <td>1520</td>\n",
       "      <td>1531</td>\n",
       "      <td>62.10</td>\n",
       "      <td>60.51</td>\n",
       "      <td>60.39</td>\n",
       "    </tr>\n",
       "    <tr>\n",
       "      <th>CartScreenAppear</th>\n",
       "      <td>1266</td>\n",
       "      <td>1238</td>\n",
       "      <td>1230</td>\n",
       "      <td>50.99</td>\n",
       "      <td>49.28</td>\n",
       "      <td>48.52</td>\n",
       "    </tr>\n",
       "    <tr>\n",
       "      <th>PaymentScreenSuccessful</th>\n",
       "      <td>1200</td>\n",
       "      <td>1158</td>\n",
       "      <td>1181</td>\n",
       "      <td>48.33</td>\n",
       "      <td>46.10</td>\n",
       "      <td>46.59</td>\n",
       "    </tr>\n",
       "  </tbody>\n",
       "</table>\n",
       "</div>"
      ],
      "text/plain": [
       "exp_id                    246   247   248  share of 246, %  share of 247, %  \\\n",
       "event_name                                                                    \n",
       "MainScreenAppear         2450  2476  2493            98.67            98.57   \n",
       "OffersScreenAppear       1542  1520  1531            62.10            60.51   \n",
       "CartScreenAppear         1266  1238  1230            50.99            49.28   \n",
       "PaymentScreenSuccessful  1200  1158  1181            48.33            46.10   \n",
       "\n",
       "exp_id                   share of 248, %  \n",
       "event_name                                \n",
       "MainScreenAppear                   98.34  \n",
       "OffersScreenAppear                 60.39  \n",
       "CartScreenAppear                   48.52  \n",
       "PaymentScreenSuccessful            46.59  "
      ]
     },
     "execution_count": 33,
     "metadata": {},
     "output_type": "execute_result"
    }
   ],
   "source": [
    "summary = df2.pivot_table(index='event_name', columns='exp_id', values='uid', aggfunc='nunique')\n",
    "summary['share of 246, %'] = round(summary['246'] / event_246['uid'].nunique() * 100, 2)\n",
    "summary['share of 247, %'] = round(summary['247'] / event_247['uid'].nunique() * 100, 2)\n",
    "summary['share of 248, %'] = round(summary['248'] / event_248['uid'].nunique() * 100, 2)\n",
    "summary.sort_values('246', ascending=False, inplace=True)\n",
    "summary"
   ]
  },
  {
   "cell_type": "code",
   "execution_count": 34,
   "metadata": {},
   "outputs": [
    {
     "data": {
      "image/svg+xml": [
       "<svg class=\"main-svg\" xmlns=\"http://www.w3.org/2000/svg\" xmlns:xlink=\"http://www.w3.org/1999/xlink\" width=\"700\" height=\"500\" style=\"\" viewBox=\"0 0 700 500\"><rect x=\"0\" y=\"0\" width=\"700\" height=\"500\" style=\"fill: rgb(255, 255, 255); fill-opacity: 1;\"/><defs id=\"defs-99ee10\"><g class=\"clips\"><clipPath id=\"clip99ee10xyplot\" class=\"plotclip\"><rect width=\"368\" height=\"320\"/></clipPath><clipPath class=\"axesclip\" id=\"clip99ee10x\"><rect x=\"170\" y=\"0\" width=\"368\" height=\"500\"/></clipPath><clipPath class=\"axesclip\" id=\"clip99ee10y\"><rect x=\"0\" y=\"100\" width=\"700\" height=\"320\"/></clipPath><clipPath class=\"axesclip\" id=\"clip99ee10xy\"><rect x=\"170\" y=\"100\" width=\"368\" height=\"320\"/></clipPath></g><g class=\"gradients\"/><g class=\"patterns\"/></defs><g class=\"bglayer\"><rect class=\"bg\" x=\"170\" y=\"100\" width=\"368\" height=\"320\" style=\"fill: rgb(229, 236, 246); fill-opacity: 1; stroke-width: 0;\"/></g><g class=\"layer-below\"><g class=\"imagelayer\"/><g class=\"shapelayer\"/></g><g class=\"cartesianlayer\"><g class=\"subplot xy\"><g class=\"layer-subplot\"><g class=\"shapelayer\"/><g class=\"imagelayer\"/></g><g class=\"minor-gridlayer\"><g class=\"x\"/><g class=\"y\"/></g><g class=\"gridlayer\"><g class=\"x\"/><g class=\"y\"/></g><g class=\"zerolinelayer\"/><path class=\"xlines-below\"/><path class=\"ylines-below\"/><g class=\"overlines-below\"/><g class=\"xaxislayer-below\"/><g class=\"yaxislayer-below\"/><g class=\"overaxes-below\"/><g class=\"plot\" transform=\"translate(170,100)\" clip-path=\"url(#clip99ee10xyplot)\"><g class=\"funnellayer mlayer\"><g class=\"trace bars\" style=\"opacity: 1;\"><g class=\"regions\"><g class=\"region\"><path d=\"M18.4,72L81.47,88H151.06L128.96,72Z\" style=\"stroke-width: 0; fill: rgb(99, 110, 250); fill-opacity: 0.5;\"/></g><g class=\"region\"><path d=\"M81.47,152L100.64,168H157.77L151.06,152Z\" style=\"stroke-width: 0; fill: rgb(99, 110, 250); fill-opacity: 0.5;\"/></g><g class=\"region\"><path d=\"M100.64,232L104.99,248H159.15L157.77,232Z\" style=\"stroke-width: 0; fill: rgb(99, 110, 250); fill-opacity: 0.5;\"/></g><g class=\"region\"><path d=\"M0,0Z\" style=\"stroke-width: 0; fill: rgb(99, 110, 250); fill-opacity: 0.5;\"/></g></g><g class=\"points\"><g class=\"point\"><path d=\"M18.4,8V72H128.96V8Z\" style=\"vector-effect: non-scaling-stroke; fill: rgb(99, 110, 250); fill-opacity: 1; stroke: rgb(68, 68, 68); stroke-opacity: 1; stroke-width: 0px; opacity: 1;\"/><text class=\"bartext bartext-inside\" text-anchor=\"middle\" data-notex=\"1\" x=\"0\" y=\"0\" style=\"font-family: 'Open Sans', verdana, arial, sans-serif; font-size: 12px; fill: rgb(255, 255, 255); fill-opacity: 1; white-space: pre;\" transform=\"translate(73.68,44.75)\">98.67</text></g><g class=\"point\"><path d=\"M81.47,88V152H151.06V88Z\" style=\"vector-effect: non-scaling-stroke; fill: rgb(99, 110, 250); fill-opacity: 1; stroke: rgb(68, 68, 68); stroke-opacity: 1; stroke-width: 0px; opacity: 1;\"/><text class=\"bartext bartext-inside\" text-anchor=\"middle\" data-notex=\"1\" x=\"0\" y=\"0\" style=\"font-family: 'Open Sans', verdana, arial, sans-serif; font-size: 12px; fill: rgb(255, 255, 255); fill-opacity: 1; white-space: pre;\" transform=\"translate(116.265,124.75)\">62.1</text></g><g class=\"point\"><path d=\"M100.64,168V232H157.77V168Z\" style=\"vector-effect: non-scaling-stroke; fill: rgb(99, 110, 250); fill-opacity: 1; stroke: rgb(68, 68, 68); stroke-opacity: 1; stroke-width: 0px; opacity: 1;\"/><text class=\"bartext bartext-inside\" text-anchor=\"middle\" data-notex=\"1\" x=\"0\" y=\"0\" style=\"font-family: 'Open Sans', verdana, arial, sans-serif; font-size: 12px; fill: rgb(255, 255, 255); fill-opacity: 1; white-space: pre;\" transform=\"translate(129.205,204.75)\">50.99</text></g><g class=\"point\"><path d=\"M104.99,248V312H159.15V248Z\" style=\"vector-effect: non-scaling-stroke; fill: rgb(99, 110, 250); fill-opacity: 1; stroke: rgb(68, 68, 68); stroke-opacity: 1; stroke-width: 0px; opacity: 1;\"/><text class=\"bartext bartext-inside\" text-anchor=\"middle\" data-notex=\"1\" x=\"0\" y=\"0\" style=\"font-family: 'Open Sans', verdana, arial, sans-serif; font-size: 12px; fill: rgb(255, 255, 255); fill-opacity: 1; white-space: pre;\" transform=\"translate(132.07,284.75)\">48.33</text></g></g></g><g class=\"trace bars\" style=\"opacity: 1;\"><g class=\"regions\"><g class=\"region\"><path d=\"M128.96,72L151.06,88H218.86L239.41,72Z\" style=\"stroke-width: 0; fill: rgb(239, 85, 59); fill-opacity: 0.5;\"/></g><g class=\"region\"><path d=\"M151.06,152L157.77,168H212.99L218.86,152Z\" style=\"stroke-width: 0; fill: rgb(239, 85, 59); fill-opacity: 0.5;\"/></g><g class=\"region\"><path d=\"M157.77,232L159.15,248H210.8L212.99,232Z\" style=\"stroke-width: 0; fill: rgb(239, 85, 59); fill-opacity: 0.5;\"/></g><g class=\"region\"><path d=\"M0,0Z\" style=\"stroke-width: 0; fill: rgb(239, 85, 59); fill-opacity: 0.5;\"/></g></g><g class=\"points\"><g class=\"point\"><path d=\"M128.96,8V72H239.41V8Z\" style=\"vector-effect: non-scaling-stroke; fill: rgb(239, 85, 59); fill-opacity: 1; stroke: rgb(68, 68, 68); stroke-opacity: 1; stroke-width: 0px; opacity: 1;\"/><text class=\"bartext bartext-inside\" text-anchor=\"middle\" data-notex=\"1\" x=\"0\" y=\"0\" style=\"font-family: 'Open Sans', verdana, arial, sans-serif; font-size: 12px; fill: rgb(68, 68, 68); fill-opacity: 1; white-space: pre;\" transform=\"translate(184.185,44.75)\">98.57</text></g><g class=\"point\"><path d=\"M151.06,88V152H218.86V88Z\" style=\"vector-effect: non-scaling-stroke; fill: rgb(239, 85, 59); fill-opacity: 1; stroke: rgb(68, 68, 68); stroke-opacity: 1; stroke-width: 0px; opacity: 1;\"/><text class=\"bartext bartext-inside\" text-anchor=\"middle\" data-notex=\"1\" x=\"0\" y=\"0\" style=\"font-family: 'Open Sans', verdana, arial, sans-serif; font-size: 12px; fill: rgb(68, 68, 68); fill-opacity: 1; white-space: pre;\" transform=\"translate(184.96,124.75)\">60.51</text></g><g class=\"point\"><path d=\"M157.77,168V232H212.99V168Z\" style=\"vector-effect: non-scaling-stroke; fill: rgb(239, 85, 59); fill-opacity: 1; stroke: rgb(68, 68, 68); stroke-opacity: 1; stroke-width: 0px; opacity: 1;\"/><text class=\"bartext bartext-inside\" text-anchor=\"middle\" data-notex=\"1\" x=\"0\" y=\"0\" style=\"font-family: 'Open Sans', verdana, arial, sans-serif; font-size: 12px; fill: rgb(68, 68, 68); fill-opacity: 1; white-space: pre;\" transform=\"translate(185.38,204.75)\">49.28</text></g><g class=\"point\"><path d=\"M159.15,248V312H210.8V248Z\" style=\"vector-effect: non-scaling-stroke; fill: rgb(239, 85, 59); fill-opacity: 1; stroke: rgb(68, 68, 68); stroke-opacity: 1; stroke-width: 0px; opacity: 1;\"/><text class=\"bartext bartext-inside\" text-anchor=\"middle\" data-notex=\"1\" x=\"0\" y=\"0\" style=\"font-family: 'Open Sans', verdana, arial, sans-serif; font-size: 12px; fill: rgb(68, 68, 68); fill-opacity: 1; white-space: pre;\" transform=\"translate(184.97500000000002,284.75)\">46.1</text></g></g></g><g class=\"trace bars\" style=\"opacity: 1;\"><g class=\"regions\"><g class=\"region\"><path d=\"M239.41,72L218.86,88H286.53L349.6,72Z\" style=\"stroke-width: 0; fill: rgb(0, 204, 150); fill-opacity: 0.5;\"/></g><g class=\"region\"><path d=\"M218.86,152L212.99,168H267.36L286.53,152Z\" style=\"stroke-width: 0; fill: rgb(0, 204, 150); fill-opacity: 0.5;\"/></g><g class=\"region\"><path d=\"M212.99,232L210.8,248H263.01L267.36,232Z\" style=\"stroke-width: 0; fill: rgb(0, 204, 150); fill-opacity: 0.5;\"/></g><g class=\"region\"><path d=\"M0,0Z\" style=\"stroke-width: 0; fill: rgb(0, 204, 150); fill-opacity: 0.5;\"/></g></g><g class=\"points\"><g class=\"point\"><path d=\"M239.41,8V72H349.6V8Z\" style=\"vector-effect: non-scaling-stroke; fill: rgb(0, 204, 150); fill-opacity: 1; stroke: rgb(68, 68, 68); stroke-opacity: 1; stroke-width: 0px; opacity: 1;\"/><text class=\"bartext bartext-inside\" text-anchor=\"middle\" data-notex=\"1\" x=\"0\" y=\"0\" style=\"font-family: 'Open Sans', verdana, arial, sans-serif; font-size: 12px; fill: rgb(68, 68, 68); fill-opacity: 1; white-space: pre;\" transform=\"translate(294.505,44.75)\">98.34</text></g><g class=\"point\"><path d=\"M218.86,88V152H286.53V88Z\" style=\"vector-effect: non-scaling-stroke; fill: rgb(0, 204, 150); fill-opacity: 1; stroke: rgb(68, 68, 68); stroke-opacity: 1; stroke-width: 0px; opacity: 1;\"/><text class=\"bartext bartext-inside\" text-anchor=\"middle\" data-notex=\"1\" x=\"0\" y=\"0\" style=\"font-family: 'Open Sans', verdana, arial, sans-serif; font-size: 12px; fill: rgb(68, 68, 68); fill-opacity: 1; white-space: pre;\" transform=\"translate(252.695,124.75)\">60.39</text></g><g class=\"point\"><path d=\"M212.99,168V232H267.36V168Z\" style=\"vector-effect: non-scaling-stroke; fill: rgb(0, 204, 150); fill-opacity: 1; stroke: rgb(68, 68, 68); stroke-opacity: 1; stroke-width: 0px; opacity: 1;\"/><text class=\"bartext bartext-inside\" text-anchor=\"middle\" data-notex=\"1\" x=\"0\" y=\"0\" style=\"font-family: 'Open Sans', verdana, arial, sans-serif; font-size: 12px; fill: rgb(68, 68, 68); fill-opacity: 1; white-space: pre;\" transform=\"translate(240.175,204.75)\">48.52</text></g><g class=\"point\"><path d=\"M210.8,248V312H263.01V248Z\" style=\"vector-effect: non-scaling-stroke; fill: rgb(0, 204, 150); fill-opacity: 1; stroke: rgb(68, 68, 68); stroke-opacity: 1; stroke-width: 0px; opacity: 1;\"/><text class=\"bartext bartext-inside\" text-anchor=\"middle\" data-notex=\"1\" x=\"0\" y=\"0\" style=\"font-family: 'Open Sans', verdana, arial, sans-serif; font-size: 12px; fill: rgb(68, 68, 68); fill-opacity: 1; white-space: pre;\" transform=\"translate(236.905,284.75)\">46.59</text></g></g></g></g></g><g class=\"overplot\"/><path class=\"xlines-above crisp\" d=\"M0,0\" style=\"fill: none;\"/><path class=\"ylines-above crisp\" d=\"M0,0\" style=\"fill: none;\"/><g class=\"overlines-above\"/><g class=\"xaxislayer-above\"/><g class=\"yaxislayer-above\"><g class=\"ytick\"><text text-anchor=\"end\" x=\"169\" y=\"4.199999999999999\" transform=\"translate(0,380)\" style=\"font-family: 'Open Sans', verdana, arial, sans-serif; font-size: 12px; fill: rgb(42, 63, 95); fill-opacity: 1; white-space: pre; opacity: 1;\">PaymentScreenSuccessful</text></g><g class=\"ytick\"><text text-anchor=\"end\" x=\"169\" y=\"4.199999999999999\" transform=\"translate(0,300)\" style=\"font-family: 'Open Sans', verdana, arial, sans-serif; font-size: 12px; fill: rgb(42, 63, 95); fill-opacity: 1; white-space: pre; opacity: 1;\">CartScreenAppear</text></g><g class=\"ytick\"><text text-anchor=\"end\" x=\"169\" y=\"4.199999999999999\" transform=\"translate(0,220)\" style=\"font-family: 'Open Sans', verdana, arial, sans-serif; font-size: 12px; fill: rgb(42, 63, 95); fill-opacity: 1; white-space: pre; opacity: 1;\">OffersScreenAppear</text></g><g class=\"ytick\"><text text-anchor=\"end\" x=\"169\" y=\"4.199999999999999\" transform=\"translate(0,140)\" style=\"font-family: 'Open Sans', verdana, arial, sans-serif; font-size: 12px; fill: rgb(42, 63, 95); fill-opacity: 1; white-space: pre; opacity: 1;\">MainScreenAppear</text></g></g><g class=\"overaxes-above\"/></g></g><g class=\"polarlayer\"/><g class=\"smithlayer\"/><g class=\"ternarylayer\"/><g class=\"geolayer\"/><g class=\"funnelarealayer\"/><g class=\"pielayer\"/><g class=\"iciclelayer\"/><g class=\"treemaplayer\"/><g class=\"sunburstlayer\"/><g class=\"glimages\"/><defs id=\"topdefs-99ee10\"><g class=\"clips\"/><clipPath id=\"legend99ee10\"><rect width=\"143\" height=\"67\" x=\"0\" y=\"0\"/></clipPath></defs><g class=\"layer-above\"><g class=\"imagelayer\"/><g class=\"shapelayer\"/></g><g class=\"infolayer\"><g class=\"legend\" pointer-events=\"all\" transform=\"translate(545.36,100)\"><rect class=\"bg\" shape-rendering=\"crispEdges\" style=\"stroke: rgb(68, 68, 68); stroke-opacity: 1; fill: rgb(255, 255, 255); fill-opacity: 1; stroke-width: 0px;\" width=\"143\" height=\"67\" x=\"0\" y=\"0\"/><g class=\"scrollbox\" transform=\"\" clip-path=\"url(#legend99ee10)\"><g class=\"groups\"><g class=\"traces\" transform=\"translate(0,14.5)\" style=\"opacity: 1;\"><text class=\"legendtext\" text-anchor=\"start\" x=\"40\" y=\"4.680000000000001\" style=\"font-family: 'Open Sans', verdana, arial, sans-serif; font-size: 12px; fill: rgb(42, 63, 95); fill-opacity: 1; white-space: pre;\">share of 246, %</text><g class=\"layers\" style=\"opacity: 1;\"><g class=\"legendfill\"/><g class=\"legendlines\"/><g class=\"legendsymbols\"><g class=\"legendpoints\"><path class=\"legendfunnel\" d=\"M6,6H-6V-6H6Z\" transform=\"translate(20,0)\" style=\"stroke-width: 0px; fill: rgb(99, 110, 250); fill-opacity: 1;\"/></g></g></g><rect class=\"legendtoggle\" x=\"0\" y=\"-9.5\" width=\"137.65625\" height=\"19\" style=\"fill: rgb(0, 0, 0); fill-opacity: 0;\"/></g><g class=\"traces\" transform=\"translate(0,33.5)\" style=\"opacity: 1;\"><text class=\"legendtext\" text-anchor=\"start\" x=\"40\" y=\"4.680000000000001\" style=\"font-family: 'Open Sans', verdana, arial, sans-serif; font-size: 12px; fill: rgb(42, 63, 95); fill-opacity: 1; white-space: pre;\">share of 247, %</text><g class=\"layers\" style=\"opacity: 1;\"><g class=\"legendfill\"/><g class=\"legendlines\"/><g class=\"legendsymbols\"><g class=\"legendpoints\"><path class=\"legendfunnel\" d=\"M6,6H-6V-6H6Z\" transform=\"translate(20,0)\" style=\"stroke-width: 0px; fill: rgb(239, 85, 59); fill-opacity: 1;\"/></g></g></g><rect class=\"legendtoggle\" x=\"0\" y=\"-9.5\" width=\"137.65625\" height=\"19\" style=\"fill: rgb(0, 0, 0); fill-opacity: 0;\"/></g><g class=\"traces\" transform=\"translate(0,52.5)\" style=\"opacity: 1;\"><text class=\"legendtext\" text-anchor=\"start\" x=\"40\" y=\"4.680000000000001\" style=\"font-family: 'Open Sans', verdana, arial, sans-serif; font-size: 12px; fill: rgb(42, 63, 95); fill-opacity: 1; white-space: pre;\">share of 248, %</text><g class=\"layers\" style=\"opacity: 1;\"><g class=\"legendfill\"/><g class=\"legendlines\"/><g class=\"legendsymbols\"><g class=\"legendpoints\"><path class=\"legendfunnel\" d=\"M6,6H-6V-6H6Z\" transform=\"translate(20,0)\" style=\"stroke-width: 0px; fill: rgb(0, 204, 150); fill-opacity: 1;\"/></g></g></g><rect class=\"legendtoggle\" x=\"0\" y=\"-9.5\" width=\"137.65625\" height=\"19\" style=\"fill: rgb(0, 0, 0); fill-opacity: 0;\"/></g></g></g><rect class=\"scrollbar\" rx=\"20\" ry=\"3\" width=\"0\" height=\"0\" style=\"fill: rgb(128, 139, 164); fill-opacity: 1;\" x=\"0\" y=\"0\"/></g><g class=\"g-gtitle\"/><g class=\"g-ytitle\"/></g></svg>"
      ]
     },
     "metadata": {},
     "output_type": "display_data"
    }
   ],
   "source": [
    "fig = go.Figure()\n",
    "\n",
    "fig.add_trace(go.Funnel(\n",
    "    name = 'share of 246, %',\n",
    "    y = summary.index,\n",
    "    x = summary['share of 246, %'],\n",
    "    ))\n",
    "\n",
    "fig.add_trace(go.Funnel(\n",
    "    name = 'share of 247, %',\n",
    "    y = summary.index,\n",
    "    x = summary['share of 247, %'],\n",
    "    ))\n",
    "\n",
    "fig.add_trace(go.Funnel(\n",
    "    name = 'share of 248, %',\n",
    "    y = summary.index,\n",
    "    x = summary['share of 248, %'],\n",
    "    ))\n",
    "\n",
    "fig.show('svg')"
   ]
  },
  {
   "cell_type": "markdown",
   "metadata": {},
   "source": [
    "Видно, что разницы между группами практически нет."
   ]
  },
  {
   "cell_type": "markdown",
   "metadata": {},
   "source": [
    "Выберем самое популярное событие. Посчитем число пользователей, совершивших это событие в каждой из контрольных групп. Посчитем долю пользователей, совершивших это событие."
   ]
  },
  {
   "cell_type": "code",
   "execution_count": 35,
   "metadata": {},
   "outputs": [
    {
     "data": {
      "text/html": [
       "<div>\n",
       "<style scoped>\n",
       "    .dataframe tbody tr th:only-of-type {\n",
       "        vertical-align: middle;\n",
       "    }\n",
       "\n",
       "    .dataframe tbody tr th {\n",
       "        vertical-align: top;\n",
       "    }\n",
       "\n",
       "    .dataframe thead th {\n",
       "        text-align: right;\n",
       "    }\n",
       "</style>\n",
       "<table border=\"1\" class=\"dataframe\">\n",
       "  <thead>\n",
       "    <tr style=\"text-align: right;\">\n",
       "      <th>exp_id</th>\n",
       "      <th>246</th>\n",
       "      <th>247</th>\n",
       "      <th>248</th>\n",
       "      <th>share of 246, %</th>\n",
       "      <th>share of 247, %</th>\n",
       "      <th>share of 248, %</th>\n",
       "      <th>246+247</th>\n",
       "    </tr>\n",
       "    <tr>\n",
       "      <th>event_name</th>\n",
       "      <th></th>\n",
       "      <th></th>\n",
       "      <th></th>\n",
       "      <th></th>\n",
       "      <th></th>\n",
       "      <th></th>\n",
       "      <th></th>\n",
       "    </tr>\n",
       "  </thead>\n",
       "  <tbody>\n",
       "    <tr>\n",
       "      <th>MainScreenAppear</th>\n",
       "      <td>2450</td>\n",
       "      <td>2476</td>\n",
       "      <td>2493</td>\n",
       "      <td>98.67</td>\n",
       "      <td>98.57</td>\n",
       "      <td>98.34</td>\n",
       "      <td>4926</td>\n",
       "    </tr>\n",
       "    <tr>\n",
       "      <th>OffersScreenAppear</th>\n",
       "      <td>1542</td>\n",
       "      <td>1520</td>\n",
       "      <td>1531</td>\n",
       "      <td>62.10</td>\n",
       "      <td>60.51</td>\n",
       "      <td>60.39</td>\n",
       "      <td>3062</td>\n",
       "    </tr>\n",
       "    <tr>\n",
       "      <th>CartScreenAppear</th>\n",
       "      <td>1266</td>\n",
       "      <td>1238</td>\n",
       "      <td>1230</td>\n",
       "      <td>50.99</td>\n",
       "      <td>49.28</td>\n",
       "      <td>48.52</td>\n",
       "      <td>2504</td>\n",
       "    </tr>\n",
       "    <tr>\n",
       "      <th>PaymentScreenSuccessful</th>\n",
       "      <td>1200</td>\n",
       "      <td>1158</td>\n",
       "      <td>1181</td>\n",
       "      <td>48.33</td>\n",
       "      <td>46.10</td>\n",
       "      <td>46.59</td>\n",
       "      <td>2358</td>\n",
       "    </tr>\n",
       "  </tbody>\n",
       "</table>\n",
       "</div>"
      ],
      "text/plain": [
       "exp_id                    246   247   248  share of 246, %  share of 247, %  \\\n",
       "event_name                                                                    \n",
       "MainScreenAppear         2450  2476  2493            98.67            98.57   \n",
       "OffersScreenAppear       1542  1520  1531            62.10            60.51   \n",
       "CartScreenAppear         1266  1238  1230            50.99            49.28   \n",
       "PaymentScreenSuccessful  1200  1158  1181            48.33            46.10   \n",
       "\n",
       "exp_id                   share of 248, %  246+247  \n",
       "event_name                                         \n",
       "MainScreenAppear                   98.34     4926  \n",
       "OffersScreenAppear                 60.39     3062  \n",
       "CartScreenAppear                   48.52     2504  \n",
       "PaymentScreenSuccessful            46.59     2358  "
      ]
     },
     "execution_count": 35,
     "metadata": {},
     "output_type": "execute_result"
    }
   ],
   "source": [
    "summary['246+247'] = summary['246'] + summary['247']\n",
    "summary"
   ]
  },
  {
   "cell_type": "markdown",
   "metadata": {},
   "source": [
    "Как было ранее показано, самое популярное событие - показ главного экрана (MainScreenAppear)"
   ]
  },
  {
   "cell_type": "markdown",
   "metadata": {},
   "source": [
    "Проверим, будет ли отличие между группами статистически достоверным."
   ]
  },
  {
   "cell_type": "markdown",
   "metadata": {},
   "source": [
    "Воспользуемся Z-критерием для проверки каждой из групп - 246 и 247. \n",
    "\n",
    "Гипотезы:\n",
    "- H0 - между долями НЕТ стат значимых различий\n",
    "- H1 - между долями ЕСТЬ стат значимых различий\n",
    "- Примем для себя уровень значимости alpha = .05"
   ]
  },
  {
   "cell_type": "code",
   "execution_count": 36,
   "metadata": {},
   "outputs": [],
   "source": [
    "def z_test(exp1, exp2, event, alpha): \n",
    "    p1_ev = summary.loc[event, exp1]\n",
    "    p2_ev = summary.loc[event, exp2] \n",
    "    p1_us = nunique_users.loc[exp1, 'uid'] \n",
    "    p2_us = nunique_users.loc[exp2, 'uid'] \n",
    "    p1 = p1_ev / p1_us \n",
    "    p2 = p2_ev / p2_us \n",
    "    difference = p1 - p2\n",
    "    p_combined = (p1_ev + p2_ev) / (p1_us + p2_us) \n",
    "    z_value = difference / mth.sqrt(p_combined * (1 - p_combined) * (1 / p1_us + 1 / p2_us))\n",
    "    distr = stats.norm(0, 1)\n",
    "    p_value = (1 - distr.cdf(abs(z_value))) * 2\n",
    "    print('Проверка для события {}:'.format(event))\n",
    "    print('p-значение: {p_value:.5f}'.format(p_value=p_value))\n",
    "    if (p_value < alpha):\n",
    "        print(\"Отвергаем нулевую гипотезу\")\n",
    "    else:\n",
    "        print(\"Не получилось отвергнуть нулевую гипотезу\")"
   ]
  },
  {
   "cell_type": "code",
   "execution_count": 37,
   "metadata": {},
   "outputs": [
    {
     "name": "stdout",
     "output_type": "stream",
     "text": [
      "Проверка для события MainScreenAppear:\n",
      "p-значение: 0.75267\n",
      "Не получилось отвергнуть нулевую гипотезу\n",
      "\n",
      "Проверка для события OffersScreenAppear:\n",
      "p-значение: 0.24786\n",
      "Не получилось отвергнуть нулевую гипотезу\n",
      "\n",
      "Проверка для события CartScreenAppear:\n",
      "p-значение: 0.22868\n",
      "Не получилось отвергнуть нулевую гипотезу\n",
      "\n",
      "Проверка для события PaymentScreenSuccessful:\n",
      "p-значение: 0.11447\n",
      "Не получилось отвергнуть нулевую гипотезу\n",
      "\n"
     ]
    }
   ],
   "source": [
    "for event in summary.index:\n",
    "    z_test('246', '247', event, 0.05)\n",
    "    print()"
   ]
  },
  {
   "cell_type": "markdown",
   "metadata": {},
   "source": [
    "Сравним результаты между группой 246 и 248:"
   ]
  },
  {
   "cell_type": "code",
   "execution_count": 38,
   "metadata": {},
   "outputs": [
    {
     "name": "stdout",
     "output_type": "stream",
     "text": [
      "Проверка для события MainScreenAppear:\n",
      "p-значение: 0.33871\n",
      "Не получилось отвергнуть нулевую гипотезу\n",
      "\n",
      "Проверка для события OffersScreenAppear:\n",
      "p-значение: 0.21442\n",
      "Не получилось отвергнуть нулевую гипотезу\n",
      "\n",
      "Проверка для события CartScreenAppear:\n",
      "p-значение: 0.08067\n",
      "Не получилось отвергнуть нулевую гипотезу\n",
      "\n",
      "Проверка для события PaymentScreenSuccessful:\n",
      "p-значение: 0.21693\n",
      "Не получилось отвергнуть нулевую гипотезу\n",
      "\n"
     ]
    }
   ],
   "source": [
    "for event in summary.index:\n",
    "    z_test('246', '248', event, 0.05)\n",
    "    print()"
   ]
  },
  {
   "cell_type": "markdown",
   "metadata": {},
   "source": [
    "Сравним результаты между группой 247 и 248:"
   ]
  },
  {
   "cell_type": "code",
   "execution_count": 39,
   "metadata": {},
   "outputs": [
    {
     "name": "stdout",
     "output_type": "stream",
     "text": [
      "Проверка для события MainScreenAppear:\n",
      "p-значение: 0.51950\n",
      "Не получилось отвергнуть нулевую гипотезу\n",
      "\n",
      "Проверка для события OffersScreenAppear:\n",
      "p-значение: 0.93338\n",
      "Не получилось отвергнуть нулевую гипотезу\n",
      "\n",
      "Проверка для события CartScreenAppear:\n",
      "p-значение: 0.58783\n",
      "Не получилось отвергнуть нулевую гипотезу\n",
      "\n",
      "Проверка для события PaymentScreenSuccessful:\n",
      "p-значение: 0.72757\n",
      "Не получилось отвергнуть нулевую гипотезу\n",
      "\n"
     ]
    }
   ],
   "source": [
    "for event in summary.index:\n",
    "    z_test('247', '248', event, 0.05)\n",
    "    print()"
   ]
  },
  {
   "cell_type": "markdown",
   "metadata": {},
   "source": [
    "Сравним результаты между объединенной группой 246+247 и 248:"
   ]
  },
  {
   "cell_type": "code",
   "execution_count": 40,
   "metadata": {},
   "outputs": [
    {
     "name": "stdout",
     "output_type": "stream",
     "text": [
      "Проверка для события MainScreenAppear:\n",
      "p-значение: 0.85706\n",
      "Не получилось отвергнуть нулевую гипотезу\n",
      "\n",
      "Проверка для события OffersScreenAppear:\n",
      "p-значение: 0.50685\n",
      "Не получилось отвергнуть нулевую гипотезу\n",
      "\n",
      "Проверка для события CartScreenAppear:\n",
      "p-значение: 0.48874\n",
      "Не получилось отвергнуть нулевую гипотезу\n",
      "\n",
      "Проверка для события PaymentScreenSuccessful:\n",
      "p-значение: 0.36378\n",
      "Не получилось отвергнуть нулевую гипотезу\n",
      "\n"
     ]
    }
   ],
   "source": [
    "for event in summary.index:\n",
    "    z_test('246+247', '247', event, 0.05)\n",
    "    print()"
   ]
  },
  {
   "cell_type": "markdown",
   "metadata": {},
   "source": [
    "Основной вывод по всем группам - нельзя утверждать что существует различия между группами. Но можно сказать, что разбиение на группы работает корректно."
   ]
  },
  {
   "cell_type": "markdown",
   "metadata": {},
   "source": [
    "В качестве уровеня значимости было приянто значение в 5%. Провели 4 А/А теста, и 12 А/В тестов."
   ]
  },
  {
   "cell_type": "markdown",
   "metadata": {},
   "source": [
    "## Вывод:\n",
    "Провели исследование результатов A/A/B-эксперимента по изменению шрифта во всём приложении. Пользователи были разбиты на 3 группы: 2 контрольные со старыми шрифтами и одну экспериментальную — с новыми. \n",
    "1. Загрузили и подготовили данные: исправили типы данных, избавились от дубликатов. После обработки данных потеряли около 1% событий.\n",
    "2. Отбросили события до 2019-08-01, т.к. до 2019-08-01 данные не полные. Отбросили событие Tutorial, как не имеющее отношение к поведению пользователей и эксперименту.  \n",
    "3. Изучили воронку событий и посторили график. От первого события(главный экран) до последнего (успешная оплата) доходит 47.7% пользователей. Больше всего пользователей теряется на шаге перехода с главного экрана (MainScreenAppear) к ассортименту (OffersScreenAppear) - 38.1%\n",
    "4. Изучили непосредственно результаты A/A/B-эксперимента. Воспользовались Z-критерием для проверки гипотез. Исследования показало, что статичстически значемые изменения в поведении пользователей отсутствуют, т.е. замена шрифтов никак не повлияла на пользователей ни в худшую, ни в лучшую сторону."
   ]
  }
 ],
 "metadata": {
  "ExecuteTimeLog": [
   {
    "duration": 4,
    "start_time": "2022-10-17T14:32:15.309Z"
   },
   {
    "duration": 406,
    "start_time": "2022-10-17T14:43:12.814Z"
   },
   {
    "duration": 886,
    "start_time": "2022-10-17T14:43:13.223Z"
   },
   {
    "duration": 73,
    "start_time": "2022-10-17T14:44:53.317Z"
   },
   {
    "duration": 3,
    "start_time": "2022-10-17T14:45:47.465Z"
   },
   {
    "duration": 322,
    "start_time": "2022-10-17T14:46:11.044Z"
   },
   {
    "duration": 27,
    "start_time": "2022-10-17T14:46:11.368Z"
   },
   {
    "duration": 360,
    "start_time": "2022-10-17T14:47:14.135Z"
   },
   {
    "duration": 14,
    "start_time": "2022-10-17T14:47:14.497Z"
   },
   {
    "duration": 5,
    "start_time": "2022-10-17T14:47:29.262Z"
   },
   {
    "duration": 5,
    "start_time": "2022-10-17T14:47:39.267Z"
   },
   {
    "duration": 6,
    "start_time": "2022-10-17T14:47:41.999Z"
   },
   {
    "duration": 86,
    "start_time": "2022-10-17T14:47:56.378Z"
   },
   {
    "duration": 290,
    "start_time": "2022-10-17T14:48:02.713Z"
   },
   {
    "duration": 317,
    "start_time": "2022-10-17T14:48:05.399Z"
   },
   {
    "duration": 182,
    "start_time": "2022-10-17T14:48:15.985Z"
   },
   {
    "duration": 165,
    "start_time": "2022-10-17T14:49:27.116Z"
   },
   {
    "duration": 11,
    "start_time": "2022-10-17T14:49:29.549Z"
   },
   {
    "duration": 73,
    "start_time": "2022-10-17T14:50:17.444Z"
   },
   {
    "duration": 8,
    "start_time": "2022-10-17T14:53:13.510Z"
   },
   {
    "duration": 3,
    "start_time": "2022-10-17T14:53:44.378Z"
   },
   {
    "duration": 168,
    "start_time": "2022-10-17T14:53:44.668Z"
   },
   {
    "duration": 9,
    "start_time": "2022-10-17T14:53:44.838Z"
   },
   {
    "duration": 166,
    "start_time": "2022-10-17T14:53:47.597Z"
   },
   {
    "duration": 8,
    "start_time": "2022-10-17T14:53:47.765Z"
   },
   {
    "duration": 3,
    "start_time": "2022-10-17T14:53:48.039Z"
   },
   {
    "duration": 4,
    "start_time": "2022-10-17T14:54:12.043Z"
   },
   {
    "duration": 3,
    "start_time": "2022-10-17T14:54:53.650Z"
   },
   {
    "duration": 177,
    "start_time": "2022-10-17T14:56:26.987Z"
   },
   {
    "duration": 18,
    "start_time": "2022-10-17T14:56:40.691Z"
   },
   {
    "duration": 8,
    "start_time": "2022-10-17T14:56:54.860Z"
   },
   {
    "duration": 22,
    "start_time": "2022-10-17T14:57:05.909Z"
   },
   {
    "duration": 18,
    "start_time": "2022-10-17T14:57:11.069Z"
   },
   {
    "duration": 228,
    "start_time": "2022-10-17T14:57:23.087Z"
   },
   {
    "duration": 165,
    "start_time": "2022-10-17T14:57:25.056Z"
   },
   {
    "duration": 38,
    "start_time": "2022-10-17T14:57:40.316Z"
   },
   {
    "duration": 18,
    "start_time": "2022-10-17T14:57:42.472Z"
   },
   {
    "duration": 37,
    "start_time": "2022-10-17T14:57:47.643Z"
   },
   {
    "duration": 37,
    "start_time": "2022-10-17T14:57:55.043Z"
   },
   {
    "duration": 56,
    "start_time": "2022-10-17T14:57:59.851Z"
   },
   {
    "duration": 35,
    "start_time": "2022-10-17T14:58:08.345Z"
   },
   {
    "duration": 22,
    "start_time": "2022-10-17T14:58:15.190Z"
   },
   {
    "duration": 21,
    "start_time": "2022-10-17T14:58:16.892Z"
   },
   {
    "duration": 22,
    "start_time": "2022-10-17T14:58:19.646Z"
   },
   {
    "duration": 35,
    "start_time": "2022-10-17T14:58:26.442Z"
   },
   {
    "duration": 3,
    "start_time": "2022-10-17T15:00:09.978Z"
   },
   {
    "duration": 138,
    "start_time": "2022-10-17T15:08:01.575Z"
   },
   {
    "duration": 11,
    "start_time": "2022-10-17T15:08:35.358Z"
   },
   {
    "duration": 9,
    "start_time": "2022-10-17T15:08:39.405Z"
   },
   {
    "duration": 10,
    "start_time": "2022-10-17T15:08:43.583Z"
   },
   {
    "duration": 73,
    "start_time": "2022-10-17T15:08:46.218Z"
   },
   {
    "duration": 25,
    "start_time": "2022-10-17T15:17:52.110Z"
   },
   {
    "duration": 376,
    "start_time": "2022-10-17T15:18:14.361Z"
   },
   {
    "duration": 5,
    "start_time": "2022-10-17T15:18:25.332Z"
   },
   {
    "duration": 9,
    "start_time": "2022-10-17T15:18:32.381Z"
   },
   {
    "duration": 5,
    "start_time": "2022-10-17T15:18:34.319Z"
   },
   {
    "duration": 15,
    "start_time": "2022-10-17T15:19:18.157Z"
   },
   {
    "duration": 15,
    "start_time": "2022-10-17T15:19:29.869Z"
   },
   {
    "duration": 9,
    "start_time": "2022-10-17T15:19:33.821Z"
   },
   {
    "duration": 5,
    "start_time": "2022-10-17T15:19:35.652Z"
   },
   {
    "duration": 38,
    "start_time": "2022-10-17T15:20:43.411Z"
   },
   {
    "duration": 5,
    "start_time": "2022-10-17T15:20:43.570Z"
   },
   {
    "duration": 103,
    "start_time": "2022-10-17T15:25:40.922Z"
   },
   {
    "duration": 5,
    "start_time": "2022-10-17T15:25:41.205Z"
   },
   {
    "duration": 45,
    "start_time": "2022-10-17T15:25:46.641Z"
   },
   {
    "duration": 4,
    "start_time": "2022-10-17T15:25:46.769Z"
   },
   {
    "duration": 120,
    "start_time": "2022-10-17T15:26:05.094Z"
   },
   {
    "duration": 5,
    "start_time": "2022-10-17T15:26:05.317Z"
   },
   {
    "duration": 45,
    "start_time": "2022-10-17T15:26:09.097Z"
   },
   {
    "duration": 5,
    "start_time": "2022-10-17T15:26:10.133Z"
   },
   {
    "duration": 113,
    "start_time": "2022-10-17T15:28:24.335Z"
   },
   {
    "duration": 4,
    "start_time": "2022-10-17T15:28:24.517Z"
   },
   {
    "duration": 269,
    "start_time": "2022-10-17T15:28:41.869Z"
   },
   {
    "duration": 5,
    "start_time": "2022-10-17T15:28:42.353Z"
   },
   {
    "duration": 1802,
    "start_time": "2022-10-17T15:29:18.993Z"
   },
   {
    "duration": 5,
    "start_time": "2022-10-17T15:29:20.797Z"
   },
   {
    "duration": 542,
    "start_time": "2022-10-17T15:30:16.118Z"
   },
   {
    "duration": 791,
    "start_time": "2022-10-17T15:30:16.662Z"
   },
   {
    "duration": 11,
    "start_time": "2022-10-17T15:30:17.455Z"
   },
   {
    "duration": 50,
    "start_time": "2022-10-17T15:30:17.467Z"
   },
   {
    "duration": 23,
    "start_time": "2022-10-17T15:30:17.519Z"
   },
   {
    "duration": 49,
    "start_time": "2022-10-17T15:30:17.544Z"
   },
   {
    "duration": 9,
    "start_time": "2022-10-17T15:30:17.595Z"
   },
   {
    "duration": 5,
    "start_time": "2022-10-17T15:34:44.517Z"
   },
   {
    "duration": 19,
    "start_time": "2022-10-17T15:35:00.782Z"
   },
   {
    "duration": 209,
    "start_time": "2022-10-17T15:35:05.751Z"
   },
   {
    "duration": 37,
    "start_time": "2022-10-17T15:35:05.962Z"
   },
   {
    "duration": 22,
    "start_time": "2022-10-17T15:35:15.675Z"
   },
   {
    "duration": 21,
    "start_time": "2022-10-17T15:35:15.842Z"
   },
   {
    "duration": 85,
    "start_time": "2022-10-17T15:35:39.095Z"
   },
   {
    "duration": 29,
    "start_time": "2022-10-17T15:35:47.050Z"
   },
   {
    "duration": 36,
    "start_time": "2022-10-17T15:35:49.314Z"
   },
   {
    "duration": 17,
    "start_time": "2022-10-17T15:35:53.577Z"
   },
   {
    "duration": 169,
    "start_time": "2022-10-17T15:36:45.734Z"
   },
   {
    "duration": 31,
    "start_time": "2022-10-17T15:36:45.905Z"
   },
   {
    "duration": 480,
    "start_time": "2022-10-17T15:37:02.773Z"
   },
   {
    "duration": 186,
    "start_time": "2022-10-17T15:37:03.255Z"
   },
   {
    "duration": 11,
    "start_time": "2022-10-17T15:37:03.443Z"
   },
   {
    "duration": 60,
    "start_time": "2022-10-17T15:37:03.456Z"
   },
   {
    "duration": 23,
    "start_time": "2022-10-17T15:37:03.519Z"
   },
   {
    "duration": 339,
    "start_time": "2022-10-17T15:37:03.544Z"
   },
   {
    "duration": 45,
    "start_time": "2022-10-17T15:37:03.885Z"
   },
   {
    "duration": 70,
    "start_time": "2022-10-17T15:37:54.605Z"
   },
   {
    "duration": 43,
    "start_time": "2022-10-17T16:07:34.325Z"
   },
   {
    "duration": 14,
    "start_time": "2022-10-17T16:07:36.209Z"
   },
   {
    "duration": 52,
    "start_time": "2022-10-17T16:07:48.351Z"
   },
   {
    "duration": 18,
    "start_time": "2022-10-17T16:07:49.577Z"
   },
   {
    "duration": 14,
    "start_time": "2022-10-17T16:07:53.248Z"
   },
   {
    "duration": 196,
    "start_time": "2022-10-17T16:08:11.514Z"
   },
   {
    "duration": 172,
    "start_time": "2022-10-17T16:08:14.090Z"
   },
   {
    "duration": 1139,
    "start_time": "2022-10-17T16:08:54.943Z"
   },
   {
    "duration": 0,
    "start_time": "2022-10-17T16:08:56.084Z"
   },
   {
    "duration": 3,
    "start_time": "2022-10-17T16:09:12.777Z"
   },
   {
    "duration": 1155,
    "start_time": "2022-10-17T16:09:16.291Z"
   },
   {
    "duration": 0,
    "start_time": "2022-10-17T16:09:17.448Z"
   },
   {
    "duration": 1338,
    "start_time": "2022-10-17T16:10:29.467Z"
   },
   {
    "duration": 0,
    "start_time": "2022-10-17T16:10:30.807Z"
   },
   {
    "duration": 1456,
    "start_time": "2022-10-17T16:10:38.720Z"
   },
   {
    "duration": 0,
    "start_time": "2022-10-17T16:10:40.178Z"
   },
   {
    "duration": 387,
    "start_time": "2022-10-17T16:10:50.916Z"
   },
   {
    "duration": 193,
    "start_time": "2022-10-17T16:10:51.307Z"
   },
   {
    "duration": 10,
    "start_time": "2022-10-17T16:10:51.502Z"
   },
   {
    "duration": 49,
    "start_time": "2022-10-17T16:10:51.513Z"
   },
   {
    "duration": 22,
    "start_time": "2022-10-17T16:10:51.589Z"
   },
   {
    "duration": 377,
    "start_time": "2022-10-17T16:10:51.614Z"
   },
   {
    "duration": 858,
    "start_time": "2022-10-17T16:10:51.994Z"
   },
   {
    "duration": 13,
    "start_time": "2022-10-17T16:10:52.854Z"
   },
   {
    "duration": 70,
    "start_time": "2022-10-17T16:11:02.551Z"
   },
   {
    "duration": 70,
    "start_time": "2022-10-17T16:11:05.213Z"
   },
   {
    "duration": 12,
    "start_time": "2022-10-17T16:11:09.924Z"
   },
   {
    "duration": 14,
    "start_time": "2022-10-17T16:11:10.068Z"
   },
   {
    "duration": 36,
    "start_time": "2022-10-17T16:11:23.277Z"
   },
   {
    "duration": 14,
    "start_time": "2022-10-17T16:11:23.418Z"
   },
   {
    "duration": 828,
    "start_time": "2022-10-17T16:11:30.608Z"
   },
   {
    "duration": 13,
    "start_time": "2022-10-17T16:11:31.438Z"
   },
   {
    "duration": 382,
    "start_time": "2022-10-17T16:12:26.616Z"
   },
   {
    "duration": 0,
    "start_time": "2022-10-17T16:12:27.000Z"
   },
   {
    "duration": 33,
    "start_time": "2022-10-17T16:12:37.602Z"
   },
   {
    "duration": 302,
    "start_time": "2022-10-17T16:12:37.903Z"
   },
   {
    "duration": 0,
    "start_time": "2022-10-17T16:12:38.207Z"
   },
   {
    "duration": 9,
    "start_time": "2022-10-17T16:13:07.936Z"
   },
   {
    "duration": 12,
    "start_time": "2022-10-17T16:13:08.100Z"
   },
   {
    "duration": 37,
    "start_time": "2022-10-17T16:13:23.582Z"
   },
   {
    "duration": 17,
    "start_time": "2022-10-17T16:13:23.707Z"
   },
   {
    "duration": 290,
    "start_time": "2022-10-17T16:13:55.923Z"
   },
   {
    "duration": 0,
    "start_time": "2022-10-17T16:13:56.214Z"
   },
   {
    "duration": 416,
    "start_time": "2022-10-17T16:15:46.138Z"
   },
   {
    "duration": 0,
    "start_time": "2022-10-17T16:15:46.556Z"
   },
   {
    "duration": 365,
    "start_time": "2022-10-17T16:15:57.086Z"
   },
   {
    "duration": 427,
    "start_time": "2022-10-17T16:16:05.295Z"
   },
   {
    "duration": 185,
    "start_time": "2022-10-17T16:16:05.724Z"
   },
   {
    "duration": 8,
    "start_time": "2022-10-17T16:16:05.911Z"
   },
   {
    "duration": 50,
    "start_time": "2022-10-17T16:16:05.922Z"
   },
   {
    "duration": 45,
    "start_time": "2022-10-17T16:16:05.973Z"
   },
   {
    "duration": 332,
    "start_time": "2022-10-17T16:16:06.021Z"
   },
   {
    "duration": 364,
    "start_time": "2022-10-17T16:16:06.355Z"
   },
   {
    "duration": 0,
    "start_time": "2022-10-17T16:16:06.720Z"
   },
   {
    "duration": 8,
    "start_time": "2022-10-17T16:16:10.259Z"
   },
   {
    "duration": 17,
    "start_time": "2022-10-17T16:16:11.467Z"
   },
   {
    "duration": 86,
    "start_time": "2022-10-17T16:16:55.379Z"
   },
   {
    "duration": 16,
    "start_time": "2022-10-17T16:16:56.361Z"
   },
   {
    "duration": 42,
    "start_time": "2022-10-17T16:17:05.347Z"
   },
   {
    "duration": 418,
    "start_time": "2022-10-17T16:18:45.206Z"
   },
   {
    "duration": 199,
    "start_time": "2022-10-17T16:18:45.627Z"
   },
   {
    "duration": 8,
    "start_time": "2022-10-17T16:18:45.829Z"
   },
   {
    "duration": 61,
    "start_time": "2022-10-17T16:18:45.840Z"
   },
   {
    "duration": 21,
    "start_time": "2022-10-17T16:18:45.904Z"
   },
   {
    "duration": 352,
    "start_time": "2022-10-17T16:18:45.927Z"
   },
   {
    "duration": 46,
    "start_time": "2022-10-17T16:18:46.281Z"
   },
   {
    "duration": 14,
    "start_time": "2022-10-17T16:20:02.527Z"
   },
   {
    "duration": 11,
    "start_time": "2022-10-17T16:20:39.422Z"
   },
   {
    "duration": 503,
    "start_time": "2022-10-17T16:20:45.790Z"
   },
   {
    "duration": 196,
    "start_time": "2022-10-17T16:20:46.296Z"
   },
   {
    "duration": 9,
    "start_time": "2022-10-17T16:20:46.493Z"
   },
   {
    "duration": 46,
    "start_time": "2022-10-17T16:20:46.504Z"
   },
   {
    "duration": 23,
    "start_time": "2022-10-17T16:20:46.552Z"
   },
   {
    "duration": 1278,
    "start_time": "2022-10-17T16:20:46.590Z"
   },
   {
    "duration": 0,
    "start_time": "2022-10-17T16:20:47.870Z"
   },
   {
    "duration": 322,
    "start_time": "2022-10-17T16:20:59.169Z"
   },
   {
    "duration": 1291,
    "start_time": "2022-10-17T16:21:00.170Z"
   },
   {
    "duration": 17,
    "start_time": "2022-10-17T16:21:03.131Z"
   },
   {
    "duration": 57,
    "start_time": "2022-10-17T16:21:26.141Z"
   },
   {
    "duration": 73,
    "start_time": "2022-10-17T16:21:33.850Z"
   },
   {
    "duration": 17,
    "start_time": "2022-10-17T16:21:34.116Z"
   },
   {
    "duration": 21,
    "start_time": "2022-10-17T16:21:38.523Z"
   },
   {
    "duration": 1637,
    "start_time": "2022-10-17T16:21:49.192Z"
   },
   {
    "duration": 0,
    "start_time": "2022-10-17T16:21:50.830Z"
   },
   {
    "duration": 462,
    "start_time": "2022-10-17T16:21:57.891Z"
   },
   {
    "duration": 220,
    "start_time": "2022-10-17T16:21:58.357Z"
   },
   {
    "duration": 11,
    "start_time": "2022-10-17T16:21:58.579Z"
   },
   {
    "duration": 46,
    "start_time": "2022-10-17T16:21:58.592Z"
   },
   {
    "duration": 22,
    "start_time": "2022-10-17T16:21:58.640Z"
   },
   {
    "duration": 1705,
    "start_time": "2022-10-17T16:21:58.688Z"
   },
   {
    "duration": 0,
    "start_time": "2022-10-17T16:22:00.395Z"
   },
   {
    "duration": 33,
    "start_time": "2022-10-17T16:22:20.373Z"
   },
   {
    "duration": 12,
    "start_time": "2022-10-17T16:22:20.638Z"
   },
   {
    "duration": 455,
    "start_time": "2022-10-17T16:22:29.261Z"
   },
   {
    "duration": 188,
    "start_time": "2022-10-17T16:22:29.718Z"
   },
   {
    "duration": 9,
    "start_time": "2022-10-17T16:22:29.909Z"
   },
   {
    "duration": 71,
    "start_time": "2022-10-17T16:22:29.919Z"
   },
   {
    "duration": 23,
    "start_time": "2022-10-17T16:22:29.993Z"
   },
   {
    "duration": 1636,
    "start_time": "2022-10-17T16:22:30.017Z"
   },
   {
    "duration": 0,
    "start_time": "2022-10-17T16:22:31.655Z"
   },
   {
    "duration": 1161,
    "start_time": "2022-10-17T16:22:58.142Z"
   },
   {
    "duration": 0,
    "start_time": "2022-10-17T16:22:59.304Z"
   },
   {
    "duration": 436,
    "start_time": "2022-10-17T16:23:10.207Z"
   },
   {
    "duration": 206,
    "start_time": "2022-10-17T16:23:10.645Z"
   },
   {
    "duration": 8,
    "start_time": "2022-10-17T16:23:10.853Z"
   },
   {
    "duration": 64,
    "start_time": "2022-10-17T16:23:10.864Z"
   },
   {
    "duration": 22,
    "start_time": "2022-10-17T16:23:10.930Z"
   },
   {
    "duration": 390,
    "start_time": "2022-10-17T16:23:10.954Z"
   },
   {
    "duration": 17,
    "start_time": "2022-10-17T16:23:11.346Z"
   },
   {
    "duration": 1216,
    "start_time": "2022-10-17T16:32:18.835Z"
   },
   {
    "duration": 1249,
    "start_time": "2022-10-17T16:32:22.649Z"
   },
   {
    "duration": 1085,
    "start_time": "2022-10-17T16:32:27.126Z"
   },
   {
    "duration": 1283,
    "start_time": "2022-10-17T16:32:36.477Z"
   },
   {
    "duration": 26,
    "start_time": "2022-10-17T16:32:43.683Z"
   },
   {
    "duration": 25,
    "start_time": "2022-10-17T16:33:00.943Z"
   },
   {
    "duration": 16,
    "start_time": "2022-10-17T16:33:02.697Z"
   },
   {
    "duration": 75,
    "start_time": "2022-10-17T16:33:06.304Z"
   },
   {
    "duration": 14,
    "start_time": "2022-10-17T16:33:06.454Z"
   },
   {
    "duration": 1382,
    "start_time": "2022-10-17T16:34:01.267Z"
   },
   {
    "duration": 0,
    "start_time": "2022-10-17T16:34:02.651Z"
   },
   {
    "duration": 443,
    "start_time": "2022-10-17T16:34:08.963Z"
   },
   {
    "duration": 196,
    "start_time": "2022-10-17T16:34:09.409Z"
   },
   {
    "duration": 8,
    "start_time": "2022-10-17T16:34:09.606Z"
   },
   {
    "duration": 52,
    "start_time": "2022-10-17T16:34:09.617Z"
   },
   {
    "duration": 31,
    "start_time": "2022-10-17T16:34:09.670Z"
   },
   {
    "duration": 420,
    "start_time": "2022-10-17T16:34:09.703Z"
   },
   {
    "duration": 105,
    "start_time": "2022-10-17T16:34:10.125Z"
   },
   {
    "duration": 17,
    "start_time": "2022-10-17T16:34:10.232Z"
   },
   {
    "duration": 338,
    "start_time": "2022-10-17T16:34:34.228Z"
   },
   {
    "duration": 401,
    "start_time": "2022-10-17T16:34:40.535Z"
   },
   {
    "duration": 186,
    "start_time": "2022-10-17T16:34:40.939Z"
   },
   {
    "duration": 7,
    "start_time": "2022-10-17T16:34:41.126Z"
   },
   {
    "duration": 68,
    "start_time": "2022-10-17T16:34:41.135Z"
   },
   {
    "duration": 21,
    "start_time": "2022-10-17T16:34:41.206Z"
   },
   {
    "duration": 383,
    "start_time": "2022-10-17T16:34:41.228Z"
   },
   {
    "duration": 94,
    "start_time": "2022-10-17T16:34:41.613Z"
   },
   {
    "duration": 29,
    "start_time": "2022-10-17T16:34:41.709Z"
   },
   {
    "duration": 14,
    "start_time": "2022-10-17T16:37:12.208Z"
   },
   {
    "duration": 6,
    "start_time": "2022-10-17T16:38:13.313Z"
   },
   {
    "duration": 35,
    "start_time": "2022-10-17T16:38:15.837Z"
   },
   {
    "duration": 99,
    "start_time": "2022-10-17T16:38:23.017Z"
   },
   {
    "duration": 33,
    "start_time": "2022-10-17T16:38:26.087Z"
   },
   {
    "duration": 28,
    "start_time": "2022-10-17T16:38:31.935Z"
   },
   {
    "duration": 22,
    "start_time": "2022-10-17T16:38:37.655Z"
   },
   {
    "duration": 24,
    "start_time": "2022-10-17T16:38:39.120Z"
   },
   {
    "duration": 20,
    "start_time": "2022-10-17T16:38:42.996Z"
   },
   {
    "duration": 22,
    "start_time": "2022-10-17T16:38:44.646Z"
   },
   {
    "duration": 45,
    "start_time": "2022-10-17T16:40:06.560Z"
   },
   {
    "duration": 47,
    "start_time": "2022-10-17T16:40:11.886Z"
   },
   {
    "duration": 19,
    "start_time": "2022-10-17T16:40:13.185Z"
   },
   {
    "duration": 20,
    "start_time": "2022-10-17T16:40:21.634Z"
   },
   {
    "duration": 30,
    "start_time": "2022-10-17T16:41:03.494Z"
   },
   {
    "duration": 46,
    "start_time": "2022-10-17T16:41:52.506Z"
   },
   {
    "duration": 25,
    "start_time": "2022-10-17T16:42:43.555Z"
   },
   {
    "duration": 391,
    "start_time": "2022-10-17T16:43:04.334Z"
   },
   {
    "duration": 194,
    "start_time": "2022-10-17T16:43:04.727Z"
   },
   {
    "duration": 8,
    "start_time": "2022-10-17T16:43:04.923Z"
   },
   {
    "duration": 60,
    "start_time": "2022-10-17T16:43:04.933Z"
   },
   {
    "duration": 22,
    "start_time": "2022-10-17T16:43:04.995Z"
   },
   {
    "duration": 388,
    "start_time": "2022-10-17T16:43:05.019Z"
   },
   {
    "duration": 83,
    "start_time": "2022-10-17T16:43:05.409Z"
   },
   {
    "duration": 22,
    "start_time": "2022-10-17T16:43:05.494Z"
   },
   {
    "duration": 52,
    "start_time": "2022-10-17T16:43:05.517Z"
   },
   {
    "duration": 16,
    "start_time": "2022-10-17T16:43:39.460Z"
   },
   {
    "duration": 122,
    "start_time": "2022-10-17T16:44:12.460Z"
   },
   {
    "duration": 139,
    "start_time": "2022-10-17T16:44:27.434Z"
   },
   {
    "duration": 75,
    "start_time": "2022-10-17T16:44:29.626Z"
   },
   {
    "duration": 73,
    "start_time": "2022-10-17T16:44:33.006Z"
   },
   {
    "duration": 709,
    "start_time": "2022-10-17T16:44:48.725Z"
   },
   {
    "duration": 77,
    "start_time": "2022-10-17T16:44:59.589Z"
   },
   {
    "duration": 223,
    "start_time": "2022-10-17T16:45:04.606Z"
   },
   {
    "duration": 75,
    "start_time": "2022-10-17T16:45:16.860Z"
   },
   {
    "duration": 70,
    "start_time": "2022-10-17T16:45:20.484Z"
   },
   {
    "duration": 70,
    "start_time": "2022-10-17T16:45:23.190Z"
   },
   {
    "duration": 1180,
    "start_time": "2022-10-17T16:45:28.263Z"
   },
   {
    "duration": 85,
    "start_time": "2022-10-17T16:45:30.700Z"
   },
   {
    "duration": 64,
    "start_time": "2022-10-17T16:45:33.171Z"
   },
   {
    "duration": 65,
    "start_time": "2022-10-17T16:45:37.977Z"
   },
   {
    "duration": 65,
    "start_time": "2022-10-17T16:45:40.250Z"
   },
   {
    "duration": 62,
    "start_time": "2022-10-17T16:45:43.600Z"
   },
   {
    "duration": 67,
    "start_time": "2022-10-17T16:45:45.553Z"
   },
   {
    "duration": 60,
    "start_time": "2022-10-17T16:45:51.010Z"
   },
   {
    "duration": 61,
    "start_time": "2022-10-17T16:45:56.355Z"
   },
   {
    "duration": 15,
    "start_time": "2022-10-17T16:46:36.034Z"
   },
   {
    "duration": 537,
    "start_time": "2022-10-17T16:46:49.073Z"
   },
   {
    "duration": 520,
    "start_time": "2022-10-17T16:46:59.466Z"
   },
   {
    "duration": 456,
    "start_time": "2022-10-17T16:47:04.771Z"
   },
   {
    "duration": 463,
    "start_time": "2022-10-17T16:47:10.700Z"
   },
   {
    "duration": 450,
    "start_time": "2022-10-17T16:47:14.149Z"
   },
   {
    "duration": 442,
    "start_time": "2022-10-17T16:47:19.078Z"
   },
   {
    "duration": 458,
    "start_time": "2022-10-17T16:47:23.197Z"
   },
   {
    "duration": 455,
    "start_time": "2022-10-17T16:47:26.692Z"
   },
   {
    "duration": 442,
    "start_time": "2022-10-17T16:47:28.400Z"
   },
   {
    "duration": 186,
    "start_time": "2022-10-17T16:47:43.450Z"
   },
   {
    "duration": 203,
    "start_time": "2022-10-17T16:47:48.869Z"
   },
   {
    "duration": 189,
    "start_time": "2022-10-17T16:47:57.243Z"
   },
   {
    "duration": 18,
    "start_time": "2022-10-17T16:48:22.432Z"
   },
   {
    "duration": 31,
    "start_time": "2022-10-17T16:48:32.556Z"
   },
   {
    "duration": 26,
    "start_time": "2022-10-17T16:48:34.581Z"
   },
   {
    "duration": 56,
    "start_time": "2022-10-17T16:48:54.568Z"
   },
   {
    "duration": 47,
    "start_time": "2022-10-17T16:49:08.426Z"
   },
   {
    "duration": 269,
    "start_time": "2022-10-17T16:49:08.581Z"
   },
   {
    "duration": 206,
    "start_time": "2022-10-17T16:49:19.445Z"
   },
   {
    "duration": 255,
    "start_time": "2022-10-17T16:49:30.582Z"
   },
   {
    "duration": 243,
    "start_time": "2022-10-17T16:49:41.687Z"
   },
   {
    "duration": 239,
    "start_time": "2022-10-17T16:49:46.050Z"
   },
   {
    "duration": 281,
    "start_time": "2022-10-17T16:49:49.872Z"
   },
   {
    "duration": 504,
    "start_time": "2022-10-17T16:50:24.861Z"
   },
   {
    "duration": 281,
    "start_time": "2022-10-17T16:50:29.687Z"
   },
   {
    "duration": 216,
    "start_time": "2022-10-17T16:50:36.541Z"
   },
   {
    "duration": 221,
    "start_time": "2022-10-17T16:51:05.568Z"
   },
   {
    "duration": 320,
    "start_time": "2022-10-17T16:51:10.741Z"
   },
   {
    "duration": 220,
    "start_time": "2022-10-17T16:51:15.119Z"
   },
   {
    "duration": 211,
    "start_time": "2022-10-17T16:51:42.531Z"
   },
   {
    "duration": 220,
    "start_time": "2022-10-17T16:51:45.341Z"
   },
   {
    "duration": 303,
    "start_time": "2022-10-17T16:57:27.821Z"
   },
   {
    "duration": 287,
    "start_time": "2022-10-17T16:57:46.416Z"
   },
   {
    "duration": 328,
    "start_time": "2022-10-17T16:57:50.253Z"
   },
   {
    "duration": 545,
    "start_time": "2022-10-17T16:59:29.015Z"
   },
   {
    "duration": 321,
    "start_time": "2022-10-17T16:59:39.815Z"
   },
   {
    "duration": 341,
    "start_time": "2022-10-17T17:00:40.610Z"
   },
   {
    "duration": 10,
    "start_time": "2022-10-17T17:00:52.273Z"
   },
   {
    "duration": 324,
    "start_time": "2022-10-17T17:01:01.121Z"
   },
   {
    "duration": 5,
    "start_time": "2022-10-17T17:01:19.456Z"
   },
   {
    "duration": 9,
    "start_time": "2022-10-17T17:01:53.690Z"
   },
   {
    "duration": 8,
    "start_time": "2022-10-17T17:01:58.863Z"
   },
   {
    "duration": 295,
    "start_time": "2022-10-17T17:02:04.106Z"
   },
   {
    "duration": 8,
    "start_time": "2022-10-17T17:02:52.751Z"
   },
   {
    "duration": 3,
    "start_time": "2022-10-17T17:03:02.772Z"
   },
   {
    "duration": 446,
    "start_time": "2022-10-17T17:03:07.644Z"
   },
   {
    "duration": 222,
    "start_time": "2022-10-17T17:03:08.092Z"
   },
   {
    "duration": 9,
    "start_time": "2022-10-17T17:03:08.316Z"
   },
   {
    "duration": 71,
    "start_time": "2022-10-17T17:03:08.328Z"
   },
   {
    "duration": 32,
    "start_time": "2022-10-17T17:03:08.401Z"
   },
   {
    "duration": 429,
    "start_time": "2022-10-17T17:03:08.435Z"
   },
   {
    "duration": 92,
    "start_time": "2022-10-17T17:03:08.866Z"
   },
   {
    "duration": 30,
    "start_time": "2022-10-17T17:03:08.964Z"
   },
   {
    "duration": 63,
    "start_time": "2022-10-17T17:03:08.996Z"
   },
   {
    "duration": 163,
    "start_time": "2022-10-17T17:03:09.062Z"
   },
   {
    "duration": 35,
    "start_time": "2022-10-17T17:03:09.227Z"
   },
   {
    "duration": 751,
    "start_time": "2022-10-17T17:03:09.264Z"
   },
   {
    "duration": 432,
    "start_time": "2022-10-17T17:03:10.018Z"
   },
   {
    "duration": 0,
    "start_time": "2022-10-17T17:03:10.452Z"
   },
   {
    "duration": 10,
    "start_time": "2022-10-17T17:03:29.348Z"
   },
   {
    "duration": 20,
    "start_time": "2022-10-17T17:03:40.195Z"
   },
   {
    "duration": 445,
    "start_time": "2022-10-17T17:03:46.386Z"
   },
   {
    "duration": 187,
    "start_time": "2022-10-17T17:03:46.833Z"
   },
   {
    "duration": 9,
    "start_time": "2022-10-17T17:03:47.022Z"
   },
   {
    "duration": 58,
    "start_time": "2022-10-17T17:03:47.032Z"
   },
   {
    "duration": 22,
    "start_time": "2022-10-17T17:03:47.093Z"
   },
   {
    "duration": 409,
    "start_time": "2022-10-17T17:03:47.117Z"
   },
   {
    "duration": 100,
    "start_time": "2022-10-17T17:03:47.528Z"
   },
   {
    "duration": 23,
    "start_time": "2022-10-17T17:03:47.630Z"
   },
   {
    "duration": 66,
    "start_time": "2022-10-17T17:03:47.656Z"
   },
   {
    "duration": 140,
    "start_time": "2022-10-17T17:03:47.723Z"
   },
   {
    "duration": 45,
    "start_time": "2022-10-17T17:03:47.865Z"
   },
   {
    "duration": 728,
    "start_time": "2022-10-17T17:03:47.913Z"
   },
   {
    "duration": 535,
    "start_time": "2022-10-17T17:03:48.643Z"
   },
   {
    "duration": 0,
    "start_time": "2022-10-17T17:03:49.180Z"
   },
   {
    "duration": 0,
    "start_time": "2022-10-17T17:03:49.182Z"
   },
   {
    "duration": 9,
    "start_time": "2022-10-17T17:03:57.805Z"
   },
   {
    "duration": 16,
    "start_time": "2022-10-17T17:03:57.929Z"
   },
   {
    "duration": 4,
    "start_time": "2022-10-17T17:04:31.703Z"
   },
   {
    "duration": 13,
    "start_time": "2022-10-17T17:04:42.739Z"
   },
   {
    "duration": 10,
    "start_time": "2022-10-17T17:05:22.151Z"
   },
   {
    "duration": 1725,
    "start_time": "2022-10-17T17:05:25.948Z"
   },
   {
    "duration": 1753,
    "start_time": "2022-10-17T17:05:34.832Z"
   },
   {
    "duration": 6,
    "start_time": "2022-10-17T17:05:47.593Z"
   },
   {
    "duration": 47,
    "start_time": "2022-10-17T17:05:55.985Z"
   },
   {
    "duration": 5,
    "start_time": "2022-10-17T17:06:05.246Z"
   },
   {
    "duration": 123,
    "start_time": "2022-10-17T17:06:16.524Z"
   },
   {
    "duration": 16,
    "start_time": "2022-10-17T17:06:16.677Z"
   },
   {
    "duration": 10,
    "start_time": "2022-10-17T17:06:21.654Z"
   },
   {
    "duration": 18,
    "start_time": "2022-10-17T17:06:21.780Z"
   },
   {
    "duration": 97,
    "start_time": "2022-10-17T17:06:34.884Z"
   },
   {
    "duration": 451,
    "start_time": "2022-10-17T17:06:50.858Z"
   },
   {
    "duration": 192,
    "start_time": "2022-10-17T17:06:51.311Z"
   },
   {
    "duration": 8,
    "start_time": "2022-10-17T17:06:51.504Z"
   },
   {
    "duration": 68,
    "start_time": "2022-10-17T17:06:51.514Z"
   },
   {
    "duration": 23,
    "start_time": "2022-10-17T17:06:51.584Z"
   },
   {
    "duration": 440,
    "start_time": "2022-10-17T17:06:51.609Z"
   },
   {
    "duration": 123,
    "start_time": "2022-10-17T17:06:52.051Z"
   },
   {
    "duration": 33,
    "start_time": "2022-10-17T17:06:52.176Z"
   },
   {
    "duration": 57,
    "start_time": "2022-10-17T17:06:52.211Z"
   },
   {
    "duration": 123,
    "start_time": "2022-10-17T17:06:52.272Z"
   },
   {
    "duration": 37,
    "start_time": "2022-10-17T17:06:52.396Z"
   },
   {
    "duration": 676,
    "start_time": "2022-10-17T17:06:52.435Z"
   },
   {
    "duration": 2,
    "start_time": "2022-10-17T17:06:53.114Z"
   },
   {
    "duration": 2020,
    "start_time": "2022-10-17T17:06:53.118Z"
   },
   {
    "duration": 0,
    "start_time": "2022-10-17T17:06:55.393Z"
   },
   {
    "duration": 9,
    "start_time": "2022-10-17T17:07:04.606Z"
   },
   {
    "duration": 14,
    "start_time": "2022-10-17T17:07:04.767Z"
   },
   {
    "duration": 16,
    "start_time": "2022-10-17T17:07:25.168Z"
   },
   {
    "duration": 11,
    "start_time": "2022-10-17T17:07:36.852Z"
   },
   {
    "duration": 47,
    "start_time": "2022-10-17T17:07:40.619Z"
   },
   {
    "duration": 16,
    "start_time": "2022-10-17T17:08:10.309Z"
   },
   {
    "duration": 320,
    "start_time": "2022-10-17T17:08:25.523Z"
   },
   {
    "duration": 397,
    "start_time": "2022-10-17T17:08:50.625Z"
   },
   {
    "duration": 360,
    "start_time": "2022-10-17T17:10:42.053Z"
   },
   {
    "duration": 33,
    "start_time": "2022-10-17T17:12:01.054Z"
   },
   {
    "duration": 335,
    "start_time": "2022-10-17T17:12:01.214Z"
   },
   {
    "duration": 418,
    "start_time": "2022-10-17T17:12:01.551Z"
   },
   {
    "duration": 40,
    "start_time": "2022-10-17T17:12:05.961Z"
   },
   {
    "duration": 334,
    "start_time": "2022-10-17T17:12:06.097Z"
   },
   {
    "duration": 445,
    "start_time": "2022-10-17T17:12:06.434Z"
   },
   {
    "duration": 3,
    "start_time": "2022-10-17T17:12:14.576Z"
   },
   {
    "duration": 186,
    "start_time": "2022-10-17T17:12:14.584Z"
   },
   {
    "duration": 16,
    "start_time": "2022-10-17T17:12:14.773Z"
   },
   {
    "duration": 34,
    "start_time": "2022-10-17T17:12:14.791Z"
   },
   {
    "duration": 22,
    "start_time": "2022-10-17T17:12:14.827Z"
   },
   {
    "duration": 368,
    "start_time": "2022-10-17T17:12:14.851Z"
   },
   {
    "duration": 79,
    "start_time": "2022-10-17T17:12:15.221Z"
   },
   {
    "duration": 30,
    "start_time": "2022-10-17T17:12:15.302Z"
   },
   {
    "duration": 66,
    "start_time": "2022-10-17T17:12:15.334Z"
   },
   {
    "duration": 105,
    "start_time": "2022-10-17T17:12:15.402Z"
   },
   {
    "duration": 43,
    "start_time": "2022-10-17T17:12:15.509Z"
   },
   {
    "duration": 346,
    "start_time": "2022-10-17T17:12:15.554Z"
   },
   {
    "duration": 349,
    "start_time": "2022-10-17T17:12:15.901Z"
   },
   {
    "duration": 341,
    "start_time": "2022-10-17T17:12:38.168Z"
   },
   {
    "duration": 189,
    "start_time": "2022-10-17T17:12:43.525Z"
   },
   {
    "duration": 353,
    "start_time": "2022-10-17T17:12:47.387Z"
   },
   {
    "duration": 393,
    "start_time": "2022-10-17T17:12:52.920Z"
   },
   {
    "duration": 321,
    "start_time": "2022-10-17T17:13:32.232Z"
   },
   {
    "duration": 320,
    "start_time": "2022-10-17T17:13:55.895Z"
   },
   {
    "duration": 416,
    "start_time": "2022-10-17T17:14:05.263Z"
   },
   {
    "duration": 327,
    "start_time": "2022-10-17T17:14:12.435Z"
   },
   {
    "duration": 334,
    "start_time": "2022-10-17T17:14:26.470Z"
   },
   {
    "duration": 444,
    "start_time": "2022-10-17T17:14:37.858Z"
   },
   {
    "duration": 310,
    "start_time": "2022-10-17T17:14:43.183Z"
   },
   {
    "duration": 337,
    "start_time": "2022-10-17T17:14:49.834Z"
   },
   {
    "duration": 309,
    "start_time": "2022-10-17T17:14:56.573Z"
   },
   {
    "duration": 3,
    "start_time": "2022-10-17T17:16:31.280Z"
   },
   {
    "duration": 182,
    "start_time": "2022-10-17T17:16:57.659Z"
   },
   {
    "duration": 154,
    "start_time": "2022-10-17T17:17:08.212Z"
   },
   {
    "duration": 190,
    "start_time": "2022-10-17T17:17:26.633Z"
   },
   {
    "duration": 325,
    "start_time": "2022-10-17T17:17:31.527Z"
   },
   {
    "duration": 179,
    "start_time": "2022-10-17T17:18:04.786Z"
   },
   {
    "duration": 177,
    "start_time": "2022-10-17T17:18:19.808Z"
   },
   {
    "duration": 715,
    "start_time": "2022-10-17T17:19:32.505Z"
   },
   {
    "duration": 196,
    "start_time": "2022-10-17T17:19:33.222Z"
   },
   {
    "duration": 9,
    "start_time": "2022-10-17T17:19:33.420Z"
   },
   {
    "duration": 64,
    "start_time": "2022-10-17T17:19:33.431Z"
   },
   {
    "duration": 25,
    "start_time": "2022-10-17T17:19:33.497Z"
   },
   {
    "duration": 409,
    "start_time": "2022-10-17T17:19:33.524Z"
   },
   {
    "duration": 85,
    "start_time": "2022-10-17T17:19:33.935Z"
   },
   {
    "duration": 23,
    "start_time": "2022-10-17T17:19:34.022Z"
   },
   {
    "duration": 66,
    "start_time": "2022-10-17T17:19:34.046Z"
   },
   {
    "duration": 108,
    "start_time": "2022-10-17T17:19:34.115Z"
   },
   {
    "duration": 34,
    "start_time": "2022-10-17T17:19:34.225Z"
   },
   {
    "duration": 410,
    "start_time": "2022-10-17T17:19:34.261Z"
   },
   {
    "duration": 408,
    "start_time": "2022-10-17T17:19:34.673Z"
   },
   {
    "duration": 296,
    "start_time": "2022-10-17T17:19:35.083Z"
   },
   {
    "duration": 265,
    "start_time": "2022-10-17T17:20:01.823Z"
   },
   {
    "duration": 300,
    "start_time": "2022-10-17T17:20:11.432Z"
   },
   {
    "duration": 9,
    "start_time": "2022-10-17T17:23:19.692Z"
   },
   {
    "duration": 10,
    "start_time": "2022-10-17T17:24:00.698Z"
   },
   {
    "duration": 11,
    "start_time": "2022-10-17T17:24:02.352Z"
   },
   {
    "duration": 174,
    "start_time": "2022-10-17T17:24:28.917Z"
   },
   {
    "duration": 14,
    "start_time": "2022-10-17T17:27:11.173Z"
   },
   {
    "duration": 33,
    "start_time": "2022-10-17T17:28:16.612Z"
   },
   {
    "duration": 37,
    "start_time": "2022-10-17T17:28:31.609Z"
   },
   {
    "duration": 34,
    "start_time": "2022-10-17T17:28:33.598Z"
   },
   {
    "duration": 23,
    "start_time": "2022-10-17T17:28:43.373Z"
   },
   {
    "duration": 19,
    "start_time": "2022-10-17T17:28:45.209Z"
   },
   {
    "duration": 11,
    "start_time": "2022-10-17T17:28:53.113Z"
   },
   {
    "duration": 8,
    "start_time": "2022-10-17T17:28:54.714Z"
   },
   {
    "duration": 9,
    "start_time": "2022-10-17T17:28:56.971Z"
   },
   {
    "duration": 9,
    "start_time": "2022-10-17T17:28:59.792Z"
   },
   {
    "duration": 19,
    "start_time": "2022-10-17T17:29:07.609Z"
   },
   {
    "duration": 24,
    "start_time": "2022-10-17T17:29:10.584Z"
   },
   {
    "duration": 19,
    "start_time": "2022-10-17T17:29:14.893Z"
   },
   {
    "duration": 20,
    "start_time": "2022-10-17T17:29:19.962Z"
   },
   {
    "duration": 24,
    "start_time": "2022-10-17T17:29:22.167Z"
   },
   {
    "duration": 20,
    "start_time": "2022-10-17T17:29:24.269Z"
   },
   {
    "duration": 33,
    "start_time": "2022-10-17T17:29:52.523Z"
   },
   {
    "duration": 34,
    "start_time": "2022-10-17T17:30:00.142Z"
   },
   {
    "duration": 34,
    "start_time": "2022-10-17T17:30:02.315Z"
   },
   {
    "duration": 35,
    "start_time": "2022-10-17T17:30:21.188Z"
   },
   {
    "duration": 18,
    "start_time": "2022-10-17T17:30:24.970Z"
   },
   {
    "duration": 20,
    "start_time": "2022-10-17T17:30:25.136Z"
   },
   {
    "duration": 41,
    "start_time": "2022-10-17T17:30:31.833Z"
   },
   {
    "duration": 10,
    "start_time": "2022-10-17T17:30:33.683Z"
   },
   {
    "duration": 30,
    "start_time": "2022-10-17T17:30:37.557Z"
   },
   {
    "duration": 51,
    "start_time": "2022-10-17T17:30:49.008Z"
   },
   {
    "duration": 41,
    "start_time": "2022-10-17T17:30:52.176Z"
   },
   {
    "duration": 77,
    "start_time": "2022-10-17T17:30:58.111Z"
   },
   {
    "duration": 113,
    "start_time": "2022-10-17T17:31:15.871Z"
   },
   {
    "duration": 145,
    "start_time": "2022-10-17T17:31:21.853Z"
   },
   {
    "duration": 109,
    "start_time": "2022-10-17T17:32:04.421Z"
   },
   {
    "duration": 126,
    "start_time": "2022-10-17T17:32:11.718Z"
   },
   {
    "duration": 120,
    "start_time": "2022-10-17T17:32:17.702Z"
   },
   {
    "duration": 120,
    "start_time": "2022-10-17T17:32:19.613Z"
   },
   {
    "duration": 122,
    "start_time": "2022-10-17T17:32:58.232Z"
   },
   {
    "duration": 116,
    "start_time": "2022-10-17T17:33:17.554Z"
   },
   {
    "duration": 65,
    "start_time": "2022-10-17T17:33:50.163Z"
   },
   {
    "duration": 282,
    "start_time": "2022-10-17T17:40:28.505Z"
   },
   {
    "duration": 18,
    "start_time": "2022-10-17T17:40:46.884Z"
   },
   {
    "duration": 7,
    "start_time": "2022-10-17T17:41:29.075Z"
   },
   {
    "duration": 69,
    "start_time": "2022-10-17T17:41:32.442Z"
   },
   {
    "duration": 14,
    "start_time": "2022-10-17T17:41:46.510Z"
   },
   {
    "duration": 117,
    "start_time": "2022-10-17T17:42:09.132Z"
   },
   {
    "duration": 101,
    "start_time": "2022-10-17T17:42:29.052Z"
   },
   {
    "duration": 99,
    "start_time": "2022-10-17T17:42:33.718Z"
   },
   {
    "duration": 31,
    "start_time": "2022-10-17T17:44:14.750Z"
   },
   {
    "duration": 116,
    "start_time": "2022-10-17T17:44:18.284Z"
   },
   {
    "duration": 78,
    "start_time": "2022-10-17T17:44:22.326Z"
   },
   {
    "duration": 420,
    "start_time": "2022-10-17T17:45:42.077Z"
   },
   {
    "duration": 386,
    "start_time": "2022-10-17T17:45:49.654Z"
   },
   {
    "duration": 377,
    "start_time": "2022-10-17T17:45:53.473Z"
   },
   {
    "duration": 1147,
    "start_time": "2022-10-17T17:46:19.566Z"
   },
   {
    "duration": 1111,
    "start_time": "2022-10-17T17:46:26.865Z"
   },
   {
    "duration": 8,
    "start_time": "2022-10-17T17:47:07.293Z"
   },
   {
    "duration": 110,
    "start_time": "2022-10-17T17:47:09.327Z"
   },
   {
    "duration": 98,
    "start_time": "2022-10-17T17:47:24.144Z"
   },
   {
    "duration": 8,
    "start_time": "2022-10-17T17:48:00.360Z"
   },
   {
    "duration": 9,
    "start_time": "2022-10-17T17:48:06.852Z"
   },
   {
    "duration": 9,
    "start_time": "2022-10-17T17:48:12.586Z"
   },
   {
    "duration": 4,
    "start_time": "2022-10-17T17:48:15.486Z"
   },
   {
    "duration": 102,
    "start_time": "2022-10-17T17:48:24.288Z"
   },
   {
    "duration": 69,
    "start_time": "2022-10-17T17:48:37.636Z"
   },
   {
    "duration": 19,
    "start_time": "2022-10-17T17:49:06.614Z"
   },
   {
    "duration": 177,
    "start_time": "2022-10-17T17:49:13.639Z"
   },
   {
    "duration": 65,
    "start_time": "2022-10-17T17:49:35.468Z"
   },
   {
    "duration": 14,
    "start_time": "2022-10-17T17:50:22.515Z"
   },
   {
    "duration": 73,
    "start_time": "2022-10-17T17:50:22.672Z"
   },
   {
    "duration": 119,
    "start_time": "2022-10-17T17:50:30.731Z"
   },
   {
    "duration": 73,
    "start_time": "2022-10-17T17:51:26.288Z"
   },
   {
    "duration": 274,
    "start_time": "2022-10-17T17:51:46.173Z"
   },
   {
    "duration": 102,
    "start_time": "2022-10-17T17:52:09.724Z"
   },
   {
    "duration": 17,
    "start_time": "2022-10-17T17:53:15.256Z"
   },
   {
    "duration": 78,
    "start_time": "2022-10-17T17:53:49.741Z"
   },
   {
    "duration": 20,
    "start_time": "2022-10-17T17:54:09.860Z"
   },
   {
    "duration": 79,
    "start_time": "2022-10-17T17:54:20.393Z"
   },
   {
    "duration": 3,
    "start_time": "2022-10-17T17:54:40.590Z"
   },
   {
    "duration": 191,
    "start_time": "2022-10-17T17:54:40.596Z"
   },
   {
    "duration": 8,
    "start_time": "2022-10-17T17:54:40.789Z"
   },
   {
    "duration": 46,
    "start_time": "2022-10-17T17:54:40.800Z"
   },
   {
    "duration": 47,
    "start_time": "2022-10-17T17:54:40.848Z"
   },
   {
    "duration": 341,
    "start_time": "2022-10-17T17:54:40.897Z"
   },
   {
    "duration": 82,
    "start_time": "2022-10-17T17:54:41.239Z"
   },
   {
    "duration": 20,
    "start_time": "2022-10-17T17:54:41.323Z"
   },
   {
    "duration": 63,
    "start_time": "2022-10-17T17:54:41.344Z"
   },
   {
    "duration": 110,
    "start_time": "2022-10-17T17:54:41.409Z"
   },
   {
    "duration": 36,
    "start_time": "2022-10-17T17:54:41.521Z"
   },
   {
    "duration": 411,
    "start_time": "2022-10-17T17:54:41.558Z"
   },
   {
    "duration": 290,
    "start_time": "2022-10-17T17:54:41.971Z"
   },
   {
    "duration": 136,
    "start_time": "2022-10-17T17:54:42.264Z"
   },
   {
    "duration": 113,
    "start_time": "2022-10-17T17:54:42.402Z"
   },
   {
    "duration": 116,
    "start_time": "2022-10-17T17:54:42.517Z"
   },
   {
    "duration": 72,
    "start_time": "2022-10-17T17:54:45.900Z"
   },
   {
    "duration": 283,
    "start_time": "2022-10-17T17:57:21.848Z"
   },
   {
    "duration": 75,
    "start_time": "2022-10-17T17:57:28.627Z"
   },
   {
    "duration": 74,
    "start_time": "2022-10-17T17:57:33.959Z"
   },
   {
    "duration": 94,
    "start_time": "2022-10-17T17:57:40.023Z"
   },
   {
    "duration": 67,
    "start_time": "2022-10-17T17:57:43.233Z"
   },
   {
    "duration": 10,
    "start_time": "2022-10-17T17:57:54.091Z"
   },
   {
    "duration": 45,
    "start_time": "2022-10-17T17:57:56.557Z"
   },
   {
    "duration": 9,
    "start_time": "2022-10-17T17:59:02.918Z"
   },
   {
    "duration": 7,
    "start_time": "2022-10-17T17:59:56.162Z"
   },
   {
    "duration": 4,
    "start_time": "2022-10-17T17:59:58.457Z"
   },
   {
    "duration": 981,
    "start_time": "2022-10-17T18:00:27.636Z"
   },
   {
    "duration": 967,
    "start_time": "2022-10-17T18:00:32.530Z"
   },
   {
    "duration": 2618,
    "start_time": "2022-10-17T18:00:40.399Z"
   },
   {
    "duration": 686,
    "start_time": "2022-10-17T18:00:50.857Z"
   },
   {
    "duration": 188,
    "start_time": "2022-10-17T18:00:51.545Z"
   },
   {
    "duration": 7,
    "start_time": "2022-10-17T18:00:51.735Z"
   },
   {
    "duration": 70,
    "start_time": "2022-10-17T18:00:51.745Z"
   },
   {
    "duration": 28,
    "start_time": "2022-10-17T18:00:51.818Z"
   },
   {
    "duration": 516,
    "start_time": "2022-10-17T18:00:51.849Z"
   },
   {
    "duration": 87,
    "start_time": "2022-10-17T18:00:52.367Z"
   },
   {
    "duration": 33,
    "start_time": "2022-10-17T18:00:52.457Z"
   },
   {
    "duration": 57,
    "start_time": "2022-10-17T18:00:52.492Z"
   },
   {
    "duration": 139,
    "start_time": "2022-10-17T18:00:52.552Z"
   },
   {
    "duration": 35,
    "start_time": "2022-10-17T18:00:52.692Z"
   },
   {
    "duration": 406,
    "start_time": "2022-10-17T18:00:52.729Z"
   },
   {
    "duration": 266,
    "start_time": "2022-10-17T18:00:53.137Z"
   },
   {
    "duration": 167,
    "start_time": "2022-10-17T18:00:53.404Z"
   },
   {
    "duration": 135,
    "start_time": "2022-10-17T18:00:53.574Z"
   },
   {
    "duration": 84,
    "start_time": "2022-10-17T18:00:53.710Z"
   },
   {
    "duration": 0,
    "start_time": "2022-10-17T18:00:53.795Z"
   },
   {
    "duration": 0,
    "start_time": "2022-10-17T18:00:53.797Z"
   },
   {
    "duration": 3,
    "start_time": "2022-10-17T18:00:58.047Z"
   },
   {
    "duration": 80,
    "start_time": "2022-10-17T18:00:59.493Z"
   },
   {
    "duration": 2571,
    "start_time": "2022-10-17T18:00:59.623Z"
   },
   {
    "duration": 3,
    "start_time": "2022-10-17T18:01:03.015Z"
   },
   {
    "duration": 2516,
    "start_time": "2022-10-17T18:01:03.172Z"
   },
   {
    "duration": 11,
    "start_time": "2022-10-17T18:01:27.995Z"
   },
   {
    "duration": 4,
    "start_time": "2022-10-17T18:01:30.401Z"
   },
   {
    "duration": 2294,
    "start_time": "2022-10-17T18:01:40.523Z"
   },
   {
    "duration": 4,
    "start_time": "2022-10-17T18:01:43.172Z"
   },
   {
    "duration": 2736,
    "start_time": "2022-10-17T18:02:04.207Z"
   },
   {
    "duration": 62,
    "start_time": "2022-10-17T18:02:06.945Z"
   },
   {
    "duration": 1,
    "start_time": "2022-10-17T18:02:07.048Z"
   },
   {
    "duration": 0,
    "start_time": "2022-10-17T18:02:07.050Z"
   },
   {
    "duration": 0,
    "start_time": "2022-10-17T18:02:07.051Z"
   },
   {
    "duration": 0,
    "start_time": "2022-10-17T18:02:07.052Z"
   },
   {
    "duration": 0,
    "start_time": "2022-10-17T18:02:07.054Z"
   },
   {
    "duration": 0,
    "start_time": "2022-10-17T18:02:07.055Z"
   },
   {
    "duration": 0,
    "start_time": "2022-10-17T18:02:07.056Z"
   },
   {
    "duration": 0,
    "start_time": "2022-10-17T18:02:07.058Z"
   },
   {
    "duration": 0,
    "start_time": "2022-10-17T18:02:07.059Z"
   },
   {
    "duration": 0,
    "start_time": "2022-10-17T18:02:07.060Z"
   },
   {
    "duration": 0,
    "start_time": "2022-10-17T18:02:07.061Z"
   },
   {
    "duration": 0,
    "start_time": "2022-10-17T18:02:07.062Z"
   },
   {
    "duration": 0,
    "start_time": "2022-10-17T18:02:07.089Z"
   },
   {
    "duration": 0,
    "start_time": "2022-10-17T18:02:07.091Z"
   },
   {
    "duration": 0,
    "start_time": "2022-10-17T18:02:07.092Z"
   },
   {
    "duration": 0,
    "start_time": "2022-10-17T18:02:07.093Z"
   },
   {
    "duration": 2928,
    "start_time": "2022-10-17T18:02:33.243Z"
   },
   {
    "duration": 183,
    "start_time": "2022-10-17T18:02:36.173Z"
   },
   {
    "duration": 8,
    "start_time": "2022-10-17T18:02:36.357Z"
   },
   {
    "duration": 71,
    "start_time": "2022-10-17T18:02:36.367Z"
   },
   {
    "duration": 23,
    "start_time": "2022-10-17T18:02:36.440Z"
   },
   {
    "duration": 392,
    "start_time": "2022-10-17T18:02:36.465Z"
   },
   {
    "duration": 78,
    "start_time": "2022-10-17T18:02:36.860Z"
   },
   {
    "duration": 44,
    "start_time": "2022-10-17T18:02:36.940Z"
   },
   {
    "duration": 52,
    "start_time": "2022-10-17T18:02:36.985Z"
   },
   {
    "duration": 98,
    "start_time": "2022-10-17T18:02:37.040Z"
   },
   {
    "duration": 32,
    "start_time": "2022-10-17T18:02:37.139Z"
   },
   {
    "duration": 410,
    "start_time": "2022-10-17T18:02:37.173Z"
   },
   {
    "duration": 263,
    "start_time": "2022-10-17T18:02:37.585Z"
   },
   {
    "duration": 134,
    "start_time": "2022-10-17T18:02:37.850Z"
   },
   {
    "duration": 121,
    "start_time": "2022-10-17T18:02:37.989Z"
   },
   {
    "duration": 2,
    "start_time": "2022-10-17T18:02:38.112Z"
   },
   {
    "duration": 8,
    "start_time": "2022-10-17T18:02:38.116Z"
   },
   {
    "duration": 16,
    "start_time": "2022-10-17T18:02:38.126Z"
   },
   {
    "duration": 78,
    "start_time": "2022-10-17T18:03:26.004Z"
   },
   {
    "duration": 77,
    "start_time": "2022-10-17T18:03:29.171Z"
   },
   {
    "duration": 52,
    "start_time": "2022-10-17T18:03:34.040Z"
   },
   {
    "duration": 81,
    "start_time": "2022-10-17T18:04:00.291Z"
   },
   {
    "duration": 51,
    "start_time": "2022-10-17T18:04:07.100Z"
   },
   {
    "duration": 52,
    "start_time": "2022-10-17T18:04:14.362Z"
   },
   {
    "duration": 88,
    "start_time": "2022-10-17T18:04:21.975Z"
   },
   {
    "duration": 53,
    "start_time": "2022-10-17T18:05:25.633Z"
   },
   {
    "duration": 65,
    "start_time": "2022-10-17T18:05:31.907Z"
   },
   {
    "duration": 52,
    "start_time": "2022-10-17T18:06:26.898Z"
   },
   {
    "duration": 81,
    "start_time": "2022-10-17T18:06:53.349Z"
   },
   {
    "duration": 60,
    "start_time": "2022-10-17T18:08:17.577Z"
   },
   {
    "duration": 69,
    "start_time": "2022-10-17T18:08:21.985Z"
   },
   {
    "duration": 57,
    "start_time": "2022-10-17T18:09:02.988Z"
   },
   {
    "duration": 57,
    "start_time": "2022-10-17T18:09:22.085Z"
   },
   {
    "duration": 46,
    "start_time": "2022-10-17T18:10:43.464Z"
   },
   {
    "duration": 8,
    "start_time": "2022-10-17T18:10:46.117Z"
   },
   {
    "duration": 52,
    "start_time": "2022-10-17T18:10:49.284Z"
   },
   {
    "duration": 106,
    "start_time": "2022-10-17T18:12:00.921Z"
   },
   {
    "duration": 54,
    "start_time": "2022-10-17T18:12:14.237Z"
   },
   {
    "duration": 56,
    "start_time": "2022-10-17T18:12:19.032Z"
   },
   {
    "duration": 104,
    "start_time": "2022-10-17T18:12:59.506Z"
   },
   {
    "duration": 47,
    "start_time": "2022-10-17T18:13:13.939Z"
   },
   {
    "duration": 53,
    "start_time": "2022-10-17T18:13:28.338Z"
   },
   {
    "duration": 53,
    "start_time": "2022-10-17T18:14:39.810Z"
   },
   {
    "duration": 51,
    "start_time": "2022-10-17T18:15:28.743Z"
   },
   {
    "duration": 34,
    "start_time": "2022-10-17T18:23:29.903Z"
   },
   {
    "duration": 142,
    "start_time": "2022-10-17T18:24:22.724Z"
   },
   {
    "duration": 36,
    "start_time": "2022-10-17T18:24:29.243Z"
   },
   {
    "duration": 139,
    "start_time": "2022-10-17T18:24:29.381Z"
   },
   {
    "duration": 2,
    "start_time": "2022-10-17T18:24:33.063Z"
   },
   {
    "duration": 196,
    "start_time": "2022-10-17T18:24:33.067Z"
   },
   {
    "duration": 8,
    "start_time": "2022-10-17T18:24:33.264Z"
   },
   {
    "duration": 52,
    "start_time": "2022-10-17T18:24:33.274Z"
   },
   {
    "duration": 22,
    "start_time": "2022-10-17T18:24:33.329Z"
   },
   {
    "duration": 399,
    "start_time": "2022-10-17T18:24:33.353Z"
   },
   {
    "duration": 73,
    "start_time": "2022-10-17T18:24:33.754Z"
   },
   {
    "duration": 39,
    "start_time": "2022-10-17T18:24:33.829Z"
   },
   {
    "duration": 63,
    "start_time": "2022-10-17T18:24:33.870Z"
   },
   {
    "duration": 104,
    "start_time": "2022-10-17T18:24:33.935Z"
   },
   {
    "duration": 34,
    "start_time": "2022-10-17T18:24:34.041Z"
   },
   {
    "duration": 319,
    "start_time": "2022-10-17T18:24:34.089Z"
   },
   {
    "duration": 268,
    "start_time": "2022-10-17T18:24:34.409Z"
   },
   {
    "duration": 117,
    "start_time": "2022-10-17T18:24:34.688Z"
   },
   {
    "duration": 107,
    "start_time": "2022-10-17T18:24:34.807Z"
   },
   {
    "duration": 42,
    "start_time": "2022-10-17T18:24:34.916Z"
   },
   {
    "duration": 110,
    "start_time": "2022-10-17T18:24:34.960Z"
   },
   {
    "duration": 53,
    "start_time": "2022-10-17T18:24:35.072Z"
   },
   {
    "duration": 33,
    "start_time": "2022-10-17T18:24:35.127Z"
   },
   {
    "duration": 156,
    "start_time": "2022-10-17T18:24:35.162Z"
   },
   {
    "duration": 31,
    "start_time": "2022-10-17T18:24:50.923Z"
   },
   {
    "duration": 127,
    "start_time": "2022-10-17T18:24:51.067Z"
   },
   {
    "duration": 47,
    "start_time": "2022-10-17T18:25:22.707Z"
   },
   {
    "duration": 34,
    "start_time": "2022-10-17T18:25:27.012Z"
   },
   {
    "duration": 132,
    "start_time": "2022-10-17T18:25:28.996Z"
   },
   {
    "duration": 131,
    "start_time": "2022-10-17T18:25:31.592Z"
   },
   {
    "duration": 126,
    "start_time": "2022-10-17T18:25:43.235Z"
   },
   {
    "duration": 656,
    "start_time": "2022-10-17T18:39:22.909Z"
   },
   {
    "duration": 183,
    "start_time": "2022-10-17T18:39:23.567Z"
   },
   {
    "duration": 9,
    "start_time": "2022-10-17T18:39:23.751Z"
   },
   {
    "duration": 57,
    "start_time": "2022-10-17T18:39:23.762Z"
   },
   {
    "duration": 23,
    "start_time": "2022-10-17T18:39:23.821Z"
   },
   {
    "duration": 397,
    "start_time": "2022-10-17T18:39:23.846Z"
   },
   {
    "duration": 78,
    "start_time": "2022-10-17T18:39:24.245Z"
   },
   {
    "duration": 20,
    "start_time": "2022-10-17T18:39:24.325Z"
   },
   {
    "duration": 62,
    "start_time": "2022-10-17T18:39:24.347Z"
   },
   {
    "duration": 109,
    "start_time": "2022-10-17T18:39:24.411Z"
   },
   {
    "duration": 31,
    "start_time": "2022-10-17T18:39:24.522Z"
   },
   {
    "duration": 437,
    "start_time": "2022-10-17T18:39:24.555Z"
   },
   {
    "duration": 268,
    "start_time": "2022-10-17T18:39:24.994Z"
   },
   {
    "duration": 156,
    "start_time": "2022-10-17T18:39:25.264Z"
   },
   {
    "duration": 121,
    "start_time": "2022-10-17T18:39:25.422Z"
   },
   {
    "duration": 62,
    "start_time": "2022-10-17T18:39:25.545Z"
   },
   {
    "duration": 2,
    "start_time": "2022-10-17T18:39:25.609Z"
   },
   {
    "duration": 49,
    "start_time": "2022-10-17T18:39:25.613Z"
   },
   {
    "duration": 2,
    "start_time": "2022-10-17T18:39:25.664Z"
   },
   {
    "duration": 136,
    "start_time": "2022-10-17T18:39:25.668Z"
   },
   {
    "duration": 56,
    "start_time": "2022-10-17T18:39:25.806Z"
   },
   {
    "duration": 652,
    "start_time": "2022-10-17T18:44:03.820Z"
   },
   {
    "duration": 182,
    "start_time": "2022-10-17T18:44:04.474Z"
   },
   {
    "duration": 8,
    "start_time": "2022-10-17T18:44:04.658Z"
   },
   {
    "duration": 60,
    "start_time": "2022-10-17T18:44:04.668Z"
   },
   {
    "duration": 24,
    "start_time": "2022-10-17T18:44:04.730Z"
   },
   {
    "duration": 393,
    "start_time": "2022-10-17T18:44:04.755Z"
   },
   {
    "duration": 93,
    "start_time": "2022-10-17T18:44:05.149Z"
   },
   {
    "duration": 26,
    "start_time": "2022-10-17T18:44:05.244Z"
   },
   {
    "duration": 63,
    "start_time": "2022-10-17T18:44:05.271Z"
   },
   {
    "duration": 126,
    "start_time": "2022-10-17T18:44:05.336Z"
   },
   {
    "duration": 43,
    "start_time": "2022-10-17T18:44:05.464Z"
   },
   {
    "duration": 398,
    "start_time": "2022-10-17T18:44:05.509Z"
   },
   {
    "duration": 274,
    "start_time": "2022-10-17T18:44:05.909Z"
   },
   {
    "duration": 137,
    "start_time": "2022-10-17T18:44:06.184Z"
   },
   {
    "duration": 128,
    "start_time": "2022-10-17T18:44:06.323Z"
   },
   {
    "duration": 59,
    "start_time": "2022-10-17T18:44:06.453Z"
   },
   {
    "duration": 33,
    "start_time": "2022-10-17T18:44:06.514Z"
   },
   {
    "duration": 122,
    "start_time": "2022-10-17T18:44:06.549Z"
   },
   {
    "duration": 54,
    "start_time": "2022-10-17T18:44:06.673Z"
   },
   {
    "duration": 84,
    "start_time": "2022-10-17T18:54:06.585Z"
   },
   {
    "duration": 1192,
    "start_time": "2022-10-17T18:54:10.058Z"
   },
   {
    "duration": 5,
    "start_time": "2022-10-17T18:54:32.243Z"
   },
   {
    "duration": 9,
    "start_time": "2022-10-17T18:54:35.567Z"
   },
   {
    "duration": 5,
    "start_time": "2022-10-17T18:54:44.652Z"
   },
   {
    "duration": 8,
    "start_time": "2022-10-17T18:54:46.005Z"
   },
   {
    "duration": 45,
    "start_time": "2022-10-17T18:55:29.235Z"
   },
   {
    "duration": 3,
    "start_time": "2022-10-17T18:55:33.780Z"
   },
   {
    "duration": 184,
    "start_time": "2022-10-17T18:55:33.785Z"
   },
   {
    "duration": 7,
    "start_time": "2022-10-17T18:55:33.971Z"
   },
   {
    "duration": 44,
    "start_time": "2022-10-17T18:55:33.979Z"
   },
   {
    "duration": 21,
    "start_time": "2022-10-17T18:55:34.026Z"
   },
   {
    "duration": 355,
    "start_time": "2022-10-17T18:55:34.049Z"
   },
   {
    "duration": 83,
    "start_time": "2022-10-17T18:55:34.406Z"
   },
   {
    "duration": 45,
    "start_time": "2022-10-17T18:55:34.491Z"
   },
   {
    "duration": 156,
    "start_time": "2022-10-17T18:55:34.538Z"
   },
   {
    "duration": 108,
    "start_time": "2022-10-17T18:55:34.696Z"
   },
   {
    "duration": 31,
    "start_time": "2022-10-17T18:55:34.807Z"
   },
   {
    "duration": 326,
    "start_time": "2022-10-17T18:55:34.841Z"
   },
   {
    "duration": 278,
    "start_time": "2022-10-17T18:55:35.170Z"
   },
   {
    "duration": 120,
    "start_time": "2022-10-17T18:55:35.450Z"
   },
   {
    "duration": 118,
    "start_time": "2022-10-17T18:55:35.572Z"
   },
   {
    "duration": 45,
    "start_time": "2022-10-17T18:55:35.692Z"
   },
   {
    "duration": 58,
    "start_time": "2022-10-17T18:55:35.739Z"
   },
   {
    "duration": 100,
    "start_time": "2022-10-17T18:55:35.798Z"
   },
   {
    "duration": 43,
    "start_time": "2022-10-17T18:55:35.900Z"
   },
   {
    "duration": 4,
    "start_time": "2022-10-17T18:55:35.945Z"
   },
   {
    "duration": 35,
    "start_time": "2022-10-17T18:55:35.950Z"
   },
   {
    "duration": 8,
    "start_time": "2022-10-17T18:56:00.949Z"
   },
   {
    "duration": 4,
    "start_time": "2022-10-17T18:56:10.825Z"
   },
   {
    "duration": 8,
    "start_time": "2022-10-17T18:56:12.967Z"
   },
   {
    "duration": 10,
    "start_time": "2022-10-17T18:56:39.447Z"
   },
   {
    "duration": 10,
    "start_time": "2022-10-17T18:56:43.326Z"
   },
   {
    "duration": 11,
    "start_time": "2022-10-17T18:57:04.472Z"
   },
   {
    "duration": 363,
    "start_time": "2022-10-17T18:59:38.906Z"
   },
   {
    "duration": 96,
    "start_time": "2022-10-17T18:59:47.048Z"
   },
   {
    "duration": 94,
    "start_time": "2022-10-17T18:59:54.596Z"
   },
   {
    "duration": 1172,
    "start_time": "2022-10-17T18:59:55.732Z"
   },
   {
    "duration": 51,
    "start_time": "2022-10-17T19:00:01.548Z"
   },
   {
    "duration": 1243,
    "start_time": "2022-10-17T19:00:10.034Z"
   },
   {
    "duration": 12,
    "start_time": "2022-10-17T19:00:17.230Z"
   },
   {
    "duration": 1224,
    "start_time": "2022-10-17T19:00:56.075Z"
   },
   {
    "duration": 13,
    "start_time": "2022-10-17T19:01:04.656Z"
   },
   {
    "duration": 9,
    "start_time": "2022-10-17T19:01:12.893Z"
   },
   {
    "duration": 8,
    "start_time": "2022-10-17T19:01:19.756Z"
   },
   {
    "duration": 9,
    "start_time": "2022-10-17T19:01:45.111Z"
   },
   {
    "duration": 1160,
    "start_time": "2022-10-17T19:01:51.472Z"
   },
   {
    "duration": 13,
    "start_time": "2022-10-17T19:02:00.920Z"
   },
   {
    "duration": 4,
    "start_time": "2022-10-17T19:02:16.545Z"
   },
   {
    "duration": 5,
    "start_time": "2022-10-17T19:02:28.038Z"
   },
   {
    "duration": 4,
    "start_time": "2022-10-17T19:02:49.673Z"
   },
   {
    "duration": 4,
    "start_time": "2022-10-17T19:02:56.887Z"
   },
   {
    "duration": 5,
    "start_time": "2022-10-17T19:03:07.917Z"
   },
   {
    "duration": 4,
    "start_time": "2022-10-17T19:03:11.686Z"
   },
   {
    "duration": 5,
    "start_time": "2022-10-17T19:03:16.979Z"
   },
   {
    "duration": 4,
    "start_time": "2022-10-17T19:03:30.913Z"
   },
   {
    "duration": 187,
    "start_time": "2022-10-17T19:05:24.993Z"
   },
   {
    "duration": 96,
    "start_time": "2022-10-17T19:06:39.400Z"
   },
   {
    "duration": 81,
    "start_time": "2022-10-17T20:02:09.976Z"
   },
   {
    "duration": 16,
    "start_time": "2022-10-17T20:02:19.111Z"
   },
   {
    "duration": 20,
    "start_time": "2022-10-17T20:02:44.292Z"
   },
   {
    "duration": 82,
    "start_time": "2022-10-17T20:02:49.430Z"
   },
   {
    "duration": 69,
    "start_time": "2022-10-17T20:02:56.045Z"
   },
   {
    "duration": 79,
    "start_time": "2022-10-17T20:03:36.957Z"
   },
   {
    "duration": 3,
    "start_time": "2022-10-17T20:03:43.474Z"
   },
   {
    "duration": 80,
    "start_time": "2022-10-17T20:03:46.306Z"
   },
   {
    "duration": 84,
    "start_time": "2022-10-17T20:04:02.567Z"
   },
   {
    "duration": 26,
    "start_time": "2022-10-17T20:10:45.481Z"
   },
   {
    "duration": 28,
    "start_time": "2022-10-17T20:10:51.681Z"
   },
   {
    "duration": 31,
    "start_time": "2022-10-17T20:11:14.617Z"
   },
   {
    "duration": 7,
    "start_time": "2022-10-17T20:13:16.377Z"
   },
   {
    "duration": 54,
    "start_time": "2022-10-17T20:13:22.200Z"
   },
   {
    "duration": 13,
    "start_time": "2022-10-17T20:13:22.909Z"
   },
   {
    "duration": 8,
    "start_time": "2022-10-17T20:14:39.657Z"
   },
   {
    "duration": 5,
    "start_time": "2022-10-17T20:14:41.123Z"
   },
   {
    "duration": 10,
    "start_time": "2022-10-17T20:14:41.421Z"
   },
   {
    "duration": 537,
    "start_time": "2022-10-17T20:15:01.420Z"
   },
   {
    "duration": 49,
    "start_time": "2022-10-17T20:15:05.639Z"
   },
   {
    "duration": 5,
    "start_time": "2022-10-17T20:15:06.055Z"
   },
   {
    "duration": 1173,
    "start_time": "2022-10-17T20:15:37.985Z"
   },
   {
    "duration": 290,
    "start_time": "2022-10-17T20:15:39.160Z"
   },
   {
    "duration": 8,
    "start_time": "2022-10-17T20:15:39.452Z"
   },
   {
    "duration": 52,
    "start_time": "2022-10-17T20:15:39.462Z"
   },
   {
    "duration": 23,
    "start_time": "2022-10-17T20:15:39.516Z"
   },
   {
    "duration": 383,
    "start_time": "2022-10-17T20:15:39.541Z"
   },
   {
    "duration": 88,
    "start_time": "2022-10-17T20:15:39.926Z"
   },
   {
    "duration": 23,
    "start_time": "2022-10-17T20:15:40.016Z"
   },
   {
    "duration": 69,
    "start_time": "2022-10-17T20:15:40.041Z"
   },
   {
    "duration": 121,
    "start_time": "2022-10-17T20:15:40.113Z"
   },
   {
    "duration": 35,
    "start_time": "2022-10-17T20:15:40.236Z"
   },
   {
    "duration": 425,
    "start_time": "2022-10-17T20:15:40.273Z"
   },
   {
    "duration": 278,
    "start_time": "2022-10-17T20:15:40.700Z"
   },
   {
    "duration": 125,
    "start_time": "2022-10-17T20:15:40.988Z"
   },
   {
    "duration": 116,
    "start_time": "2022-10-17T20:15:41.115Z"
   },
   {
    "duration": 57,
    "start_time": "2022-10-17T20:15:41.233Z"
   },
   {
    "duration": 32,
    "start_time": "2022-10-17T20:15:41.291Z"
   },
   {
    "duration": 121,
    "start_time": "2022-10-17T20:15:41.325Z"
   },
   {
    "duration": 59,
    "start_time": "2022-10-17T20:15:41.447Z"
   },
   {
    "duration": 10,
    "start_time": "2022-10-17T20:15:41.508Z"
   },
   {
    "duration": 12,
    "start_time": "2022-10-17T20:15:41.520Z"
   },
   {
    "duration": 96,
    "start_time": "2022-10-17T20:15:41.536Z"
   },
   {
    "duration": 55,
    "start_time": "2022-10-17T20:15:41.634Z"
   },
   {
    "duration": 4,
    "start_time": "2022-10-17T20:15:41.691Z"
   },
   {
    "duration": 1301,
    "start_time": "2022-10-17T20:19:58.163Z"
   },
   {
    "duration": 190,
    "start_time": "2022-10-17T20:19:59.466Z"
   },
   {
    "duration": 8,
    "start_time": "2022-10-17T20:19:59.661Z"
   },
   {
    "duration": 67,
    "start_time": "2022-10-17T20:19:59.670Z"
   },
   {
    "duration": 24,
    "start_time": "2022-10-17T20:19:59.739Z"
   },
   {
    "duration": 396,
    "start_time": "2022-10-17T20:19:59.765Z"
   },
   {
    "duration": 84,
    "start_time": "2022-10-17T20:20:00.163Z"
   },
   {
    "duration": 21,
    "start_time": "2022-10-17T20:20:00.249Z"
   },
   {
    "duration": 48,
    "start_time": "2022-10-17T20:20:00.288Z"
   },
   {
    "duration": 133,
    "start_time": "2022-10-17T20:20:00.338Z"
   },
   {
    "duration": 37,
    "start_time": "2022-10-17T20:20:00.473Z"
   },
   {
    "duration": 436,
    "start_time": "2022-10-17T20:20:00.512Z"
   },
   {
    "duration": 280,
    "start_time": "2022-10-17T20:20:00.950Z"
   },
   {
    "duration": 150,
    "start_time": "2022-10-17T20:20:01.232Z"
   },
   {
    "duration": 130,
    "start_time": "2022-10-17T20:20:01.388Z"
   },
   {
    "duration": 52,
    "start_time": "2022-10-17T20:20:01.520Z"
   },
   {
    "duration": 47,
    "start_time": "2022-10-17T20:20:01.574Z"
   },
   {
    "duration": 125,
    "start_time": "2022-10-17T20:20:01.623Z"
   },
   {
    "duration": 80,
    "start_time": "2022-10-17T20:20:01.750Z"
   },
   {
    "duration": 17,
    "start_time": "2022-10-17T20:20:01.833Z"
   },
   {
    "duration": 55,
    "start_time": "2022-10-17T20:20:01.852Z"
   },
   {
    "duration": 118,
    "start_time": "2022-10-17T20:20:01.909Z"
   },
   {
    "duration": 75,
    "start_time": "2022-10-17T20:20:02.028Z"
   },
   {
    "duration": 5,
    "start_time": "2022-10-17T20:20:02.105Z"
   },
   {
    "duration": 13,
    "start_time": "2022-10-17T20:20:02.112Z"
   },
   {
    "duration": 8,
    "start_time": "2022-10-17T20:20:02.126Z"
   },
   {
    "duration": 15,
    "start_time": "2022-10-17T20:20:08.913Z"
   },
   {
    "duration": 55,
    "start_time": "2022-10-17T20:20:15.605Z"
   },
   {
    "duration": 6,
    "start_time": "2022-10-17T20:20:15.761Z"
   },
   {
    "duration": 4,
    "start_time": "2022-10-17T20:20:34.545Z"
   },
   {
    "duration": 2,
    "start_time": "2022-10-17T20:20:34.850Z"
   },
   {
    "duration": 362,
    "start_time": "2022-10-17T20:20:38.711Z"
   },
   {
    "duration": 49,
    "start_time": "2022-10-17T20:21:07.113Z"
   },
   {
    "duration": 4,
    "start_time": "2022-10-17T20:21:14.264Z"
   },
   {
    "duration": 4,
    "start_time": "2022-10-17T20:21:22.404Z"
   },
   {
    "duration": 56,
    "start_time": "2022-10-17T20:24:33.565Z"
   },
   {
    "duration": 62,
    "start_time": "2022-10-17T20:24:40.551Z"
   },
   {
    "duration": 52,
    "start_time": "2022-10-17T20:24:59.489Z"
   },
   {
    "duration": 9,
    "start_time": "2022-10-17T20:28:24.758Z"
   },
   {
    "duration": 3,
    "start_time": "2022-10-17T20:28:41.206Z"
   },
   {
    "duration": 56,
    "start_time": "2022-10-17T20:28:46.803Z"
   },
   {
    "duration": 9,
    "start_time": "2022-10-17T20:28:47.120Z"
   },
   {
    "duration": 12,
    "start_time": "2022-10-17T20:28:52.385Z"
   },
   {
    "duration": 10,
    "start_time": "2022-10-17T20:28:59.096Z"
   },
   {
    "duration": 13,
    "start_time": "2022-10-17T20:29:20.399Z"
   },
   {
    "duration": 4,
    "start_time": "2022-10-17T20:29:20.580Z"
   },
   {
    "duration": 12,
    "start_time": "2022-10-17T20:29:36.763Z"
   },
   {
    "duration": 4,
    "start_time": "2022-10-17T20:29:37.268Z"
   },
   {
    "duration": 5474,
    "start_time": "2022-10-17T20:29:38.211Z"
   },
   {
    "duration": 3,
    "start_time": "2022-10-17T20:30:03.410Z"
   },
   {
    "duration": 11,
    "start_time": "2022-10-17T20:30:13.035Z"
   },
   {
    "duration": 5,
    "start_time": "2022-10-17T20:30:13.242Z"
   },
   {
    "duration": 6959,
    "start_time": "2022-10-17T20:30:13.660Z"
   },
   {
    "duration": 5,
    "start_time": "2022-10-17T20:31:04.576Z"
   },
   {
    "duration": 6813,
    "start_time": "2022-10-17T20:31:04.883Z"
   },
   {
    "duration": 4,
    "start_time": "2022-10-17T20:31:27.341Z"
   },
   {
    "duration": 6838,
    "start_time": "2022-10-17T20:31:27.642Z"
   },
   {
    "duration": 6,
    "start_time": "2022-10-17T20:31:40.347Z"
   },
   {
    "duration": 6753,
    "start_time": "2022-10-17T20:31:40.904Z"
   },
   {
    "duration": 9,
    "start_time": "2022-10-17T20:32:47.668Z"
   },
   {
    "duration": 7,
    "start_time": "2022-10-17T20:32:52.019Z"
   },
   {
    "duration": 6,
    "start_time": "2022-10-17T20:32:59.291Z"
   },
   {
    "duration": 4,
    "start_time": "2022-10-17T20:34:25.614Z"
   },
   {
    "duration": 13,
    "start_time": "2022-10-17T20:34:45.941Z"
   },
   {
    "duration": 4,
    "start_time": "2022-10-17T20:34:46.112Z"
   },
   {
    "duration": 30,
    "start_time": "2022-10-17T20:35:04.539Z"
   },
   {
    "duration": 1154,
    "start_time": "2022-10-17T20:35:17.221Z"
   },
   {
    "duration": 182,
    "start_time": "2022-10-17T20:35:18.377Z"
   },
   {
    "duration": 9,
    "start_time": "2022-10-17T20:35:18.561Z"
   },
   {
    "duration": 66,
    "start_time": "2022-10-17T20:35:18.574Z"
   },
   {
    "duration": 21,
    "start_time": "2022-10-17T20:35:18.641Z"
   },
   {
    "duration": 410,
    "start_time": "2022-10-17T20:35:18.664Z"
   },
   {
    "duration": 79,
    "start_time": "2022-10-17T20:35:19.076Z"
   },
   {
    "duration": 33,
    "start_time": "2022-10-17T20:35:19.157Z"
   },
   {
    "duration": 45,
    "start_time": "2022-10-17T20:35:19.192Z"
   },
   {
    "duration": 141,
    "start_time": "2022-10-17T20:35:19.242Z"
   },
   {
    "duration": 35,
    "start_time": "2022-10-17T20:35:19.385Z"
   },
   {
    "duration": 427,
    "start_time": "2022-10-17T20:35:19.421Z"
   },
   {
    "duration": 287,
    "start_time": "2022-10-17T20:35:19.850Z"
   },
   {
    "duration": 142,
    "start_time": "2022-10-17T20:35:20.139Z"
   },
   {
    "duration": 138,
    "start_time": "2022-10-17T20:35:20.282Z"
   },
   {
    "duration": 50,
    "start_time": "2022-10-17T20:35:20.422Z"
   },
   {
    "duration": 42,
    "start_time": "2022-10-17T20:35:20.474Z"
   },
   {
    "duration": 122,
    "start_time": "2022-10-17T20:35:20.518Z"
   },
   {
    "duration": 66,
    "start_time": "2022-10-17T20:35:20.642Z"
   },
   {
    "duration": 10,
    "start_time": "2022-10-17T20:35:20.710Z"
   },
   {
    "duration": 12,
    "start_time": "2022-10-17T20:35:20.722Z"
   },
   {
    "duration": 107,
    "start_time": "2022-10-17T20:35:20.736Z"
   },
   {
    "duration": 65,
    "start_time": "2022-10-17T20:35:20.845Z"
   },
   {
    "duration": 13,
    "start_time": "2022-10-17T20:35:20.912Z"
   },
   {
    "duration": 8,
    "start_time": "2022-10-17T20:35:20.926Z"
   },
   {
    "duration": 152,
    "start_time": "2022-10-17T20:35:20.935Z"
   },
   {
    "duration": 0,
    "start_time": "2022-10-17T20:35:21.089Z"
   },
   {
    "duration": 0,
    "start_time": "2022-10-17T20:35:21.091Z"
   },
   {
    "duration": 6465,
    "start_time": "2022-10-17T20:35:38.535Z"
   },
   {
    "duration": 44,
    "start_time": "2022-10-18T06:43:30.319Z"
   },
   {
    "duration": 1174,
    "start_time": "2022-10-18T06:43:35.190Z"
   },
   {
    "duration": 675,
    "start_time": "2022-10-18T06:43:36.366Z"
   },
   {
    "duration": 7,
    "start_time": "2022-10-18T06:43:37.042Z"
   },
   {
    "duration": 38,
    "start_time": "2022-10-18T06:43:37.051Z"
   },
   {
    "duration": 17,
    "start_time": "2022-10-18T06:43:37.091Z"
   },
   {
    "duration": 331,
    "start_time": "2022-10-18T06:43:37.110Z"
   },
   {
    "duration": 64,
    "start_time": "2022-10-18T06:43:37.443Z"
   },
   {
    "duration": 27,
    "start_time": "2022-10-18T06:43:37.509Z"
   },
   {
    "duration": 38,
    "start_time": "2022-10-18T06:43:37.538Z"
   },
   {
    "duration": 109,
    "start_time": "2022-10-18T06:43:37.579Z"
   },
   {
    "duration": 31,
    "start_time": "2022-10-18T06:43:37.690Z"
   },
   {
    "duration": 343,
    "start_time": "2022-10-18T06:43:37.723Z"
   },
   {
    "duration": 226,
    "start_time": "2022-10-18T06:43:38.068Z"
   },
   {
    "duration": 116,
    "start_time": "2022-10-18T06:43:38.296Z"
   },
   {
    "duration": 98,
    "start_time": "2022-10-18T06:43:38.414Z"
   },
   {
    "duration": 38,
    "start_time": "2022-10-18T06:43:38.522Z"
   },
   {
    "duration": 28,
    "start_time": "2022-10-18T06:43:38.562Z"
   },
   {
    "duration": 105,
    "start_time": "2022-10-18T06:43:38.591Z"
   },
   {
    "duration": 54,
    "start_time": "2022-10-18T06:43:38.697Z"
   },
   {
    "duration": 9,
    "start_time": "2022-10-18T06:43:38.752Z"
   },
   {
    "duration": 6,
    "start_time": "2022-10-18T06:43:38.763Z"
   },
   {
    "duration": 75,
    "start_time": "2022-10-18T06:43:38.770Z"
   },
   {
    "duration": 39,
    "start_time": "2022-10-18T06:43:38.847Z"
   },
   {
    "duration": 10,
    "start_time": "2022-10-18T06:43:38.888Z"
   },
   {
    "duration": 22,
    "start_time": "2022-10-18T06:43:38.900Z"
   },
   {
    "duration": 6076,
    "start_time": "2022-10-18T06:43:38.924Z"
   },
   {
    "duration": 9,
    "start_time": "2022-10-18T17:04:02.591Z"
   },
   {
    "duration": 8,
    "start_time": "2022-10-18T17:04:28.885Z"
   },
   {
    "duration": 6421,
    "start_time": "2022-10-18T17:04:32.625Z"
   },
   {
    "duration": 8,
    "start_time": "2022-10-18T17:04:54.692Z"
   },
   {
    "duration": 8,
    "start_time": "2022-10-18T17:05:08.932Z"
   },
   {
    "duration": 5,
    "start_time": "2022-10-18T17:05:12.244Z"
   },
   {
    "duration": 5,
    "start_time": "2022-10-18T17:05:20.148Z"
   },
   {
    "duration": 8,
    "start_time": "2022-10-18T17:05:29.039Z"
   },
   {
    "duration": 3,
    "start_time": "2022-10-18T17:05:31.833Z"
   },
   {
    "duration": 5,
    "start_time": "2022-10-18T17:05:42.736Z"
   },
   {
    "duration": 13,
    "start_time": "2022-10-18T17:05:45.327Z"
   },
   {
    "duration": 10,
    "start_time": "2022-10-18T17:05:51.535Z"
   },
   {
    "duration": 7,
    "start_time": "2022-10-18T17:05:55.572Z"
   },
   {
    "duration": 8,
    "start_time": "2022-10-18T17:06:01.759Z"
   },
   {
    "duration": 8,
    "start_time": "2022-10-18T17:06:08.792Z"
   },
   {
    "duration": 8,
    "start_time": "2022-10-18T17:06:50.707Z"
   },
   {
    "duration": 8,
    "start_time": "2022-10-18T17:06:51.894Z"
   },
   {
    "duration": 6493,
    "start_time": "2022-10-18T17:06:52.068Z"
   },
   {
    "duration": 78,
    "start_time": "2022-10-18T17:09:52.332Z"
   },
   {
    "duration": 13,
    "start_time": "2022-10-18T17:10:13.335Z"
   },
   {
    "duration": 18,
    "start_time": "2022-10-18T17:11:11.057Z"
   },
   {
    "duration": 85,
    "start_time": "2022-10-18T17:11:34.585Z"
   },
   {
    "duration": 15,
    "start_time": "2022-10-18T17:11:36.319Z"
   },
   {
    "duration": 8,
    "start_time": "2022-10-18T17:13:44.078Z"
   },
   {
    "duration": 1001,
    "start_time": "2022-10-18T17:13:51.335Z"
   },
   {
    "duration": 161,
    "start_time": "2022-10-18T17:13:52.337Z"
   },
   {
    "duration": 7,
    "start_time": "2022-10-18T17:13:52.499Z"
   },
   {
    "duration": 44,
    "start_time": "2022-10-18T17:13:52.508Z"
   },
   {
    "duration": 16,
    "start_time": "2022-10-18T17:13:52.554Z"
   },
   {
    "duration": 341,
    "start_time": "2022-10-18T17:13:52.571Z"
   },
   {
    "duration": 65,
    "start_time": "2022-10-18T17:13:52.914Z"
   },
   {
    "duration": 20,
    "start_time": "2022-10-18T17:13:52.981Z"
   },
   {
    "duration": 46,
    "start_time": "2022-10-18T17:13:53.002Z"
   },
   {
    "duration": 96,
    "start_time": "2022-10-18T17:13:53.049Z"
   },
   {
    "duration": 23,
    "start_time": "2022-10-18T17:13:53.146Z"
   },
   {
    "duration": 379,
    "start_time": "2022-10-18T17:13:53.171Z"
   },
   {
    "duration": 225,
    "start_time": "2022-10-18T17:13:53.552Z"
   },
   {
    "duration": 110,
    "start_time": "2022-10-18T17:13:53.780Z"
   },
   {
    "duration": 105,
    "start_time": "2022-10-18T17:13:53.892Z"
   },
   {
    "duration": 46,
    "start_time": "2022-10-18T17:13:53.998Z"
   },
   {
    "duration": 28,
    "start_time": "2022-10-18T17:13:54.046Z"
   },
   {
    "duration": 99,
    "start_time": "2022-10-18T17:13:54.075Z"
   },
   {
    "duration": 46,
    "start_time": "2022-10-18T17:13:54.176Z"
   },
   {
    "duration": 8,
    "start_time": "2022-10-18T17:13:54.224Z"
   },
   {
    "duration": 8,
    "start_time": "2022-10-18T17:13:54.233Z"
   },
   {
    "duration": 93,
    "start_time": "2022-10-18T17:13:54.242Z"
   },
   {
    "duration": 0,
    "start_time": "2022-10-18T17:13:54.336Z"
   },
   {
    "duration": 0,
    "start_time": "2022-10-18T17:13:54.338Z"
   },
   {
    "duration": 0,
    "start_time": "2022-10-18T17:13:54.339Z"
   },
   {
    "duration": 0,
    "start_time": "2022-10-18T17:13:54.341Z"
   },
   {
    "duration": 12,
    "start_time": "2022-10-18T17:14:09.319Z"
   },
   {
    "duration": 297,
    "start_time": "2022-10-18T17:14:35.981Z"
   },
   {
    "duration": 382,
    "start_time": "2022-10-18T17:14:46.570Z"
   },
   {
    "duration": 180,
    "start_time": "2022-10-18T17:15:00.390Z"
   },
   {
    "duration": 64,
    "start_time": "2022-10-18T17:15:14.115Z"
   },
   {
    "duration": 3,
    "start_time": "2022-10-18T17:15:34.690Z"
   },
   {
    "duration": 13,
    "start_time": "2022-10-18T17:15:40.457Z"
   },
   {
    "duration": 857,
    "start_time": "2022-10-18T17:16:29.226Z"
   },
   {
    "duration": 13,
    "start_time": "2022-10-18T17:16:30.417Z"
   },
   {
    "duration": 49,
    "start_time": "2022-10-18T17:16:40.490Z"
   },
   {
    "duration": 13,
    "start_time": "2022-10-18T17:16:41.430Z"
   },
   {
    "duration": 54,
    "start_time": "2022-10-18T17:16:55.501Z"
   },
   {
    "duration": 17,
    "start_time": "2022-10-18T17:16:55.975Z"
   },
   {
    "duration": 11,
    "start_time": "2022-10-18T17:17:48.388Z"
   },
   {
    "duration": 3,
    "start_time": "2022-10-18T17:17:53.351Z"
   },
   {
    "duration": 142,
    "start_time": "2022-10-18T17:17:53.356Z"
   },
   {
    "duration": 6,
    "start_time": "2022-10-18T17:17:53.500Z"
   },
   {
    "duration": 35,
    "start_time": "2022-10-18T17:17:53.508Z"
   },
   {
    "duration": 18,
    "start_time": "2022-10-18T17:17:53.545Z"
   },
   {
    "duration": 309,
    "start_time": "2022-10-18T17:17:53.565Z"
   },
   {
    "duration": 65,
    "start_time": "2022-10-18T17:17:53.876Z"
   },
   {
    "duration": 17,
    "start_time": "2022-10-18T17:17:53.943Z"
   },
   {
    "duration": 35,
    "start_time": "2022-10-18T17:17:53.962Z"
   },
   {
    "duration": 105,
    "start_time": "2022-10-18T17:17:53.999Z"
   },
   {
    "duration": 33,
    "start_time": "2022-10-18T17:17:54.105Z"
   },
   {
    "duration": 264,
    "start_time": "2022-10-18T17:17:54.140Z"
   },
   {
    "duration": 245,
    "start_time": "2022-10-18T17:17:54.406Z"
   },
   {
    "duration": 109,
    "start_time": "2022-10-18T17:17:54.654Z"
   },
   {
    "duration": 88,
    "start_time": "2022-10-18T17:17:54.765Z"
   },
   {
    "duration": 36,
    "start_time": "2022-10-18T17:17:54.855Z"
   },
   {
    "duration": 37,
    "start_time": "2022-10-18T17:17:54.893Z"
   },
   {
    "duration": 92,
    "start_time": "2022-10-18T17:17:54.931Z"
   },
   {
    "duration": 39,
    "start_time": "2022-10-18T17:17:55.024Z"
   },
   {
    "duration": 9,
    "start_time": "2022-10-18T17:17:55.065Z"
   },
   {
    "duration": 9,
    "start_time": "2022-10-18T17:17:55.075Z"
   },
   {
    "duration": 16,
    "start_time": "2022-10-18T17:17:55.085Z"
   },
   {
    "duration": 79,
    "start_time": "2022-10-18T17:17:55.102Z"
   },
   {
    "duration": 46,
    "start_time": "2022-10-18T17:17:55.182Z"
   },
   {
    "duration": 8,
    "start_time": "2022-10-18T17:17:55.230Z"
   },
   {
    "duration": 6234,
    "start_time": "2022-10-18T17:17:55.240Z"
   },
   {
    "duration": 84,
    "start_time": "2022-10-18T17:19:05.180Z"
   },
   {
    "duration": 74,
    "start_time": "2022-10-18T17:19:12.368Z"
   },
   {
    "duration": 13,
    "start_time": "2022-10-18T17:19:26.872Z"
   },
   {
    "duration": 28,
    "start_time": "2022-10-18T17:20:09.316Z"
   },
   {
    "duration": 68,
    "start_time": "2022-10-18T17:20:32.998Z"
   },
   {
    "duration": 72,
    "start_time": "2022-10-18T17:20:39.232Z"
   },
   {
    "duration": 78,
    "start_time": "2022-10-18T17:21:29.696Z"
   },
   {
    "duration": 3,
    "start_time": "2022-10-18T17:21:34.092Z"
   },
   {
    "duration": 146,
    "start_time": "2022-10-18T17:21:34.097Z"
   },
   {
    "duration": 6,
    "start_time": "2022-10-18T17:21:34.244Z"
   },
   {
    "duration": 29,
    "start_time": "2022-10-18T17:21:34.252Z"
   },
   {
    "duration": 17,
    "start_time": "2022-10-18T17:21:34.282Z"
   },
   {
    "duration": 314,
    "start_time": "2022-10-18T17:21:34.300Z"
   },
   {
    "duration": 62,
    "start_time": "2022-10-18T17:21:34.615Z"
   },
   {
    "duration": 18,
    "start_time": "2022-10-18T17:21:34.679Z"
   },
   {
    "duration": 48,
    "start_time": "2022-10-18T17:21:34.698Z"
   },
   {
    "duration": 85,
    "start_time": "2022-10-18T17:21:34.748Z"
   },
   {
    "duration": 23,
    "start_time": "2022-10-18T17:21:34.834Z"
   },
   {
    "duration": 264,
    "start_time": "2022-10-18T17:21:34.859Z"
   },
   {
    "duration": 226,
    "start_time": "2022-10-18T17:21:35.125Z"
   },
   {
    "duration": 100,
    "start_time": "2022-10-18T17:21:35.353Z"
   },
   {
    "duration": 80,
    "start_time": "2022-10-18T17:21:35.454Z"
   },
   {
    "duration": 37,
    "start_time": "2022-10-18T17:21:35.536Z"
   },
   {
    "duration": 23,
    "start_time": "2022-10-18T17:21:35.575Z"
   },
   {
    "duration": 100,
    "start_time": "2022-10-18T17:21:35.600Z"
   },
   {
    "duration": 50,
    "start_time": "2022-10-18T17:21:35.702Z"
   },
   {
    "duration": 9,
    "start_time": "2022-10-18T17:21:35.754Z"
   },
   {
    "duration": 6,
    "start_time": "2022-10-18T17:21:35.764Z"
   },
   {
    "duration": 13,
    "start_time": "2022-10-18T17:21:35.771Z"
   },
   {
    "duration": 102,
    "start_time": "2022-10-18T17:21:35.785Z"
   },
   {
    "duration": 63,
    "start_time": "2022-10-18T17:21:35.889Z"
   },
   {
    "duration": 96,
    "start_time": "2022-10-18T17:21:35.954Z"
   },
   {
    "duration": 10,
    "start_time": "2022-10-18T17:21:36.052Z"
   },
   {
    "duration": 5786,
    "start_time": "2022-10-18T17:21:36.064Z"
   },
   {
    "duration": 83,
    "start_time": "2022-10-18T17:21:53.561Z"
   },
   {
    "duration": 60,
    "start_time": "2022-10-18T17:21:57.071Z"
   },
   {
    "duration": 42,
    "start_time": "2022-10-18T17:21:58.980Z"
   },
   {
    "duration": 10,
    "start_time": "2022-10-18T17:21:59.901Z"
   },
   {
    "duration": 5215,
    "start_time": "2022-10-18T17:22:00.783Z"
   },
   {
    "duration": 57,
    "start_time": "2022-10-18T17:22:26.727Z"
   },
   {
    "duration": 10,
    "start_time": "2022-10-18T17:22:29.853Z"
   },
   {
    "duration": 4,
    "start_time": "2022-10-18T17:22:30.661Z"
   },
   {
    "duration": 8,
    "start_time": "2022-10-18T17:22:36.087Z"
   },
   {
    "duration": 78,
    "start_time": "2022-10-18T17:24:17.215Z"
   },
   {
    "duration": 3,
    "start_time": "2022-10-18T17:24:31.862Z"
   },
   {
    "duration": 151,
    "start_time": "2022-10-18T17:24:31.867Z"
   },
   {
    "duration": 6,
    "start_time": "2022-10-18T17:24:32.020Z"
   },
   {
    "duration": 39,
    "start_time": "2022-10-18T17:24:32.028Z"
   },
   {
    "duration": 15,
    "start_time": "2022-10-18T17:24:32.069Z"
   },
   {
    "duration": 304,
    "start_time": "2022-10-18T17:24:32.086Z"
   },
   {
    "duration": 61,
    "start_time": "2022-10-18T17:24:32.391Z"
   },
   {
    "duration": 18,
    "start_time": "2022-10-18T17:24:32.453Z"
   },
   {
    "duration": 32,
    "start_time": "2022-10-18T17:24:32.473Z"
   },
   {
    "duration": 76,
    "start_time": "2022-10-18T17:24:32.523Z"
   },
   {
    "duration": 33,
    "start_time": "2022-10-18T17:24:32.600Z"
   },
   {
    "duration": 256,
    "start_time": "2022-10-18T17:24:32.635Z"
   },
   {
    "duration": 218,
    "start_time": "2022-10-18T17:24:32.893Z"
   },
   {
    "duration": 85,
    "start_time": "2022-10-18T17:24:33.112Z"
   },
   {
    "duration": 89,
    "start_time": "2022-10-18T17:24:33.198Z"
   },
   {
    "duration": 40,
    "start_time": "2022-10-18T17:24:33.288Z"
   },
   {
    "duration": 22,
    "start_time": "2022-10-18T17:24:33.329Z"
   },
   {
    "duration": 95,
    "start_time": "2022-10-18T17:24:33.352Z"
   },
   {
    "duration": 34,
    "start_time": "2022-10-18T17:24:33.448Z"
   },
   {
    "duration": 8,
    "start_time": "2022-10-18T17:24:33.484Z"
   },
   {
    "duration": 9,
    "start_time": "2022-10-18T17:24:33.493Z"
   },
   {
    "duration": 23,
    "start_time": "2022-10-18T17:24:33.503Z"
   },
   {
    "duration": 73,
    "start_time": "2022-10-18T17:24:33.527Z"
   },
   {
    "duration": 0,
    "start_time": "2022-10-18T17:24:33.601Z"
   },
   {
    "duration": 0,
    "start_time": "2022-10-18T17:24:33.602Z"
   },
   {
    "duration": 0,
    "start_time": "2022-10-18T17:24:33.603Z"
   },
   {
    "duration": 0,
    "start_time": "2022-10-18T17:24:33.622Z"
   },
   {
    "duration": 1197,
    "start_time": "2022-10-18T17:24:55.281Z"
   },
   {
    "duration": 78,
    "start_time": "2022-10-18T17:25:12.596Z"
   },
   {
    "duration": 130,
    "start_time": "2022-10-18T17:25:16.013Z"
   },
   {
    "duration": 79,
    "start_time": "2022-10-18T17:25:37.299Z"
   },
   {
    "duration": 8,
    "start_time": "2022-10-18T17:26:04.587Z"
   },
   {
    "duration": 5,
    "start_time": "2022-10-18T17:26:05.145Z"
   },
   {
    "duration": 4,
    "start_time": "2022-10-18T17:27:58.888Z"
   },
   {
    "duration": 8,
    "start_time": "2022-10-18T17:28:06.526Z"
   },
   {
    "duration": 4,
    "start_time": "2022-10-18T17:28:07.154Z"
   },
   {
    "duration": 8,
    "start_time": "2022-10-18T17:28:11.537Z"
   },
   {
    "duration": 5,
    "start_time": "2022-10-18T17:28:12.158Z"
   },
   {
    "duration": 3,
    "start_time": "2022-10-18T17:30:18.922Z"
   },
   {
    "duration": 12,
    "start_time": "2022-10-18T17:30:26.353Z"
   },
   {
    "duration": 6,
    "start_time": "2022-10-18T17:30:53.626Z"
   },
   {
    "duration": 80,
    "start_time": "2022-10-18T17:33:26.025Z"
   },
   {
    "duration": 6,
    "start_time": "2022-10-18T17:33:29.160Z"
   },
   {
    "duration": 7,
    "start_time": "2022-10-18T17:33:31.697Z"
   },
   {
    "duration": 8,
    "start_time": "2022-10-18T17:37:15.261Z"
   },
   {
    "duration": 6,
    "start_time": "2022-10-18T17:37:16.335Z"
   },
   {
    "duration": 8,
    "start_time": "2022-10-18T17:37:19.281Z"
   },
   {
    "duration": 6,
    "start_time": "2022-10-18T17:37:19.687Z"
   },
   {
    "duration": 6,
    "start_time": "2022-10-18T17:37:34.026Z"
   },
   {
    "duration": 13,
    "start_time": "2022-10-18T17:38:15.468Z"
   },
   {
    "duration": 51,
    "start_time": "2022-10-18T17:39:38.585Z"
   },
   {
    "duration": 11,
    "start_time": "2022-10-18T17:40:17.365Z"
   },
   {
    "duration": 8,
    "start_time": "2022-10-18T17:40:24.999Z"
   },
   {
    "duration": 6,
    "start_time": "2022-10-18T17:40:32.680Z"
   },
   {
    "duration": 13,
    "start_time": "2022-10-18T17:40:36.949Z"
   },
   {
    "duration": 79,
    "start_time": "2022-10-18T17:47:26.216Z"
   },
   {
    "duration": 5,
    "start_time": "2022-10-18T17:50:09.409Z"
   },
   {
    "duration": 3,
    "start_time": "2022-10-18T17:50:19.263Z"
   },
   {
    "duration": 141,
    "start_time": "2022-10-18T17:50:19.268Z"
   },
   {
    "duration": 12,
    "start_time": "2022-10-18T17:50:19.411Z"
   },
   {
    "duration": 29,
    "start_time": "2022-10-18T17:50:19.424Z"
   },
   {
    "duration": 16,
    "start_time": "2022-10-18T17:50:19.456Z"
   },
   {
    "duration": 310,
    "start_time": "2022-10-18T17:50:19.474Z"
   },
   {
    "duration": 70,
    "start_time": "2022-10-18T17:50:19.785Z"
   },
   {
    "duration": 22,
    "start_time": "2022-10-18T17:50:19.857Z"
   },
   {
    "duration": 44,
    "start_time": "2022-10-18T17:50:19.881Z"
   },
   {
    "duration": 78,
    "start_time": "2022-10-18T17:50:19.926Z"
   },
   {
    "duration": 39,
    "start_time": "2022-10-18T17:50:20.006Z"
   },
   {
    "duration": 300,
    "start_time": "2022-10-18T17:50:20.046Z"
   },
   {
    "duration": 255,
    "start_time": "2022-10-18T17:50:20.349Z"
   },
   {
    "duration": 105,
    "start_time": "2022-10-18T17:50:20.605Z"
   },
   {
    "duration": 100,
    "start_time": "2022-10-18T17:50:20.712Z"
   },
   {
    "duration": 43,
    "start_time": "2022-10-18T17:50:20.814Z"
   },
   {
    "duration": 24,
    "start_time": "2022-10-18T17:50:20.859Z"
   },
   {
    "duration": 103,
    "start_time": "2022-10-18T17:50:20.884Z"
   },
   {
    "duration": 51,
    "start_time": "2022-10-18T17:50:20.989Z"
   },
   {
    "duration": 9,
    "start_time": "2022-10-18T17:50:21.043Z"
   },
   {
    "duration": 10,
    "start_time": "2022-10-18T17:50:21.054Z"
   },
   {
    "duration": 100,
    "start_time": "2022-10-18T17:50:21.069Z"
   },
   {
    "duration": 62,
    "start_time": "2022-10-18T17:50:21.170Z"
   },
   {
    "duration": 2,
    "start_time": "2022-10-18T17:50:21.234Z"
   },
   {
    "duration": 6,
    "start_time": "2022-10-18T17:50:21.238Z"
   },
   {
    "duration": 8,
    "start_time": "2022-10-18T17:50:21.245Z"
   },
   {
    "duration": 22,
    "start_time": "2022-10-18T17:50:42.379Z"
   },
   {
    "duration": 43,
    "start_time": "2022-10-18T17:50:49.298Z"
   },
   {
    "duration": 75,
    "start_time": "2022-10-18T17:50:56.029Z"
   },
   {
    "duration": 57,
    "start_time": "2022-10-18T17:52:00.586Z"
   },
   {
    "duration": 12,
    "start_time": "2022-10-18T17:53:43.985Z"
   },
   {
    "duration": 11,
    "start_time": "2022-10-18T17:53:55.565Z"
   },
   {
    "duration": 76,
    "start_time": "2022-10-18T17:54:04.816Z"
   },
   {
    "duration": 9,
    "start_time": "2022-10-18T17:54:05.940Z"
   },
   {
    "duration": 5,
    "start_time": "2022-10-18T17:54:35.540Z"
   },
   {
    "duration": 174,
    "start_time": "2022-10-18T17:54:40.793Z"
   },
   {
    "duration": 79,
    "start_time": "2022-10-18T17:55:34.492Z"
   },
   {
    "duration": 70,
    "start_time": "2022-10-18T17:55:46.972Z"
   },
   {
    "duration": 98,
    "start_time": "2022-10-18T18:08:44.698Z"
   },
   {
    "duration": 112,
    "start_time": "2022-10-18T18:08:59.896Z"
   },
   {
    "duration": 139,
    "start_time": "2022-10-18T18:09:29.885Z"
   },
   {
    "duration": 133,
    "start_time": "2022-10-18T18:09:36.053Z"
   },
   {
    "duration": 113,
    "start_time": "2022-10-18T18:09:42.658Z"
   },
   {
    "duration": 77,
    "start_time": "2022-10-18T18:09:59.720Z"
   },
   {
    "duration": 1252,
    "start_time": "2022-10-18T18:10:56.329Z"
   },
   {
    "duration": 1209,
    "start_time": "2022-10-18T18:11:02.077Z"
   },
   {
    "duration": 103,
    "start_time": "2022-10-18T18:11:07.490Z"
   },
   {
    "duration": 121,
    "start_time": "2022-10-18T18:11:11.312Z"
   },
   {
    "duration": 111,
    "start_time": "2022-10-18T18:11:44.366Z"
   },
   {
    "duration": 107,
    "start_time": "2022-10-18T18:12:10.813Z"
   },
   {
    "duration": 120,
    "start_time": "2022-10-18T18:13:13.416Z"
   },
   {
    "duration": 119,
    "start_time": "2022-10-18T18:13:17.402Z"
   },
   {
    "duration": 116,
    "start_time": "2022-10-18T18:13:45.539Z"
   },
   {
    "duration": 157,
    "start_time": "2022-10-18T18:14:47.339Z"
   },
   {
    "duration": 143,
    "start_time": "2022-10-18T18:15:23.186Z"
   },
   {
    "duration": 153,
    "start_time": "2022-10-18T18:15:32.632Z"
   },
   {
    "duration": 155,
    "start_time": "2022-10-18T18:15:44.988Z"
   },
   {
    "duration": 151,
    "start_time": "2022-10-18T18:16:09.204Z"
   },
   {
    "duration": 152,
    "start_time": "2022-10-18T18:16:26.385Z"
   },
   {
    "duration": 148,
    "start_time": "2022-10-18T18:16:38.639Z"
   },
   {
    "duration": 164,
    "start_time": "2022-10-18T18:16:53.112Z"
   },
   {
    "duration": 11,
    "start_time": "2022-10-18T18:19:16.310Z"
   },
   {
    "duration": 154,
    "start_time": "2022-10-18T18:19:31.606Z"
   },
   {
    "duration": 9,
    "start_time": "2022-10-18T18:19:33.684Z"
   },
   {
    "duration": 9,
    "start_time": "2022-10-18T18:20:26.380Z"
   },
   {
    "duration": 66,
    "start_time": "2022-10-18T18:20:44.260Z"
   },
   {
    "duration": 147,
    "start_time": "2022-10-18T18:20:44.547Z"
   },
   {
    "duration": 10,
    "start_time": "2022-10-18T18:20:44.987Z"
   },
   {
    "duration": 147,
    "start_time": "2022-10-18T18:20:50.161Z"
   },
   {
    "duration": 10,
    "start_time": "2022-10-18T19:37:40.068Z"
   },
   {
    "duration": 11,
    "start_time": "2022-10-18T19:37:49.717Z"
   },
   {
    "duration": 5,
    "start_time": "2022-10-18T19:39:37.355Z"
   },
   {
    "duration": 17,
    "start_time": "2022-10-18T19:39:50.502Z"
   },
   {
    "duration": 11,
    "start_time": "2022-10-18T19:40:01.746Z"
   },
   {
    "duration": 12,
    "start_time": "2022-10-18T19:40:12.685Z"
   },
   {
    "duration": 10,
    "start_time": "2022-10-18T19:40:17.020Z"
   },
   {
    "duration": 1390,
    "start_time": "2022-10-23T09:33:35.102Z"
   },
   {
    "duration": 504,
    "start_time": "2022-10-23T09:33:36.494Z"
   },
   {
    "duration": 9,
    "start_time": "2022-10-23T09:33:37.001Z"
   },
   {
    "duration": 57,
    "start_time": "2022-10-23T09:33:37.012Z"
   },
   {
    "duration": 24,
    "start_time": "2022-10-23T09:33:37.071Z"
   },
   {
    "duration": 390,
    "start_time": "2022-10-23T09:33:37.097Z"
   },
   {
    "duration": 94,
    "start_time": "2022-10-23T09:33:37.489Z"
   },
   {
    "duration": 18,
    "start_time": "2022-10-23T09:33:37.585Z"
   },
   {
    "duration": 84,
    "start_time": "2022-10-23T09:33:37.605Z"
   },
   {
    "duration": 107,
    "start_time": "2022-10-23T09:33:37.692Z"
   },
   {
    "duration": 47,
    "start_time": "2022-10-23T09:33:37.801Z"
   },
   {
    "duration": 379,
    "start_time": "2022-10-23T09:33:37.851Z"
   },
   {
    "duration": 272,
    "start_time": "2022-10-23T09:33:38.232Z"
   },
   {
    "duration": 150,
    "start_time": "2022-10-23T09:33:38.505Z"
   },
   {
    "duration": 138,
    "start_time": "2022-10-23T09:33:38.656Z"
   },
   {
    "duration": 72,
    "start_time": "2022-10-23T09:33:38.795Z"
   },
   {
    "duration": 39,
    "start_time": "2022-10-23T09:33:38.873Z"
   },
   {
    "duration": 137,
    "start_time": "2022-10-23T09:33:38.914Z"
   },
   {
    "duration": 58,
    "start_time": "2022-10-23T09:33:39.054Z"
   },
   {
    "duration": 30,
    "start_time": "2022-10-23T09:33:39.114Z"
   },
   {
    "duration": 16,
    "start_time": "2022-10-23T09:33:39.149Z"
   },
   {
    "duration": 170,
    "start_time": "2022-10-23T09:33:39.167Z"
   },
   {
    "duration": 76,
    "start_time": "2022-10-23T09:33:39.340Z"
   },
   {
    "duration": 86,
    "start_time": "2022-10-23T09:33:39.422Z"
   },
   {
    "duration": 216,
    "start_time": "2022-10-23T09:33:39.510Z"
   },
   {
    "duration": 183,
    "start_time": "2022-10-23T09:33:39.728Z"
   },
   {
    "duration": 3,
    "start_time": "2022-10-23T09:33:39.912Z"
   },
   {
    "duration": 13,
    "start_time": "2022-10-23T09:33:39.917Z"
   },
   {
    "duration": 14,
    "start_time": "2022-10-23T09:33:39.933Z"
   },
   {
    "duration": 120,
    "start_time": "2022-10-23T09:33:59.218Z"
   },
   {
    "duration": 15,
    "start_time": "2022-10-23T09:34:17.920Z"
   },
   {
    "duration": 13,
    "start_time": "2022-10-23T09:35:59.191Z"
   },
   {
    "duration": 41,
    "start_time": "2022-10-23T09:36:24.723Z"
   },
   {
    "duration": 11,
    "start_time": "2022-10-23T09:36:42.490Z"
   },
   {
    "duration": 12,
    "start_time": "2022-10-23T09:36:51.168Z"
   },
   {
    "duration": 10,
    "start_time": "2022-10-23T09:37:04.296Z"
   },
   {
    "duration": 14,
    "start_time": "2022-10-23T09:37:42.839Z"
   },
   {
    "duration": 10,
    "start_time": "2022-10-23T09:40:01.894Z"
   },
   {
    "duration": 4,
    "start_time": "2022-10-23T09:43:32.265Z"
   },
   {
    "duration": 11,
    "start_time": "2022-10-23T09:44:04.192Z"
   },
   {
    "duration": 5,
    "start_time": "2022-10-23T09:44:10.062Z"
   },
   {
    "duration": 8,
    "start_time": "2022-10-23T09:44:10.285Z"
   },
   {
    "duration": 13,
    "start_time": "2022-10-23T09:44:57.572Z"
   },
   {
    "duration": 5,
    "start_time": "2022-10-23T09:44:58.563Z"
   },
   {
    "duration": 867,
    "start_time": "2022-10-23T09:44:58.752Z"
   },
   {
    "duration": 11,
    "start_time": "2022-10-23T09:45:32.574Z"
   },
   {
    "duration": 7,
    "start_time": "2022-10-23T09:45:33.620Z"
   },
   {
    "duration": 11,
    "start_time": "2022-10-23T09:45:33.759Z"
   },
   {
    "duration": 5,
    "start_time": "2022-10-23T09:45:36.146Z"
   },
   {
    "duration": 11,
    "start_time": "2022-10-23T09:45:36.474Z"
   },
   {
    "duration": 58,
    "start_time": "2022-10-23T09:46:55.163Z"
   },
   {
    "duration": 76,
    "start_time": "2022-10-23T09:47:01.209Z"
   },
   {
    "duration": 85,
    "start_time": "2022-10-23T09:47:01.579Z"
   },
   {
    "duration": 182,
    "start_time": "2022-10-23T09:47:02.278Z"
   },
   {
    "duration": 13,
    "start_time": "2022-10-23T09:47:03.551Z"
   },
   {
    "duration": 1121,
    "start_time": "2022-10-23T09:47:07.899Z"
   },
   {
    "duration": 194,
    "start_time": "2022-10-23T09:47:09.024Z"
   },
   {
    "duration": 8,
    "start_time": "2022-10-23T09:47:09.219Z"
   },
   {
    "duration": 58,
    "start_time": "2022-10-23T09:47:09.229Z"
   },
   {
    "duration": 20,
    "start_time": "2022-10-23T09:47:09.289Z"
   },
   {
    "duration": 351,
    "start_time": "2022-10-23T09:47:09.311Z"
   },
   {
    "duration": 72,
    "start_time": "2022-10-23T09:47:09.664Z"
   },
   {
    "duration": 24,
    "start_time": "2022-10-23T09:47:09.739Z"
   },
   {
    "duration": 40,
    "start_time": "2022-10-23T09:47:09.764Z"
   },
   {
    "duration": 107,
    "start_time": "2022-10-23T09:47:09.830Z"
   },
   {
    "duration": 31,
    "start_time": "2022-10-23T09:47:09.939Z"
   },
   {
    "duration": 391,
    "start_time": "2022-10-23T09:47:09.973Z"
   },
   {
    "duration": 252,
    "start_time": "2022-10-23T09:47:10.366Z"
   },
   {
    "duration": 144,
    "start_time": "2022-10-23T09:47:10.621Z"
   },
   {
    "duration": 119,
    "start_time": "2022-10-23T09:47:10.767Z"
   },
   {
    "duration": 62,
    "start_time": "2022-10-23T09:47:10.887Z"
   },
   {
    "duration": 33,
    "start_time": "2022-10-23T09:47:10.950Z"
   },
   {
    "duration": 126,
    "start_time": "2022-10-23T09:47:10.985Z"
   },
   {
    "duration": 64,
    "start_time": "2022-10-23T09:47:11.113Z"
   },
   {
    "duration": 11,
    "start_time": "2022-10-23T09:47:11.179Z"
   },
   {
    "duration": 10,
    "start_time": "2022-10-23T09:47:11.191Z"
   },
   {
    "duration": 136,
    "start_time": "2022-10-23T09:47:11.203Z"
   },
   {
    "duration": 65,
    "start_time": "2022-10-23T09:47:11.341Z"
   },
   {
    "duration": 81,
    "start_time": "2022-10-23T09:47:11.408Z"
   },
   {
    "duration": 240,
    "start_time": "2022-10-23T09:47:11.491Z"
   },
   {
    "duration": 191,
    "start_time": "2022-10-23T09:47:11.733Z"
   },
   {
    "duration": 16,
    "start_time": "2022-10-23T09:47:11.929Z"
   },
   {
    "duration": 9,
    "start_time": "2022-10-23T09:47:11.947Z"
   },
   {
    "duration": 223,
    "start_time": "2022-10-23T09:47:11.957Z"
   },
   {
    "duration": 0,
    "start_time": "2022-10-23T09:47:12.182Z"
   },
   {
    "duration": 0,
    "start_time": "2022-10-23T09:47:12.183Z"
   },
   {
    "duration": 0,
    "start_time": "2022-10-23T09:47:12.184Z"
   },
   {
    "duration": 72,
    "start_time": "2022-10-23T09:48:20.496Z"
   },
   {
    "duration": 74,
    "start_time": "2022-10-23T09:48:40.622Z"
   },
   {
    "duration": 1127,
    "start_time": "2022-10-23T09:49:05.983Z"
   },
   {
    "duration": 879,
    "start_time": "2022-10-23T09:49:19.440Z"
   },
   {
    "duration": 812,
    "start_time": "2022-10-23T09:49:23.045Z"
   },
   {
    "duration": 886,
    "start_time": "2022-10-23T09:49:29.193Z"
   },
   {
    "duration": 822,
    "start_time": "2022-10-23T09:49:31.806Z"
   },
   {
    "duration": 87,
    "start_time": "2022-10-23T09:49:48.699Z"
   },
   {
    "duration": 78,
    "start_time": "2022-10-23T09:49:58.407Z"
   },
   {
    "duration": 96,
    "start_time": "2022-10-23T09:50:03.032Z"
   },
   {
    "duration": 76,
    "start_time": "2022-10-23T09:50:17.237Z"
   },
   {
    "duration": 73,
    "start_time": "2022-10-23T09:50:38.390Z"
   },
   {
    "duration": 76,
    "start_time": "2022-10-23T09:50:46.813Z"
   },
   {
    "duration": 64,
    "start_time": "2022-10-23T09:50:54.321Z"
   },
   {
    "duration": 1220,
    "start_time": "2022-10-23T09:51:03.730Z"
   },
   {
    "duration": 849,
    "start_time": "2022-10-23T09:51:08.045Z"
   },
   {
    "duration": 68,
    "start_time": "2022-10-23T09:51:10.234Z"
   },
   {
    "duration": 83,
    "start_time": "2022-10-23T09:51:18.947Z"
   },
   {
    "duration": 67,
    "start_time": "2022-10-23T09:51:38.555Z"
   },
   {
    "duration": 64,
    "start_time": "2022-10-23T09:51:46.466Z"
   },
   {
    "duration": 70,
    "start_time": "2022-10-23T09:52:52.645Z"
   },
   {
    "duration": 92,
    "start_time": "2022-10-23T09:52:55.716Z"
   },
   {
    "duration": 107,
    "start_time": "2022-10-23T09:53:00.978Z"
   },
   {
    "duration": 83,
    "start_time": "2022-10-23T09:53:24.149Z"
   },
   {
    "duration": 84,
    "start_time": "2022-10-23T09:53:34.594Z"
   },
   {
    "duration": 81,
    "start_time": "2022-10-23T09:53:37.210Z"
   },
   {
    "duration": 5,
    "start_time": "2022-10-23T09:57:23.294Z"
   },
   {
    "duration": 768,
    "start_time": "2022-10-23T09:57:23.497Z"
   },
   {
    "duration": 5,
    "start_time": "2022-10-23T09:58:07.381Z"
   },
   {
    "duration": 13,
    "start_time": "2022-10-23T09:58:07.601Z"
   },
   {
    "duration": 3,
    "start_time": "2022-10-23T09:58:44.680Z"
   },
   {
    "duration": 5,
    "start_time": "2022-10-23T09:58:51.814Z"
   },
   {
    "duration": 13,
    "start_time": "2022-10-23T09:58:52.009Z"
   },
   {
    "duration": 4,
    "start_time": "2022-10-23T09:59:16.796Z"
   },
   {
    "duration": 12,
    "start_time": "2022-10-23T09:59:16.803Z"
   },
   {
    "duration": 7,
    "start_time": "2022-10-23T10:01:00.538Z"
   },
   {
    "duration": 9,
    "start_time": "2022-10-23T10:01:00.750Z"
   },
   {
    "duration": 10,
    "start_time": "2022-10-23T10:01:34.138Z"
   },
   {
    "duration": 9,
    "start_time": "2022-10-23T10:01:34.844Z"
   },
   {
    "duration": 6,
    "start_time": "2022-10-23T10:01:43.309Z"
   },
   {
    "duration": 9,
    "start_time": "2022-10-23T10:01:44.108Z"
   },
   {
    "duration": 7,
    "start_time": "2022-10-23T10:02:58.359Z"
   },
   {
    "duration": 9,
    "start_time": "2022-10-23T10:02:58.545Z"
   },
   {
    "duration": 5,
    "start_time": "2022-10-23T10:03:09.689Z"
   },
   {
    "duration": 9,
    "start_time": "2022-10-23T10:03:09.848Z"
   },
   {
    "duration": 5,
    "start_time": "2022-10-23T10:03:15.394Z"
   },
   {
    "duration": 9,
    "start_time": "2022-10-23T10:03:15.582Z"
   },
   {
    "duration": 8,
    "start_time": "2022-10-23T10:05:07.155Z"
   },
   {
    "duration": 675,
    "start_time": "2022-10-23T10:07:56.799Z"
   },
   {
    "duration": 8,
    "start_time": "2022-10-23T10:07:57.861Z"
   },
   {
    "duration": 9,
    "start_time": "2022-10-23T10:07:58.165Z"
   },
   {
    "duration": 746,
    "start_time": "2022-10-23T10:07:58.483Z"
   },
   {
    "duration": 1097,
    "start_time": "2022-10-23T10:08:22.119Z"
   },
   {
    "duration": 160,
    "start_time": "2022-10-23T10:08:23.218Z"
   },
   {
    "duration": 8,
    "start_time": "2022-10-23T10:08:23.380Z"
   },
   {
    "duration": 66,
    "start_time": "2022-10-23T10:08:23.390Z"
   },
   {
    "duration": 19,
    "start_time": "2022-10-23T10:08:23.457Z"
   },
   {
    "duration": 403,
    "start_time": "2022-10-23T10:08:23.478Z"
   },
   {
    "duration": 80,
    "start_time": "2022-10-23T10:08:23.882Z"
   },
   {
    "duration": 19,
    "start_time": "2022-10-23T10:08:23.963Z"
   },
   {
    "duration": 69,
    "start_time": "2022-10-23T10:08:23.983Z"
   },
   {
    "duration": 113,
    "start_time": "2022-10-23T10:08:24.055Z"
   },
   {
    "duration": 30,
    "start_time": "2022-10-23T10:08:24.169Z"
   },
   {
    "duration": 455,
    "start_time": "2022-10-23T10:08:24.200Z"
   },
   {
    "duration": 280,
    "start_time": "2022-10-23T10:08:24.656Z"
   },
   {
    "duration": 143,
    "start_time": "2022-10-23T10:08:24.939Z"
   },
   {
    "duration": 123,
    "start_time": "2022-10-23T10:08:25.083Z"
   },
   {
    "duration": 72,
    "start_time": "2022-10-23T10:08:25.208Z"
   },
   {
    "duration": 29,
    "start_time": "2022-10-23T10:08:25.282Z"
   },
   {
    "duration": 109,
    "start_time": "2022-10-23T10:08:25.313Z"
   },
   {
    "duration": 46,
    "start_time": "2022-10-23T10:08:25.427Z"
   },
   {
    "duration": 9,
    "start_time": "2022-10-23T10:08:25.474Z"
   },
   {
    "duration": 10,
    "start_time": "2022-10-23T10:08:25.484Z"
   },
   {
    "duration": 133,
    "start_time": "2022-10-23T10:08:25.496Z"
   },
   {
    "duration": 94,
    "start_time": "2022-10-23T10:08:25.631Z"
   },
   {
    "duration": 77,
    "start_time": "2022-10-23T10:08:25.727Z"
   },
   {
    "duration": 211,
    "start_time": "2022-10-23T10:08:25.806Z"
   },
   {
    "duration": 166,
    "start_time": "2022-10-23T10:08:26.019Z"
   },
   {
    "duration": 11,
    "start_time": "2022-10-23T10:08:26.187Z"
   },
   {
    "duration": 5,
    "start_time": "2022-10-23T10:08:26.202Z"
   },
   {
    "duration": 17,
    "start_time": "2022-10-23T10:08:26.209Z"
   },
   {
    "duration": 12,
    "start_time": "2022-10-23T10:08:26.228Z"
   },
   {
    "duration": 22,
    "start_time": "2022-10-23T10:08:26.242Z"
   },
   {
    "duration": 1161,
    "start_time": "2022-10-23T10:08:26.266Z"
   },
   {
    "duration": 0,
    "start_time": "2022-10-23T10:08:27.429Z"
   },
   {
    "duration": 0,
    "start_time": "2022-10-23T10:08:27.430Z"
   },
   {
    "duration": 0,
    "start_time": "2022-10-23T10:08:27.431Z"
   },
   {
    "duration": 9,
    "start_time": "2022-10-23T10:08:37.961Z"
   },
   {
    "duration": 47,
    "start_time": "2022-10-23T13:28:40.750Z"
   },
   {
    "duration": 1292,
    "start_time": "2022-10-23T13:28:50.704Z"
   },
   {
    "duration": 500,
    "start_time": "2022-10-23T13:28:51.998Z"
   },
   {
    "duration": 7,
    "start_time": "2022-10-23T13:28:52.500Z"
   },
   {
    "duration": 40,
    "start_time": "2022-10-23T13:28:52.509Z"
   },
   {
    "duration": 20,
    "start_time": "2022-10-23T13:28:52.551Z"
   },
   {
    "duration": 337,
    "start_time": "2022-10-23T13:28:52.572Z"
   },
   {
    "duration": 73,
    "start_time": "2022-10-23T13:28:52.910Z"
   },
   {
    "duration": 18,
    "start_time": "2022-10-23T13:28:52.985Z"
   },
   {
    "duration": 55,
    "start_time": "2022-10-23T13:28:53.004Z"
   },
   {
    "duration": 97,
    "start_time": "2022-10-23T13:28:53.062Z"
   },
   {
    "duration": 29,
    "start_time": "2022-10-23T13:28:53.161Z"
   },
   {
    "duration": 378,
    "start_time": "2022-10-23T13:28:53.192Z"
   },
   {
    "duration": 253,
    "start_time": "2022-10-23T13:28:53.572Z"
   },
   {
    "duration": 116,
    "start_time": "2022-10-23T13:28:53.827Z"
   },
   {
    "duration": 111,
    "start_time": "2022-10-23T13:28:53.944Z"
   },
   {
    "duration": 44,
    "start_time": "2022-10-23T13:28:54.057Z"
   },
   {
    "duration": 46,
    "start_time": "2022-10-23T13:28:54.103Z"
   },
   {
    "duration": 104,
    "start_time": "2022-10-23T13:28:54.151Z"
   },
   {
    "duration": 42,
    "start_time": "2022-10-23T13:28:54.257Z"
   },
   {
    "duration": 13,
    "start_time": "2022-10-23T13:28:54.301Z"
   },
   {
    "duration": 21,
    "start_time": "2022-10-23T13:28:54.316Z"
   },
   {
    "duration": 126,
    "start_time": "2022-10-23T13:28:54.340Z"
   },
   {
    "duration": 69,
    "start_time": "2022-10-23T13:28:54.468Z"
   },
   {
    "duration": 61,
    "start_time": "2022-10-23T13:28:54.539Z"
   },
   {
    "duration": 178,
    "start_time": "2022-10-23T13:28:54.602Z"
   },
   {
    "duration": 163,
    "start_time": "2022-10-23T13:28:54.782Z"
   },
   {
    "duration": 8,
    "start_time": "2022-10-23T13:28:54.947Z"
   },
   {
    "duration": 7,
    "start_time": "2022-10-23T13:28:54.958Z"
   },
   {
    "duration": 14,
    "start_time": "2022-10-23T13:28:54.967Z"
   },
   {
    "duration": 53,
    "start_time": "2022-10-23T13:28:54.982Z"
   },
   {
    "duration": 12,
    "start_time": "2022-10-23T13:28:55.037Z"
   },
   {
    "duration": 829,
    "start_time": "2022-10-23T13:28:55.050Z"
   },
   {
    "duration": 0,
    "start_time": "2022-10-23T13:28:55.880Z"
   },
   {
    "duration": 0,
    "start_time": "2022-10-23T13:28:55.881Z"
   },
   {
    "duration": 0,
    "start_time": "2022-10-23T13:28:55.882Z"
   },
   {
    "duration": 13,
    "start_time": "2022-10-23T13:33:05.702Z"
   },
   {
    "duration": 11,
    "start_time": "2022-10-23T13:33:12.249Z"
   },
   {
    "duration": 5,
    "start_time": "2022-10-23T13:33:12.913Z"
   },
   {
    "duration": 9,
    "start_time": "2022-10-23T13:33:13.038Z"
   },
   {
    "duration": 9,
    "start_time": "2022-10-23T13:33:13.499Z"
   },
   {
    "duration": 10,
    "start_time": "2022-10-23T13:33:13.805Z"
   },
   {
    "duration": 11,
    "start_time": "2022-10-23T13:33:14.132Z"
   },
   {
    "duration": 2,
    "start_time": "2022-10-23T13:33:14.480Z"
   },
   {
    "duration": 159,
    "start_time": "2022-10-23T13:45:24.881Z"
   },
   {
    "duration": 700,
    "start_time": "2022-10-23T13:45:30.034Z"
   },
   {
    "duration": 702,
    "start_time": "2022-10-23T13:46:02.193Z"
   },
   {
    "duration": 163,
    "start_time": "2022-10-23T13:46:15.683Z"
   },
   {
    "duration": 10,
    "start_time": "2022-10-23T13:46:16.987Z"
   },
   {
    "duration": 12,
    "start_time": "2022-10-23T13:47:12.593Z"
   },
   {
    "duration": 11,
    "start_time": "2022-10-23T13:47:13.980Z"
   },
   {
    "duration": 5,
    "start_time": "2022-10-23T13:47:14.941Z"
   },
   {
    "duration": 9,
    "start_time": "2022-10-23T13:47:15.084Z"
   },
   {
    "duration": 9,
    "start_time": "2022-10-23T13:47:15.447Z"
   },
   {
    "duration": 9,
    "start_time": "2022-10-23T13:47:15.783Z"
   },
   {
    "duration": 10,
    "start_time": "2022-10-23T13:47:16.126Z"
   },
   {
    "duration": 1017,
    "start_time": "2022-10-23T13:47:27.070Z"
   },
   {
    "duration": 179,
    "start_time": "2022-10-23T13:47:28.089Z"
   },
   {
    "duration": 7,
    "start_time": "2022-10-23T13:47:28.273Z"
   },
   {
    "duration": 55,
    "start_time": "2022-10-23T13:47:28.281Z"
   },
   {
    "duration": 19,
    "start_time": "2022-10-23T13:47:28.338Z"
   },
   {
    "duration": 366,
    "start_time": "2022-10-23T13:47:28.358Z"
   },
   {
    "duration": 77,
    "start_time": "2022-10-23T13:47:28.726Z"
   },
   {
    "duration": 32,
    "start_time": "2022-10-23T13:47:28.804Z"
   },
   {
    "duration": 40,
    "start_time": "2022-10-23T13:47:28.839Z"
   },
   {
    "duration": 113,
    "start_time": "2022-10-23T13:47:28.880Z"
   },
   {
    "duration": 40,
    "start_time": "2022-10-23T13:47:28.994Z"
   },
   {
    "duration": 376,
    "start_time": "2022-10-23T13:47:29.035Z"
   },
   {
    "duration": 269,
    "start_time": "2022-10-23T13:47:29.412Z"
   },
   {
    "duration": 126,
    "start_time": "2022-10-23T13:47:29.683Z"
   },
   {
    "duration": 106,
    "start_time": "2022-10-23T13:47:29.811Z"
   },
   {
    "duration": 55,
    "start_time": "2022-10-23T13:47:29.918Z"
   },
   {
    "duration": 31,
    "start_time": "2022-10-23T13:47:29.975Z"
   },
   {
    "duration": 107,
    "start_time": "2022-10-23T13:47:30.008Z"
   },
   {
    "duration": 52,
    "start_time": "2022-10-23T13:47:30.117Z"
   },
   {
    "duration": 11,
    "start_time": "2022-10-23T13:47:30.171Z"
   },
   {
    "duration": 22,
    "start_time": "2022-10-23T13:47:30.184Z"
   },
   {
    "duration": 107,
    "start_time": "2022-10-23T13:47:30.208Z"
   },
   {
    "duration": 71,
    "start_time": "2022-10-23T13:47:30.317Z"
   },
   {
    "duration": 73,
    "start_time": "2022-10-23T13:47:30.389Z"
   },
   {
    "duration": 184,
    "start_time": "2022-10-23T13:47:30.464Z"
   },
   {
    "duration": 148,
    "start_time": "2022-10-23T13:47:30.650Z"
   },
   {
    "duration": 12,
    "start_time": "2022-10-23T13:47:30.800Z"
   },
   {
    "duration": 21,
    "start_time": "2022-10-23T13:47:30.814Z"
   },
   {
    "duration": 49,
    "start_time": "2022-10-23T13:47:30.837Z"
   },
   {
    "duration": 37,
    "start_time": "2022-10-23T13:47:30.888Z"
   },
   {
    "duration": 24,
    "start_time": "2022-10-23T13:47:30.927Z"
   },
   {
    "duration": 24,
    "start_time": "2022-10-23T13:47:30.953Z"
   },
   {
    "duration": 57,
    "start_time": "2022-10-23T13:48:33.910Z"
   },
   {
    "duration": 107,
    "start_time": "2022-10-23T13:48:51.699Z"
   },
   {
    "duration": 51,
    "start_time": "2022-10-23T13:48:59.155Z"
   },
   {
    "duration": 116,
    "start_time": "2022-10-23T13:49:09.337Z"
   },
   {
    "duration": 1000,
    "start_time": "2022-10-23T13:51:12.587Z"
   },
   {
    "duration": 160,
    "start_time": "2022-10-23T13:51:13.589Z"
   },
   {
    "duration": 8,
    "start_time": "2022-10-23T13:51:13.750Z"
   },
   {
    "duration": 48,
    "start_time": "2022-10-23T13:51:13.760Z"
   },
   {
    "duration": 33,
    "start_time": "2022-10-23T13:51:13.809Z"
   },
   {
    "duration": 366,
    "start_time": "2022-10-23T13:51:13.843Z"
   },
   {
    "duration": 82,
    "start_time": "2022-10-23T13:51:14.210Z"
   },
   {
    "duration": 26,
    "start_time": "2022-10-23T13:51:14.294Z"
   },
   {
    "duration": 58,
    "start_time": "2022-10-23T13:51:14.322Z"
   },
   {
    "duration": 130,
    "start_time": "2022-10-23T13:51:14.383Z"
   },
   {
    "duration": 36,
    "start_time": "2022-10-23T13:51:14.515Z"
   },
   {
    "duration": 371,
    "start_time": "2022-10-23T13:51:14.553Z"
   },
   {
    "duration": 254,
    "start_time": "2022-10-23T13:51:14.926Z"
   },
   {
    "duration": 121,
    "start_time": "2022-10-23T13:51:15.182Z"
   },
   {
    "duration": 109,
    "start_time": "2022-10-23T13:51:15.305Z"
   },
   {
    "duration": 50,
    "start_time": "2022-10-23T13:51:15.416Z"
   },
   {
    "duration": 32,
    "start_time": "2022-10-23T13:51:15.468Z"
   },
   {
    "duration": 114,
    "start_time": "2022-10-23T13:51:15.501Z"
   },
   {
    "duration": 64,
    "start_time": "2022-10-23T13:51:15.617Z"
   },
   {
    "duration": 9,
    "start_time": "2022-10-23T13:51:15.683Z"
   },
   {
    "duration": 21,
    "start_time": "2022-10-23T13:51:15.694Z"
   },
   {
    "duration": 126,
    "start_time": "2022-10-23T13:51:15.717Z"
   },
   {
    "duration": 66,
    "start_time": "2022-10-23T13:51:15.845Z"
   },
   {
    "duration": 84,
    "start_time": "2022-10-23T13:51:15.913Z"
   },
   {
    "duration": 205,
    "start_time": "2022-10-23T13:51:15.998Z"
   },
   {
    "duration": 188,
    "start_time": "2022-10-23T13:51:16.205Z"
   },
   {
    "duration": 16,
    "start_time": "2022-10-23T13:51:16.395Z"
   },
   {
    "duration": 26,
    "start_time": "2022-10-23T13:51:16.414Z"
   },
   {
    "duration": 24,
    "start_time": "2022-10-23T13:51:16.442Z"
   },
   {
    "duration": 15,
    "start_time": "2022-10-23T13:51:16.468Z"
   },
   {
    "duration": 10,
    "start_time": "2022-10-23T13:51:16.534Z"
   },
   {
    "duration": 14,
    "start_time": "2022-10-23T13:51:16.545Z"
   },
   {
    "duration": 1143,
    "start_time": "2022-10-23T13:51:43.145Z"
   },
   {
    "duration": 161,
    "start_time": "2022-10-23T13:51:44.290Z"
   },
   {
    "duration": 8,
    "start_time": "2022-10-23T13:51:44.452Z"
   },
   {
    "duration": 44,
    "start_time": "2022-10-23T13:51:44.462Z"
   },
   {
    "duration": 37,
    "start_time": "2022-10-23T13:51:44.507Z"
   },
   {
    "duration": 337,
    "start_time": "2022-10-23T13:51:44.545Z"
   },
   {
    "duration": 76,
    "start_time": "2022-10-23T13:51:44.885Z"
   },
   {
    "duration": 18,
    "start_time": "2022-10-23T13:51:44.963Z"
   },
   {
    "duration": 60,
    "start_time": "2022-10-23T13:51:44.983Z"
   },
   {
    "duration": 97,
    "start_time": "2022-10-23T13:51:45.046Z"
   },
   {
    "duration": 28,
    "start_time": "2022-10-23T13:51:45.145Z"
   },
   {
    "duration": 391,
    "start_time": "2022-10-23T13:51:45.174Z"
   },
   {
    "duration": 238,
    "start_time": "2022-10-23T13:51:45.566Z"
   },
   {
    "duration": 135,
    "start_time": "2022-10-23T13:51:45.806Z"
   },
   {
    "duration": 106,
    "start_time": "2022-10-23T13:51:45.943Z"
   },
   {
    "duration": 44,
    "start_time": "2022-10-23T13:51:46.050Z"
   },
   {
    "duration": 51,
    "start_time": "2022-10-23T13:51:46.096Z"
   },
   {
    "duration": 136,
    "start_time": "2022-10-23T13:51:46.149Z"
   },
   {
    "duration": 65,
    "start_time": "2022-10-23T13:51:46.288Z"
   },
   {
    "duration": 14,
    "start_time": "2022-10-23T13:51:46.354Z"
   },
   {
    "duration": 14,
    "start_time": "2022-10-23T13:51:46.371Z"
   },
   {
    "duration": 159,
    "start_time": "2022-10-23T13:51:46.387Z"
   },
   {
    "duration": 68,
    "start_time": "2022-10-23T13:51:46.547Z"
   },
   {
    "duration": 88,
    "start_time": "2022-10-23T13:51:46.617Z"
   },
   {
    "duration": 196,
    "start_time": "2022-10-23T13:51:46.707Z"
   },
   {
    "duration": 156,
    "start_time": "2022-10-23T13:51:46.904Z"
   },
   {
    "duration": 11,
    "start_time": "2022-10-23T13:51:47.061Z"
   },
   {
    "duration": 5,
    "start_time": "2022-10-23T13:51:47.074Z"
   },
   {
    "duration": 17,
    "start_time": "2022-10-23T13:51:47.081Z"
   },
   {
    "duration": 35,
    "start_time": "2022-10-23T13:51:47.099Z"
   },
   {
    "duration": 9,
    "start_time": "2022-10-23T13:51:47.136Z"
   },
   {
    "duration": 11,
    "start_time": "2022-10-23T13:51:47.147Z"
   },
   {
    "duration": 1213,
    "start_time": "2022-10-24T08:28:57.979Z"
   },
   {
    "duration": 145,
    "start_time": "2022-10-24T08:28:59.193Z"
   },
   {
    "duration": 7,
    "start_time": "2022-10-24T08:28:59.340Z"
   },
   {
    "duration": 40,
    "start_time": "2022-10-24T08:28:59.348Z"
   },
   {
    "duration": 25,
    "start_time": "2022-10-24T08:28:59.390Z"
   },
   {
    "duration": 313,
    "start_time": "2022-10-24T08:28:59.416Z"
   },
   {
    "duration": 69,
    "start_time": "2022-10-24T08:28:59.731Z"
   },
   {
    "duration": 17,
    "start_time": "2022-10-24T08:28:59.802Z"
   },
   {
    "duration": 36,
    "start_time": "2022-10-24T08:28:59.821Z"
   },
   {
    "duration": 105,
    "start_time": "2022-10-24T08:28:59.861Z"
   },
   {
    "duration": 33,
    "start_time": "2022-10-24T08:28:59.968Z"
   },
   {
    "duration": 354,
    "start_time": "2022-10-24T08:29:00.003Z"
   },
   {
    "duration": 233,
    "start_time": "2022-10-24T08:29:00.358Z"
   },
   {
    "duration": 123,
    "start_time": "2022-10-24T08:29:00.593Z"
   },
   {
    "duration": 100,
    "start_time": "2022-10-24T08:29:00.718Z"
   },
   {
    "duration": 43,
    "start_time": "2022-10-24T08:29:00.820Z"
   },
   {
    "duration": 45,
    "start_time": "2022-10-24T08:29:00.864Z"
   },
   {
    "duration": 101,
    "start_time": "2022-10-24T08:29:00.911Z"
   },
   {
    "duration": 41,
    "start_time": "2022-10-24T08:29:01.014Z"
   },
   {
    "duration": 96,
    "start_time": "2022-10-24T08:29:01.056Z"
   },
   {
    "duration": 18,
    "start_time": "2022-10-24T08:29:01.153Z"
   },
   {
    "duration": 121,
    "start_time": "2022-10-24T08:29:01.173Z"
   },
   {
    "duration": 62,
    "start_time": "2022-10-24T08:29:01.296Z"
   },
   {
    "duration": 63,
    "start_time": "2022-10-24T08:29:01.360Z"
   },
   {
    "duration": 176,
    "start_time": "2022-10-24T08:29:01.425Z"
   },
   {
    "duration": 153,
    "start_time": "2022-10-24T08:29:01.602Z"
   },
   {
    "duration": 10,
    "start_time": "2022-10-24T08:29:01.756Z"
   },
   {
    "duration": 44,
    "start_time": "2022-10-24T08:29:01.768Z"
   },
   {
    "duration": 41,
    "start_time": "2022-10-24T08:29:01.814Z"
   },
   {
    "duration": 11,
    "start_time": "2022-10-24T08:29:01.857Z"
   },
   {
    "duration": 11,
    "start_time": "2022-10-24T08:29:01.870Z"
   },
   {
    "duration": 30,
    "start_time": "2022-10-24T08:29:01.883Z"
   },
   {
    "duration": 70,
    "start_time": "2022-10-29T08:33:14.112Z"
   },
   {
    "duration": 1341,
    "start_time": "2022-10-29T08:33:18.394Z"
   },
   {
    "duration": 673,
    "start_time": "2022-10-29T08:33:19.738Z"
   },
   {
    "duration": 7,
    "start_time": "2022-10-29T08:33:20.413Z"
   },
   {
    "duration": 81,
    "start_time": "2022-10-29T08:33:20.422Z"
   },
   {
    "duration": 20,
    "start_time": "2022-10-29T08:33:20.506Z"
   },
   {
    "duration": 402,
    "start_time": "2022-10-29T08:33:20.528Z"
   },
   {
    "duration": 72,
    "start_time": "2022-10-29T08:33:20.932Z"
   },
   {
    "duration": 158,
    "start_time": "2022-10-29T08:33:21.006Z"
   },
   {
    "duration": 19,
    "start_time": "2022-10-29T08:33:21.166Z"
   },
   {
    "duration": 69,
    "start_time": "2022-10-29T08:33:21.187Z"
   },
   {
    "duration": 104,
    "start_time": "2022-10-29T08:33:21.258Z"
   },
   {
    "duration": 29,
    "start_time": "2022-10-29T08:33:21.364Z"
   },
   {
    "duration": 525,
    "start_time": "2022-10-29T08:33:21.394Z"
   },
   {
    "duration": 273,
    "start_time": "2022-10-29T08:33:21.923Z"
   },
   {
    "duration": 144,
    "start_time": "2022-10-29T08:33:22.197Z"
   },
   {
    "duration": 128,
    "start_time": "2022-10-29T08:33:22.343Z"
   },
   {
    "duration": 48,
    "start_time": "2022-10-29T08:33:22.473Z"
   },
   {
    "duration": 47,
    "start_time": "2022-10-29T08:33:22.523Z"
   },
   {
    "duration": 115,
    "start_time": "2022-10-29T08:33:22.572Z"
   },
   {
    "duration": 53,
    "start_time": "2022-10-29T08:33:22.689Z"
   },
   {
    "duration": 15,
    "start_time": "2022-10-29T08:33:22.754Z"
   },
   {
    "duration": 26,
    "start_time": "2022-10-29T08:33:22.771Z"
   },
   {
    "duration": 132,
    "start_time": "2022-10-29T08:33:22.799Z"
   },
   {
    "duration": 77,
    "start_time": "2022-10-29T08:33:22.933Z"
   },
   {
    "duration": 113,
    "start_time": "2022-10-29T08:33:23.013Z"
   },
   {
    "duration": 190,
    "start_time": "2022-10-29T08:33:23.128Z"
   },
   {
    "duration": 168,
    "start_time": "2022-10-29T08:33:23.320Z"
   },
   {
    "duration": 12,
    "start_time": "2022-10-29T08:33:23.490Z"
   },
   {
    "duration": 11,
    "start_time": "2022-10-29T08:33:23.504Z"
   },
   {
    "duration": 40,
    "start_time": "2022-10-29T08:33:23.517Z"
   },
   {
    "duration": 12,
    "start_time": "2022-10-29T08:33:23.559Z"
   },
   {
    "duration": 11,
    "start_time": "2022-10-29T08:33:23.573Z"
   },
   {
    "duration": 70,
    "start_time": "2022-10-29T08:33:23.586Z"
   },
   {
    "duration": 112,
    "start_time": "2022-10-29T08:33:29.225Z"
   },
   {
    "duration": 23,
    "start_time": "2022-10-29T08:33:42.694Z"
   },
   {
    "duration": 110,
    "start_time": "2022-10-29T08:35:29.644Z"
   },
   {
    "duration": 120,
    "start_time": "2022-10-29T08:35:32.329Z"
   },
   {
    "duration": 203,
    "start_time": "2022-10-29T08:36:02.557Z"
   },
   {
    "duration": 188,
    "start_time": "2022-10-29T08:36:17.591Z"
   },
   {
    "duration": 148,
    "start_time": "2022-10-29T08:36:23.689Z"
   },
   {
    "duration": 152,
    "start_time": "2022-10-29T08:36:31.856Z"
   },
   {
    "duration": 140,
    "start_time": "2022-10-29T08:37:35.221Z"
   },
   {
    "duration": 240,
    "start_time": "2022-10-29T08:37:40.156Z"
   },
   {
    "duration": 136,
    "start_time": "2022-10-29T08:37:42.996Z"
   },
   {
    "duration": 128,
    "start_time": "2022-10-29T08:37:53.466Z"
   },
   {
    "duration": 41,
    "start_time": "2022-10-29T08:38:19.318Z"
   },
   {
    "duration": 28,
    "start_time": "2022-10-29T08:50:55.226Z"
   },
   {
    "duration": 161,
    "start_time": "2022-10-29T08:51:17.170Z"
   },
   {
    "duration": 13,
    "start_time": "2022-10-29T08:51:20.433Z"
   },
   {
    "duration": 111,
    "start_time": "2022-10-29T08:53:50.823Z"
   },
   {
    "duration": 94,
    "start_time": "2022-10-29T08:53:59.199Z"
   },
   {
    "duration": 109,
    "start_time": "2022-10-29T08:54:20.743Z"
   },
   {
    "duration": 97,
    "start_time": "2022-10-29T08:54:25.696Z"
   },
   {
    "duration": 267,
    "start_time": "2022-10-29T08:54:55.514Z"
   },
   {
    "duration": 266,
    "start_time": "2022-10-29T08:55:45.461Z"
   },
   {
    "duration": 832,
    "start_time": "2022-10-29T08:59:18.224Z"
   },
   {
    "duration": 1474,
    "start_time": "2022-10-29T08:59:29.033Z"
   },
   {
    "duration": 193,
    "start_time": "2022-10-29T08:59:30.509Z"
   },
   {
    "duration": 9,
    "start_time": "2022-10-29T08:59:30.705Z"
   },
   {
    "duration": 117,
    "start_time": "2022-10-29T08:59:30.716Z"
   },
   {
    "duration": 51,
    "start_time": "2022-10-29T08:59:30.836Z"
   },
   {
    "duration": 480,
    "start_time": "2022-10-29T08:59:30.889Z"
   },
   {
    "duration": 99,
    "start_time": "2022-10-29T08:59:31.373Z"
   },
   {
    "duration": 210,
    "start_time": "2022-10-29T08:59:31.475Z"
   },
   {
    "duration": 257,
    "start_time": "2022-10-29T08:59:31.688Z"
   },
   {
    "duration": 33,
    "start_time": "2022-10-29T08:59:31.954Z"
   },
   {
    "duration": 32,
    "start_time": "2022-10-29T08:59:31.989Z"
   },
   {
    "duration": 62,
    "start_time": "2022-10-29T08:59:32.023Z"
   },
   {
    "duration": 268,
    "start_time": "2022-10-29T08:59:32.087Z"
   },
   {
    "duration": 936,
    "start_time": "2022-10-29T08:59:32.357Z"
   },
   {
    "duration": 0,
    "start_time": "2022-10-29T08:59:33.296Z"
   },
   {
    "duration": 0,
    "start_time": "2022-10-29T08:59:33.298Z"
   },
   {
    "duration": 0,
    "start_time": "2022-10-29T08:59:33.299Z"
   },
   {
    "duration": 0,
    "start_time": "2022-10-29T08:59:33.300Z"
   },
   {
    "duration": 0,
    "start_time": "2022-10-29T08:59:33.301Z"
   },
   {
    "duration": 0,
    "start_time": "2022-10-29T08:59:33.304Z"
   },
   {
    "duration": 0,
    "start_time": "2022-10-29T08:59:33.305Z"
   },
   {
    "duration": 0,
    "start_time": "2022-10-29T08:59:33.306Z"
   },
   {
    "duration": 0,
    "start_time": "2022-10-29T08:59:33.308Z"
   },
   {
    "duration": 0,
    "start_time": "2022-10-29T08:59:33.309Z"
   },
   {
    "duration": 0,
    "start_time": "2022-10-29T08:59:33.310Z"
   },
   {
    "duration": 0,
    "start_time": "2022-10-29T08:59:33.313Z"
   },
   {
    "duration": 0,
    "start_time": "2022-10-29T08:59:33.316Z"
   },
   {
    "duration": 0,
    "start_time": "2022-10-29T08:59:33.318Z"
   },
   {
    "duration": 0,
    "start_time": "2022-10-29T08:59:33.319Z"
   },
   {
    "duration": 0,
    "start_time": "2022-10-29T08:59:33.322Z"
   },
   {
    "duration": 0,
    "start_time": "2022-10-29T08:59:33.323Z"
   },
   {
    "duration": 0,
    "start_time": "2022-10-29T08:59:33.324Z"
   },
   {
    "duration": 0,
    "start_time": "2022-10-29T08:59:33.325Z"
   },
   {
    "duration": 0,
    "start_time": "2022-10-29T08:59:33.328Z"
   },
   {
    "duration": 0,
    "start_time": "2022-10-29T08:59:33.330Z"
   },
   {
    "duration": 0,
    "start_time": "2022-10-29T08:59:33.331Z"
   },
   {
    "duration": 96,
    "start_time": "2022-10-29T08:59:53.458Z"
   },
   {
    "duration": 192,
    "start_time": "2022-10-29T09:00:10.797Z"
   },
   {
    "duration": 89,
    "start_time": "2022-10-29T09:00:39.162Z"
   },
   {
    "duration": 97,
    "start_time": "2022-10-29T09:00:43.721Z"
   },
   {
    "duration": 88,
    "start_time": "2022-10-29T09:01:45.386Z"
   },
   {
    "duration": 1511,
    "start_time": "2022-10-29T09:02:14.209Z"
   },
   {
    "duration": 193,
    "start_time": "2022-10-29T09:02:15.722Z"
   },
   {
    "duration": 9,
    "start_time": "2022-10-29T09:02:15.917Z"
   },
   {
    "duration": 60,
    "start_time": "2022-10-29T09:02:15.928Z"
   },
   {
    "duration": 20,
    "start_time": "2022-10-29T09:02:15.990Z"
   },
   {
    "duration": 416,
    "start_time": "2022-10-29T09:02:16.013Z"
   },
   {
    "duration": 101,
    "start_time": "2022-10-29T09:02:16.432Z"
   },
   {
    "duration": 151,
    "start_time": "2022-10-29T09:02:16.535Z"
   },
   {
    "duration": 269,
    "start_time": "2022-10-29T09:02:16.693Z"
   },
   {
    "duration": 34,
    "start_time": "2022-10-29T09:02:16.967Z"
   },
   {
    "duration": 17,
    "start_time": "2022-10-29T09:02:17.003Z"
   },
   {
    "duration": 83,
    "start_time": "2022-10-29T09:02:17.022Z"
   },
   {
    "duration": 213,
    "start_time": "2022-10-29T09:02:17.109Z"
   },
   {
    "duration": 76,
    "start_time": "2022-10-29T09:02:17.326Z"
   },
   {
    "duration": 57,
    "start_time": "2022-10-29T09:02:17.404Z"
   },
   {
    "duration": 660,
    "start_time": "2022-10-29T09:02:17.464Z"
   },
   {
    "duration": 408,
    "start_time": "2022-10-29T09:02:18.127Z"
   },
   {
    "duration": 170,
    "start_time": "2022-10-29T09:02:18.544Z"
   },
   {
    "duration": 166,
    "start_time": "2022-10-29T09:02:18.716Z"
   },
   {
    "duration": 52,
    "start_time": "2022-10-29T09:02:18.884Z"
   },
   {
    "duration": 36,
    "start_time": "2022-10-29T09:02:18.938Z"
   },
   {
    "duration": 180,
    "start_time": "2022-10-29T09:02:18.976Z"
   },
   {
    "duration": 124,
    "start_time": "2022-10-29T09:02:19.161Z"
   },
   {
    "duration": 18,
    "start_time": "2022-10-29T09:02:19.288Z"
   },
   {
    "duration": 22,
    "start_time": "2022-10-29T09:02:19.308Z"
   },
   {
    "duration": 207,
    "start_time": "2022-10-29T09:02:19.332Z"
   },
   {
    "duration": 98,
    "start_time": "2022-10-29T09:02:19.557Z"
   },
   {
    "duration": 124,
    "start_time": "2022-10-29T09:02:19.660Z"
   },
   {
    "duration": 218,
    "start_time": "2022-10-29T09:02:19.787Z"
   },
   {
    "duration": 164,
    "start_time": "2022-10-29T09:02:20.006Z"
   },
   {
    "duration": 13,
    "start_time": "2022-10-29T09:02:20.172Z"
   },
   {
    "duration": 9,
    "start_time": "2022-10-29T09:02:20.186Z"
   },
   {
    "duration": 58,
    "start_time": "2022-10-29T09:02:20.198Z"
   },
   {
    "duration": 10,
    "start_time": "2022-10-29T09:02:20.258Z"
   },
   {
    "duration": 28,
    "start_time": "2022-10-29T09:02:20.270Z"
   },
   {
    "duration": 65,
    "start_time": "2022-10-29T09:02:20.300Z"
   },
   {
    "duration": 121,
    "start_time": "2022-10-29T09:25:39.608Z"
   },
   {
    "duration": 114,
    "start_time": "2022-10-29T09:26:03.568Z"
   },
   {
    "duration": 143,
    "start_time": "2022-10-29T09:26:13.116Z"
   },
   {
    "duration": 119,
    "start_time": "2022-10-29T09:26:21.226Z"
   },
   {
    "duration": 192,
    "start_time": "2022-10-29T09:27:10.970Z"
   },
   {
    "duration": 185,
    "start_time": "2022-10-29T09:27:52.954Z"
   },
   {
    "duration": 195,
    "start_time": "2022-10-29T09:28:53.192Z"
   },
   {
    "duration": 85,
    "start_time": "2022-10-29T09:29:56.086Z"
   },
   {
    "duration": 5,
    "start_time": "2022-10-29T09:30:09.373Z"
   },
   {
    "duration": 5,
    "start_time": "2022-10-29T09:30:45.448Z"
   },
   {
    "duration": 98,
    "start_time": "2022-10-29T09:31:28.734Z"
   },
   {
    "duration": 1248,
    "start_time": "2022-10-29T09:31:42.004Z"
   },
   {
    "duration": 264,
    "start_time": "2022-10-29T09:31:43.260Z"
   },
   {
    "duration": 9,
    "start_time": "2022-10-29T09:31:43.527Z"
   },
   {
    "duration": 69,
    "start_time": "2022-10-29T09:31:43.538Z"
   },
   {
    "duration": 23,
    "start_time": "2022-10-29T09:31:43.609Z"
   },
   {
    "duration": 446,
    "start_time": "2022-10-29T09:31:43.634Z"
   },
   {
    "duration": 86,
    "start_time": "2022-10-29T09:31:44.082Z"
   },
   {
    "duration": 180,
    "start_time": "2022-10-29T09:31:44.169Z"
   },
   {
    "duration": 203,
    "start_time": "2022-10-29T09:31:44.357Z"
   },
   {
    "duration": 29,
    "start_time": "2022-10-29T09:31:44.566Z"
   },
   {
    "duration": 24,
    "start_time": "2022-10-29T09:31:44.597Z"
   },
   {
    "duration": 76,
    "start_time": "2022-10-29T09:31:44.623Z"
   },
   {
    "duration": 209,
    "start_time": "2022-10-29T09:31:44.702Z"
   },
   {
    "duration": 81,
    "start_time": "2022-10-29T09:31:44.916Z"
   },
   {
    "duration": 42,
    "start_time": "2022-10-29T09:31:44.999Z"
   },
   {
    "duration": 480,
    "start_time": "2022-10-29T09:31:45.043Z"
   },
   {
    "duration": 295,
    "start_time": "2022-10-29T09:31:45.526Z"
   },
   {
    "duration": 219,
    "start_time": "2022-10-29T09:31:45.824Z"
   },
   {
    "duration": 10,
    "start_time": "2022-10-29T09:31:46.045Z"
   },
   {
    "duration": 121,
    "start_time": "2022-10-29T09:31:46.057Z"
   },
   {
    "duration": 75,
    "start_time": "2022-10-29T09:31:46.180Z"
   },
   {
    "duration": 42,
    "start_time": "2022-10-29T09:31:46.258Z"
   },
   {
    "duration": 170,
    "start_time": "2022-10-29T09:31:46.303Z"
   },
   {
    "duration": 66,
    "start_time": "2022-10-29T09:31:46.475Z"
   },
   {
    "duration": 28,
    "start_time": "2022-10-29T09:31:46.543Z"
   },
   {
    "duration": 9,
    "start_time": "2022-10-29T09:31:46.574Z"
   },
   {
    "duration": 160,
    "start_time": "2022-10-29T09:31:46.584Z"
   },
   {
    "duration": 109,
    "start_time": "2022-10-29T09:31:46.746Z"
   },
   {
    "duration": 106,
    "start_time": "2022-10-29T09:31:46.857Z"
   },
   {
    "duration": 226,
    "start_time": "2022-10-29T09:31:46.965Z"
   },
   {
    "duration": 206,
    "start_time": "2022-10-29T09:31:47.194Z"
   },
   {
    "duration": 17,
    "start_time": "2022-10-29T09:31:47.404Z"
   },
   {
    "duration": 57,
    "start_time": "2022-10-29T09:31:47.425Z"
   },
   {
    "duration": 40,
    "start_time": "2022-10-29T09:31:47.485Z"
   },
   {
    "duration": 47,
    "start_time": "2022-10-29T09:31:47.528Z"
   },
   {
    "duration": 16,
    "start_time": "2022-10-29T09:31:47.577Z"
   },
   {
    "duration": 14,
    "start_time": "2022-10-29T09:31:47.597Z"
   },
   {
    "duration": 15,
    "start_time": "2022-10-29T09:32:34.875Z"
   },
   {
    "duration": 53,
    "start_time": "2022-10-29T09:32:48.308Z"
   },
   {
    "duration": 52,
    "start_time": "2022-10-29T09:32:53.973Z"
   },
   {
    "duration": 46,
    "start_time": "2022-10-29T09:33:57.238Z"
   },
   {
    "duration": 120,
    "start_time": "2022-10-29T09:34:49.339Z"
   },
   {
    "duration": 19,
    "start_time": "2022-10-29T09:34:56.994Z"
   },
   {
    "duration": 13,
    "start_time": "2022-10-29T09:35:32.105Z"
   },
   {
    "duration": 47,
    "start_time": "2022-10-29T09:35:48.811Z"
   },
   {
    "duration": 11,
    "start_time": "2022-10-29T09:35:52.002Z"
   },
   {
    "duration": 11,
    "start_time": "2022-10-29T09:36:09.474Z"
   },
   {
    "duration": 16,
    "start_time": "2022-10-29T09:36:16.871Z"
   },
   {
    "duration": 11,
    "start_time": "2022-10-29T09:36:21.704Z"
   },
   {
    "duration": 11,
    "start_time": "2022-10-29T09:36:28.108Z"
   },
   {
    "duration": 12,
    "start_time": "2022-10-29T09:36:32.204Z"
   },
   {
    "duration": 14,
    "start_time": "2022-10-29T09:36:35.619Z"
   },
   {
    "duration": 11,
    "start_time": "2022-10-29T09:36:47.415Z"
   },
   {
    "duration": 11,
    "start_time": "2022-10-29T09:37:33.715Z"
   },
   {
    "duration": 15,
    "start_time": "2022-10-29T09:37:45.108Z"
   },
   {
    "duration": 13,
    "start_time": "2022-10-29T09:37:48.802Z"
   },
   {
    "duration": 11,
    "start_time": "2022-10-29T09:37:52.233Z"
   },
   {
    "duration": 11,
    "start_time": "2022-10-29T09:38:02.420Z"
   },
   {
    "duration": 23,
    "start_time": "2022-10-29T09:38:46.444Z"
   },
   {
    "duration": 13,
    "start_time": "2022-10-29T09:40:14.086Z"
   },
   {
    "duration": 10,
    "start_time": "2022-10-29T09:41:22.467Z"
   },
   {
    "duration": 336,
    "start_time": "2022-10-29T09:42:18.784Z"
   },
   {
    "duration": 23,
    "start_time": "2022-10-29T09:42:22.387Z"
   },
   {
    "duration": 17,
    "start_time": "2022-10-29T09:42:24.378Z"
   },
   {
    "duration": 20,
    "start_time": "2022-10-29T09:42:32.706Z"
   },
   {
    "duration": 451,
    "start_time": "2022-10-29T09:42:36.529Z"
   },
   {
    "duration": 25,
    "start_time": "2022-10-29T09:42:44.664Z"
   },
   {
    "duration": 16,
    "start_time": "2022-10-29T09:42:50.448Z"
   },
   {
    "duration": 16,
    "start_time": "2022-10-29T09:42:53.519Z"
   },
   {
    "duration": 17,
    "start_time": "2022-10-29T09:42:58.799Z"
   },
   {
    "duration": 11,
    "start_time": "2022-10-29T09:43:05.550Z"
   },
   {
    "duration": 12,
    "start_time": "2022-10-29T09:43:13.598Z"
   },
   {
    "duration": 12,
    "start_time": "2022-10-29T09:43:45.560Z"
   },
   {
    "duration": 11,
    "start_time": "2022-10-29T09:44:03.934Z"
   },
   {
    "duration": 1164,
    "start_time": "2022-10-29T09:44:20.524Z"
   },
   {
    "duration": 193,
    "start_time": "2022-10-29T09:44:21.691Z"
   },
   {
    "duration": 8,
    "start_time": "2022-10-29T09:44:21.886Z"
   },
   {
    "duration": 58,
    "start_time": "2022-10-29T09:44:21.897Z"
   },
   {
    "duration": 21,
    "start_time": "2022-10-29T09:44:21.957Z"
   },
   {
    "duration": 379,
    "start_time": "2022-10-29T09:44:21.980Z"
   },
   {
    "duration": 72,
    "start_time": "2022-10-29T09:44:22.361Z"
   },
   {
    "duration": 135,
    "start_time": "2022-10-29T09:44:22.435Z"
   },
   {
    "duration": 181,
    "start_time": "2022-10-29T09:44:22.573Z"
   },
   {
    "duration": 20,
    "start_time": "2022-10-29T09:44:22.757Z"
   },
   {
    "duration": 11,
    "start_time": "2022-10-29T09:44:22.779Z"
   },
   {
    "duration": 62,
    "start_time": "2022-10-29T09:44:22.792Z"
   },
   {
    "duration": 182,
    "start_time": "2022-10-29T09:44:22.856Z"
   },
   {
    "duration": 73,
    "start_time": "2022-10-29T09:44:23.039Z"
   },
   {
    "duration": 26,
    "start_time": "2022-10-29T09:44:23.114Z"
   },
   {
    "duration": 394,
    "start_time": "2022-10-29T09:44:23.154Z"
   },
   {
    "duration": 281,
    "start_time": "2022-10-29T09:44:23.550Z"
   },
   {
    "duration": 204,
    "start_time": "2022-10-29T09:44:23.833Z"
   },
   {
    "duration": 5,
    "start_time": "2022-10-29T09:44:24.039Z"
   },
   {
    "duration": 32,
    "start_time": "2022-10-29T09:44:24.046Z"
   },
   {
    "duration": 56,
    "start_time": "2022-10-29T09:44:24.080Z"
   },
   {
    "duration": 56,
    "start_time": "2022-10-29T09:44:24.138Z"
   },
   {
    "duration": 36,
    "start_time": "2022-10-29T09:44:24.196Z"
   },
   {
    "duration": 121,
    "start_time": "2022-10-29T09:44:24.234Z"
   },
   {
    "duration": 50,
    "start_time": "2022-10-29T09:44:24.357Z"
   },
   {
    "duration": 13,
    "start_time": "2022-10-29T09:44:24.408Z"
   },
   {
    "duration": 177,
    "start_time": "2022-10-29T09:44:24.422Z"
   },
   {
    "duration": 5,
    "start_time": "2022-10-29T09:44:24.602Z"
   },
   {
    "duration": 168,
    "start_time": "2022-10-29T09:44:24.609Z"
   },
   {
    "duration": 92,
    "start_time": "2022-10-29T09:44:24.779Z"
   },
   {
    "duration": 89,
    "start_time": "2022-10-29T09:44:24.872Z"
   },
   {
    "duration": 214,
    "start_time": "2022-10-29T09:44:24.963Z"
   },
   {
    "duration": 13,
    "start_time": "2022-10-29T09:44:25.178Z"
   },
   {
    "duration": 12,
    "start_time": "2022-10-29T09:44:25.193Z"
   },
   {
    "duration": 17,
    "start_time": "2022-10-29T09:44:25.207Z"
   },
   {
    "duration": 49,
    "start_time": "2022-10-29T09:44:25.225Z"
   },
   {
    "duration": 15,
    "start_time": "2022-10-29T09:44:25.276Z"
   },
   {
    "duration": 9,
    "start_time": "2022-10-29T09:44:25.292Z"
   },
   {
    "duration": 11,
    "start_time": "2022-10-29T09:44:25.303Z"
   },
   {
    "duration": 11,
    "start_time": "2022-10-29T09:44:54.331Z"
   },
   {
    "duration": 10,
    "start_time": "2022-10-29T09:44:58.608Z"
   },
   {
    "duration": 860,
    "start_time": "2022-10-29T09:45:05.437Z"
   },
   {
    "duration": 756,
    "start_time": "2022-10-29T09:45:07.853Z"
   },
   {
    "duration": 13,
    "start_time": "2022-10-29T09:45:12.509Z"
   },
   {
    "duration": 4,
    "start_time": "2022-10-29T09:45:23.178Z"
   },
   {
    "duration": 10,
    "start_time": "2022-10-29T09:45:27.566Z"
   },
   {
    "duration": 667,
    "start_time": "2022-10-29T09:45:52.118Z"
   },
   {
    "duration": 20,
    "start_time": "2022-10-29T09:45:58.223Z"
   },
   {
    "duration": 10,
    "start_time": "2022-10-29T09:46:04.417Z"
   },
   {
    "duration": 10,
    "start_time": "2022-10-29T09:46:10.594Z"
   },
   {
    "duration": 13,
    "start_time": "2022-10-29T09:46:18.363Z"
   },
   {
    "duration": 13,
    "start_time": "2022-10-29T09:46:20.583Z"
   },
   {
    "duration": 13,
    "start_time": "2022-10-29T09:46:35.403Z"
   },
   {
    "duration": 5,
    "start_time": "2022-10-29T09:59:46.726Z"
   },
   {
    "duration": 12,
    "start_time": "2022-10-29T09:59:48.292Z"
   },
   {
    "duration": 6,
    "start_time": "2022-10-29T10:00:04.316Z"
   },
   {
    "duration": 9,
    "start_time": "2022-10-29T10:00:05.471Z"
   },
   {
    "duration": 10,
    "start_time": "2022-10-29T10:00:09.494Z"
   },
   {
    "duration": 9,
    "start_time": "2022-10-29T10:00:11.411Z"
   },
   {
    "duration": 9,
    "start_time": "2022-10-29T10:00:11.981Z"
   },
   {
    "duration": 42,
    "start_time": "2022-10-29T10:18:59.720Z"
   },
   {
    "duration": 46,
    "start_time": "2022-10-29T10:19:02.524Z"
   },
   {
    "duration": 1388,
    "start_time": "2022-10-30T09:41:20.942Z"
   },
   {
    "duration": 536,
    "start_time": "2022-10-30T09:41:22.332Z"
   },
   {
    "duration": 7,
    "start_time": "2022-10-30T09:41:22.870Z"
   },
   {
    "duration": 68,
    "start_time": "2022-10-30T09:41:22.879Z"
   },
   {
    "duration": 21,
    "start_time": "2022-10-30T09:41:22.949Z"
   },
   {
    "duration": 395,
    "start_time": "2022-10-30T09:41:22.972Z"
   },
   {
    "duration": 69,
    "start_time": "2022-10-30T09:41:23.368Z"
   },
   {
    "duration": 138,
    "start_time": "2022-10-30T09:41:23.439Z"
   },
   {
    "duration": 185,
    "start_time": "2022-10-30T09:41:23.579Z"
   },
   {
    "duration": 21,
    "start_time": "2022-10-30T09:41:23.767Z"
   },
   {
    "duration": 12,
    "start_time": "2022-10-30T09:41:23.790Z"
   },
   {
    "duration": 69,
    "start_time": "2022-10-30T09:41:23.804Z"
   },
   {
    "duration": 204,
    "start_time": "2022-10-30T09:41:23.876Z"
   },
   {
    "duration": 72,
    "start_time": "2022-10-30T09:41:24.083Z"
   },
   {
    "duration": 28,
    "start_time": "2022-10-30T09:41:24.157Z"
   },
   {
    "duration": 388,
    "start_time": "2022-10-30T09:41:24.187Z"
   },
   {
    "duration": 264,
    "start_time": "2022-10-30T09:41:24.577Z"
   },
   {
    "duration": 201,
    "start_time": "2022-10-30T09:41:24.842Z"
   },
   {
    "duration": 11,
    "start_time": "2022-10-30T09:41:25.044Z"
   },
   {
    "duration": 11,
    "start_time": "2022-10-30T09:41:25.057Z"
   },
   {
    "duration": 59,
    "start_time": "2022-10-30T09:41:25.069Z"
   },
   {
    "duration": 72,
    "start_time": "2022-10-30T09:41:25.130Z"
   },
   {
    "duration": 33,
    "start_time": "2022-10-30T09:41:25.204Z"
   },
   {
    "duration": 125,
    "start_time": "2022-10-30T09:41:25.239Z"
   },
   {
    "duration": 50,
    "start_time": "2022-10-30T09:41:25.366Z"
   },
   {
    "duration": 10,
    "start_time": "2022-10-30T09:41:25.418Z"
   },
   {
    "duration": 198,
    "start_time": "2022-10-30T09:41:25.429Z"
   },
   {
    "duration": 5,
    "start_time": "2022-10-30T09:41:25.630Z"
   },
   {
    "duration": 175,
    "start_time": "2022-10-30T09:41:25.637Z"
   },
   {
    "duration": 103,
    "start_time": "2022-10-30T09:41:25.814Z"
   },
   {
    "duration": 77,
    "start_time": "2022-10-30T09:41:25.919Z"
   },
   {
    "duration": 208,
    "start_time": "2022-10-30T09:41:25.997Z"
   },
   {
    "duration": 11,
    "start_time": "2022-10-30T09:41:26.206Z"
   },
   {
    "duration": 14,
    "start_time": "2022-10-30T09:41:26.218Z"
   },
   {
    "duration": 21,
    "start_time": "2022-10-30T09:41:26.233Z"
   },
   {
    "duration": 10,
    "start_time": "2022-10-30T09:41:26.256Z"
   },
   {
    "duration": 13,
    "start_time": "2022-10-30T09:41:26.268Z"
   },
   {
    "duration": 10,
    "start_time": "2022-10-30T09:41:26.283Z"
   },
   {
    "duration": 10,
    "start_time": "2022-10-30T09:41:26.295Z"
   },
   {
    "duration": 10,
    "start_time": "2022-10-30T09:42:25.806Z"
   }
  ],
  "kernelspec": {
   "display_name": "Python (myenv)",
   "language": "python",
   "name": "myenv"
  },
  "language_info": {
   "codemirror_mode": {
    "name": "ipython",
    "version": 3
   },
   "file_extension": ".py",
   "mimetype": "text/x-python",
   "name": "python",
   "nbconvert_exporter": "python",
   "pygments_lexer": "ipython3",
   "version": "3.9.13"
  },
  "toc": {
   "base_numbering": 1,
   "nav_menu": {},
   "number_sections": false,
   "sideBar": true,
   "skip_h1_title": false,
   "title_cell": "Содержание",
   "title_sidebar": "Сборный проект 2",
   "toc_cell": true,
   "toc_position": {
    "height": "333.688px",
    "left": "1564.22px",
    "top": "324.125px",
    "width": "279.891px"
   },
   "toc_section_display": true,
   "toc_window_display": true
  }
 },
 "nbformat": 4,
 "nbformat_minor": 2
}
